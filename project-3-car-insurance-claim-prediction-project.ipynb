{
 "cells": [
  {
   "cell_type": "markdown",
   "metadata": {
    "id": "8Lr6Uilm9xul"
   },
   "source": [
    "# Project 3 - Car Insurance Claim Prediction Project"
   ]
  },
  {
   "cell_type": "markdown",
   "metadata": {
    "id": "ljt7sJiwbNIx"
   },
   "source": [
    "![](https://i.imgur.com/bifxjIA.png)"
   ]
  },
  {
   "cell_type": "markdown",
   "metadata": {
    "id": "Agk0NSN1bqnd"
   },
   "source": [
    "Dataset Link : https://www.kaggle.com/datasets/ifteshanajnin/carinsuranceclaimprediction-classification\n",
    "\n",
    "We'll train a machine learning model to predict whether the policyholder will file a claim in the next 6 months or not.\n",
    "\n",
    "***About Dataset***:\n",
    "The Dataset is taken from a Kaggle. It contains information on policyholders having the attributes like policy tenure, age of the car, age of the car owner, the population density of the city, make and model of the car, power, engine type, etc, and the target variable indicating whether the policyholder files a claim in the next 6 months or not."
   ]
  },
  {
   "cell_type": "markdown",
   "metadata": {
    "id": "hdf8HvHOeV42"
   },
   "source": [
    "Here's an outline of the project:\n",
    "\n",
    "1. Download the dataset\n",
    "2. Explore & analyze the dataset\n",
    "3. Prepare the dataset for ML training\n",
    "4. Train hardcoded & baseline models\n",
    "5. Make predictions & submit to Kaggle\n",
    "6. Perform feature engineering\n",
    "7. Train & evaluate different models\n",
    "8. Tune hyperparameters for the best models\n",
    "9. Train on a GPU with the entire dataset\n",
    "10. Document & publish the project online"
   ]
  },
  {
   "cell_type": "markdown",
   "metadata": {
    "id": "J1oyjWABbWIR"
   },
   "source": [
    "## 1. Download the Dataset\n",
    "\n",
    "Steps:\n",
    "\n",
    "* Install required libraries\n",
    "\n",
    "* Download data from Kaggle\n",
    "\n",
    "* View dataset files\n",
    "\n",
    "* Load training set with Pandas\n",
    "\n",
    "* Load test set with Pandas"
   ]
  },
  {
   "cell_type": "markdown",
   "metadata": {
    "id": "nRuFTz7QfGH0"
   },
   "source": [
    "### Install Required Libraries\n",
    "\n"
   ]
  },
  {
   "cell_type": "code",
   "execution_count": null,
   "metadata": {
    "colab": {
     "base_uri": "https://localhost:8080/"
    },
    "executionInfo": {
     "elapsed": 18702,
     "status": "ok",
     "timestamp": 1685164850230,
     "user": {
      "displayName": "Tin Liman",
      "userId": "01796335397974011301"
     },
     "user_tz": 420
    },
    "id": "BvF2hxpV9xuo",
    "outputId": "221a239a-7799-4871-b96c-6fdc62da113d"
   },
   "outputs": [
    {
     "name": "stdout",
     "output_type": "stream",
     "text": [
      "\u001b[?25l     \u001b[90m━━━━━━━━━━━━━━━━━━━━━━━━━━━━━━━━━━━━━━━━\u001b[0m \u001b[32m0.0/68.6 kB\u001b[0m \u001b[31m?\u001b[0m eta \u001b[36m-:--:--\u001b[0m\r",
      "\u001b[2K     \u001b[90m━━━━━━━━━━━━━━━━━━━━━━━━━━━━━━━━━━━━━━━━\u001b[0m \u001b[32m68.6/68.6 kB\u001b[0m \u001b[31m2.4 MB/s\u001b[0m eta \u001b[36m0:00:00\u001b[0m\n",
      "\u001b[?25h  Preparing metadata (setup.py) ... \u001b[?25l\u001b[?25hdone\n",
      "  Building wheel for uuid (setup.py) ... \u001b[?25l\u001b[?25hdone\n"
     ]
    }
   ],
   "source": [
    "!pip install numpy pandas jovian opendatasets scikit-learn xgboost --quiet"
   ]
  },
  {
   "cell_type": "markdown",
   "metadata": {
    "id": "4nLC5UvZfMhL"
   },
   "source": [
    "### Download Data from Kaggle\n",
    "\n",
    "We'll use the opendatasets library to download the dataset."
   ]
  },
  {
   "cell_type": "code",
   "execution_count": null,
   "metadata": {
    "colab": {
     "base_uri": "https://localhost:8080/"
    },
    "executionInfo": {
     "elapsed": 6597,
     "status": "ok",
     "timestamp": 1685164862612,
     "user": {
      "displayName": "Tin Liman",
      "userId": "01796335397974011301"
     },
     "user_tz": 420
    },
    "id": "o1caV_Us9xup",
    "outputId": "b5d0ff29-291f-4d2a-c6ce-0ccfe0e5bd1c"
   },
   "outputs": [
    {
     "name": "stdout",
     "output_type": "stream",
     "text": [
      "Please provide your Kaggle credentials to download this dataset. Learn more: http://bit.ly/kaggle-creds\n",
      "Your Kaggle username: tinnandarliman\n",
      "Your Kaggle Key: ··········\n",
      "Downloading carinsuranceclaimprediction-classification.zip to ./carinsuranceclaimprediction-classification\n"
     ]
    },
    {
     "name": "stderr",
     "output_type": "stream",
     "text": [
      "100%|██████████| 1.96M/1.96M [00:00<00:00, 68.4MB/s]"
     ]
    },
    {
     "name": "stdout",
     "output_type": "stream",
     "text": [
      "\n"
     ]
    },
    {
     "name": "stderr",
     "output_type": "stream",
     "text": [
      "\n"
     ]
    }
   ],
   "source": [
    "import jovian\n",
    "import opendatasets as od\n",
    "\n",
    "dataset_url='https://www.kaggle.com/datasets/ifteshanajnin/carinsuranceclaimprediction-classification'\n",
    "od.download(dataset_url)"
   ]
  },
  {
   "cell_type": "code",
   "execution_count": null,
   "metadata": {
    "colab": {
     "base_uri": "https://localhost:8080/"
    },
    "executionInfo": {
     "elapsed": 342,
     "status": "ok",
     "timestamp": 1684105416775,
     "user": {
      "displayName": "Tin Liman",
      "userId": "01796335397974011301"
     },
     "user_tz": 420
    },
    "id": "44qtMuIPi0MB",
    "outputId": "3df88526-067f-4b3a-fc4f-a773558d1bc5"
   },
   "outputs": [
    {
     "name": "stdout",
     "output_type": "stream",
     "text": [
      "Skipping, found downloaded files in \"./carinsuranceclaimprediction-classification\" (use force=True to force download)\n",
      "CPU times: user 1.94 ms, sys: 0 ns, total: 1.94 ms\n",
      "Wall time: 1.95 ms\n"
     ]
    }
   ],
   "source": [
    "%%time\n",
    "od.download(dataset_url)"
   ]
  },
  {
   "cell_type": "code",
   "execution_count": null,
   "metadata": {
    "id": "esUpOMYLjTNa"
   },
   "outputs": [],
   "source": [
    "data_dir= '/content/carinsuranceclaimprediction-classification'"
   ]
  },
  {
   "cell_type": "markdown",
   "metadata": {
    "id": "8pwWrBtmjdEI"
   },
   "source": [
    "### View Dataset Files"
   ]
  },
  {
   "cell_type": "code",
   "execution_count": null,
   "metadata": {
    "colab": {
     "base_uri": "https://localhost:8080/"
    },
    "executionInfo": {
     "elapsed": 202,
     "status": "ok",
     "timestamp": 1683093652517,
     "user": {
      "displayName": "Tin Liman",
      "userId": "01796335397974011301"
     },
     "user_tz": 420
    },
    "id": "UonPqYtLjhsQ",
    "outputId": "79b536d2-d2a3-42d9-9e92-953ec757b7f0"
   },
   "outputs": [
    {
     "name": "stdout",
     "output_type": "stream",
     "text": [
      "total 23M\n",
      "-rw-r--r-- 1 root root 420K May  3 06:00 sample_submission.csv\n",
      "-rw-r--r-- 1 root root 8.8M May  3 06:00 test.csv\n",
      "-rw-r--r-- 1 root root  14M May  3 06:00 train.csv\n"
     ]
    }
   ],
   "source": [
    "# List of files with size\n",
    "!ls -lh {data_dir}"
   ]
  },
  {
   "cell_type": "code",
   "execution_count": null,
   "metadata": {
    "colab": {
     "base_uri": "https://localhost:8080/"
    },
    "executionInfo": {
     "elapsed": 194,
     "status": "ok",
     "timestamp": 1683093653741,
     "user": {
      "displayName": "Tin Liman",
      "userId": "01796335397974011301"
     },
     "user_tz": 420
    },
    "id": "kDQGpXT_jq1I",
    "outputId": "cfd480ed-56cc-498d-c132-10f12bbbb6d8"
   },
   "outputs": [
    {
     "name": "stdout",
     "output_type": "stream",
     "text": [
      "58593 /content/carinsuranceclaimprediction-classification/train.csv\n"
     ]
    }
   ],
   "source": [
    "# No. of lines in training set\n",
    "!wc -l {data_dir}/train.csv"
   ]
  },
  {
   "cell_type": "code",
   "execution_count": null,
   "metadata": {
    "colab": {
     "base_uri": "https://localhost:8080/"
    },
    "executionInfo": {
     "elapsed": 5,
     "status": "ok",
     "timestamp": 1683093654949,
     "user": {
      "displayName": "Tin Liman",
      "userId": "01796335397974011301"
     },
     "user_tz": 420
    },
    "id": "MP43uk8yj0e0",
    "outputId": "a06ab1ab-6f69-4751-c35d-6e695abf64e5"
   },
   "outputs": [
    {
     "name": "stdout",
     "output_type": "stream",
     "text": [
      "39064 /content/carinsuranceclaimprediction-classification/test.csv\n"
     ]
    }
   ],
   "source": [
    "# No. of lines in test set\n",
    "!wc -l {data_dir}/test.csv"
   ]
  },
  {
   "cell_type": "code",
   "execution_count": null,
   "metadata": {
    "colab": {
     "base_uri": "https://localhost:8080/"
    },
    "executionInfo": {
     "elapsed": 350,
     "status": "ok",
     "timestamp": 1683093656782,
     "user": {
      "displayName": "Tin Liman",
      "userId": "01796335397974011301"
     },
     "user_tz": 420
    },
    "id": "Rw6L_23Tj0kj",
    "outputId": "a55cb36e-c95c-414f-c900-340741dfc457"
   },
   "outputs": [
    {
     "name": "stdout",
     "output_type": "stream",
     "text": [
      "39064 /content/carinsuranceclaimprediction-classification/sample_submission.csv\n"
     ]
    }
   ],
   "source": [
    "# No. of lines in submission file\n",
    "!wc -l {data_dir}/sample_submission.csv"
   ]
  },
  {
   "cell_type": "code",
   "execution_count": null,
   "metadata": {
    "colab": {
     "base_uri": "https://localhost:8080/"
    },
    "executionInfo": {
     "elapsed": 217,
     "status": "ok",
     "timestamp": 1683093658753,
     "user": {
      "displayName": "Tin Liman",
      "userId": "01796335397974011301"
     },
     "user_tz": 420
    },
    "id": "UJha5ao9Z_HR",
    "outputId": "7076fc19-2b4c-4d5a-bdbd-d1f9bc9a8271"
   },
   "outputs": [
    {
     "name": "stdout",
     "output_type": "stream",
     "text": [
      "policy_id,policy_tenure,age_of_car,age_of_policyholder,area_cluster,population_density,make,segment,model,fuel_type,max_torque,max_power,engine_type,airbags,is_esc,is_adjustable_steering,is_tpms,is_parking_sensors,is_parking_camera,rear_brakes_type,displacement,cylinder,transmission_type,gear_box,steering_type,turning_radius,length,width,height,gross_weight,is_front_fog_lights,is_rear_window_wiper,is_rear_window_washer,is_rear_window_defogger,is_brake_assist,is_power_door_locks,is_central_locking,is_power_steering,is_driver_seat_height_adjustable,is_day_night_rear_view_mirror,is_ecw,is_speed_alert,ncap_rating,is_claim\n",
      "ID00001,0.515873589958172,0.05,0.644230769230769,C1,4990,1,A,M1,CNG,60Nm@3500rpm,40.36bhp@6000rpm,F8D Petrol Engine,2,No,No,No,Yes,No,Drum,796,3,Manual,5,Power,4.6,3445,1515,1475,1185,No,No,No,No,No,No,No,Yes,No,No,No,Yes,0,0\n",
      "ID00002,0.672618513547733,0.02,0.375,C2,27003,1,A,M1,CNG,60Nm@3500rpm,40.36bhp@6000rpm,F8D Petrol Engine,2,No,No,No,Yes,No,Drum,796,3,Manual,5,Power,4.6,3445,1515,1475,1185,No,No,No,No,No,No,No,Yes,No,No,No,Yes,0,0\n",
      "ID00003,0.841110255796233,0.02,0.384615384615385,C3,4076,1,A,M1,CNG,60Nm@3500rpm,40.36bhp@6000rpm,F8D Petrol Engine,2,No,No,No,Yes,No,Drum,796,3,Manual,5,Power,4.6,3445,1515,1475,1185,No,No,No,No,No,No,No,Yes,No,No,No,Yes,0,0\n",
      "ID00004,0.900276558749967,0.11,0.432692307692308,C4,21622,1,C1,M2,Petrol,113Nm@4400rpm,88.50bhp@6000rpm,1.2 L K12N Dualjet,2,Yes,Yes,No,Yes,Yes,Drum,1197,4,Automatic,5,Electric,4.8,3995,1735,1515,1335,Yes,No,No,Yes,Yes,Yes,Yes,Yes,Yes,Yes,Yes,Yes,2,0\n",
      "ID00005,0.596402813108729,0.11,0.634615384615385,C5,34738,2,A,M3,Petrol,91Nm@4250rpm,67.06bhp@5500rpm,1.0 SCe,2,No,No,No,No,Yes,Drum,999,3,Automatic,5,Electric,5,3731,1579,1490,1155,No,No,No,No,No,Yes,Yes,Yes,No,Yes,Yes,Yes,2,0\n",
      "ID00006,1.01870853782142,0.07,0.519230769230769,C6,13051,3,C2,M4,Diesel,250Nm@2750rpm,113.45bhp@4000rpm,1.5 L U2 CRDi,6,Yes,Yes,Yes,Yes,Yes,Disc,1493,4,Automatic,6,Power,5.2,4300,1790,1635,1720,Yes,Yes,Yes,Yes,Yes,Yes,Yes,Yes,Yes,No,Yes,Yes,3,0\n",
      "ID00007,0.097992157807911,0.16,0.403846153846154,C7,6112,4,B2,M5,Diesel,200Nm@3000rpm,88.77bhp@4000rpm,1.5 Turbocharged Revotorq,2,No,Yes,No,Yes,No,Drum,1497,4,Manual,5,Electric,5,3990,1755,1523,1490,No,No,No,No,No,Yes,Yes,Yes,No,No,Yes,Yes,5,0\n",
      "ID00008,0.509084671398517,0.14,0.423076923076923,C8,8794,1,B2,M6,Petrol,113Nm@4400rpm,88.50bhp@6000rpm,K Series Dual jet,2,No,Yes,No,Yes,No,Drum,1197,4,Manual,5,Electric,4.8,3845,1735,1530,1335,Yes,No,No,No,Yes,Yes,Yes,Yes,Yes,Yes,Yes,Yes,2,0\n",
      "ID00009,0.282393518287139,0.07,0.298076923076923,C7,6112,3,C2,M4,Diesel,250Nm@2750rpm,113.45bhp@4000rpm,1.5 L U2 CRDi,6,Yes,Yes,Yes,Yes,Yes,Disc,1493,4,Automatic,6,Power,5.2,4300,1790,1635,1720,Yes,Yes,Yes,Yes,Yes,Yes,Yes,Yes,Yes,No,Yes,Yes,3,0\n"
     ]
    }
   ],
   "source": [
    "# Training set\n",
    "!head {data_dir}/train.csv"
   ]
  },
  {
   "cell_type": "code",
   "execution_count": null,
   "metadata": {
    "colab": {
     "base_uri": "https://localhost:8080/"
    },
    "executionInfo": {
     "elapsed": 7,
     "status": "ok",
     "timestamp": 1683093660943,
     "user": {
      "displayName": "Tin Liman",
      "userId": "01796335397974011301"
     },
     "user_tz": 420
    },
    "id": "MKUjq9omZ_Nm",
    "outputId": "eff823ad-0569-4fca-bbb0-a0490248ce05"
   },
   "outputs": [
    {
     "name": "stdout",
     "output_type": "stream",
     "text": [
      "policy_id,policy_tenure,age_of_car,age_of_policyholder,area_cluster,population_density,make,segment,model,fuel_type,max_torque,max_power,engine_type,airbags,is_esc,is_adjustable_steering,is_tpms,is_parking_sensors,is_parking_camera,rear_brakes_type,displacement,cylinder,transmission_type,gear_box,steering_type,turning_radius,length,width,height,gross_weight,is_front_fog_lights,is_rear_window_wiper,is_rear_window_washer,is_rear_window_defogger,is_brake_assist,is_power_door_locks,is_central_locking,is_power_steering,is_driver_seat_height_adjustable,is_day_night_rear_view_mirror,is_ecw,is_speed_alert,ncap_rating\n",
      "ID58593,0.341731678878033,0,0.586538461538462,C3,4076,1,A,M1,CNG,60Nm@3500rpm,40.36bhp@6000rpm,F8D Petrol Engine,2,No,No,No,Yes,No,Drum,796,3,Manual,5,Power,4.6,3445,1515,1475,1185,No,No,No,No,No,No,No,Yes,No,No,No,Yes,0\n",
      "ID58594,0.307241443301031,0.13,0.442307692307692,C8,8794,1,B2,M6,Petrol,113Nm@4400rpm,88.50bhp@6000rpm,K Series Dual jet,2,No,Yes,No,Yes,No,Drum,1197,4,Manual,5,Electric,4.8,3845,1735,1530,1335,Yes,No,No,No,Yes,Yes,Yes,Yes,Yes,Yes,Yes,Yes,2\n",
      "ID58595,0.327923771475999,0.12,0.451923076923077,C8,8794,2,A,M3,Petrol,91Nm@4250rpm,67.06bhp@5500rpm,1.0 SCe,2,No,No,No,No,Yes,Drum,999,3,Automatic,5,Electric,5,3731,1579,1490,1155,No,No,No,No,No,Yes,Yes,Yes,No,Yes,Yes,Yes,2\n",
      "ID58596,0.78265438076048,0.01,0.461538461538462,C5,34738,1,A,M1,CNG,60Nm@3500rpm,40.36bhp@6000rpm,F8D Petrol Engine,2,No,No,No,Yes,No,Drum,796,3,Manual,5,Power,4.6,3445,1515,1475,1185,No,No,No,No,No,No,No,Yes,No,No,No,Yes,0\n",
      "ID58597,1.2334042746457,0.02,0.634615384615385,C5,34738,1,A,M1,CNG,60Nm@3500rpm,40.36bhp@6000rpm,F8D Petrol Engine,2,No,No,No,Yes,No,Drum,796,3,Manual,5,Power,4.6,3445,1515,1475,1185,No,No,No,No,No,No,No,Yes,No,No,No,Yes,0\n",
      "ID58598,0.148635401541081,0.15,0.442307692307692,C8,8794,1,B2,M7,Petrol,113Nm@4400rpm,88.50bhp@6000rpm,1.2 L K Series Engine,6,Yes,Yes,No,Yes,Yes,Drum,1197,4,Automatic,5,Electric,4.85,3990,1745,1500,1410,Yes,Yes,Yes,Yes,Yes,Yes,Yes,Yes,Yes,Yes,Yes,Yes,0\n",
      "ID58599,1.11418166980782,0.09,0.355769230769231,C16,16206,1,B1,M8,CNG,82.1Nm@3400rpm,55.92bhp@5300rpm,K10C,2,No,No,No,Yes,No,Drum,998,3,Manual,5,Power,4.7,3655,1620,1675,1340,No,No,No,No,No,Yes,Yes,Yes,No,No,Yes,Yes,2\n",
      "ID58600,1.11363760085821,0.01,0.471153846153846,C14,7788,1,B2,M6,Petrol,113Nm@4400rpm,88.50bhp@6000rpm,K Series Dual jet,2,No,Yes,No,Yes,No,Drum,1197,4,Manual,5,Electric,4.8,3845,1735,1530,1335,Yes,No,No,No,Yes,Yes,Yes,Yes,Yes,Yes,Yes,Yes,2\n",
      "ID58601,0.36038517714943,0.15,0.519230769230769,C11,6108,1,B1,M8,CNG,82.1Nm@3400rpm,55.92bhp@5300rpm,K10C,2,No,No,No,Yes,No,Drum,998,3,Manual,5,Power,4.7,3655,1620,1675,1340,No,No,No,No,No,Yes,Yes,Yes,No,No,Yes,Yes,2\n"
     ]
    }
   ],
   "source": [
    "# Test set\n",
    "!head {data_dir}/test.csv"
   ]
  },
  {
   "cell_type": "code",
   "execution_count": null,
   "metadata": {
    "colab": {
     "base_uri": "https://localhost:8080/"
    },
    "executionInfo": {
     "elapsed": 225,
     "status": "ok",
     "timestamp": 1683093662578,
     "user": {
      "displayName": "Tin Liman",
      "userId": "01796335397974011301"
     },
     "user_tz": 420
    },
    "id": "LPLLOCZnZ_RC",
    "outputId": "f02ec9ea-e1fc-4a57-fac8-cffbb1598445"
   },
   "outputs": [
    {
     "name": "stdout",
     "output_type": "stream",
     "text": [
      "policy_id,is_claim\r\n",
      "ID58593,1\r\n",
      "ID58594,1\r\n",
      "ID58595,1\r\n",
      "ID58596,1\r\n",
      "ID58597,1\r\n",
      "ID58598,1\r\n",
      "ID58599,1\r\n",
      "ID58600,1\r\n",
      "ID58601,1\r\n"
     ]
    }
   ],
   "source": [
    "# Sample submission file\n",
    "!head {data_dir}/sample_submission.csv"
   ]
  },
  {
   "cell_type": "markdown",
   "metadata": {
    "id": "j5Gj1T3dj8sF"
   },
   "source": [
    "Observations:\n",
    "\n",
    "* This is a supervised learning classification problem\n",
    "\n",
    "* Training data is 13.82 MB in size\n",
    "\n",
    "* Training data has 58,593 rows\n",
    "\n",
    "* Test set is much smaller (only 39,064 rows)\n",
    "\n",
    "* The training set has 44 columns:\n",
    "\n",
    "    * policy_id\n",
    "    * policy_tenure (Time period of the policy)\n",
    "    * age_of_car\n",
    "    * age_of_policyholder\n",
    "    * area_cluster\n",
    "    * population density\n",
    "    * make\n",
    "    * segment\n",
    "    * model\n",
    "    * fuel_type etc.\n",
    "\n",
    "* The test set has all columns except the target column 'is_claim'.\n",
    "\n",
    "* The sample_submission file should contain the 'policy_id', and 'is_claim' for each test sample."
   ]
  },
  {
   "cell_type": "markdown",
   "metadata": {
    "id": "IxKipBFTj8ut"
   },
   "source": [
    "### Loading Training Set"
   ]
  },
  {
   "cell_type": "markdown",
   "metadata": {
    "id": "GrdrEiw2kQtE"
   },
   "source": [
    "Loading the entire dataset into Pandas using pd.read_csv. Since the dataset is small enough to train for the prediction, i don't need to specify data types for the columns."
   ]
  },
  {
   "cell_type": "code",
   "execution_count": null,
   "metadata": {
    "id": "r71zWlOfj0n7"
   },
   "outputs": [],
   "source": [
    "import pandas as pd"
   ]
  },
  {
   "cell_type": "code",
   "execution_count": null,
   "metadata": {
    "id": "bJmqIWE79xur"
   },
   "outputs": [],
   "source": [
    "train_df=pd.read_csv(data_dir +'/train.csv')"
   ]
  },
  {
   "cell_type": "code",
   "execution_count": null,
   "metadata": {
    "colab": {
     "base_uri": "https://localhost:8080/",
     "height": 300
    },
    "executionInfo": {
     "elapsed": 3,
     "status": "ok",
     "timestamp": 1683873361409,
     "user": {
      "displayName": "Tin Liman",
      "userId": "01796335397974011301"
     },
     "user_tz": 420
    },
    "id": "DD776drT-RMQ",
    "outputId": "477f0764-c31e-4b31-aaf3-61a0f1ae57c1"
   },
   "outputs": [
    {
     "data": {
      "text/html": [
       "\n",
       "  <div id=\"df-41835aad-053f-4054-a6b8-226441f00143\">\n",
       "    <div class=\"colab-df-container\">\n",
       "      <div>\n",
       "<style scoped>\n",
       "    .dataframe tbody tr th:only-of-type {\n",
       "        vertical-align: middle;\n",
       "    }\n",
       "\n",
       "    .dataframe tbody tr th {\n",
       "        vertical-align: top;\n",
       "    }\n",
       "\n",
       "    .dataframe thead th {\n",
       "        text-align: right;\n",
       "    }\n",
       "</style>\n",
       "<table border=\"1\" class=\"dataframe\">\n",
       "  <thead>\n",
       "    <tr style=\"text-align: right;\">\n",
       "      <th></th>\n",
       "      <th>policy_id</th>\n",
       "      <th>policy_tenure</th>\n",
       "      <th>age_of_car</th>\n",
       "      <th>age_of_policyholder</th>\n",
       "      <th>area_cluster</th>\n",
       "      <th>population_density</th>\n",
       "      <th>make</th>\n",
       "      <th>segment</th>\n",
       "      <th>model</th>\n",
       "      <th>fuel_type</th>\n",
       "      <th>...</th>\n",
       "      <th>is_brake_assist</th>\n",
       "      <th>is_power_door_locks</th>\n",
       "      <th>is_central_locking</th>\n",
       "      <th>is_power_steering</th>\n",
       "      <th>is_driver_seat_height_adjustable</th>\n",
       "      <th>is_day_night_rear_view_mirror</th>\n",
       "      <th>is_ecw</th>\n",
       "      <th>is_speed_alert</th>\n",
       "      <th>ncap_rating</th>\n",
       "      <th>is_claim</th>\n",
       "    </tr>\n",
       "  </thead>\n",
       "  <tbody>\n",
       "    <tr>\n",
       "      <th>0</th>\n",
       "      <td>ID00001</td>\n",
       "      <td>0.515874</td>\n",
       "      <td>0.05</td>\n",
       "      <td>0.644231</td>\n",
       "      <td>C1</td>\n",
       "      <td>4990</td>\n",
       "      <td>1</td>\n",
       "      <td>A</td>\n",
       "      <td>M1</td>\n",
       "      <td>CNG</td>\n",
       "      <td>...</td>\n",
       "      <td>No</td>\n",
       "      <td>No</td>\n",
       "      <td>No</td>\n",
       "      <td>Yes</td>\n",
       "      <td>No</td>\n",
       "      <td>No</td>\n",
       "      <td>No</td>\n",
       "      <td>Yes</td>\n",
       "      <td>0</td>\n",
       "      <td>0</td>\n",
       "    </tr>\n",
       "    <tr>\n",
       "      <th>1</th>\n",
       "      <td>ID00002</td>\n",
       "      <td>0.672619</td>\n",
       "      <td>0.02</td>\n",
       "      <td>0.375000</td>\n",
       "      <td>C2</td>\n",
       "      <td>27003</td>\n",
       "      <td>1</td>\n",
       "      <td>A</td>\n",
       "      <td>M1</td>\n",
       "      <td>CNG</td>\n",
       "      <td>...</td>\n",
       "      <td>No</td>\n",
       "      <td>No</td>\n",
       "      <td>No</td>\n",
       "      <td>Yes</td>\n",
       "      <td>No</td>\n",
       "      <td>No</td>\n",
       "      <td>No</td>\n",
       "      <td>Yes</td>\n",
       "      <td>0</td>\n",
       "      <td>0</td>\n",
       "    </tr>\n",
       "    <tr>\n",
       "      <th>2</th>\n",
       "      <td>ID00003</td>\n",
       "      <td>0.841110</td>\n",
       "      <td>0.02</td>\n",
       "      <td>0.384615</td>\n",
       "      <td>C3</td>\n",
       "      <td>4076</td>\n",
       "      <td>1</td>\n",
       "      <td>A</td>\n",
       "      <td>M1</td>\n",
       "      <td>CNG</td>\n",
       "      <td>...</td>\n",
       "      <td>No</td>\n",
       "      <td>No</td>\n",
       "      <td>No</td>\n",
       "      <td>Yes</td>\n",
       "      <td>No</td>\n",
       "      <td>No</td>\n",
       "      <td>No</td>\n",
       "      <td>Yes</td>\n",
       "      <td>0</td>\n",
       "      <td>0</td>\n",
       "    </tr>\n",
       "    <tr>\n",
       "      <th>3</th>\n",
       "      <td>ID00004</td>\n",
       "      <td>0.900277</td>\n",
       "      <td>0.11</td>\n",
       "      <td>0.432692</td>\n",
       "      <td>C4</td>\n",
       "      <td>21622</td>\n",
       "      <td>1</td>\n",
       "      <td>C1</td>\n",
       "      <td>M2</td>\n",
       "      <td>Petrol</td>\n",
       "      <td>...</td>\n",
       "      <td>Yes</td>\n",
       "      <td>Yes</td>\n",
       "      <td>Yes</td>\n",
       "      <td>Yes</td>\n",
       "      <td>Yes</td>\n",
       "      <td>Yes</td>\n",
       "      <td>Yes</td>\n",
       "      <td>Yes</td>\n",
       "      <td>2</td>\n",
       "      <td>0</td>\n",
       "    </tr>\n",
       "    <tr>\n",
       "      <th>4</th>\n",
       "      <td>ID00005</td>\n",
       "      <td>0.596403</td>\n",
       "      <td>0.11</td>\n",
       "      <td>0.634615</td>\n",
       "      <td>C5</td>\n",
       "      <td>34738</td>\n",
       "      <td>2</td>\n",
       "      <td>A</td>\n",
       "      <td>M3</td>\n",
       "      <td>Petrol</td>\n",
       "      <td>...</td>\n",
       "      <td>No</td>\n",
       "      <td>Yes</td>\n",
       "      <td>Yes</td>\n",
       "      <td>Yes</td>\n",
       "      <td>No</td>\n",
       "      <td>Yes</td>\n",
       "      <td>Yes</td>\n",
       "      <td>Yes</td>\n",
       "      <td>2</td>\n",
       "      <td>0</td>\n",
       "    </tr>\n",
       "  </tbody>\n",
       "</table>\n",
       "<p>5 rows × 44 columns</p>\n",
       "</div>\n",
       "      <button class=\"colab-df-convert\" onclick=\"convertToInteractive('df-41835aad-053f-4054-a6b8-226441f00143')\"\n",
       "              title=\"Convert this dataframe to an interactive table.\"\n",
       "              style=\"display:none;\">\n",
       "        \n",
       "  <svg xmlns=\"http://www.w3.org/2000/svg\" height=\"24px\"viewBox=\"0 0 24 24\"\n",
       "       width=\"24px\">\n",
       "    <path d=\"M0 0h24v24H0V0z\" fill=\"none\"/>\n",
       "    <path d=\"M18.56 5.44l.94 2.06.94-2.06 2.06-.94-2.06-.94-.94-2.06-.94 2.06-2.06.94zm-11 1L8.5 8.5l.94-2.06 2.06-.94-2.06-.94L8.5 2.5l-.94 2.06-2.06.94zm10 10l.94 2.06.94-2.06 2.06-.94-2.06-.94-.94-2.06-.94 2.06-2.06.94z\"/><path d=\"M17.41 7.96l-1.37-1.37c-.4-.4-.92-.59-1.43-.59-.52 0-1.04.2-1.43.59L10.3 9.45l-7.72 7.72c-.78.78-.78 2.05 0 2.83L4 21.41c.39.39.9.59 1.41.59.51 0 1.02-.2 1.41-.59l7.78-7.78 2.81-2.81c.8-.78.8-2.07 0-2.86zM5.41 20L4 18.59l7.72-7.72 1.47 1.35L5.41 20z\"/>\n",
       "  </svg>\n",
       "      </button>\n",
       "      \n",
       "  <style>\n",
       "    .colab-df-container {\n",
       "      display:flex;\n",
       "      flex-wrap:wrap;\n",
       "      gap: 12px;\n",
       "    }\n",
       "\n",
       "    .colab-df-convert {\n",
       "      background-color: #E8F0FE;\n",
       "      border: none;\n",
       "      border-radius: 50%;\n",
       "      cursor: pointer;\n",
       "      display: none;\n",
       "      fill: #1967D2;\n",
       "      height: 32px;\n",
       "      padding: 0 0 0 0;\n",
       "      width: 32px;\n",
       "    }\n",
       "\n",
       "    .colab-df-convert:hover {\n",
       "      background-color: #E2EBFA;\n",
       "      box-shadow: 0px 1px 2px rgba(60, 64, 67, 0.3), 0px 1px 3px 1px rgba(60, 64, 67, 0.15);\n",
       "      fill: #174EA6;\n",
       "    }\n",
       "\n",
       "    [theme=dark] .colab-df-convert {\n",
       "      background-color: #3B4455;\n",
       "      fill: #D2E3FC;\n",
       "    }\n",
       "\n",
       "    [theme=dark] .colab-df-convert:hover {\n",
       "      background-color: #434B5C;\n",
       "      box-shadow: 0px 1px 3px 1px rgba(0, 0, 0, 0.15);\n",
       "      filter: drop-shadow(0px 1px 2px rgba(0, 0, 0, 0.3));\n",
       "      fill: #FFFFFF;\n",
       "    }\n",
       "  </style>\n",
       "\n",
       "      <script>\n",
       "        const buttonEl =\n",
       "          document.querySelector('#df-41835aad-053f-4054-a6b8-226441f00143 button.colab-df-convert');\n",
       "        buttonEl.style.display =\n",
       "          google.colab.kernel.accessAllowed ? 'block' : 'none';\n",
       "\n",
       "        async function convertToInteractive(key) {\n",
       "          const element = document.querySelector('#df-41835aad-053f-4054-a6b8-226441f00143');\n",
       "          const dataTable =\n",
       "            await google.colab.kernel.invokeFunction('convertToInteractive',\n",
       "                                                     [key], {});\n",
       "          if (!dataTable) return;\n",
       "\n",
       "          const docLinkHtml = 'Like what you see? Visit the ' +\n",
       "            '<a target=\"_blank\" href=https://colab.research.google.com/notebooks/data_table.ipynb>data table notebook</a>'\n",
       "            + ' to learn more about interactive tables.';\n",
       "          element.innerHTML = '';\n",
       "          dataTable['output_type'] = 'display_data';\n",
       "          await google.colab.output.renderOutput(dataTable, element);\n",
       "          const docLink = document.createElement('div');\n",
       "          docLink.innerHTML = docLinkHtml;\n",
       "          element.appendChild(docLink);\n",
       "        }\n",
       "      </script>\n",
       "    </div>\n",
       "  </div>\n",
       "  "
      ],
      "text/plain": [
       "  policy_id  policy_tenure  age_of_car  age_of_policyholder area_cluster  \\\n",
       "0   ID00001       0.515874        0.05             0.644231           C1   \n",
       "1   ID00002       0.672619        0.02             0.375000           C2   \n",
       "2   ID00003       0.841110        0.02             0.384615           C3   \n",
       "3   ID00004       0.900277        0.11             0.432692           C4   \n",
       "4   ID00005       0.596403        0.11             0.634615           C5   \n",
       "\n",
       "   population_density  make segment model fuel_type  ... is_brake_assist  \\\n",
       "0                4990     1       A    M1       CNG  ...              No   \n",
       "1               27003     1       A    M1       CNG  ...              No   \n",
       "2                4076     1       A    M1       CNG  ...              No   \n",
       "3               21622     1      C1    M2    Petrol  ...             Yes   \n",
       "4               34738     2       A    M3    Petrol  ...              No   \n",
       "\n",
       "  is_power_door_locks is_central_locking  is_power_steering  \\\n",
       "0                  No                 No                Yes   \n",
       "1                  No                 No                Yes   \n",
       "2                  No                 No                Yes   \n",
       "3                 Yes                Yes                Yes   \n",
       "4                 Yes                Yes                Yes   \n",
       "\n",
       "  is_driver_seat_height_adjustable is_day_night_rear_view_mirror is_ecw  \\\n",
       "0                               No                            No     No   \n",
       "1                               No                            No     No   \n",
       "2                               No                            No     No   \n",
       "3                              Yes                           Yes    Yes   \n",
       "4                               No                           Yes    Yes   \n",
       "\n",
       "  is_speed_alert ncap_rating is_claim  \n",
       "0            Yes           0        0  \n",
       "1            Yes           0        0  \n",
       "2            Yes           0        0  \n",
       "3            Yes           2        0  \n",
       "4            Yes           2        0  \n",
       "\n",
       "[5 rows x 44 columns]"
      ]
     },
     "execution_count": 155,
     "metadata": {},
     "output_type": "execute_result"
    }
   ],
   "source": [
    "train_df.head(5)"
   ]
  },
  {
   "cell_type": "markdown",
   "metadata": {
    "id": "DU0svdBnk_zZ"
   },
   "source": [
    "### Load Test Set"
   ]
  },
  {
   "cell_type": "code",
   "execution_count": null,
   "metadata": {
    "id": "OixEJ28xiMJo"
   },
   "outputs": [],
   "source": [
    "test_df = pd.read_csv(data_dir+'/test.csv')"
   ]
  },
  {
   "cell_type": "code",
   "execution_count": null,
   "metadata": {
    "colab": {
     "base_uri": "https://localhost:8080/",
     "height": 488
    },
    "executionInfo": {
     "elapsed": 4,
     "status": "ok",
     "timestamp": 1683873369264,
     "user": {
      "displayName": "Tin Liman",
      "userId": "01796335397974011301"
     },
     "user_tz": 420
    },
    "id": "TP1BOKxciMPb",
    "outputId": "081ebdf1-13f8-4265-8f9e-5859bf432e7a"
   },
   "outputs": [
    {
     "data": {
      "text/html": [
       "\n",
       "  <div id=\"df-9a3eae0f-a34d-4daf-9091-f527c9158655\">\n",
       "    <div class=\"colab-df-container\">\n",
       "      <div>\n",
       "<style scoped>\n",
       "    .dataframe tbody tr th:only-of-type {\n",
       "        vertical-align: middle;\n",
       "    }\n",
       "\n",
       "    .dataframe tbody tr th {\n",
       "        vertical-align: top;\n",
       "    }\n",
       "\n",
       "    .dataframe thead th {\n",
       "        text-align: right;\n",
       "    }\n",
       "</style>\n",
       "<table border=\"1\" class=\"dataframe\">\n",
       "  <thead>\n",
       "    <tr style=\"text-align: right;\">\n",
       "      <th></th>\n",
       "      <th>policy_id</th>\n",
       "      <th>policy_tenure</th>\n",
       "      <th>age_of_car</th>\n",
       "      <th>age_of_policyholder</th>\n",
       "      <th>area_cluster</th>\n",
       "      <th>population_density</th>\n",
       "      <th>make</th>\n",
       "      <th>segment</th>\n",
       "      <th>model</th>\n",
       "      <th>fuel_type</th>\n",
       "      <th>...</th>\n",
       "      <th>is_rear_window_defogger</th>\n",
       "      <th>is_brake_assist</th>\n",
       "      <th>is_power_door_locks</th>\n",
       "      <th>is_central_locking</th>\n",
       "      <th>is_power_steering</th>\n",
       "      <th>is_driver_seat_height_adjustable</th>\n",
       "      <th>is_day_night_rear_view_mirror</th>\n",
       "      <th>is_ecw</th>\n",
       "      <th>is_speed_alert</th>\n",
       "      <th>ncap_rating</th>\n",
       "    </tr>\n",
       "  </thead>\n",
       "  <tbody>\n",
       "    <tr>\n",
       "      <th>0</th>\n",
       "      <td>ID58593</td>\n",
       "      <td>0.341732</td>\n",
       "      <td>0.00</td>\n",
       "      <td>0.586538</td>\n",
       "      <td>C3</td>\n",
       "      <td>4076</td>\n",
       "      <td>1</td>\n",
       "      <td>A</td>\n",
       "      <td>M1</td>\n",
       "      <td>CNG</td>\n",
       "      <td>...</td>\n",
       "      <td>No</td>\n",
       "      <td>No</td>\n",
       "      <td>No</td>\n",
       "      <td>No</td>\n",
       "      <td>Yes</td>\n",
       "      <td>No</td>\n",
       "      <td>No</td>\n",
       "      <td>No</td>\n",
       "      <td>Yes</td>\n",
       "      <td>0</td>\n",
       "    </tr>\n",
       "    <tr>\n",
       "      <th>1</th>\n",
       "      <td>ID58594</td>\n",
       "      <td>0.307241</td>\n",
       "      <td>0.13</td>\n",
       "      <td>0.442308</td>\n",
       "      <td>C8</td>\n",
       "      <td>8794</td>\n",
       "      <td>1</td>\n",
       "      <td>B2</td>\n",
       "      <td>M6</td>\n",
       "      <td>Petrol</td>\n",
       "      <td>...</td>\n",
       "      <td>No</td>\n",
       "      <td>Yes</td>\n",
       "      <td>Yes</td>\n",
       "      <td>Yes</td>\n",
       "      <td>Yes</td>\n",
       "      <td>Yes</td>\n",
       "      <td>Yes</td>\n",
       "      <td>Yes</td>\n",
       "      <td>Yes</td>\n",
       "      <td>2</td>\n",
       "    </tr>\n",
       "    <tr>\n",
       "      <th>2</th>\n",
       "      <td>ID58595</td>\n",
       "      <td>0.327924</td>\n",
       "      <td>0.12</td>\n",
       "      <td>0.451923</td>\n",
       "      <td>C8</td>\n",
       "      <td>8794</td>\n",
       "      <td>2</td>\n",
       "      <td>A</td>\n",
       "      <td>M3</td>\n",
       "      <td>Petrol</td>\n",
       "      <td>...</td>\n",
       "      <td>No</td>\n",
       "      <td>No</td>\n",
       "      <td>Yes</td>\n",
       "      <td>Yes</td>\n",
       "      <td>Yes</td>\n",
       "      <td>No</td>\n",
       "      <td>Yes</td>\n",
       "      <td>Yes</td>\n",
       "      <td>Yes</td>\n",
       "      <td>2</td>\n",
       "    </tr>\n",
       "    <tr>\n",
       "      <th>3</th>\n",
       "      <td>ID58596</td>\n",
       "      <td>0.782654</td>\n",
       "      <td>0.01</td>\n",
       "      <td>0.461538</td>\n",
       "      <td>C5</td>\n",
       "      <td>34738</td>\n",
       "      <td>1</td>\n",
       "      <td>A</td>\n",
       "      <td>M1</td>\n",
       "      <td>CNG</td>\n",
       "      <td>...</td>\n",
       "      <td>No</td>\n",
       "      <td>No</td>\n",
       "      <td>No</td>\n",
       "      <td>No</td>\n",
       "      <td>Yes</td>\n",
       "      <td>No</td>\n",
       "      <td>No</td>\n",
       "      <td>No</td>\n",
       "      <td>Yes</td>\n",
       "      <td>0</td>\n",
       "    </tr>\n",
       "    <tr>\n",
       "      <th>4</th>\n",
       "      <td>ID58597</td>\n",
       "      <td>1.233404</td>\n",
       "      <td>0.02</td>\n",
       "      <td>0.634615</td>\n",
       "      <td>C5</td>\n",
       "      <td>34738</td>\n",
       "      <td>1</td>\n",
       "      <td>A</td>\n",
       "      <td>M1</td>\n",
       "      <td>CNG</td>\n",
       "      <td>...</td>\n",
       "      <td>No</td>\n",
       "      <td>No</td>\n",
       "      <td>No</td>\n",
       "      <td>No</td>\n",
       "      <td>Yes</td>\n",
       "      <td>No</td>\n",
       "      <td>No</td>\n",
       "      <td>No</td>\n",
       "      <td>Yes</td>\n",
       "      <td>0</td>\n",
       "    </tr>\n",
       "    <tr>\n",
       "      <th>...</th>\n",
       "      <td>...</td>\n",
       "      <td>...</td>\n",
       "      <td>...</td>\n",
       "      <td>...</td>\n",
       "      <td>...</td>\n",
       "      <td>...</td>\n",
       "      <td>...</td>\n",
       "      <td>...</td>\n",
       "      <td>...</td>\n",
       "      <td>...</td>\n",
       "      <td>...</td>\n",
       "      <td>...</td>\n",
       "      <td>...</td>\n",
       "      <td>...</td>\n",
       "      <td>...</td>\n",
       "      <td>...</td>\n",
       "      <td>...</td>\n",
       "      <td>...</td>\n",
       "      <td>...</td>\n",
       "      <td>...</td>\n",
       "      <td>...</td>\n",
       "    </tr>\n",
       "    <tr>\n",
       "      <th>39058</th>\n",
       "      <td>ID97651</td>\n",
       "      <td>0.047982</td>\n",
       "      <td>0.15</td>\n",
       "      <td>0.740385</td>\n",
       "      <td>C2</td>\n",
       "      <td>27003</td>\n",
       "      <td>1</td>\n",
       "      <td>B2</td>\n",
       "      <td>M6</td>\n",
       "      <td>Petrol</td>\n",
       "      <td>...</td>\n",
       "      <td>No</td>\n",
       "      <td>Yes</td>\n",
       "      <td>Yes</td>\n",
       "      <td>Yes</td>\n",
       "      <td>Yes</td>\n",
       "      <td>Yes</td>\n",
       "      <td>Yes</td>\n",
       "      <td>Yes</td>\n",
       "      <td>Yes</td>\n",
       "      <td>2</td>\n",
       "    </tr>\n",
       "    <tr>\n",
       "      <th>39059</th>\n",
       "      <td>ID97652</td>\n",
       "      <td>1.224838</td>\n",
       "      <td>0.05</td>\n",
       "      <td>0.509615</td>\n",
       "      <td>C8</td>\n",
       "      <td>8794</td>\n",
       "      <td>3</td>\n",
       "      <td>C2</td>\n",
       "      <td>M4</td>\n",
       "      <td>Diesel</td>\n",
       "      <td>...</td>\n",
       "      <td>Yes</td>\n",
       "      <td>Yes</td>\n",
       "      <td>Yes</td>\n",
       "      <td>Yes</td>\n",
       "      <td>Yes</td>\n",
       "      <td>Yes</td>\n",
       "      <td>No</td>\n",
       "      <td>Yes</td>\n",
       "      <td>Yes</td>\n",
       "      <td>3</td>\n",
       "    </tr>\n",
       "    <tr>\n",
       "      <th>39060</th>\n",
       "      <td>ID97653</td>\n",
       "      <td>0.520287</td>\n",
       "      <td>0.12</td>\n",
       "      <td>0.355769</td>\n",
       "      <td>C6</td>\n",
       "      <td>13051</td>\n",
       "      <td>1</td>\n",
       "      <td>B2</td>\n",
       "      <td>M7</td>\n",
       "      <td>Petrol</td>\n",
       "      <td>...</td>\n",
       "      <td>Yes</td>\n",
       "      <td>Yes</td>\n",
       "      <td>Yes</td>\n",
       "      <td>Yes</td>\n",
       "      <td>Yes</td>\n",
       "      <td>Yes</td>\n",
       "      <td>Yes</td>\n",
       "      <td>Yes</td>\n",
       "      <td>Yes</td>\n",
       "      <td>0</td>\n",
       "    </tr>\n",
       "    <tr>\n",
       "      <th>39061</th>\n",
       "      <td>ID97654</td>\n",
       "      <td>1.172391</td>\n",
       "      <td>0.08</td>\n",
       "      <td>0.644231</td>\n",
       "      <td>C5</td>\n",
       "      <td>34738</td>\n",
       "      <td>1</td>\n",
       "      <td>C1</td>\n",
       "      <td>M2</td>\n",
       "      <td>Petrol</td>\n",
       "      <td>...</td>\n",
       "      <td>Yes</td>\n",
       "      <td>Yes</td>\n",
       "      <td>Yes</td>\n",
       "      <td>Yes</td>\n",
       "      <td>Yes</td>\n",
       "      <td>Yes</td>\n",
       "      <td>Yes</td>\n",
       "      <td>Yes</td>\n",
       "      <td>Yes</td>\n",
       "      <td>2</td>\n",
       "    </tr>\n",
       "    <tr>\n",
       "      <th>39062</th>\n",
       "      <td>ID97655</td>\n",
       "      <td>0.094030</td>\n",
       "      <td>0.12</td>\n",
       "      <td>0.307692</td>\n",
       "      <td>C8</td>\n",
       "      <td>8794</td>\n",
       "      <td>3</td>\n",
       "      <td>C2</td>\n",
       "      <td>M4</td>\n",
       "      <td>Diesel</td>\n",
       "      <td>...</td>\n",
       "      <td>Yes</td>\n",
       "      <td>Yes</td>\n",
       "      <td>Yes</td>\n",
       "      <td>Yes</td>\n",
       "      <td>Yes</td>\n",
       "      <td>Yes</td>\n",
       "      <td>No</td>\n",
       "      <td>Yes</td>\n",
       "      <td>Yes</td>\n",
       "      <td>3</td>\n",
       "    </tr>\n",
       "  </tbody>\n",
       "</table>\n",
       "<p>39063 rows × 43 columns</p>\n",
       "</div>\n",
       "      <button class=\"colab-df-convert\" onclick=\"convertToInteractive('df-9a3eae0f-a34d-4daf-9091-f527c9158655')\"\n",
       "              title=\"Convert this dataframe to an interactive table.\"\n",
       "              style=\"display:none;\">\n",
       "        \n",
       "  <svg xmlns=\"http://www.w3.org/2000/svg\" height=\"24px\"viewBox=\"0 0 24 24\"\n",
       "       width=\"24px\">\n",
       "    <path d=\"M0 0h24v24H0V0z\" fill=\"none\"/>\n",
       "    <path d=\"M18.56 5.44l.94 2.06.94-2.06 2.06-.94-2.06-.94-.94-2.06-.94 2.06-2.06.94zm-11 1L8.5 8.5l.94-2.06 2.06-.94-2.06-.94L8.5 2.5l-.94 2.06-2.06.94zm10 10l.94 2.06.94-2.06 2.06-.94-2.06-.94-.94-2.06-.94 2.06-2.06.94z\"/><path d=\"M17.41 7.96l-1.37-1.37c-.4-.4-.92-.59-1.43-.59-.52 0-1.04.2-1.43.59L10.3 9.45l-7.72 7.72c-.78.78-.78 2.05 0 2.83L4 21.41c.39.39.9.59 1.41.59.51 0 1.02-.2 1.41-.59l7.78-7.78 2.81-2.81c.8-.78.8-2.07 0-2.86zM5.41 20L4 18.59l7.72-7.72 1.47 1.35L5.41 20z\"/>\n",
       "  </svg>\n",
       "      </button>\n",
       "      \n",
       "  <style>\n",
       "    .colab-df-container {\n",
       "      display:flex;\n",
       "      flex-wrap:wrap;\n",
       "      gap: 12px;\n",
       "    }\n",
       "\n",
       "    .colab-df-convert {\n",
       "      background-color: #E8F0FE;\n",
       "      border: none;\n",
       "      border-radius: 50%;\n",
       "      cursor: pointer;\n",
       "      display: none;\n",
       "      fill: #1967D2;\n",
       "      height: 32px;\n",
       "      padding: 0 0 0 0;\n",
       "      width: 32px;\n",
       "    }\n",
       "\n",
       "    .colab-df-convert:hover {\n",
       "      background-color: #E2EBFA;\n",
       "      box-shadow: 0px 1px 2px rgba(60, 64, 67, 0.3), 0px 1px 3px 1px rgba(60, 64, 67, 0.15);\n",
       "      fill: #174EA6;\n",
       "    }\n",
       "\n",
       "    [theme=dark] .colab-df-convert {\n",
       "      background-color: #3B4455;\n",
       "      fill: #D2E3FC;\n",
       "    }\n",
       "\n",
       "    [theme=dark] .colab-df-convert:hover {\n",
       "      background-color: #434B5C;\n",
       "      box-shadow: 0px 1px 3px 1px rgba(0, 0, 0, 0.15);\n",
       "      filter: drop-shadow(0px 1px 2px rgba(0, 0, 0, 0.3));\n",
       "      fill: #FFFFFF;\n",
       "    }\n",
       "  </style>\n",
       "\n",
       "      <script>\n",
       "        const buttonEl =\n",
       "          document.querySelector('#df-9a3eae0f-a34d-4daf-9091-f527c9158655 button.colab-df-convert');\n",
       "        buttonEl.style.display =\n",
       "          google.colab.kernel.accessAllowed ? 'block' : 'none';\n",
       "\n",
       "        async function convertToInteractive(key) {\n",
       "          const element = document.querySelector('#df-9a3eae0f-a34d-4daf-9091-f527c9158655');\n",
       "          const dataTable =\n",
       "            await google.colab.kernel.invokeFunction('convertToInteractive',\n",
       "                                                     [key], {});\n",
       "          if (!dataTable) return;\n",
       "\n",
       "          const docLinkHtml = 'Like what you see? Visit the ' +\n",
       "            '<a target=\"_blank\" href=https://colab.research.google.com/notebooks/data_table.ipynb>data table notebook</a>'\n",
       "            + ' to learn more about interactive tables.';\n",
       "          element.innerHTML = '';\n",
       "          dataTable['output_type'] = 'display_data';\n",
       "          await google.colab.output.renderOutput(dataTable, element);\n",
       "          const docLink = document.createElement('div');\n",
       "          docLink.innerHTML = docLinkHtml;\n",
       "          element.appendChild(docLink);\n",
       "        }\n",
       "      </script>\n",
       "    </div>\n",
       "  </div>\n",
       "  "
      ],
      "text/plain": [
       "      policy_id  policy_tenure  age_of_car  age_of_policyholder area_cluster  \\\n",
       "0       ID58593       0.341732        0.00             0.586538           C3   \n",
       "1       ID58594       0.307241        0.13             0.442308           C8   \n",
       "2       ID58595       0.327924        0.12             0.451923           C8   \n",
       "3       ID58596       0.782654        0.01             0.461538           C5   \n",
       "4       ID58597       1.233404        0.02             0.634615           C5   \n",
       "...         ...            ...         ...                  ...          ...   \n",
       "39058   ID97651       0.047982        0.15             0.740385           C2   \n",
       "39059   ID97652       1.224838        0.05             0.509615           C8   \n",
       "39060   ID97653       0.520287        0.12             0.355769           C6   \n",
       "39061   ID97654       1.172391        0.08             0.644231           C5   \n",
       "39062   ID97655       0.094030        0.12             0.307692           C8   \n",
       "\n",
       "       population_density  make segment model fuel_type  ...  \\\n",
       "0                    4076     1       A    M1       CNG  ...   \n",
       "1                    8794     1      B2    M6    Petrol  ...   \n",
       "2                    8794     2       A    M3    Petrol  ...   \n",
       "3                   34738     1       A    M1       CNG  ...   \n",
       "4                   34738     1       A    M1       CNG  ...   \n",
       "...                   ...   ...     ...   ...       ...  ...   \n",
       "39058               27003     1      B2    M6    Petrol  ...   \n",
       "39059                8794     3      C2    M4    Diesel  ...   \n",
       "39060               13051     1      B2    M7    Petrol  ...   \n",
       "39061               34738     1      C1    M2    Petrol  ...   \n",
       "39062                8794     3      C2    M4    Diesel  ...   \n",
       "\n",
       "      is_rear_window_defogger is_brake_assist is_power_door_locks  \\\n",
       "0                          No              No                  No   \n",
       "1                          No             Yes                 Yes   \n",
       "2                          No              No                 Yes   \n",
       "3                          No              No                  No   \n",
       "4                          No              No                  No   \n",
       "...                       ...             ...                 ...   \n",
       "39058                      No             Yes                 Yes   \n",
       "39059                     Yes             Yes                 Yes   \n",
       "39060                     Yes             Yes                 Yes   \n",
       "39061                     Yes             Yes                 Yes   \n",
       "39062                     Yes             Yes                 Yes   \n",
       "\n",
       "       is_central_locking is_power_steering is_driver_seat_height_adjustable  \\\n",
       "0                      No               Yes                               No   \n",
       "1                     Yes               Yes                              Yes   \n",
       "2                     Yes               Yes                               No   \n",
       "3                      No               Yes                               No   \n",
       "4                      No               Yes                               No   \n",
       "...                   ...               ...                              ...   \n",
       "39058                 Yes               Yes                              Yes   \n",
       "39059                 Yes               Yes                              Yes   \n",
       "39060                 Yes               Yes                              Yes   \n",
       "39061                 Yes               Yes                              Yes   \n",
       "39062                 Yes               Yes                              Yes   \n",
       "\n",
       "      is_day_night_rear_view_mirror is_ecw is_speed_alert ncap_rating  \n",
       "0                                No     No            Yes           0  \n",
       "1                               Yes    Yes            Yes           2  \n",
       "2                               Yes    Yes            Yes           2  \n",
       "3                                No     No            Yes           0  \n",
       "4                                No     No            Yes           0  \n",
       "...                             ...    ...            ...         ...  \n",
       "39058                           Yes    Yes            Yes           2  \n",
       "39059                            No    Yes            Yes           3  \n",
       "39060                           Yes    Yes            Yes           0  \n",
       "39061                           Yes    Yes            Yes           2  \n",
       "39062                            No    Yes            Yes           3  \n",
       "\n",
       "[39063 rows x 43 columns]"
      ]
     },
     "execution_count": 157,
     "metadata": {},
     "output_type": "execute_result"
    }
   ],
   "source": [
    "test_df"
   ]
  },
  {
   "cell_type": "markdown",
   "metadata": {
    "id": "QkjlfVT2lBIB"
   },
   "source": [
    "## 2. Explore the Dataset\n",
    "\n",
    "* Basic info about training set\n",
    "\n",
    "* Basic info about test set\n",
    "\n",
    "* Exploratory data analysis & visualization\n",
    "\n",
    "* Ask & answer questions"
   ]
  },
  {
   "cell_type": "markdown",
   "metadata": {
    "id": "n48TpB7nlOXi"
   },
   "source": [
    "### Training Set"
   ]
  },
  {
   "cell_type": "code",
   "execution_count": null,
   "metadata": {
    "colab": {
     "base_uri": "https://localhost:8080/"
    },
    "executionInfo": {
     "elapsed": 303,
     "status": "ok",
     "timestamp": 1684105434344,
     "user": {
      "displayName": "Tin Liman",
      "userId": "01796335397974011301"
     },
     "user_tz": 420
    },
    "id": "xXdO-NYd-YeY",
    "outputId": "08a24b10-4785-4881-ad35-32b90ef8032a"
   },
   "outputs": [
    {
     "data": {
      "text/plain": [
       "Index(['policy_id', 'policy_tenure', 'age_of_car', 'age_of_policyholder',\n",
       "       'area_cluster', 'population_density', 'make', 'segment', 'model',\n",
       "       'fuel_type', 'max_torque', 'max_power', 'engine_type', 'airbags',\n",
       "       'is_esc', 'is_adjustable_steering', 'is_tpms', 'is_parking_sensors',\n",
       "       'is_parking_camera', 'rear_brakes_type', 'displacement', 'cylinder',\n",
       "       'transmission_type', 'gear_box', 'steering_type', 'turning_radius',\n",
       "       'length', 'width', 'height', 'gross_weight', 'is_front_fog_lights',\n",
       "       'is_rear_window_wiper', 'is_rear_window_washer',\n",
       "       'is_rear_window_defogger', 'is_brake_assist', 'is_power_door_locks',\n",
       "       'is_central_locking', 'is_power_steering',\n",
       "       'is_driver_seat_height_adjustable', 'is_day_night_rear_view_mirror',\n",
       "       'is_ecw', 'is_speed_alert', 'ncap_rating', 'is_claim'],\n",
       "      dtype='object')"
      ]
     },
     "execution_count": 8,
     "metadata": {},
     "output_type": "execute_result"
    }
   ],
   "source": [
    "train_df.columns"
   ]
  },
  {
   "cell_type": "code",
   "execution_count": null,
   "metadata": {
    "colab": {
     "base_uri": "https://localhost:8080/"
    },
    "executionInfo": {
     "elapsed": 299,
     "status": "ok",
     "timestamp": 1684105436253,
     "user": {
      "displayName": "Tin Liman",
      "userId": "01796335397974011301"
     },
     "user_tz": 420
    },
    "id": "bxNPeC3f-f4k",
    "outputId": "1a7961a1-8457-408f-f5df-0213d8bd4ed6"
   },
   "outputs": [
    {
     "data": {
      "text/plain": [
       "(58592, 44)"
      ]
     },
     "execution_count": 9,
     "metadata": {},
     "output_type": "execute_result"
    }
   ],
   "source": [
    "train_df.shape"
   ]
  },
  {
   "cell_type": "code",
   "execution_count": null,
   "metadata": {
    "colab": {
     "base_uri": "https://localhost:8080/"
    },
    "executionInfo": {
     "elapsed": 251,
     "status": "ok",
     "timestamp": 1683873382847,
     "user": {
      "displayName": "Tin Liman",
      "userId": "01796335397974011301"
     },
     "user_tz": 420
    },
    "id": "8uMIZRu_-jHX",
    "outputId": "eaed6607-0d3a-42a5-f125-6d52f274fb56"
   },
   "outputs": [
    {
     "data": {
      "text/plain": [
       "2578048"
      ]
     },
     "execution_count": 160,
     "metadata": {},
     "output_type": "execute_result"
    }
   ],
   "source": [
    "train_df.size"
   ]
  },
  {
   "cell_type": "code",
   "execution_count": null,
   "metadata": {
    "colab": {
     "base_uri": "https://localhost:8080/"
    },
    "executionInfo": {
     "elapsed": 258,
     "status": "ok",
     "timestamp": 1683873384891,
     "user": {
      "displayName": "Tin Liman",
      "userId": "01796335397974011301"
     },
     "user_tz": 420
    },
    "id": "XozQZUP1-nEe",
    "outputId": "c8322ad8-e720-487c-b832-a7d533348ae6"
   },
   "outputs": [
    {
     "name": "stdout",
     "output_type": "stream",
     "text": [
      "<class 'pandas.core.frame.DataFrame'>\n",
      "RangeIndex: 58592 entries, 0 to 58591\n",
      "Data columns (total 44 columns):\n",
      " #   Column                            Non-Null Count  Dtype  \n",
      "---  ------                            --------------  -----  \n",
      " 0   policy_id                         58592 non-null  object \n",
      " 1   policy_tenure                     58592 non-null  float64\n",
      " 2   age_of_car                        58592 non-null  float64\n",
      " 3   age_of_policyholder               58592 non-null  float64\n",
      " 4   area_cluster                      58592 non-null  object \n",
      " 5   population_density                58592 non-null  int64  \n",
      " 6   make                              58592 non-null  int64  \n",
      " 7   segment                           58592 non-null  object \n",
      " 8   model                             58592 non-null  object \n",
      " 9   fuel_type                         58592 non-null  object \n",
      " 10  max_torque                        58592 non-null  object \n",
      " 11  max_power                         58592 non-null  object \n",
      " 12  engine_type                       58592 non-null  object \n",
      " 13  airbags                           58592 non-null  int64  \n",
      " 14  is_esc                            58592 non-null  object \n",
      " 15  is_adjustable_steering            58592 non-null  object \n",
      " 16  is_tpms                           58592 non-null  object \n",
      " 17  is_parking_sensors                58592 non-null  object \n",
      " 18  is_parking_camera                 58592 non-null  object \n",
      " 19  rear_brakes_type                  58592 non-null  object \n",
      " 20  displacement                      58592 non-null  int64  \n",
      " 21  cylinder                          58592 non-null  int64  \n",
      " 22  transmission_type                 58592 non-null  object \n",
      " 23  gear_box                          58592 non-null  int64  \n",
      " 24  steering_type                     58592 non-null  object \n",
      " 25  turning_radius                    58592 non-null  float64\n",
      " 26  length                            58592 non-null  int64  \n",
      " 27  width                             58592 non-null  int64  \n",
      " 28  height                            58592 non-null  int64  \n",
      " 29  gross_weight                      58592 non-null  int64  \n",
      " 30  is_front_fog_lights               58592 non-null  object \n",
      " 31  is_rear_window_wiper              58592 non-null  object \n",
      " 32  is_rear_window_washer             58592 non-null  object \n",
      " 33  is_rear_window_defogger           58592 non-null  object \n",
      " 34  is_brake_assist                   58592 non-null  object \n",
      " 35  is_power_door_locks               58592 non-null  object \n",
      " 36  is_central_locking                58592 non-null  object \n",
      " 37  is_power_steering                 58592 non-null  object \n",
      " 38  is_driver_seat_height_adjustable  58592 non-null  object \n",
      " 39  is_day_night_rear_view_mirror     58592 non-null  object \n",
      " 40  is_ecw                            58592 non-null  object \n",
      " 41  is_speed_alert                    58592 non-null  object \n",
      " 42  ncap_rating                       58592 non-null  int64  \n",
      " 43  is_claim                          58592 non-null  int64  \n",
      "dtypes: float64(4), int64(12), object(28)\n",
      "memory usage: 19.7+ MB\n"
     ]
    }
   ],
   "source": [
    "train_df.info()"
   ]
  },
  {
   "cell_type": "code",
   "execution_count": null,
   "metadata": {
    "colab": {
     "base_uri": "https://localhost:8080/",
     "height": 364
    },
    "executionInfo": {
     "elapsed": 335,
     "status": "ok",
     "timestamp": 1683873390850,
     "user": {
      "displayName": "Tin Liman",
      "userId": "01796335397974011301"
     },
     "user_tz": 420
    },
    "id": "ES6MbRx5-t8m",
    "outputId": "135c25db-b310-44a5-84a3-34a1a47ebbc7"
   },
   "outputs": [
    {
     "data": {
      "text/html": [
       "\n",
       "  <div id=\"df-69874fb7-717b-4974-bacd-a9dd775c136e\">\n",
       "    <div class=\"colab-df-container\">\n",
       "      <div>\n",
       "<style scoped>\n",
       "    .dataframe tbody tr th:only-of-type {\n",
       "        vertical-align: middle;\n",
       "    }\n",
       "\n",
       "    .dataframe tbody tr th {\n",
       "        vertical-align: top;\n",
       "    }\n",
       "\n",
       "    .dataframe thead th {\n",
       "        text-align: right;\n",
       "    }\n",
       "</style>\n",
       "<table border=\"1\" class=\"dataframe\">\n",
       "  <thead>\n",
       "    <tr style=\"text-align: right;\">\n",
       "      <th></th>\n",
       "      <th>policy_tenure</th>\n",
       "      <th>age_of_car</th>\n",
       "      <th>age_of_policyholder</th>\n",
       "      <th>population_density</th>\n",
       "      <th>make</th>\n",
       "      <th>airbags</th>\n",
       "      <th>displacement</th>\n",
       "      <th>cylinder</th>\n",
       "      <th>gear_box</th>\n",
       "      <th>turning_radius</th>\n",
       "      <th>length</th>\n",
       "      <th>width</th>\n",
       "      <th>height</th>\n",
       "      <th>gross_weight</th>\n",
       "      <th>ncap_rating</th>\n",
       "      <th>is_claim</th>\n",
       "    </tr>\n",
       "  </thead>\n",
       "  <tbody>\n",
       "    <tr>\n",
       "      <th>count</th>\n",
       "      <td>58592.000000</td>\n",
       "      <td>58592.000000</td>\n",
       "      <td>58592.000000</td>\n",
       "      <td>58592.000000</td>\n",
       "      <td>58592.000000</td>\n",
       "      <td>58592.000000</td>\n",
       "      <td>58592.000000</td>\n",
       "      <td>58592.000000</td>\n",
       "      <td>58592.000000</td>\n",
       "      <td>58592.000000</td>\n",
       "      <td>58592.000000</td>\n",
       "      <td>58592.000000</td>\n",
       "      <td>58592.00000</td>\n",
       "      <td>58592.000000</td>\n",
       "      <td>58592.000000</td>\n",
       "      <td>58592.000000</td>\n",
       "    </tr>\n",
       "    <tr>\n",
       "      <th>mean</th>\n",
       "      <td>0.611246</td>\n",
       "      <td>0.069424</td>\n",
       "      <td>0.469420</td>\n",
       "      <td>18826.858667</td>\n",
       "      <td>1.763722</td>\n",
       "      <td>3.137066</td>\n",
       "      <td>1162.355851</td>\n",
       "      <td>3.626963</td>\n",
       "      <td>5.245443</td>\n",
       "      <td>4.852893</td>\n",
       "      <td>3850.476891</td>\n",
       "      <td>1672.233667</td>\n",
       "      <td>1553.33537</td>\n",
       "      <td>1385.276813</td>\n",
       "      <td>1.759950</td>\n",
       "      <td>0.063968</td>\n",
       "    </tr>\n",
       "    <tr>\n",
       "      <th>std</th>\n",
       "      <td>0.414156</td>\n",
       "      <td>0.056721</td>\n",
       "      <td>0.122886</td>\n",
       "      <td>17660.174792</td>\n",
       "      <td>1.136988</td>\n",
       "      <td>1.832641</td>\n",
       "      <td>266.304786</td>\n",
       "      <td>0.483616</td>\n",
       "      <td>0.430353</td>\n",
       "      <td>0.228061</td>\n",
       "      <td>311.457119</td>\n",
       "      <td>112.089135</td>\n",
       "      <td>79.62227</td>\n",
       "      <td>212.423085</td>\n",
       "      <td>1.389576</td>\n",
       "      <td>0.244698</td>\n",
       "    </tr>\n",
       "    <tr>\n",
       "      <th>min</th>\n",
       "      <td>0.002735</td>\n",
       "      <td>0.000000</td>\n",
       "      <td>0.288462</td>\n",
       "      <td>290.000000</td>\n",
       "      <td>1.000000</td>\n",
       "      <td>1.000000</td>\n",
       "      <td>796.000000</td>\n",
       "      <td>3.000000</td>\n",
       "      <td>5.000000</td>\n",
       "      <td>4.500000</td>\n",
       "      <td>3445.000000</td>\n",
       "      <td>1475.000000</td>\n",
       "      <td>1475.00000</td>\n",
       "      <td>1051.000000</td>\n",
       "      <td>0.000000</td>\n",
       "      <td>0.000000</td>\n",
       "    </tr>\n",
       "    <tr>\n",
       "      <th>25%</th>\n",
       "      <td>0.210250</td>\n",
       "      <td>0.020000</td>\n",
       "      <td>0.365385</td>\n",
       "      <td>6112.000000</td>\n",
       "      <td>1.000000</td>\n",
       "      <td>2.000000</td>\n",
       "      <td>796.000000</td>\n",
       "      <td>3.000000</td>\n",
       "      <td>5.000000</td>\n",
       "      <td>4.600000</td>\n",
       "      <td>3445.000000</td>\n",
       "      <td>1515.000000</td>\n",
       "      <td>1475.00000</td>\n",
       "      <td>1185.000000</td>\n",
       "      <td>0.000000</td>\n",
       "      <td>0.000000</td>\n",
       "    </tr>\n",
       "    <tr>\n",
       "      <th>50%</th>\n",
       "      <td>0.573792</td>\n",
       "      <td>0.060000</td>\n",
       "      <td>0.451923</td>\n",
       "      <td>8794.000000</td>\n",
       "      <td>1.000000</td>\n",
       "      <td>2.000000</td>\n",
       "      <td>1197.000000</td>\n",
       "      <td>4.000000</td>\n",
       "      <td>5.000000</td>\n",
       "      <td>4.800000</td>\n",
       "      <td>3845.000000</td>\n",
       "      <td>1735.000000</td>\n",
       "      <td>1530.00000</td>\n",
       "      <td>1335.000000</td>\n",
       "      <td>2.000000</td>\n",
       "      <td>0.000000</td>\n",
       "    </tr>\n",
       "    <tr>\n",
       "      <th>75%</th>\n",
       "      <td>1.039104</td>\n",
       "      <td>0.110000</td>\n",
       "      <td>0.548077</td>\n",
       "      <td>27003.000000</td>\n",
       "      <td>3.000000</td>\n",
       "      <td>6.000000</td>\n",
       "      <td>1493.000000</td>\n",
       "      <td>4.000000</td>\n",
       "      <td>5.000000</td>\n",
       "      <td>5.000000</td>\n",
       "      <td>3995.000000</td>\n",
       "      <td>1755.000000</td>\n",
       "      <td>1635.00000</td>\n",
       "      <td>1510.000000</td>\n",
       "      <td>3.000000</td>\n",
       "      <td>0.000000</td>\n",
       "    </tr>\n",
       "    <tr>\n",
       "      <th>max</th>\n",
       "      <td>1.396641</td>\n",
       "      <td>1.000000</td>\n",
       "      <td>1.000000</td>\n",
       "      <td>73430.000000</td>\n",
       "      <td>5.000000</td>\n",
       "      <td>6.000000</td>\n",
       "      <td>1498.000000</td>\n",
       "      <td>4.000000</td>\n",
       "      <td>6.000000</td>\n",
       "      <td>5.200000</td>\n",
       "      <td>4300.000000</td>\n",
       "      <td>1811.000000</td>\n",
       "      <td>1825.00000</td>\n",
       "      <td>1720.000000</td>\n",
       "      <td>5.000000</td>\n",
       "      <td>1.000000</td>\n",
       "    </tr>\n",
       "  </tbody>\n",
       "</table>\n",
       "</div>\n",
       "      <button class=\"colab-df-convert\" onclick=\"convertToInteractive('df-69874fb7-717b-4974-bacd-a9dd775c136e')\"\n",
       "              title=\"Convert this dataframe to an interactive table.\"\n",
       "              style=\"display:none;\">\n",
       "        \n",
       "  <svg xmlns=\"http://www.w3.org/2000/svg\" height=\"24px\"viewBox=\"0 0 24 24\"\n",
       "       width=\"24px\">\n",
       "    <path d=\"M0 0h24v24H0V0z\" fill=\"none\"/>\n",
       "    <path d=\"M18.56 5.44l.94 2.06.94-2.06 2.06-.94-2.06-.94-.94-2.06-.94 2.06-2.06.94zm-11 1L8.5 8.5l.94-2.06 2.06-.94-2.06-.94L8.5 2.5l-.94 2.06-2.06.94zm10 10l.94 2.06.94-2.06 2.06-.94-2.06-.94-.94-2.06-.94 2.06-2.06.94z\"/><path d=\"M17.41 7.96l-1.37-1.37c-.4-.4-.92-.59-1.43-.59-.52 0-1.04.2-1.43.59L10.3 9.45l-7.72 7.72c-.78.78-.78 2.05 0 2.83L4 21.41c.39.39.9.59 1.41.59.51 0 1.02-.2 1.41-.59l7.78-7.78 2.81-2.81c.8-.78.8-2.07 0-2.86zM5.41 20L4 18.59l7.72-7.72 1.47 1.35L5.41 20z\"/>\n",
       "  </svg>\n",
       "      </button>\n",
       "      \n",
       "  <style>\n",
       "    .colab-df-container {\n",
       "      display:flex;\n",
       "      flex-wrap:wrap;\n",
       "      gap: 12px;\n",
       "    }\n",
       "\n",
       "    .colab-df-convert {\n",
       "      background-color: #E8F0FE;\n",
       "      border: none;\n",
       "      border-radius: 50%;\n",
       "      cursor: pointer;\n",
       "      display: none;\n",
       "      fill: #1967D2;\n",
       "      height: 32px;\n",
       "      padding: 0 0 0 0;\n",
       "      width: 32px;\n",
       "    }\n",
       "\n",
       "    .colab-df-convert:hover {\n",
       "      background-color: #E2EBFA;\n",
       "      box-shadow: 0px 1px 2px rgba(60, 64, 67, 0.3), 0px 1px 3px 1px rgba(60, 64, 67, 0.15);\n",
       "      fill: #174EA6;\n",
       "    }\n",
       "\n",
       "    [theme=dark] .colab-df-convert {\n",
       "      background-color: #3B4455;\n",
       "      fill: #D2E3FC;\n",
       "    }\n",
       "\n",
       "    [theme=dark] .colab-df-convert:hover {\n",
       "      background-color: #434B5C;\n",
       "      box-shadow: 0px 1px 3px 1px rgba(0, 0, 0, 0.15);\n",
       "      filter: drop-shadow(0px 1px 2px rgba(0, 0, 0, 0.3));\n",
       "      fill: #FFFFFF;\n",
       "    }\n",
       "  </style>\n",
       "\n",
       "      <script>\n",
       "        const buttonEl =\n",
       "          document.querySelector('#df-69874fb7-717b-4974-bacd-a9dd775c136e button.colab-df-convert');\n",
       "        buttonEl.style.display =\n",
       "          google.colab.kernel.accessAllowed ? 'block' : 'none';\n",
       "\n",
       "        async function convertToInteractive(key) {\n",
       "          const element = document.querySelector('#df-69874fb7-717b-4974-bacd-a9dd775c136e');\n",
       "          const dataTable =\n",
       "            await google.colab.kernel.invokeFunction('convertToInteractive',\n",
       "                                                     [key], {});\n",
       "          if (!dataTable) return;\n",
       "\n",
       "          const docLinkHtml = 'Like what you see? Visit the ' +\n",
       "            '<a target=\"_blank\" href=https://colab.research.google.com/notebooks/data_table.ipynb>data table notebook</a>'\n",
       "            + ' to learn more about interactive tables.';\n",
       "          element.innerHTML = '';\n",
       "          dataTable['output_type'] = 'display_data';\n",
       "          await google.colab.output.renderOutput(dataTable, element);\n",
       "          const docLink = document.createElement('div');\n",
       "          docLink.innerHTML = docLinkHtml;\n",
       "          element.appendChild(docLink);\n",
       "        }\n",
       "      </script>\n",
       "    </div>\n",
       "  </div>\n",
       "  "
      ],
      "text/plain": [
       "       policy_tenure    age_of_car  age_of_policyholder  population_density  \\\n",
       "count   58592.000000  58592.000000         58592.000000        58592.000000   \n",
       "mean        0.611246      0.069424             0.469420        18826.858667   \n",
       "std         0.414156      0.056721             0.122886        17660.174792   \n",
       "min         0.002735      0.000000             0.288462          290.000000   \n",
       "25%         0.210250      0.020000             0.365385         6112.000000   \n",
       "50%         0.573792      0.060000             0.451923         8794.000000   \n",
       "75%         1.039104      0.110000             0.548077        27003.000000   \n",
       "max         1.396641      1.000000             1.000000        73430.000000   \n",
       "\n",
       "               make       airbags  displacement      cylinder      gear_box  \\\n",
       "count  58592.000000  58592.000000  58592.000000  58592.000000  58592.000000   \n",
       "mean       1.763722      3.137066   1162.355851      3.626963      5.245443   \n",
       "std        1.136988      1.832641    266.304786      0.483616      0.430353   \n",
       "min        1.000000      1.000000    796.000000      3.000000      5.000000   \n",
       "25%        1.000000      2.000000    796.000000      3.000000      5.000000   \n",
       "50%        1.000000      2.000000   1197.000000      4.000000      5.000000   \n",
       "75%        3.000000      6.000000   1493.000000      4.000000      5.000000   \n",
       "max        5.000000      6.000000   1498.000000      4.000000      6.000000   \n",
       "\n",
       "       turning_radius        length         width       height  gross_weight  \\\n",
       "count    58592.000000  58592.000000  58592.000000  58592.00000  58592.000000   \n",
       "mean         4.852893   3850.476891   1672.233667   1553.33537   1385.276813   \n",
       "std          0.228061    311.457119    112.089135     79.62227    212.423085   \n",
       "min          4.500000   3445.000000   1475.000000   1475.00000   1051.000000   \n",
       "25%          4.600000   3445.000000   1515.000000   1475.00000   1185.000000   \n",
       "50%          4.800000   3845.000000   1735.000000   1530.00000   1335.000000   \n",
       "75%          5.000000   3995.000000   1755.000000   1635.00000   1510.000000   \n",
       "max          5.200000   4300.000000   1811.000000   1825.00000   1720.000000   \n",
       "\n",
       "        ncap_rating      is_claim  \n",
       "count  58592.000000  58592.000000  \n",
       "mean       1.759950      0.063968  \n",
       "std        1.389576      0.244698  \n",
       "min        0.000000      0.000000  \n",
       "25%        0.000000      0.000000  \n",
       "50%        2.000000      0.000000  \n",
       "75%        3.000000      0.000000  \n",
       "max        5.000000      1.000000  "
      ]
     },
     "execution_count": 162,
     "metadata": {},
     "output_type": "execute_result"
    }
   ],
   "source": [
    "train_df.describe()"
   ]
  },
  {
   "cell_type": "code",
   "execution_count": null,
   "metadata": {
    "colab": {
     "base_uri": "https://localhost:8080/",
     "height": 488
    },
    "executionInfo": {
     "elapsed": 2340,
     "status": "ok",
     "timestamp": 1683873397904,
     "user": {
      "displayName": "Tin Liman",
      "userId": "01796335397974011301"
     },
     "user_tz": 420
    },
    "id": "DWt81-8R-zlP",
    "outputId": "e4a76bf9-212e-4ff8-ecbf-a9232d637ae2"
   },
   "outputs": [
    {
     "data": {
      "text/html": [
       "\n",
       "  <div id=\"df-baa41fb8-d9e9-4cef-9613-5f7711b9995d\">\n",
       "    <div class=\"colab-df-container\">\n",
       "      <div>\n",
       "<style scoped>\n",
       "    .dataframe tbody tr th:only-of-type {\n",
       "        vertical-align: middle;\n",
       "    }\n",
       "\n",
       "    .dataframe tbody tr th {\n",
       "        vertical-align: top;\n",
       "    }\n",
       "\n",
       "    .dataframe thead th {\n",
       "        text-align: right;\n",
       "    }\n",
       "</style>\n",
       "<table border=\"1\" class=\"dataframe\">\n",
       "  <thead>\n",
       "    <tr style=\"text-align: right;\">\n",
       "      <th></th>\n",
       "      <th>policy_id</th>\n",
       "      <th>policy_tenure</th>\n",
       "      <th>age_of_car</th>\n",
       "      <th>age_of_policyholder</th>\n",
       "      <th>area_cluster</th>\n",
       "      <th>population_density</th>\n",
       "      <th>make</th>\n",
       "      <th>segment</th>\n",
       "      <th>model</th>\n",
       "      <th>fuel_type</th>\n",
       "      <th>...</th>\n",
       "      <th>is_brake_assist</th>\n",
       "      <th>is_power_door_locks</th>\n",
       "      <th>is_central_locking</th>\n",
       "      <th>is_power_steering</th>\n",
       "      <th>is_driver_seat_height_adjustable</th>\n",
       "      <th>is_day_night_rear_view_mirror</th>\n",
       "      <th>is_ecw</th>\n",
       "      <th>is_speed_alert</th>\n",
       "      <th>ncap_rating</th>\n",
       "      <th>is_claim</th>\n",
       "    </tr>\n",
       "  </thead>\n",
       "  <tbody>\n",
       "    <tr>\n",
       "      <th>0</th>\n",
       "      <td>False</td>\n",
       "      <td>False</td>\n",
       "      <td>False</td>\n",
       "      <td>False</td>\n",
       "      <td>False</td>\n",
       "      <td>False</td>\n",
       "      <td>False</td>\n",
       "      <td>False</td>\n",
       "      <td>False</td>\n",
       "      <td>False</td>\n",
       "      <td>...</td>\n",
       "      <td>False</td>\n",
       "      <td>False</td>\n",
       "      <td>False</td>\n",
       "      <td>False</td>\n",
       "      <td>False</td>\n",
       "      <td>False</td>\n",
       "      <td>False</td>\n",
       "      <td>False</td>\n",
       "      <td>False</td>\n",
       "      <td>False</td>\n",
       "    </tr>\n",
       "    <tr>\n",
       "      <th>1</th>\n",
       "      <td>False</td>\n",
       "      <td>False</td>\n",
       "      <td>False</td>\n",
       "      <td>False</td>\n",
       "      <td>False</td>\n",
       "      <td>False</td>\n",
       "      <td>False</td>\n",
       "      <td>False</td>\n",
       "      <td>False</td>\n",
       "      <td>False</td>\n",
       "      <td>...</td>\n",
       "      <td>False</td>\n",
       "      <td>False</td>\n",
       "      <td>False</td>\n",
       "      <td>False</td>\n",
       "      <td>False</td>\n",
       "      <td>False</td>\n",
       "      <td>False</td>\n",
       "      <td>False</td>\n",
       "      <td>False</td>\n",
       "      <td>False</td>\n",
       "    </tr>\n",
       "    <tr>\n",
       "      <th>2</th>\n",
       "      <td>False</td>\n",
       "      <td>False</td>\n",
       "      <td>False</td>\n",
       "      <td>False</td>\n",
       "      <td>False</td>\n",
       "      <td>False</td>\n",
       "      <td>False</td>\n",
       "      <td>False</td>\n",
       "      <td>False</td>\n",
       "      <td>False</td>\n",
       "      <td>...</td>\n",
       "      <td>False</td>\n",
       "      <td>False</td>\n",
       "      <td>False</td>\n",
       "      <td>False</td>\n",
       "      <td>False</td>\n",
       "      <td>False</td>\n",
       "      <td>False</td>\n",
       "      <td>False</td>\n",
       "      <td>False</td>\n",
       "      <td>False</td>\n",
       "    </tr>\n",
       "    <tr>\n",
       "      <th>3</th>\n",
       "      <td>False</td>\n",
       "      <td>False</td>\n",
       "      <td>False</td>\n",
       "      <td>False</td>\n",
       "      <td>False</td>\n",
       "      <td>False</td>\n",
       "      <td>False</td>\n",
       "      <td>False</td>\n",
       "      <td>False</td>\n",
       "      <td>False</td>\n",
       "      <td>...</td>\n",
       "      <td>False</td>\n",
       "      <td>False</td>\n",
       "      <td>False</td>\n",
       "      <td>False</td>\n",
       "      <td>False</td>\n",
       "      <td>False</td>\n",
       "      <td>False</td>\n",
       "      <td>False</td>\n",
       "      <td>False</td>\n",
       "      <td>False</td>\n",
       "    </tr>\n",
       "    <tr>\n",
       "      <th>4</th>\n",
       "      <td>False</td>\n",
       "      <td>False</td>\n",
       "      <td>False</td>\n",
       "      <td>False</td>\n",
       "      <td>False</td>\n",
       "      <td>False</td>\n",
       "      <td>False</td>\n",
       "      <td>False</td>\n",
       "      <td>False</td>\n",
       "      <td>False</td>\n",
       "      <td>...</td>\n",
       "      <td>False</td>\n",
       "      <td>False</td>\n",
       "      <td>False</td>\n",
       "      <td>False</td>\n",
       "      <td>False</td>\n",
       "      <td>False</td>\n",
       "      <td>False</td>\n",
       "      <td>False</td>\n",
       "      <td>False</td>\n",
       "      <td>False</td>\n",
       "    </tr>\n",
       "    <tr>\n",
       "      <th>...</th>\n",
       "      <td>...</td>\n",
       "      <td>...</td>\n",
       "      <td>...</td>\n",
       "      <td>...</td>\n",
       "      <td>...</td>\n",
       "      <td>...</td>\n",
       "      <td>...</td>\n",
       "      <td>...</td>\n",
       "      <td>...</td>\n",
       "      <td>...</td>\n",
       "      <td>...</td>\n",
       "      <td>...</td>\n",
       "      <td>...</td>\n",
       "      <td>...</td>\n",
       "      <td>...</td>\n",
       "      <td>...</td>\n",
       "      <td>...</td>\n",
       "      <td>...</td>\n",
       "      <td>...</td>\n",
       "      <td>...</td>\n",
       "      <td>...</td>\n",
       "    </tr>\n",
       "    <tr>\n",
       "      <th>58587</th>\n",
       "      <td>False</td>\n",
       "      <td>False</td>\n",
       "      <td>False</td>\n",
       "      <td>False</td>\n",
       "      <td>False</td>\n",
       "      <td>False</td>\n",
       "      <td>False</td>\n",
       "      <td>False</td>\n",
       "      <td>False</td>\n",
       "      <td>False</td>\n",
       "      <td>...</td>\n",
       "      <td>False</td>\n",
       "      <td>False</td>\n",
       "      <td>False</td>\n",
       "      <td>False</td>\n",
       "      <td>False</td>\n",
       "      <td>False</td>\n",
       "      <td>False</td>\n",
       "      <td>False</td>\n",
       "      <td>False</td>\n",
       "      <td>False</td>\n",
       "    </tr>\n",
       "    <tr>\n",
       "      <th>58588</th>\n",
       "      <td>False</td>\n",
       "      <td>False</td>\n",
       "      <td>False</td>\n",
       "      <td>False</td>\n",
       "      <td>False</td>\n",
       "      <td>False</td>\n",
       "      <td>False</td>\n",
       "      <td>False</td>\n",
       "      <td>False</td>\n",
       "      <td>False</td>\n",
       "      <td>...</td>\n",
       "      <td>False</td>\n",
       "      <td>False</td>\n",
       "      <td>False</td>\n",
       "      <td>False</td>\n",
       "      <td>False</td>\n",
       "      <td>False</td>\n",
       "      <td>False</td>\n",
       "      <td>False</td>\n",
       "      <td>False</td>\n",
       "      <td>False</td>\n",
       "    </tr>\n",
       "    <tr>\n",
       "      <th>58589</th>\n",
       "      <td>False</td>\n",
       "      <td>False</td>\n",
       "      <td>False</td>\n",
       "      <td>False</td>\n",
       "      <td>False</td>\n",
       "      <td>False</td>\n",
       "      <td>False</td>\n",
       "      <td>False</td>\n",
       "      <td>False</td>\n",
       "      <td>False</td>\n",
       "      <td>...</td>\n",
       "      <td>False</td>\n",
       "      <td>False</td>\n",
       "      <td>False</td>\n",
       "      <td>False</td>\n",
       "      <td>False</td>\n",
       "      <td>False</td>\n",
       "      <td>False</td>\n",
       "      <td>False</td>\n",
       "      <td>False</td>\n",
       "      <td>False</td>\n",
       "    </tr>\n",
       "    <tr>\n",
       "      <th>58590</th>\n",
       "      <td>False</td>\n",
       "      <td>False</td>\n",
       "      <td>False</td>\n",
       "      <td>False</td>\n",
       "      <td>False</td>\n",
       "      <td>False</td>\n",
       "      <td>False</td>\n",
       "      <td>False</td>\n",
       "      <td>False</td>\n",
       "      <td>False</td>\n",
       "      <td>...</td>\n",
       "      <td>False</td>\n",
       "      <td>False</td>\n",
       "      <td>False</td>\n",
       "      <td>False</td>\n",
       "      <td>False</td>\n",
       "      <td>False</td>\n",
       "      <td>False</td>\n",
       "      <td>False</td>\n",
       "      <td>False</td>\n",
       "      <td>False</td>\n",
       "    </tr>\n",
       "    <tr>\n",
       "      <th>58591</th>\n",
       "      <td>False</td>\n",
       "      <td>False</td>\n",
       "      <td>False</td>\n",
       "      <td>False</td>\n",
       "      <td>False</td>\n",
       "      <td>False</td>\n",
       "      <td>False</td>\n",
       "      <td>False</td>\n",
       "      <td>False</td>\n",
       "      <td>False</td>\n",
       "      <td>...</td>\n",
       "      <td>False</td>\n",
       "      <td>False</td>\n",
       "      <td>False</td>\n",
       "      <td>False</td>\n",
       "      <td>False</td>\n",
       "      <td>False</td>\n",
       "      <td>False</td>\n",
       "      <td>False</td>\n",
       "      <td>False</td>\n",
       "      <td>False</td>\n",
       "    </tr>\n",
       "  </tbody>\n",
       "</table>\n",
       "<p>58592 rows × 44 columns</p>\n",
       "</div>\n",
       "      <button class=\"colab-df-convert\" onclick=\"convertToInteractive('df-baa41fb8-d9e9-4cef-9613-5f7711b9995d')\"\n",
       "              title=\"Convert this dataframe to an interactive table.\"\n",
       "              style=\"display:none;\">\n",
       "        \n",
       "  <svg xmlns=\"http://www.w3.org/2000/svg\" height=\"24px\"viewBox=\"0 0 24 24\"\n",
       "       width=\"24px\">\n",
       "    <path d=\"M0 0h24v24H0V0z\" fill=\"none\"/>\n",
       "    <path d=\"M18.56 5.44l.94 2.06.94-2.06 2.06-.94-2.06-.94-.94-2.06-.94 2.06-2.06.94zm-11 1L8.5 8.5l.94-2.06 2.06-.94-2.06-.94L8.5 2.5l-.94 2.06-2.06.94zm10 10l.94 2.06.94-2.06 2.06-.94-2.06-.94-.94-2.06-.94 2.06-2.06.94z\"/><path d=\"M17.41 7.96l-1.37-1.37c-.4-.4-.92-.59-1.43-.59-.52 0-1.04.2-1.43.59L10.3 9.45l-7.72 7.72c-.78.78-.78 2.05 0 2.83L4 21.41c.39.39.9.59 1.41.59.51 0 1.02-.2 1.41-.59l7.78-7.78 2.81-2.81c.8-.78.8-2.07 0-2.86zM5.41 20L4 18.59l7.72-7.72 1.47 1.35L5.41 20z\"/>\n",
       "  </svg>\n",
       "      </button>\n",
       "      \n",
       "  <style>\n",
       "    .colab-df-container {\n",
       "      display:flex;\n",
       "      flex-wrap:wrap;\n",
       "      gap: 12px;\n",
       "    }\n",
       "\n",
       "    .colab-df-convert {\n",
       "      background-color: #E8F0FE;\n",
       "      border: none;\n",
       "      border-radius: 50%;\n",
       "      cursor: pointer;\n",
       "      display: none;\n",
       "      fill: #1967D2;\n",
       "      height: 32px;\n",
       "      padding: 0 0 0 0;\n",
       "      width: 32px;\n",
       "    }\n",
       "\n",
       "    .colab-df-convert:hover {\n",
       "      background-color: #E2EBFA;\n",
       "      box-shadow: 0px 1px 2px rgba(60, 64, 67, 0.3), 0px 1px 3px 1px rgba(60, 64, 67, 0.15);\n",
       "      fill: #174EA6;\n",
       "    }\n",
       "\n",
       "    [theme=dark] .colab-df-convert {\n",
       "      background-color: #3B4455;\n",
       "      fill: #D2E3FC;\n",
       "    }\n",
       "\n",
       "    [theme=dark] .colab-df-convert:hover {\n",
       "      background-color: #434B5C;\n",
       "      box-shadow: 0px 1px 3px 1px rgba(0, 0, 0, 0.15);\n",
       "      filter: drop-shadow(0px 1px 2px rgba(0, 0, 0, 0.3));\n",
       "      fill: #FFFFFF;\n",
       "    }\n",
       "  </style>\n",
       "\n",
       "      <script>\n",
       "        const buttonEl =\n",
       "          document.querySelector('#df-baa41fb8-d9e9-4cef-9613-5f7711b9995d button.colab-df-convert');\n",
       "        buttonEl.style.display =\n",
       "          google.colab.kernel.accessAllowed ? 'block' : 'none';\n",
       "\n",
       "        async function convertToInteractive(key) {\n",
       "          const element = document.querySelector('#df-baa41fb8-d9e9-4cef-9613-5f7711b9995d');\n",
       "          const dataTable =\n",
       "            await google.colab.kernel.invokeFunction('convertToInteractive',\n",
       "                                                     [key], {});\n",
       "          if (!dataTable) return;\n",
       "\n",
       "          const docLinkHtml = 'Like what you see? Visit the ' +\n",
       "            '<a target=\"_blank\" href=https://colab.research.google.com/notebooks/data_table.ipynb>data table notebook</a>'\n",
       "            + ' to learn more about interactive tables.';\n",
       "          element.innerHTML = '';\n",
       "          dataTable['output_type'] = 'display_data';\n",
       "          await google.colab.output.renderOutput(dataTable, element);\n",
       "          const docLink = document.createElement('div');\n",
       "          docLink.innerHTML = docLinkHtml;\n",
       "          element.appendChild(docLink);\n",
       "        }\n",
       "      </script>\n",
       "    </div>\n",
       "  </div>\n",
       "  "
      ],
      "text/plain": [
       "       policy_id  policy_tenure  age_of_car  age_of_policyholder  \\\n",
       "0          False          False       False                False   \n",
       "1          False          False       False                False   \n",
       "2          False          False       False                False   \n",
       "3          False          False       False                False   \n",
       "4          False          False       False                False   \n",
       "...          ...            ...         ...                  ...   \n",
       "58587      False          False       False                False   \n",
       "58588      False          False       False                False   \n",
       "58589      False          False       False                False   \n",
       "58590      False          False       False                False   \n",
       "58591      False          False       False                False   \n",
       "\n",
       "       area_cluster  population_density   make  segment  model  fuel_type  \\\n",
       "0             False               False  False    False  False      False   \n",
       "1             False               False  False    False  False      False   \n",
       "2             False               False  False    False  False      False   \n",
       "3             False               False  False    False  False      False   \n",
       "4             False               False  False    False  False      False   \n",
       "...             ...                 ...    ...      ...    ...        ...   \n",
       "58587         False               False  False    False  False      False   \n",
       "58588         False               False  False    False  False      False   \n",
       "58589         False               False  False    False  False      False   \n",
       "58590         False               False  False    False  False      False   \n",
       "58591         False               False  False    False  False      False   \n",
       "\n",
       "       ...  is_brake_assist  is_power_door_locks  is_central_locking  \\\n",
       "0      ...            False                False               False   \n",
       "1      ...            False                False               False   \n",
       "2      ...            False                False               False   \n",
       "3      ...            False                False               False   \n",
       "4      ...            False                False               False   \n",
       "...    ...              ...                  ...                 ...   \n",
       "58587  ...            False                False               False   \n",
       "58588  ...            False                False               False   \n",
       "58589  ...            False                False               False   \n",
       "58590  ...            False                False               False   \n",
       "58591  ...            False                False               False   \n",
       "\n",
       "       is_power_steering  is_driver_seat_height_adjustable  \\\n",
       "0                  False                             False   \n",
       "1                  False                             False   \n",
       "2                  False                             False   \n",
       "3                  False                             False   \n",
       "4                  False                             False   \n",
       "...                  ...                               ...   \n",
       "58587              False                             False   \n",
       "58588              False                             False   \n",
       "58589              False                             False   \n",
       "58590              False                             False   \n",
       "58591              False                             False   \n",
       "\n",
       "       is_day_night_rear_view_mirror  is_ecw  is_speed_alert  ncap_rating  \\\n",
       "0                              False   False           False        False   \n",
       "1                              False   False           False        False   \n",
       "2                              False   False           False        False   \n",
       "3                              False   False           False        False   \n",
       "4                              False   False           False        False   \n",
       "...                              ...     ...             ...          ...   \n",
       "58587                          False   False           False        False   \n",
       "58588                          False   False           False        False   \n",
       "58589                          False   False           False        False   \n",
       "58590                          False   False           False        False   \n",
       "58591                          False   False           False        False   \n",
       "\n",
       "       is_claim  \n",
       "0         False  \n",
       "1         False  \n",
       "2         False  \n",
       "3         False  \n",
       "4         False  \n",
       "...         ...  \n",
       "58587     False  \n",
       "58588     False  \n",
       "58589     False  \n",
       "58590     False  \n",
       "58591     False  \n",
       "\n",
       "[58592 rows x 44 columns]"
      ]
     },
     "execution_count": 163,
     "metadata": {},
     "output_type": "execute_result"
    }
   ],
   "source": [
    "train_df.isna()"
   ]
  },
  {
   "cell_type": "code",
   "execution_count": null,
   "metadata": {
    "colab": {
     "base_uri": "https://localhost:8080/"
    },
    "executionInfo": {
     "elapsed": 626,
     "status": "ok",
     "timestamp": 1683873406278,
     "user": {
      "displayName": "Tin Liman",
      "userId": "01796335397974011301"
     },
     "user_tz": 420
    },
    "id": "ce-dhG8Q-zoX",
    "outputId": "cb0027bf-843e-4333-d41c-4af327dae114"
   },
   "outputs": [
    {
     "data": {
      "text/plain": [
       "policy_id                           0\n",
       "policy_tenure                       0\n",
       "steering_type                       0\n",
       "turning_radius                      0\n",
       "length                              0\n",
       "width                               0\n",
       "height                              0\n",
       "gross_weight                        0\n",
       "is_front_fog_lights                 0\n",
       "is_rear_window_wiper                0\n",
       "is_rear_window_washer               0\n",
       "is_rear_window_defogger             0\n",
       "is_brake_assist                     0\n",
       "is_power_door_locks                 0\n",
       "is_central_locking                  0\n",
       "is_power_steering                   0\n",
       "is_driver_seat_height_adjustable    0\n",
       "is_day_night_rear_view_mirror       0\n",
       "is_ecw                              0\n",
       "is_speed_alert                      0\n",
       "ncap_rating                         0\n",
       "gear_box                            0\n",
       "transmission_type                   0\n",
       "cylinder                            0\n",
       "max_torque                          0\n",
       "age_of_car                          0\n",
       "age_of_policyholder                 0\n",
       "area_cluster                        0\n",
       "population_density                  0\n",
       "make                                0\n",
       "segment                             0\n",
       "model                               0\n",
       "fuel_type                           0\n",
       "max_power                           0\n",
       "displacement                        0\n",
       "engine_type                         0\n",
       "airbags                             0\n",
       "is_esc                              0\n",
       "is_adjustable_steering              0\n",
       "is_tpms                             0\n",
       "is_parking_sensors                  0\n",
       "is_parking_camera                   0\n",
       "rear_brakes_type                    0\n",
       "is_claim                            0\n",
       "dtype: int64"
      ]
     },
     "execution_count": 164,
     "metadata": {},
     "output_type": "execute_result"
    }
   ],
   "source": [
    "train_df.isna().sum().sort_values(ascending= False)"
   ]
  },
  {
   "cell_type": "code",
   "execution_count": null,
   "metadata": {
    "colab": {
     "base_uri": "https://localhost:8080/"
    },
    "executionInfo": {
     "elapsed": 236,
     "status": "ok",
     "timestamp": 1683873412287,
     "user": {
      "displayName": "Tin Liman",
      "userId": "01796335397974011301"
     },
     "user_tz": 420
    },
    "id": "UVEjW_PG-zrf",
    "outputId": "a6ec004c-fa58-4186-c5c6-8d3ca6042224"
   },
   "outputs": [
    {
     "data": {
      "text/plain": [
       "policy_id                           58592\n",
       "policy_tenure                       58592\n",
       "age_of_car                             49\n",
       "age_of_policyholder                    75\n",
       "area_cluster                           22\n",
       "population_density                     22\n",
       "make                                    5\n",
       "segment                                 6\n",
       "model                                  11\n",
       "fuel_type                               3\n",
       "max_torque                              9\n",
       "max_power                               9\n",
       "engine_type                            11\n",
       "airbags                                 3\n",
       "is_esc                                  2\n",
       "is_adjustable_steering                  2\n",
       "is_tpms                                 2\n",
       "is_parking_sensors                      2\n",
       "is_parking_camera                       2\n",
       "rear_brakes_type                        2\n",
       "displacement                            9\n",
       "cylinder                                2\n",
       "transmission_type                       2\n",
       "gear_box                                2\n",
       "steering_type                           3\n",
       "turning_radius                          9\n",
       "length                                  9\n",
       "width                                  10\n",
       "height                                 11\n",
       "gross_weight                           10\n",
       "is_front_fog_lights                     2\n",
       "is_rear_window_wiper                    2\n",
       "is_rear_window_washer                   2\n",
       "is_rear_window_defogger                 2\n",
       "is_brake_assist                         2\n",
       "is_power_door_locks                     2\n",
       "is_central_locking                      2\n",
       "is_power_steering                       2\n",
       "is_driver_seat_height_adjustable        2\n",
       "is_day_night_rear_view_mirror           2\n",
       "is_ecw                                  2\n",
       "is_speed_alert                          2\n",
       "ncap_rating                             5\n",
       "is_claim                                2\n",
       "dtype: int64"
      ]
     },
     "execution_count": 165,
     "metadata": {},
     "output_type": "execute_result"
    }
   ],
   "source": [
    "train_df.nunique()"
   ]
  },
  {
   "cell_type": "markdown",
   "metadata": {
    "id": "0DA-xACfkuBn"
   },
   "source": [
    "Observations about the training data:\n",
    "\n",
    "* 55,892 rows total included.\n",
    "* No missing data (according to the value counts)\n",
    "\n"
   ]
  },
  {
   "cell_type": "markdown",
   "metadata": {
    "id": "dx8yaJ_umHwK"
   },
   "source": [
    "### Test Set"
   ]
  },
  {
   "cell_type": "code",
   "execution_count": null,
   "metadata": {
    "id": "EgQnXfQImU6p"
   },
   "outputs": [],
   "source": [
    "test_df=pd.read_csv('/content/carinsuranceclaimprediction-classification/test.csv')"
   ]
  },
  {
   "cell_type": "code",
   "execution_count": null,
   "metadata": {
    "colab": {
     "base_uri": "https://localhost:8080/"
    },
    "executionInfo": {
     "elapsed": 251,
     "status": "ok",
     "timestamp": 1683873426801,
     "user": {
      "displayName": "Tin Liman",
      "userId": "01796335397974011301"
     },
     "user_tz": 420
    },
    "id": "2rJMQ-aSBP5f",
    "outputId": "054eb536-594d-460c-b390-71a753f91730"
   },
   "outputs": [
    {
     "name": "stdout",
     "output_type": "stream",
     "text": [
      "<class 'pandas.core.frame.DataFrame'>\n",
      "RangeIndex: 39063 entries, 0 to 39062\n",
      "Data columns (total 43 columns):\n",
      " #   Column                            Non-Null Count  Dtype  \n",
      "---  ------                            --------------  -----  \n",
      " 0   policy_id                         39063 non-null  object \n",
      " 1   policy_tenure                     39063 non-null  float64\n",
      " 2   age_of_car                        39063 non-null  float64\n",
      " 3   age_of_policyholder               39063 non-null  float64\n",
      " 4   area_cluster                      39063 non-null  object \n",
      " 5   population_density                39063 non-null  int64  \n",
      " 6   make                              39063 non-null  int64  \n",
      " 7   segment                           39063 non-null  object \n",
      " 8   model                             39063 non-null  object \n",
      " 9   fuel_type                         39063 non-null  object \n",
      " 10  max_torque                        39063 non-null  object \n",
      " 11  max_power                         39063 non-null  object \n",
      " 12  engine_type                       39063 non-null  object \n",
      " 13  airbags                           39063 non-null  int64  \n",
      " 14  is_esc                            39063 non-null  object \n",
      " 15  is_adjustable_steering            39063 non-null  object \n",
      " 16  is_tpms                           39063 non-null  object \n",
      " 17  is_parking_sensors                39063 non-null  object \n",
      " 18  is_parking_camera                 39063 non-null  object \n",
      " 19  rear_brakes_type                  39063 non-null  object \n",
      " 20  displacement                      39063 non-null  int64  \n",
      " 21  cylinder                          39063 non-null  int64  \n",
      " 22  transmission_type                 39063 non-null  object \n",
      " 23  gear_box                          39063 non-null  int64  \n",
      " 24  steering_type                     39063 non-null  object \n",
      " 25  turning_radius                    39063 non-null  float64\n",
      " 26  length                            39063 non-null  int64  \n",
      " 27  width                             39063 non-null  int64  \n",
      " 28  height                            39063 non-null  int64  \n",
      " 29  gross_weight                      39063 non-null  int64  \n",
      " 30  is_front_fog_lights               39063 non-null  object \n",
      " 31  is_rear_window_wiper              39063 non-null  object \n",
      " 32  is_rear_window_washer             39063 non-null  object \n",
      " 33  is_rear_window_defogger           39063 non-null  object \n",
      " 34  is_brake_assist                   39063 non-null  object \n",
      " 35  is_power_door_locks               39063 non-null  object \n",
      " 36  is_central_locking                39063 non-null  object \n",
      " 37  is_power_steering                 39063 non-null  object \n",
      " 38  is_driver_seat_height_adjustable  39063 non-null  object \n",
      " 39  is_day_night_rear_view_mirror     39063 non-null  object \n",
      " 40  is_ecw                            39063 non-null  object \n",
      " 41  is_speed_alert                    39063 non-null  object \n",
      " 42  ncap_rating                       39063 non-null  int64  \n",
      "dtypes: float64(4), int64(11), object(28)\n",
      "memory usage: 12.8+ MB\n"
     ]
    }
   ],
   "source": [
    "test_df.info()"
   ]
  },
  {
   "cell_type": "code",
   "execution_count": null,
   "metadata": {
    "colab": {
     "base_uri": "https://localhost:8080/",
     "height": 364
    },
    "executionInfo": {
     "elapsed": 231,
     "status": "ok",
     "timestamp": 1683873431448,
     "user": {
      "displayName": "Tin Liman",
      "userId": "01796335397974011301"
     },
     "user_tz": 420
    },
    "id": "MLCk2KqvBP_e",
    "outputId": "1e42143a-65b6-456d-d54e-f95c19e8145f"
   },
   "outputs": [
    {
     "data": {
      "text/html": [
       "\n",
       "  <div id=\"df-e8546dfb-6d64-468c-babe-e9f5be0690b2\">\n",
       "    <div class=\"colab-df-container\">\n",
       "      <div>\n",
       "<style scoped>\n",
       "    .dataframe tbody tr th:only-of-type {\n",
       "        vertical-align: middle;\n",
       "    }\n",
       "\n",
       "    .dataframe tbody tr th {\n",
       "        vertical-align: top;\n",
       "    }\n",
       "\n",
       "    .dataframe thead th {\n",
       "        text-align: right;\n",
       "    }\n",
       "</style>\n",
       "<table border=\"1\" class=\"dataframe\">\n",
       "  <thead>\n",
       "    <tr style=\"text-align: right;\">\n",
       "      <th></th>\n",
       "      <th>policy_tenure</th>\n",
       "      <th>age_of_car</th>\n",
       "      <th>age_of_policyholder</th>\n",
       "      <th>population_density</th>\n",
       "      <th>make</th>\n",
       "      <th>airbags</th>\n",
       "      <th>displacement</th>\n",
       "      <th>cylinder</th>\n",
       "      <th>gear_box</th>\n",
       "      <th>turning_radius</th>\n",
       "      <th>length</th>\n",
       "      <th>width</th>\n",
       "      <th>height</th>\n",
       "      <th>gross_weight</th>\n",
       "      <th>ncap_rating</th>\n",
       "    </tr>\n",
       "  </thead>\n",
       "  <tbody>\n",
       "    <tr>\n",
       "      <th>count</th>\n",
       "      <td>39063.000000</td>\n",
       "      <td>39063.000000</td>\n",
       "      <td>39063.000000</td>\n",
       "      <td>39063.000000</td>\n",
       "      <td>39063.000000</td>\n",
       "      <td>39063.000000</td>\n",
       "      <td>39063.000000</td>\n",
       "      <td>39063.000000</td>\n",
       "      <td>39063.000000</td>\n",
       "      <td>39063.000000</td>\n",
       "      <td>39063.000000</td>\n",
       "      <td>39063.000000</td>\n",
       "      <td>39063.000000</td>\n",
       "      <td>39063.000000</td>\n",
       "      <td>39063.000000</td>\n",
       "    </tr>\n",
       "    <tr>\n",
       "      <th>mean</th>\n",
       "      <td>0.611304</td>\n",
       "      <td>0.069635</td>\n",
       "      <td>0.469087</td>\n",
       "      <td>18816.232496</td>\n",
       "      <td>1.763382</td>\n",
       "      <td>3.139672</td>\n",
       "      <td>1160.605842</td>\n",
       "      <td>3.620613</td>\n",
       "      <td>5.245782</td>\n",
       "      <td>4.853222</td>\n",
       "      <td>3849.328981</td>\n",
       "      <td>1671.774979</td>\n",
       "      <td>1553.033203</td>\n",
       "      <td>1384.501677</td>\n",
       "      <td>1.759235</td>\n",
       "    </tr>\n",
       "    <tr>\n",
       "      <th>std</th>\n",
       "      <td>0.415005</td>\n",
       "      <td>0.056854</td>\n",
       "      <td>0.122072</td>\n",
       "      <td>17651.942351</td>\n",
       "      <td>1.134112</td>\n",
       "      <td>1.831043</td>\n",
       "      <td>266.942754</td>\n",
       "      <td>0.485241</td>\n",
       "      <td>0.430556</td>\n",
       "      <td>0.228060</td>\n",
       "      <td>312.181174</td>\n",
       "      <td>111.973404</td>\n",
       "      <td>79.030425</td>\n",
       "      <td>212.724627</td>\n",
       "      <td>1.386689</td>\n",
       "    </tr>\n",
       "    <tr>\n",
       "      <th>min</th>\n",
       "      <td>0.002745</td>\n",
       "      <td>0.000000</td>\n",
       "      <td>0.288462</td>\n",
       "      <td>290.000000</td>\n",
       "      <td>1.000000</td>\n",
       "      <td>1.000000</td>\n",
       "      <td>796.000000</td>\n",
       "      <td>3.000000</td>\n",
       "      <td>5.000000</td>\n",
       "      <td>4.500000</td>\n",
       "      <td>3445.000000</td>\n",
       "      <td>1475.000000</td>\n",
       "      <td>1475.000000</td>\n",
       "      <td>1051.000000</td>\n",
       "      <td>0.000000</td>\n",
       "    </tr>\n",
       "    <tr>\n",
       "      <th>25%</th>\n",
       "      <td>0.208958</td>\n",
       "      <td>0.020000</td>\n",
       "      <td>0.375000</td>\n",
       "      <td>6112.000000</td>\n",
       "      <td>1.000000</td>\n",
       "      <td>2.000000</td>\n",
       "      <td>796.000000</td>\n",
       "      <td>3.000000</td>\n",
       "      <td>5.000000</td>\n",
       "      <td>4.600000</td>\n",
       "      <td>3445.000000</td>\n",
       "      <td>1515.000000</td>\n",
       "      <td>1475.000000</td>\n",
       "      <td>1185.000000</td>\n",
       "      <td>0.000000</td>\n",
       "    </tr>\n",
       "    <tr>\n",
       "      <th>50%</th>\n",
       "      <td>0.574078</td>\n",
       "      <td>0.060000</td>\n",
       "      <td>0.451923</td>\n",
       "      <td>8794.000000</td>\n",
       "      <td>1.000000</td>\n",
       "      <td>2.000000</td>\n",
       "      <td>1197.000000</td>\n",
       "      <td>4.000000</td>\n",
       "      <td>5.000000</td>\n",
       "      <td>4.800000</td>\n",
       "      <td>3845.000000</td>\n",
       "      <td>1735.000000</td>\n",
       "      <td>1530.000000</td>\n",
       "      <td>1335.000000</td>\n",
       "      <td>2.000000</td>\n",
       "    </tr>\n",
       "    <tr>\n",
       "      <th>75%</th>\n",
       "      <td>1.040936</td>\n",
       "      <td>0.110000</td>\n",
       "      <td>0.548077</td>\n",
       "      <td>27003.000000</td>\n",
       "      <td>3.000000</td>\n",
       "      <td>6.000000</td>\n",
       "      <td>1493.000000</td>\n",
       "      <td>4.000000</td>\n",
       "      <td>5.000000</td>\n",
       "      <td>5.000000</td>\n",
       "      <td>3995.000000</td>\n",
       "      <td>1755.000000</td>\n",
       "      <td>1635.000000</td>\n",
       "      <td>1510.000000</td>\n",
       "      <td>3.000000</td>\n",
       "    </tr>\n",
       "    <tr>\n",
       "      <th>max</th>\n",
       "      <td>1.391398</td>\n",
       "      <td>1.000000</td>\n",
       "      <td>0.990385</td>\n",
       "      <td>73430.000000</td>\n",
       "      <td>5.000000</td>\n",
       "      <td>6.000000</td>\n",
       "      <td>1498.000000</td>\n",
       "      <td>4.000000</td>\n",
       "      <td>6.000000</td>\n",
       "      <td>5.200000</td>\n",
       "      <td>4300.000000</td>\n",
       "      <td>1811.000000</td>\n",
       "      <td>1825.000000</td>\n",
       "      <td>1720.000000</td>\n",
       "      <td>5.000000</td>\n",
       "    </tr>\n",
       "  </tbody>\n",
       "</table>\n",
       "</div>\n",
       "      <button class=\"colab-df-convert\" onclick=\"convertToInteractive('df-e8546dfb-6d64-468c-babe-e9f5be0690b2')\"\n",
       "              title=\"Convert this dataframe to an interactive table.\"\n",
       "              style=\"display:none;\">\n",
       "        \n",
       "  <svg xmlns=\"http://www.w3.org/2000/svg\" height=\"24px\"viewBox=\"0 0 24 24\"\n",
       "       width=\"24px\">\n",
       "    <path d=\"M0 0h24v24H0V0z\" fill=\"none\"/>\n",
       "    <path d=\"M18.56 5.44l.94 2.06.94-2.06 2.06-.94-2.06-.94-.94-2.06-.94 2.06-2.06.94zm-11 1L8.5 8.5l.94-2.06 2.06-.94-2.06-.94L8.5 2.5l-.94 2.06-2.06.94zm10 10l.94 2.06.94-2.06 2.06-.94-2.06-.94-.94-2.06-.94 2.06-2.06.94z\"/><path d=\"M17.41 7.96l-1.37-1.37c-.4-.4-.92-.59-1.43-.59-.52 0-1.04.2-1.43.59L10.3 9.45l-7.72 7.72c-.78.78-.78 2.05 0 2.83L4 21.41c.39.39.9.59 1.41.59.51 0 1.02-.2 1.41-.59l7.78-7.78 2.81-2.81c.8-.78.8-2.07 0-2.86zM5.41 20L4 18.59l7.72-7.72 1.47 1.35L5.41 20z\"/>\n",
       "  </svg>\n",
       "      </button>\n",
       "      \n",
       "  <style>\n",
       "    .colab-df-container {\n",
       "      display:flex;\n",
       "      flex-wrap:wrap;\n",
       "      gap: 12px;\n",
       "    }\n",
       "\n",
       "    .colab-df-convert {\n",
       "      background-color: #E8F0FE;\n",
       "      border: none;\n",
       "      border-radius: 50%;\n",
       "      cursor: pointer;\n",
       "      display: none;\n",
       "      fill: #1967D2;\n",
       "      height: 32px;\n",
       "      padding: 0 0 0 0;\n",
       "      width: 32px;\n",
       "    }\n",
       "\n",
       "    .colab-df-convert:hover {\n",
       "      background-color: #E2EBFA;\n",
       "      box-shadow: 0px 1px 2px rgba(60, 64, 67, 0.3), 0px 1px 3px 1px rgba(60, 64, 67, 0.15);\n",
       "      fill: #174EA6;\n",
       "    }\n",
       "\n",
       "    [theme=dark] .colab-df-convert {\n",
       "      background-color: #3B4455;\n",
       "      fill: #D2E3FC;\n",
       "    }\n",
       "\n",
       "    [theme=dark] .colab-df-convert:hover {\n",
       "      background-color: #434B5C;\n",
       "      box-shadow: 0px 1px 3px 1px rgba(0, 0, 0, 0.15);\n",
       "      filter: drop-shadow(0px 1px 2px rgba(0, 0, 0, 0.3));\n",
       "      fill: #FFFFFF;\n",
       "    }\n",
       "  </style>\n",
       "\n",
       "      <script>\n",
       "        const buttonEl =\n",
       "          document.querySelector('#df-e8546dfb-6d64-468c-babe-e9f5be0690b2 button.colab-df-convert');\n",
       "        buttonEl.style.display =\n",
       "          google.colab.kernel.accessAllowed ? 'block' : 'none';\n",
       "\n",
       "        async function convertToInteractive(key) {\n",
       "          const element = document.querySelector('#df-e8546dfb-6d64-468c-babe-e9f5be0690b2');\n",
       "          const dataTable =\n",
       "            await google.colab.kernel.invokeFunction('convertToInteractive',\n",
       "                                                     [key], {});\n",
       "          if (!dataTable) return;\n",
       "\n",
       "          const docLinkHtml = 'Like what you see? Visit the ' +\n",
       "            '<a target=\"_blank\" href=https://colab.research.google.com/notebooks/data_table.ipynb>data table notebook</a>'\n",
       "            + ' to learn more about interactive tables.';\n",
       "          element.innerHTML = '';\n",
       "          dataTable['output_type'] = 'display_data';\n",
       "          await google.colab.output.renderOutput(dataTable, element);\n",
       "          const docLink = document.createElement('div');\n",
       "          docLink.innerHTML = docLinkHtml;\n",
       "          element.appendChild(docLink);\n",
       "        }\n",
       "      </script>\n",
       "    </div>\n",
       "  </div>\n",
       "  "
      ],
      "text/plain": [
       "       policy_tenure    age_of_car  age_of_policyholder  population_density  \\\n",
       "count   39063.000000  39063.000000         39063.000000        39063.000000   \n",
       "mean        0.611304      0.069635             0.469087        18816.232496   \n",
       "std         0.415005      0.056854             0.122072        17651.942351   \n",
       "min         0.002745      0.000000             0.288462          290.000000   \n",
       "25%         0.208958      0.020000             0.375000         6112.000000   \n",
       "50%         0.574078      0.060000             0.451923         8794.000000   \n",
       "75%         1.040936      0.110000             0.548077        27003.000000   \n",
       "max         1.391398      1.000000             0.990385        73430.000000   \n",
       "\n",
       "               make       airbags  displacement      cylinder      gear_box  \\\n",
       "count  39063.000000  39063.000000  39063.000000  39063.000000  39063.000000   \n",
       "mean       1.763382      3.139672   1160.605842      3.620613      5.245782   \n",
       "std        1.134112      1.831043    266.942754      0.485241      0.430556   \n",
       "min        1.000000      1.000000    796.000000      3.000000      5.000000   \n",
       "25%        1.000000      2.000000    796.000000      3.000000      5.000000   \n",
       "50%        1.000000      2.000000   1197.000000      4.000000      5.000000   \n",
       "75%        3.000000      6.000000   1493.000000      4.000000      5.000000   \n",
       "max        5.000000      6.000000   1498.000000      4.000000      6.000000   \n",
       "\n",
       "       turning_radius        length         width        height  gross_weight  \\\n",
       "count    39063.000000  39063.000000  39063.000000  39063.000000  39063.000000   \n",
       "mean         4.853222   3849.328981   1671.774979   1553.033203   1384.501677   \n",
       "std          0.228060    312.181174    111.973404     79.030425    212.724627   \n",
       "min          4.500000   3445.000000   1475.000000   1475.000000   1051.000000   \n",
       "25%          4.600000   3445.000000   1515.000000   1475.000000   1185.000000   \n",
       "50%          4.800000   3845.000000   1735.000000   1530.000000   1335.000000   \n",
       "75%          5.000000   3995.000000   1755.000000   1635.000000   1510.000000   \n",
       "max          5.200000   4300.000000   1811.000000   1825.000000   1720.000000   \n",
       "\n",
       "        ncap_rating  \n",
       "count  39063.000000  \n",
       "mean       1.759235  \n",
       "std        1.386689  \n",
       "min        0.000000  \n",
       "25%        0.000000  \n",
       "50%        2.000000  \n",
       "75%        3.000000  \n",
       "max        5.000000  "
      ]
     },
     "execution_count": 168,
     "metadata": {},
     "output_type": "execute_result"
    }
   ],
   "source": [
    "test_df.describe()"
   ]
  },
  {
   "cell_type": "markdown",
   "metadata": {
    "id": "TeV6FKWWmxs3"
   },
   "source": [
    "### Exploratory Data Analysis and Visualization"
   ]
  },
  {
   "cell_type": "code",
   "execution_count": null,
   "metadata": {
    "id": "mk7k1TcdBQU1"
   },
   "outputs": [],
   "source": [
    "import pandas as pd\n",
    "import numpy as np\n",
    "import matplotlib\n",
    "import matplotlib.pyplot as plt\n",
    "import seaborn as sns\n",
    "import plotly.express as px\n",
    "%matplotlib inline"
   ]
  },
  {
   "cell_type": "code",
   "execution_count": null,
   "metadata": {
    "id": "TvmDElJlm0Ag"
   },
   "outputs": [],
   "source": [
    "sns.set_style('darkgrid')\n",
    "matplotlib.rcParams['font.size']=12\n",
    "matplotlib.rcParams['figure.figsize']= (12,6)\n",
    "matplotlib.rcParams['figure.facecolor']= '#00000000'"
   ]
  },
  {
   "cell_type": "markdown",
   "metadata": {
    "id": "67P-E5q4MWDC"
   },
   "source": [
    "#### Exploration for Car's Segment Comparison"
   ]
  },
  {
   "cell_type": "code",
   "execution_count": null,
   "metadata": {
    "colab": {
     "base_uri": "https://localhost:8080/",
     "height": 718
    },
    "executionInfo": {
     "elapsed": 2505,
     "status": "ok",
     "timestamp": 1683959635884,
     "user": {
      "displayName": "Tin Liman",
      "userId": "01796335397974011301"
     },
     "user_tz": 420
    },
    "id": "8YMn_sVcNfxb",
    "outputId": "db93d693-e26c-4bf0-f56a-8262afe4a980"
   },
   "outputs": [
    {
     "data": {
      "image/png": "[encoded data removed]",
      "text/plain": [
       "<Figure size 1700x800 with 1 Axes>"
      ]
     },
     "metadata": {},
     "output_type": "display_data"
    }
   ],
   "source": [
    "plt.figure(figsize=(17,8))\n",
    "sns.barplot(x='segment', y='is_claim', data=train_df).set(title='Segment Comparison');"
   ]
  },
  {
   "cell_type": "markdown",
   "metadata": {
    "id": "de180bYohuYS"
   },
   "source": [
    "The most frequest Segment of the car in the claims will be B2 and C2 based on the bar graphs. ( this is the parts of the car)"
   ]
  },
  {
   "cell_type": "markdown",
   "metadata": {
    "id": "RuSwykSfMlHB"
   },
   "source": [
    "#### Counts Of Manufacturer"
   ]
  },
  {
   "cell_type": "code",
   "execution_count": null,
   "metadata": {
    "colab": {
     "base_uri": "https://localhost:8080/",
     "height": 923
    },
    "executionInfo": {
     "elapsed": 2420,
     "status": "ok",
     "timestamp": 1683872597418,
     "user": {
      "displayName": "Tin Liman",
      "userId": "01796335397974011301"
     },
     "user_tz": 420
    },
    "id": "0ewiq5byoIUW",
    "outputId": "df17e61a-3f08-479f-9a2f-ecc3e93cb1b4"
   },
   "outputs": [
    {
     "name": "stderr",
     "output_type": "stream",
     "text": [
      "<ipython-input-95-a249672f3ee8>:2: UserWarning: \n",
      "\n",
      "`distplot` is a deprecated function and will be removed in seaborn v0.14.0.\n",
      "\n",
      "Please adapt your code to use either `displot` (a figure-level function with\n",
      "similar flexibility) or `histplot` (an axes-level function for histograms).\n",
      "\n",
      "For a guide to updating your code to use the new functions, please see\n",
      "https://gist.github.com/mwaskom/de44147ed2974457ad6372750bbe5751\n",
      "\n",
      "  sns.distplot(train_df['make'], kde=True, bins=15).set(title='Counts of Manufacturer/company of the car');\n"
     ]
    },
    {
     "data": {
      "image/png": "[encoded data removed]",
      "text/plain": [
       "<Figure size 1700x800 with 1 Axes>"
      ]
     },
     "metadata": {},
     "output_type": "display_data"
    }
   ],
   "source": [
    "plt.figure(figsize=(17,8))\n",
    "sns.distplot(train_df['make'], kde=True, bins=15).set(title='Counts of Manufacturer/company of the car');"
   ]
  },
  {
   "cell_type": "markdown",
   "metadata": {
    "id": "_hjv-jyyh3SC"
   },
   "source": [
    "Car make and model: Obvisously the highest number is the first car manufacturer in this graph. Expensive cars tend to cost more to insure than cheaper models."
   ]
  },
  {
   "cell_type": "markdown",
   "metadata": {
    "id": "qcQp5HEahvhy"
   },
   "source": [
    "### Ask & Answer Questions\n",
    "\n",
    "Ask & answer questions about the dataset:\n",
    "\n",
    "\n",
    "\n",
    "\n",
    "\n",
    "EDA + asking questions will help you develop a deeper understand of the data and give you ideas for feature engineering."
   ]
  },
  {
   "cell_type": "markdown",
   "metadata": {
    "id": "pGzn0OQb6VDK"
   },
   "source": [
    "***Question 1: Does the population affect the car accident ?***"
   ]
  },
  {
   "cell_type": "code",
   "execution_count": null,
   "metadata": {
    "colab": {
     "base_uri": "https://localhost:8080/",
     "height": 727
    },
    "executionInfo": {
     "elapsed": 2038,
     "status": "ok",
     "timestamp": 1683872621616,
     "user": {
      "displayName": "Tin Liman",
      "userId": "01796335397974011301"
     },
     "user_tz": 420
    },
    "id": "WFFtpPtuoIfP",
    "outputId": "2faa8d4f-a5a4-4d8f-e424-be29fec87ec5"
   },
   "outputs": [
    {
     "data": {
      "image/png": "[encoded data removed]",
      "text/plain": [
       "<Figure size 1700x800 with 1 Axes>"
      ]
     },
     "metadata": {},
     "output_type": "display_data"
    }
   ],
   "source": [
    "plt.figure(figsize=(17,8))\n",
    "sns.boxplot(x='population_density',data= train_df).set(title='Population');"
   ]
  },
  {
   "cell_type": "markdown",
   "metadata": {
    "id": "6rYgHt5cm0QH"
   },
   "source": [
    "Location of the car: Drivers in high-risk locations (e.g., major cities) typically pay more for car insurance than those living in rural areas. Seems like the range will be in between 10000 to 28000 range."
   ]
  },
  {
   "cell_type": "markdown",
   "metadata": {
    "id": "LdeK4k04AoAA"
   },
   "source": [
    "***Question 2: What is the relationship between the age of car and the age of policyholder?***"
   ]
  },
  {
   "cell_type": "code",
   "execution_count": null,
   "metadata": {
    "colab": {
     "base_uri": "https://localhost:8080/",
     "height": 746
    },
    "executionInfo": {
     "elapsed": 5527,
     "status": "ok",
     "timestamp": 1683872645331,
     "user": {
      "displayName": "Tin Liman",
      "userId": "01796335397974011301"
     },
     "user_tz": 420
    },
    "id": "ANnIMRLQm_wV",
    "outputId": "0fc61e92-8750-46d7-cb7e-f1044195faed"
   },
   "outputs": [
    {
     "data": {
      "image/png": "[encoded data removed]",
      "text/plain": [
       "<Figure size 1700x800 with 1 Axes>"
      ]
     },
     "metadata": {},
     "output_type": "display_data"
    }
   ],
   "source": [
    "plt.figure(figsize=(17,8))\n",
    "sns.barplot(x='age_of_car', y='age_of_policyholder', data=train_df).set(title='Car vs. Policyholder Age')\n",
    "plt.xticks(rotation=90)\n",
    "plt.show();"
   ]
  },
  {
   "cell_type": "markdown",
   "metadata": {
    "id": "F1Np-Lrch4cN"
   },
   "source": [
    "Age & gender of the driver: Age of policyholder and age of car doesnt' seem algin based on this graph. Young drivers and male drivers typically pay more for car insurance than their older/female counterparts."
   ]
  },
  {
   "cell_type": "markdown",
   "metadata": {
    "id": "nAVd-vLyBJP8"
   },
   "source": [
    "***Question 3: How the insurance company charge the insurance premium (based on the car, age or the area?***"
   ]
  },
  {
   "cell_type": "code",
   "execution_count": null,
   "metadata": {
    "colab": {
     "base_uri": "https://localhost:8080/",
     "height": 736
    },
    "executionInfo": {
     "elapsed": 2274,
     "status": "ok",
     "timestamp": 1683872667878,
     "user": {
      "displayName": "Tin Liman",
      "userId": "01796335397974011301"
     },
     "user_tz": 420
    },
    "id": "sOjZeEYIm_4Y",
    "outputId": "21d69b0f-547b-4a10-ac33-f8e94461d16f"
   },
   "outputs": [
    {
     "data": {
      "image/png": "[encoded data removed]",
      "text/plain": [
       "<Figure size 1700x800 with 1 Axes>"
      ]
     },
     "metadata": {},
     "output_type": "display_data"
    }
   ],
   "source": [
    "plt.figure(figsize=(17,8))\n",
    "sns.histplot(train_df['policy_tenure'],kde=True).set(title='Policy Period')\n",
    "plt.xticks(rotation=90);"
   ]
  },
  {
   "cell_type": "markdown",
   "metadata": {
    "id": "oZLHZc6th5M2"
   },
   "source": [
    "Driving record (e.g. number of speeding tickets, accidents, etc.): Drivers with a history of accidents or violations will likely pay more for car insurance than those with a clean record."
   ]
  },
  {
   "cell_type": "markdown",
   "metadata": {
    "id": "qY6BT1s4BisR"
   },
   "source": [
    "***Question 4: Is there any difference between the type of the fuel that was used?***"
   ]
  },
  {
   "cell_type": "code",
   "execution_count": null,
   "metadata": {
    "colab": {
     "base_uri": "https://localhost:8080/",
     "height": 727
    },
    "executionInfo": {
     "elapsed": 1994,
     "status": "ok",
     "timestamp": 1683872715833,
     "user": {
      "displayName": "Tin Liman",
      "userId": "01796335397974011301"
     },
     "user_tz": 420
    },
    "id": "jx7gUhwpoTu2",
    "outputId": "80f6c408-0600-4f00-f84b-e1aa3f65e16d"
   },
   "outputs": [
    {
     "data": {
      "image/png": "[encoded data removed]",
      "text/plain": [
       "<Figure size 1700x800 with 1 Axes>"
      ]
     },
     "metadata": {},
     "output_type": "display_data"
    }
   ],
   "source": [
    "plt.figure(figsize=(17,8))\n",
    "sns.histplot(train_df['fuel_type'], kde=True, bins=15).set(title='Fuel type of the car');"
   ]
  },
  {
   "cell_type": "markdown",
   "metadata": {
    "id": "_nxeUyRfh6N-"
   },
   "source": [
    "The type of the fuel of the cars in this case, doesn't really matter. The safety features that was being used in the car will be the major issue for causing the accients."
   ]
  },
  {
   "cell_type": "markdown",
   "metadata": {
    "id": "Bult2Fb-FX-s"
   },
   "source": [
    "***Question 5: How many claims were filled based on the popolation density and the area cluster?***"
   ]
  },
  {
   "cell_type": "code",
   "execution_count": null,
   "metadata": {
    "colab": {
     "base_uri": "https://localhost:8080/"
    },
    "executionInfo": {
     "elapsed": 244,
     "status": "ok",
     "timestamp": 1683872737385,
     "user": {
      "displayName": "Tin Liman",
      "userId": "01796335397974011301"
     },
     "user_tz": 420
    },
    "id": "5reFxbvooT_o",
    "outputId": "f3439daa-1700-4984-c8d3-fc1419d96ab8"
   },
   "outputs": [
    {
     "data": {
      "text/plain": [
       "0    43881\n",
       "1     2992\n",
       "Name: is_claim, dtype: int64"
      ]
     },
     "execution_count": 102,
     "metadata": {},
     "output_type": "execute_result"
    }
   ],
   "source": [
    "train_df.is_claim.value_counts()"
   ]
  },
  {
   "cell_type": "markdown",
   "metadata": {
    "id": "w53Hmc53ou9A"
   },
   "source": [
    "There are 3748 claims in this dataset."
   ]
  },
  {
   "cell_type": "code",
   "execution_count": null,
   "metadata": {
    "id": "mJ3qS4aAovcM"
   },
   "outputs": [],
   "source": [
    "count=train_df.groupby(['population_density', 'area_cluster', 'is_claim']).size().reset_index().rename(columns={0:'count'})"
   ]
  },
  {
   "cell_type": "code",
   "execution_count": null,
   "metadata": {
    "colab": {
     "base_uri": "https://localhost:8080/",
     "height": 1000
    },
    "executionInfo": {
     "elapsed": 1004,
     "status": "ok",
     "timestamp": 1683872805951,
     "user": {
      "displayName": "Tin Liman",
      "userId": "01796335397974011301"
     },
     "user_tz": 420
    },
    "id": "vkt-6fUwovlB",
    "outputId": "905ff0e5-992f-4ce6-bc5d-0ce12ff4fa34"
   },
   "outputs": [
    {
     "data": {
      "text/html": [
       "\n",
       "  <div id=\"df-89f581a9-0028-48d6-a16b-5295163a39c9\">\n",
       "    <div class=\"colab-df-container\">\n",
       "      <div>\n",
       "<style scoped>\n",
       "    .dataframe tbody tr th:only-of-type {\n",
       "        vertical-align: middle;\n",
       "    }\n",
       "\n",
       "    .dataframe tbody tr th {\n",
       "        vertical-align: top;\n",
       "    }\n",
       "\n",
       "    .dataframe thead th {\n",
       "        text-align: right;\n",
       "    }\n",
       "</style>\n",
       "<table border=\"1\" class=\"dataframe\">\n",
       "  <thead>\n",
       "    <tr style=\"text-align: right;\">\n",
       "      <th></th>\n",
       "      <th>population_density</th>\n",
       "      <th>area_cluster</th>\n",
       "      <th>is_claim</th>\n",
       "      <th>count</th>\n",
       "    </tr>\n",
       "  </thead>\n",
       "  <tbody>\n",
       "    <tr>\n",
       "      <th>0</th>\n",
       "      <td>290</td>\n",
       "      <td>C15</td>\n",
       "      <td>0</td>\n",
       "      <td>596</td>\n",
       "    </tr>\n",
       "    <tr>\n",
       "      <th>1</th>\n",
       "      <td>290</td>\n",
       "      <td>C15</td>\n",
       "      <td>1</td>\n",
       "      <td>29</td>\n",
       "    </tr>\n",
       "    <tr>\n",
       "      <th>2</th>\n",
       "      <td>3264</td>\n",
       "      <td>C21</td>\n",
       "      <td>0</td>\n",
       "      <td>276</td>\n",
       "    </tr>\n",
       "    <tr>\n",
       "      <th>3</th>\n",
       "      <td>3264</td>\n",
       "      <td>C21</td>\n",
       "      <td>1</td>\n",
       "      <td>23</td>\n",
       "    </tr>\n",
       "    <tr>\n",
       "      <th>4</th>\n",
       "      <td>4076</td>\n",
       "      <td>C3</td>\n",
       "      <td>0</td>\n",
       "      <td>4499</td>\n",
       "    </tr>\n",
       "    <tr>\n",
       "      <th>5</th>\n",
       "      <td>4076</td>\n",
       "      <td>C3</td>\n",
       "      <td>1</td>\n",
       "      <td>346</td>\n",
       "    </tr>\n",
       "    <tr>\n",
       "      <th>6</th>\n",
       "      <td>4990</td>\n",
       "      <td>C1</td>\n",
       "      <td>0</td>\n",
       "      <td>1116</td>\n",
       "    </tr>\n",
       "    <tr>\n",
       "      <th>7</th>\n",
       "      <td>4990</td>\n",
       "      <td>C1</td>\n",
       "      <td>1</td>\n",
       "      <td>62</td>\n",
       "    </tr>\n",
       "    <tr>\n",
       "      <th>8</th>\n",
       "      <td>5410</td>\n",
       "      <td>C13</td>\n",
       "      <td>0</td>\n",
       "      <td>2611</td>\n",
       "    </tr>\n",
       "    <tr>\n",
       "      <th>9</th>\n",
       "      <td>5410</td>\n",
       "      <td>C13</td>\n",
       "      <td>1</td>\n",
       "      <td>150</td>\n",
       "    </tr>\n",
       "    <tr>\n",
       "      <th>10</th>\n",
       "      <td>6108</td>\n",
       "      <td>C11</td>\n",
       "      <td>0</td>\n",
       "      <td>913</td>\n",
       "    </tr>\n",
       "    <tr>\n",
       "      <th>11</th>\n",
       "      <td>6108</td>\n",
       "      <td>C11</td>\n",
       "      <td>1</td>\n",
       "      <td>57</td>\n",
       "    </tr>\n",
       "    <tr>\n",
       "      <th>12</th>\n",
       "      <td>6112</td>\n",
       "      <td>C7</td>\n",
       "      <td>0</td>\n",
       "      <td>1655</td>\n",
       "    </tr>\n",
       "    <tr>\n",
       "      <th>13</th>\n",
       "      <td>6112</td>\n",
       "      <td>C7</td>\n",
       "      <td>1</td>\n",
       "      <td>93</td>\n",
       "    </tr>\n",
       "    <tr>\n",
       "      <th>14</th>\n",
       "      <td>7788</td>\n",
       "      <td>C14</td>\n",
       "      <td>0</td>\n",
       "      <td>2704</td>\n",
       "    </tr>\n",
       "    <tr>\n",
       "      <th>15</th>\n",
       "      <td>7788</td>\n",
       "      <td>C14</td>\n",
       "      <td>1</td>\n",
       "      <td>233</td>\n",
       "    </tr>\n",
       "    <tr>\n",
       "      <th>16</th>\n",
       "      <td>8794</td>\n",
       "      <td>C8</td>\n",
       "      <td>0</td>\n",
       "      <td>10133</td>\n",
       "    </tr>\n",
       "    <tr>\n",
       "      <th>17</th>\n",
       "      <td>8794</td>\n",
       "      <td>C8</td>\n",
       "      <td>1</td>\n",
       "      <td>756</td>\n",
       "    </tr>\n",
       "    <tr>\n",
       "      <th>18</th>\n",
       "      <td>13051</td>\n",
       "      <td>C6</td>\n",
       "      <td>0</td>\n",
       "      <td>660</td>\n",
       "    </tr>\n",
       "    <tr>\n",
       "      <th>19</th>\n",
       "      <td>13051</td>\n",
       "      <td>C6</td>\n",
       "      <td>1</td>\n",
       "      <td>46</td>\n",
       "    </tr>\n",
       "    <tr>\n",
       "      <th>20</th>\n",
       "      <td>16206</td>\n",
       "      <td>C16</td>\n",
       "      <td>0</td>\n",
       "      <td>303</td>\n",
       "    </tr>\n",
       "    <tr>\n",
       "      <th>21</th>\n",
       "      <td>16206</td>\n",
       "      <td>C16</td>\n",
       "      <td>1</td>\n",
       "      <td>22</td>\n",
       "    </tr>\n",
       "    <tr>\n",
       "      <th>22</th>\n",
       "      <td>16733</td>\n",
       "      <td>C22</td>\n",
       "      <td>0</td>\n",
       "      <td>147</td>\n",
       "    </tr>\n",
       "    <tr>\n",
       "      <th>23</th>\n",
       "      <td>16733</td>\n",
       "      <td>C22</td>\n",
       "      <td>1</td>\n",
       "      <td>12</td>\n",
       "    </tr>\n",
       "    <tr>\n",
       "      <th>24</th>\n",
       "      <td>17804</td>\n",
       "      <td>C9</td>\n",
       "      <td>0</td>\n",
       "      <td>2060</td>\n",
       "    </tr>\n",
       "    <tr>\n",
       "      <th>25</th>\n",
       "      <td>17804</td>\n",
       "      <td>C9</td>\n",
       "      <td>1</td>\n",
       "      <td>93</td>\n",
       "    </tr>\n",
       "    <tr>\n",
       "      <th>26</th>\n",
       "      <td>20905</td>\n",
       "      <td>C20</td>\n",
       "      <td>0</td>\n",
       "      <td>85</td>\n",
       "    </tr>\n",
       "    <tr>\n",
       "      <th>27</th>\n",
       "      <td>20905</td>\n",
       "      <td>C20</td>\n",
       "      <td>1</td>\n",
       "      <td>5</td>\n",
       "    </tr>\n",
       "    <tr>\n",
       "      <th>28</th>\n",
       "      <td>21622</td>\n",
       "      <td>C4</td>\n",
       "      <td>0</td>\n",
       "      <td>490</td>\n",
       "    </tr>\n",
       "    <tr>\n",
       "      <th>29</th>\n",
       "      <td>21622</td>\n",
       "      <td>C4</td>\n",
       "      <td>1</td>\n",
       "      <td>42</td>\n",
       "    </tr>\n",
       "    <tr>\n",
       "      <th>30</th>\n",
       "      <td>27003</td>\n",
       "      <td>C2</td>\n",
       "      <td>0</td>\n",
       "      <td>5473</td>\n",
       "    </tr>\n",
       "    <tr>\n",
       "      <th>31</th>\n",
       "      <td>27003</td>\n",
       "      <td>C2</td>\n",
       "      <td>1</td>\n",
       "      <td>426</td>\n",
       "    </tr>\n",
       "    <tr>\n",
       "      <th>32</th>\n",
       "      <td>27742</td>\n",
       "      <td>C19</td>\n",
       "      <td>0</td>\n",
       "      <td>703</td>\n",
       "    </tr>\n",
       "    <tr>\n",
       "      <th>33</th>\n",
       "      <td>27742</td>\n",
       "      <td>C19</td>\n",
       "      <td>1</td>\n",
       "      <td>65</td>\n",
       "    </tr>\n",
       "    <tr>\n",
       "      <th>34</th>\n",
       "      <td>34738</td>\n",
       "      <td>C5</td>\n",
       "      <td>0</td>\n",
       "      <td>5278</td>\n",
       "    </tr>\n",
       "    <tr>\n",
       "      <th>35</th>\n",
       "      <td>34738</td>\n",
       "      <td>C5</td>\n",
       "      <td>1</td>\n",
       "      <td>316</td>\n",
       "    </tr>\n",
       "    <tr>\n",
       "      <th>36</th>\n",
       "      <td>34791</td>\n",
       "      <td>C12</td>\n",
       "      <td>0</td>\n",
       "      <td>1224</td>\n",
       "    </tr>\n",
       "    <tr>\n",
       "      <th>37</th>\n",
       "      <td>34791</td>\n",
       "      <td>C12</td>\n",
       "      <td>1</td>\n",
       "      <td>67</td>\n",
       "    </tr>\n",
       "    <tr>\n",
       "      <th>38</th>\n",
       "      <td>35036</td>\n",
       "      <td>C18</td>\n",
       "      <td>0</td>\n",
       "      <td>169</td>\n",
       "    </tr>\n",
       "    <tr>\n",
       "      <th>39</th>\n",
       "      <td>35036</td>\n",
       "      <td>C18</td>\n",
       "      <td>1</td>\n",
       "      <td>22</td>\n",
       "    </tr>\n",
       "    <tr>\n",
       "      <th>40</th>\n",
       "      <td>65567</td>\n",
       "      <td>C17</td>\n",
       "      <td>0</td>\n",
       "      <td>367</td>\n",
       "    </tr>\n",
       "    <tr>\n",
       "      <th>41</th>\n",
       "      <td>65567</td>\n",
       "      <td>C17</td>\n",
       "      <td>1</td>\n",
       "      <td>16</td>\n",
       "    </tr>\n",
       "    <tr>\n",
       "      <th>42</th>\n",
       "      <td>73430</td>\n",
       "      <td>C10</td>\n",
       "      <td>0</td>\n",
       "      <td>2419</td>\n",
       "    </tr>\n",
       "    <tr>\n",
       "      <th>43</th>\n",
       "      <td>73430</td>\n",
       "      <td>C10</td>\n",
       "      <td>1</td>\n",
       "      <td>111</td>\n",
       "    </tr>\n",
       "  </tbody>\n",
       "</table>\n",
       "</div>\n",
       "      <button class=\"colab-df-convert\" onclick=\"convertToInteractive('df-89f581a9-0028-48d6-a16b-5295163a39c9')\"\n",
       "              title=\"Convert this dataframe to an interactive table.\"\n",
       "              style=\"display:none;\">\n",
       "        \n",
       "  <svg xmlns=\"http://www.w3.org/2000/svg\" height=\"24px\"viewBox=\"0 0 24 24\"\n",
       "       width=\"24px\">\n",
       "    <path d=\"M0 0h24v24H0V0z\" fill=\"none\"/>\n",
       "    <path d=\"M18.56 5.44l.94 2.06.94-2.06 2.06-.94-2.06-.94-.94-2.06-.94 2.06-2.06.94zm-11 1L8.5 8.5l.94-2.06 2.06-.94-2.06-.94L8.5 2.5l-.94 2.06-2.06.94zm10 10l.94 2.06.94-2.06 2.06-.94-2.06-.94-.94-2.06-.94 2.06-2.06.94z\"/><path d=\"M17.41 7.96l-1.37-1.37c-.4-.4-.92-.59-1.43-.59-.52 0-1.04.2-1.43.59L10.3 9.45l-7.72 7.72c-.78.78-.78 2.05 0 2.83L4 21.41c.39.39.9.59 1.41.59.51 0 1.02-.2 1.41-.59l7.78-7.78 2.81-2.81c.8-.78.8-2.07 0-2.86zM5.41 20L4 18.59l7.72-7.72 1.47 1.35L5.41 20z\"/>\n",
       "  </svg>\n",
       "      </button>\n",
       "      \n",
       "  <style>\n",
       "    .colab-df-container {\n",
       "      display:flex;\n",
       "      flex-wrap:wrap;\n",
       "      gap: 12px;\n",
       "    }\n",
       "\n",
       "    .colab-df-convert {\n",
       "      background-color: #E8F0FE;\n",
       "      border: none;\n",
       "      border-radius: 50%;\n",
       "      cursor: pointer;\n",
       "      display: none;\n",
       "      fill: #1967D2;\n",
       "      height: 32px;\n",
       "      padding: 0 0 0 0;\n",
       "      width: 32px;\n",
       "    }\n",
       "\n",
       "    .colab-df-convert:hover {\n",
       "      background-color: #E2EBFA;\n",
       "      box-shadow: 0px 1px 2px rgba(60, 64, 67, 0.3), 0px 1px 3px 1px rgba(60, 64, 67, 0.15);\n",
       "      fill: #174EA6;\n",
       "    }\n",
       "\n",
       "    [theme=dark] .colab-df-convert {\n",
       "      background-color: #3B4455;\n",
       "      fill: #D2E3FC;\n",
       "    }\n",
       "\n",
       "    [theme=dark] .colab-df-convert:hover {\n",
       "      background-color: #434B5C;\n",
       "      box-shadow: 0px 1px 3px 1px rgba(0, 0, 0, 0.15);\n",
       "      filter: drop-shadow(0px 1px 2px rgba(0, 0, 0, 0.3));\n",
       "      fill: #FFFFFF;\n",
       "    }\n",
       "  </style>\n",
       "\n",
       "      <script>\n",
       "        const buttonEl =\n",
       "          document.querySelector('#df-89f581a9-0028-48d6-a16b-5295163a39c9 button.colab-df-convert');\n",
       "        buttonEl.style.display =\n",
       "          google.colab.kernel.accessAllowed ? 'block' : 'none';\n",
       "\n",
       "        async function convertToInteractive(key) {\n",
       "          const element = document.querySelector('#df-89f581a9-0028-48d6-a16b-5295163a39c9');\n",
       "          const dataTable =\n",
       "            await google.colab.kernel.invokeFunction('convertToInteractive',\n",
       "                                                     [key], {});\n",
       "          if (!dataTable) return;\n",
       "\n",
       "          const docLinkHtml = 'Like what you see? Visit the ' +\n",
       "            '<a target=\"_blank\" href=https://colab.research.google.com/notebooks/data_table.ipynb>data table notebook</a>'\n",
       "            + ' to learn more about interactive tables.';\n",
       "          element.innerHTML = '';\n",
       "          dataTable['output_type'] = 'display_data';\n",
       "          await google.colab.output.renderOutput(dataTable, element);\n",
       "          const docLink = document.createElement('div');\n",
       "          docLink.innerHTML = docLinkHtml;\n",
       "          element.appendChild(docLink);\n",
       "        }\n",
       "      </script>\n",
       "    </div>\n",
       "  </div>\n",
       "  "
      ],
      "text/plain": [
       "    population_density area_cluster  is_claim  count\n",
       "0                  290          C15         0    596\n",
       "1                  290          C15         1     29\n",
       "2                 3264          C21         0    276\n",
       "3                 3264          C21         1     23\n",
       "4                 4076           C3         0   4499\n",
       "5                 4076           C3         1    346\n",
       "6                 4990           C1         0   1116\n",
       "7                 4990           C1         1     62\n",
       "8                 5410          C13         0   2611\n",
       "9                 5410          C13         1    150\n",
       "10                6108          C11         0    913\n",
       "11                6108          C11         1     57\n",
       "12                6112           C7         0   1655\n",
       "13                6112           C7         1     93\n",
       "14                7788          C14         0   2704\n",
       "15                7788          C14         1    233\n",
       "16                8794           C8         0  10133\n",
       "17                8794           C8         1    756\n",
       "18               13051           C6         0    660\n",
       "19               13051           C6         1     46\n",
       "20               16206          C16         0    303\n",
       "21               16206          C16         1     22\n",
       "22               16733          C22         0    147\n",
       "23               16733          C22         1     12\n",
       "24               17804           C9         0   2060\n",
       "25               17804           C9         1     93\n",
       "26               20905          C20         0     85\n",
       "27               20905          C20         1      5\n",
       "28               21622           C4         0    490\n",
       "29               21622           C4         1     42\n",
       "30               27003           C2         0   5473\n",
       "31               27003           C2         1    426\n",
       "32               27742          C19         0    703\n",
       "33               27742          C19         1     65\n",
       "34               34738           C5         0   5278\n",
       "35               34738           C5         1    316\n",
       "36               34791          C12         0   1224\n",
       "37               34791          C12         1     67\n",
       "38               35036          C18         0    169\n",
       "39               35036          C18         1     22\n",
       "40               65567          C17         0    367\n",
       "41               65567          C17         1     16\n",
       "42               73430          C10         0   2419\n",
       "43               73430          C10         1    111"
      ]
     },
     "execution_count": 104,
     "metadata": {},
     "output_type": "execute_result"
    }
   ],
   "source": [
    "count"
   ]
  },
  {
   "cell_type": "code",
   "execution_count": null,
   "metadata": {
    "colab": {
     "base_uri": "https://localhost:8080/",
     "height": 608
    },
    "executionInfo": {
     "elapsed": 3604,
     "status": "ok",
     "timestamp": 1683872842882,
     "user": {
      "displayName": "Tin Liman",
      "userId": "01796335397974011301"
     },
     "user_tz": 420
    },
    "id": "jF27b9W3pAQn",
    "outputId": "5a5a3668-6af6-4bc7-b9fb-6be694dadba0"
   },
   "outputs": [
    {
     "data": {
      "image/png": "[encoded data removed]",
      "text/plain": [
       "<Figure size 1800x600 with 1 Axes>"
      ]
     },
     "metadata": {},
     "output_type": "display_data"
    }
   ],
   "source": [
    "matplotlib.rcParams['figure.figsize']= (18,6)\n",
    "sns.barplot(x= 'population_density', y= 'count', data= count).set(title='Fraud Claim Counts per Population Density')\n",
    "plt.xticks(rotation=90)\n",
    "plt.show();"
   ]
  },
  {
   "cell_type": "markdown",
   "metadata": {
    "id": "nrp6cNc_h7bE"
   },
   "source": [
    "The claims usually filed more on the lower population counts. The population density doesn't really have the affect on the accients. The major cause for the accidents will be the number of years the driver has been driving and their driving records."
   ]
  },
  {
   "cell_type": "markdown",
   "metadata": {
    "id": "BVyqW8fLnAJ1"
   },
   "source": [
    "## 3. Prepare Dataset for Training\n",
    "\n",
    "* Split Training & Validation Set\n",
    "\n",
    "* Fill/Remove Missing Values\n",
    "\n",
    "* Extract Inputs & Outputs\n",
    "\n",
    "* Training\n",
    "\n",
    "* Validation\n",
    "\n",
    "* Test"
   ]
  },
  {
   "cell_type": "markdown",
   "metadata": {
    "id": "lVHffFRqnZvD"
   },
   "source": [
    "### Split Training & Validation Set\n",
    "\n",
    "We'll set aside 20% of the training data as the validation set, to evaluate the models we train on previously unseen data.\n",
    "\n",
    "Since the test set and training set have the same date ranges, we can pick a random 20% fraction."
   ]
  },
  {
   "cell_type": "code",
   "execution_count": null,
   "metadata": {
    "id": "kqd5E8y_nWkf"
   },
   "outputs": [],
   "source": [
    "from sklearn.model_selection import train_test_split"
   ]
  },
  {
   "cell_type": "code",
   "execution_count": null,
   "metadata": {
    "id": "5oHDynIKnel_"
   },
   "outputs": [],
   "source": [
    "train_df, val_df = train_test_split(train_df, test_size=0.2, random_state=42)"
   ]
  },
  {
   "cell_type": "code",
   "execution_count": null,
   "metadata": {
    "colab": {
     "base_uri": "https://localhost:8080/"
    },
    "executionInfo": {
     "elapsed": 3,
     "status": "ok",
     "timestamp": 1683093858779,
     "user": {
      "displayName": "Tin Liman",
      "userId": "01796335397974011301"
     },
     "user_tz": 420
    },
    "id": "CbShJ3zHneo1",
    "outputId": "192c46d7-14e6-46ae-a274-d3f61e629a62"
   },
   "outputs": [
    {
     "data": {
      "text/plain": [
       "(46873, 11719)"
      ]
     },
     "execution_count": 33,
     "metadata": {},
     "output_type": "execute_result"
    }
   ],
   "source": [
    "len(train_df), len(val_df)"
   ]
  },
  {
   "cell_type": "markdown",
   "metadata": {
    "id": "1IGaYe6Ontig"
   },
   "source": [
    "### Fill/Remove Missing Values\n",
    "\n",
    "There are no missing values in our sample, but if there were, we could simply drop the rows with missing values instead of trying to fill them (since we have a lot of training data)>"
   ]
  },
  {
   "cell_type": "code",
   "execution_count": null,
   "metadata": {
    "id": "NYOnx5bEnesl"
   },
   "outputs": [],
   "source": [
    "train_df = train_df.dropna()\n",
    "val_df = val_df.dropna()"
   ]
  },
  {
   "cell_type": "markdown",
   "metadata": {
    "id": "CNWUg_Btn10u"
   },
   "source": [
    "### Extract Inputs and Outputs"
   ]
  },
  {
   "cell_type": "code",
   "execution_count": null,
   "metadata": {
    "colab": {
     "base_uri": "https://localhost:8080/"
    },
    "executionInfo": {
     "elapsed": 290,
     "status": "ok",
     "timestamp": 1684105582918,
     "user": {
      "displayName": "Tin Liman",
      "userId": "01796335397974011301"
     },
     "user_tz": 420
    },
    "id": "N87AW0Gen2Nc",
    "outputId": "d814aa36-fd6a-4ffe-e836-dd342692ba51"
   },
   "outputs": [
    {
     "data": {
      "text/plain": [
       "Index(['policy_id', 'policy_tenure', 'age_of_car', 'age_of_policyholder',\n",
       "       'area_cluster', 'population_density', 'make', 'segment', 'model',\n",
       "       'fuel_type', 'max_torque', 'max_power', 'engine_type', 'airbags',\n",
       "       'is_esc', 'is_adjustable_steering', 'is_tpms', 'is_parking_sensors',\n",
       "       'is_parking_camera', 'rear_brakes_type', 'displacement', 'cylinder',\n",
       "       'transmission_type', 'gear_box', 'steering_type', 'turning_radius',\n",
       "       'length', 'width', 'height', 'gross_weight', 'is_front_fog_lights',\n",
       "       'is_rear_window_wiper', 'is_rear_window_washer',\n",
       "       'is_rear_window_defogger', 'is_brake_assist', 'is_power_door_locks',\n",
       "       'is_central_locking', 'is_power_steering',\n",
       "       'is_driver_seat_height_adjustable', 'is_day_night_rear_view_mirror',\n",
       "       'is_ecw', 'is_speed_alert', 'ncap_rating', 'is_claim', 'claim_counts'],\n",
       "      dtype='object')"
      ]
     },
     "execution_count": 22,
     "metadata": {},
     "output_type": "execute_result"
    }
   ],
   "source": [
    "train_df.columns"
   ]
  },
  {
   "cell_type": "code",
   "execution_count": null,
   "metadata": {
    "id": "s5VbdJxtn2Qj"
   },
   "outputs": [],
   "source": [
    "input_cols=['policy_tenure', 'age_of_car', 'age_of_policyholder',\n",
    "        'population_density','airbags','displacement','gear_box','turning_radius','ncap_rating']"
   ]
  },
  {
   "cell_type": "code",
   "execution_count": null,
   "metadata": {
    "id": "NTENlVWDn2Ta"
   },
   "outputs": [],
   "source": [
    "target_col= 'is_claim'"
   ]
  },
  {
   "cell_type": "markdown",
   "metadata": {
    "id": "t2maHoUFoYjV"
   },
   "source": [
    "#### Training"
   ]
  },
  {
   "cell_type": "code",
   "execution_count": null,
   "metadata": {
    "id": "XFP3fSrdn2ac"
   },
   "outputs": [],
   "source": [
    "train_inputs = train_df[input_cols]"
   ]
  },
  {
   "cell_type": "code",
   "execution_count": null,
   "metadata": {
    "id": "oXnRmSizofKh"
   },
   "outputs": [],
   "source": [
    "train_targets = train_df[target_col]"
   ]
  },
  {
   "cell_type": "code",
   "execution_count": null,
   "metadata": {
    "colab": {
     "base_uri": "https://localhost:8080/",
     "height": 424
    },
    "executionInfo": {
     "elapsed": 237,
     "status": "ok",
     "timestamp": 1684188885745,
     "user": {
      "displayName": "Tin Liman",
      "userId": "01796335397974011301"
     },
     "user_tz": 420
    },
    "id": "ZVga174GofNX",
    "outputId": "03deb88f-62ff-4a8a-e1cb-f51984d90cc8"
   },
   "outputs": [
    {
     "data": {
      "text/html": [
       "\n",
       "  <div id=\"df-f0c34603-0550-469c-b882-78c2be7e70cc\">\n",
       "    <div class=\"colab-df-container\">\n",
       "      <div>\n",
       "<style scoped>\n",
       "    .dataframe tbody tr th:only-of-type {\n",
       "        vertical-align: middle;\n",
       "    }\n",
       "\n",
       "    .dataframe tbody tr th {\n",
       "        vertical-align: top;\n",
       "    }\n",
       "\n",
       "    .dataframe thead th {\n",
       "        text-align: right;\n",
       "    }\n",
       "</style>\n",
       "<table border=\"1\" class=\"dataframe\">\n",
       "  <thead>\n",
       "    <tr style=\"text-align: right;\">\n",
       "      <th></th>\n",
       "      <th>policy_tenure</th>\n",
       "      <th>age_of_car</th>\n",
       "      <th>age_of_policyholder</th>\n",
       "      <th>population_density</th>\n",
       "      <th>airbags</th>\n",
       "      <th>displacement</th>\n",
       "      <th>gear_box</th>\n",
       "      <th>turning_radius</th>\n",
       "      <th>ncap_rating</th>\n",
       "    </tr>\n",
       "  </thead>\n",
       "  <tbody>\n",
       "    <tr>\n",
       "      <th>47804</th>\n",
       "      <td>1.010772</td>\n",
       "      <td>0.11</td>\n",
       "      <td>0.375000</td>\n",
       "      <td>34791</td>\n",
       "      <td>2</td>\n",
       "      <td>1197</td>\n",
       "      <td>5</td>\n",
       "      <td>4.8</td>\n",
       "      <td>2</td>\n",
       "    </tr>\n",
       "    <tr>\n",
       "      <th>55075</th>\n",
       "      <td>0.473653</td>\n",
       "      <td>0.05</td>\n",
       "      <td>0.548077</td>\n",
       "      <td>4076</td>\n",
       "      <td>2</td>\n",
       "      <td>796</td>\n",
       "      <td>5</td>\n",
       "      <td>4.6</td>\n",
       "      <td>0</td>\n",
       "    </tr>\n",
       "    <tr>\n",
       "      <th>45912</th>\n",
       "      <td>0.287461</td>\n",
       "      <td>0.06</td>\n",
       "      <td>0.586538</td>\n",
       "      <td>27742</td>\n",
       "      <td>2</td>\n",
       "      <td>796</td>\n",
       "      <td>5</td>\n",
       "      <td>4.6</td>\n",
       "      <td>0</td>\n",
       "    </tr>\n",
       "    <tr>\n",
       "      <th>29180</th>\n",
       "      <td>0.547799</td>\n",
       "      <td>0.08</td>\n",
       "      <td>0.721154</td>\n",
       "      <td>27003</td>\n",
       "      <td>2</td>\n",
       "      <td>1197</td>\n",
       "      <td>5</td>\n",
       "      <td>4.8</td>\n",
       "      <td>2</td>\n",
       "    </tr>\n",
       "    <tr>\n",
       "      <th>41933</th>\n",
       "      <td>1.140288</td>\n",
       "      <td>0.08</td>\n",
       "      <td>0.471154</td>\n",
       "      <td>17804</td>\n",
       "      <td>6</td>\n",
       "      <td>1493</td>\n",
       "      <td>6</td>\n",
       "      <td>5.2</td>\n",
       "      <td>3</td>\n",
       "    </tr>\n",
       "    <tr>\n",
       "      <th>...</th>\n",
       "      <td>...</td>\n",
       "      <td>...</td>\n",
       "      <td>...</td>\n",
       "      <td>...</td>\n",
       "      <td>...</td>\n",
       "      <td>...</td>\n",
       "      <td>...</td>\n",
       "      <td>...</td>\n",
       "      <td>...</td>\n",
       "    </tr>\n",
       "    <tr>\n",
       "      <th>54343</th>\n",
       "      <td>1.230162</td>\n",
       "      <td>0.19</td>\n",
       "      <td>0.451923</td>\n",
       "      <td>8794</td>\n",
       "      <td>6</td>\n",
       "      <td>1493</td>\n",
       "      <td>6</td>\n",
       "      <td>5.2</td>\n",
       "      <td>3</td>\n",
       "    </tr>\n",
       "    <tr>\n",
       "      <th>38158</th>\n",
       "      <td>0.445617</td>\n",
       "      <td>0.00</td>\n",
       "      <td>0.519231</td>\n",
       "      <td>4076</td>\n",
       "      <td>2</td>\n",
       "      <td>796</td>\n",
       "      <td>5</td>\n",
       "      <td>4.6</td>\n",
       "      <td>0</td>\n",
       "    </tr>\n",
       "    <tr>\n",
       "      <th>860</th>\n",
       "      <td>1.190469</td>\n",
       "      <td>0.13</td>\n",
       "      <td>0.326923</td>\n",
       "      <td>8794</td>\n",
       "      <td>2</td>\n",
       "      <td>1197</td>\n",
       "      <td>5</td>\n",
       "      <td>4.8</td>\n",
       "      <td>2</td>\n",
       "    </tr>\n",
       "    <tr>\n",
       "      <th>15795</th>\n",
       "      <td>0.023212</td>\n",
       "      <td>0.00</td>\n",
       "      <td>0.701923</td>\n",
       "      <td>34738</td>\n",
       "      <td>2</td>\n",
       "      <td>796</td>\n",
       "      <td>5</td>\n",
       "      <td>4.6</td>\n",
       "      <td>0</td>\n",
       "    </tr>\n",
       "    <tr>\n",
       "      <th>56422</th>\n",
       "      <td>0.233716</td>\n",
       "      <td>0.00</td>\n",
       "      <td>0.480769</td>\n",
       "      <td>73430</td>\n",
       "      <td>2</td>\n",
       "      <td>796</td>\n",
       "      <td>5</td>\n",
       "      <td>4.6</td>\n",
       "      <td>0</td>\n",
       "    </tr>\n",
       "  </tbody>\n",
       "</table>\n",
       "<p>46873 rows × 9 columns</p>\n",
       "</div>\n",
       "      <button class=\"colab-df-convert\" onclick=\"convertToInteractive('df-f0c34603-0550-469c-b882-78c2be7e70cc')\"\n",
       "              title=\"Convert this dataframe to an interactive table.\"\n",
       "              style=\"display:none;\">\n",
       "        \n",
       "  <svg xmlns=\"http://www.w3.org/2000/svg\" height=\"24px\"viewBox=\"0 0 24 24\"\n",
       "       width=\"24px\">\n",
       "    <path d=\"M0 0h24v24H0V0z\" fill=\"none\"/>\n",
       "    <path d=\"M18.56 5.44l.94 2.06.94-2.06 2.06-.94-2.06-.94-.94-2.06-.94 2.06-2.06.94zm-11 1L8.5 8.5l.94-2.06 2.06-.94-2.06-.94L8.5 2.5l-.94 2.06-2.06.94zm10 10l.94 2.06.94-2.06 2.06-.94-2.06-.94-.94-2.06-.94 2.06-2.06.94z\"/><path d=\"M17.41 7.96l-1.37-1.37c-.4-.4-.92-.59-1.43-.59-.52 0-1.04.2-1.43.59L10.3 9.45l-7.72 7.72c-.78.78-.78 2.05 0 2.83L4 21.41c.39.39.9.59 1.41.59.51 0 1.02-.2 1.41-.59l7.78-7.78 2.81-2.81c.8-.78.8-2.07 0-2.86zM5.41 20L4 18.59l7.72-7.72 1.47 1.35L5.41 20z\"/>\n",
       "  </svg>\n",
       "      </button>\n",
       "      \n",
       "  <style>\n",
       "    .colab-df-container {\n",
       "      display:flex;\n",
       "      flex-wrap:wrap;\n",
       "      gap: 12px;\n",
       "    }\n",
       "\n",
       "    .colab-df-convert {\n",
       "      background-color: #E8F0FE;\n",
       "      border: none;\n",
       "      border-radius: 50%;\n",
       "      cursor: pointer;\n",
       "      display: none;\n",
       "      fill: #1967D2;\n",
       "      height: 32px;\n",
       "      padding: 0 0 0 0;\n",
       "      width: 32px;\n",
       "    }\n",
       "\n",
       "    .colab-df-convert:hover {\n",
       "      background-color: #E2EBFA;\n",
       "      box-shadow: 0px 1px 2px rgba(60, 64, 67, 0.3), 0px 1px 3px 1px rgba(60, 64, 67, 0.15);\n",
       "      fill: #174EA6;\n",
       "    }\n",
       "\n",
       "    [theme=dark] .colab-df-convert {\n",
       "      background-color: #3B4455;\n",
       "      fill: #D2E3FC;\n",
       "    }\n",
       "\n",
       "    [theme=dark] .colab-df-convert:hover {\n",
       "      background-color: #434B5C;\n",
       "      box-shadow: 0px 1px 3px 1px rgba(0, 0, 0, 0.15);\n",
       "      filter: drop-shadow(0px 1px 2px rgba(0, 0, 0, 0.3));\n",
       "      fill: #FFFFFF;\n",
       "    }\n",
       "  </style>\n",
       "\n",
       "      <script>\n",
       "        const buttonEl =\n",
       "          document.querySelector('#df-f0c34603-0550-469c-b882-78c2be7e70cc button.colab-df-convert');\n",
       "        buttonEl.style.display =\n",
       "          google.colab.kernel.accessAllowed ? 'block' : 'none';\n",
       "\n",
       "        async function convertToInteractive(key) {\n",
       "          const element = document.querySelector('#df-f0c34603-0550-469c-b882-78c2be7e70cc');\n",
       "          const dataTable =\n",
       "            await google.colab.kernel.invokeFunction('convertToInteractive',\n",
       "                                                     [key], {});\n",
       "          if (!dataTable) return;\n",
       "\n",
       "          const docLinkHtml = 'Like what you see? Visit the ' +\n",
       "            '<a target=\"_blank\" href=https://colab.research.google.com/notebooks/data_table.ipynb>data table notebook</a>'\n",
       "            + ' to learn more about interactive tables.';\n",
       "          element.innerHTML = '';\n",
       "          dataTable['output_type'] = 'display_data';\n",
       "          await google.colab.output.renderOutput(dataTable, element);\n",
       "          const docLink = document.createElement('div');\n",
       "          docLink.innerHTML = docLinkHtml;\n",
       "          element.appendChild(docLink);\n",
       "        }\n",
       "      </script>\n",
       "    </div>\n",
       "  </div>\n",
       "  "
      ],
      "text/plain": [
       "       policy_tenure  age_of_car  age_of_policyholder  population_density  \\\n",
       "47804       1.010772        0.11             0.375000               34791   \n",
       "55075       0.473653        0.05             0.548077                4076   \n",
       "45912       0.287461        0.06             0.586538               27742   \n",
       "29180       0.547799        0.08             0.721154               27003   \n",
       "41933       1.140288        0.08             0.471154               17804   \n",
       "...              ...         ...                  ...                 ...   \n",
       "54343       1.230162        0.19             0.451923                8794   \n",
       "38158       0.445617        0.00             0.519231                4076   \n",
       "860         1.190469        0.13             0.326923                8794   \n",
       "15795       0.023212        0.00             0.701923               34738   \n",
       "56422       0.233716        0.00             0.480769               73430   \n",
       "\n",
       "       airbags  displacement  gear_box  turning_radius  ncap_rating  \n",
       "47804        2          1197         5             4.8            2  \n",
       "55075        2           796         5             4.6            0  \n",
       "45912        2           796         5             4.6            0  \n",
       "29180        2          1197         5             4.8            2  \n",
       "41933        6          1493         6             5.2            3  \n",
       "...        ...           ...       ...             ...          ...  \n",
       "54343        6          1493         6             5.2            3  \n",
       "38158        2           796         5             4.6            0  \n",
       "860          2          1197         5             4.8            2  \n",
       "15795        2           796         5             4.6            0  \n",
       "56422        2           796         5             4.6            0  \n",
       "\n",
       "[46873 rows x 9 columns]"
      ]
     },
     "execution_count": 15,
     "metadata": {},
     "output_type": "execute_result"
    }
   ],
   "source": [
    "train_inputs"
   ]
  },
  {
   "cell_type": "code",
   "execution_count": null,
   "metadata": {
    "colab": {
     "base_uri": "https://localhost:8080/"
    },
    "executionInfo": {
     "elapsed": 159,
     "status": "ok",
     "timestamp": 1685164912447,
     "user": {
      "displayName": "Tin Liman",
      "userId": "01796335397974011301"
     },
     "user_tz": 420
    },
    "id": "ioZ23eZpovMj",
    "outputId": "9a2b16d7-e35b-4f86-bb07-416ce6593878"
   },
   "outputs": [
    {
     "data": {
      "text/plain": [
       "47804    0\n",
       "55075    0\n",
       "45912    0\n",
       "29180    0\n",
       "41933    0\n",
       "        ..\n",
       "54343    0\n",
       "38158    0\n",
       "860      0\n",
       "15795    0\n",
       "56422    0\n",
       "Name: is_claim, Length: 46873, dtype: int64"
      ]
     },
     "execution_count": 17,
     "metadata": {},
     "output_type": "execute_result"
    }
   ],
   "source": [
    "train_targets"
   ]
  },
  {
   "cell_type": "markdown",
   "metadata": {
    "id": "zmqX8mPPofZW"
   },
   "source": [
    "#### Validation"
   ]
  },
  {
   "cell_type": "code",
   "execution_count": null,
   "metadata": {
    "id": "rEFJ8N0MomyS"
   },
   "outputs": [],
   "source": [
    "val_inputs = val_df[input_cols]"
   ]
  },
  {
   "cell_type": "code",
   "execution_count": null,
   "metadata": {
    "id": "LpW7hc05om1p"
   },
   "outputs": [],
   "source": [
    "val_targets = val_df[target_col]"
   ]
  },
  {
   "cell_type": "code",
   "execution_count": null,
   "metadata": {
    "colab": {
     "base_uri": "https://localhost:8080/",
     "height": 424
    },
    "executionInfo": {
     "elapsed": 5,
     "status": "ok",
     "timestamp": 1684188893968,
     "user": {
      "displayName": "Tin Liman",
      "userId": "01796335397974011301"
     },
     "user_tz": 420
    },
    "id": "EQijZYZiom5D",
    "outputId": "c56ff20c-744a-48b5-ac4a-a9d59679ae98"
   },
   "outputs": [
    {
     "data": {
      "text/html": [
       "\n",
       "  <div id=\"df-146614f6-4187-4d79-8967-4f5c10233258\">\n",
       "    <div class=\"colab-df-container\">\n",
       "      <div>\n",
       "<style scoped>\n",
       "    .dataframe tbody tr th:only-of-type {\n",
       "        vertical-align: middle;\n",
       "    }\n",
       "\n",
       "    .dataframe tbody tr th {\n",
       "        vertical-align: top;\n",
       "    }\n",
       "\n",
       "    .dataframe thead th {\n",
       "        text-align: right;\n",
       "    }\n",
       "</style>\n",
       "<table border=\"1\" class=\"dataframe\">\n",
       "  <thead>\n",
       "    <tr style=\"text-align: right;\">\n",
       "      <th></th>\n",
       "      <th>policy_tenure</th>\n",
       "      <th>age_of_car</th>\n",
       "      <th>age_of_policyholder</th>\n",
       "      <th>population_density</th>\n",
       "      <th>airbags</th>\n",
       "      <th>displacement</th>\n",
       "      <th>gear_box</th>\n",
       "      <th>turning_radius</th>\n",
       "      <th>ncap_rating</th>\n",
       "    </tr>\n",
       "  </thead>\n",
       "  <tbody>\n",
       "    <tr>\n",
       "      <th>29918</th>\n",
       "      <td>0.285690</td>\n",
       "      <td>0.05</td>\n",
       "      <td>0.509615</td>\n",
       "      <td>4076</td>\n",
       "      <td>2</td>\n",
       "      <td>1498</td>\n",
       "      <td>5</td>\n",
       "      <td>4.9</td>\n",
       "      <td>4</td>\n",
       "    </tr>\n",
       "    <tr>\n",
       "      <th>5034</th>\n",
       "      <td>0.122252</td>\n",
       "      <td>0.05</td>\n",
       "      <td>0.403846</td>\n",
       "      <td>8794</td>\n",
       "      <td>2</td>\n",
       "      <td>1197</td>\n",
       "      <td>5</td>\n",
       "      <td>4.8</td>\n",
       "      <td>2</td>\n",
       "    </tr>\n",
       "    <tr>\n",
       "      <th>38100</th>\n",
       "      <td>0.213020</td>\n",
       "      <td>0.03</td>\n",
       "      <td>0.365385</td>\n",
       "      <td>4076</td>\n",
       "      <td>6</td>\n",
       "      <td>1493</td>\n",
       "      <td>6</td>\n",
       "      <td>5.2</td>\n",
       "      <td>3</td>\n",
       "    </tr>\n",
       "    <tr>\n",
       "      <th>17050</th>\n",
       "      <td>0.036614</td>\n",
       "      <td>0.00</td>\n",
       "      <td>0.432692</td>\n",
       "      <td>17804</td>\n",
       "      <td>2</td>\n",
       "      <td>796</td>\n",
       "      <td>5</td>\n",
       "      <td>4.6</td>\n",
       "      <td>0</td>\n",
       "    </tr>\n",
       "    <tr>\n",
       "      <th>35146</th>\n",
       "      <td>1.041438</td>\n",
       "      <td>0.04</td>\n",
       "      <td>0.576923</td>\n",
       "      <td>8794</td>\n",
       "      <td>2</td>\n",
       "      <td>1197</td>\n",
       "      <td>5</td>\n",
       "      <td>4.8</td>\n",
       "      <td>2</td>\n",
       "    </tr>\n",
       "    <tr>\n",
       "      <th>...</th>\n",
       "      <td>...</td>\n",
       "      <td>...</td>\n",
       "      <td>...</td>\n",
       "      <td>...</td>\n",
       "      <td>...</td>\n",
       "      <td>...</td>\n",
       "      <td>...</td>\n",
       "      <td>...</td>\n",
       "      <td>...</td>\n",
       "    </tr>\n",
       "    <tr>\n",
       "      <th>13461</th>\n",
       "      <td>0.041124</td>\n",
       "      <td>0.11</td>\n",
       "      <td>0.605769</td>\n",
       "      <td>4076</td>\n",
       "      <td>1</td>\n",
       "      <td>1196</td>\n",
       "      <td>5</td>\n",
       "      <td>4.5</td>\n",
       "      <td>0</td>\n",
       "    </tr>\n",
       "    <tr>\n",
       "      <th>54575</th>\n",
       "      <td>0.122637</td>\n",
       "      <td>0.05</td>\n",
       "      <td>0.307692</td>\n",
       "      <td>34738</td>\n",
       "      <td>2</td>\n",
       "      <td>796</td>\n",
       "      <td>5</td>\n",
       "      <td>4.6</td>\n",
       "      <td>0</td>\n",
       "    </tr>\n",
       "    <tr>\n",
       "      <th>30163</th>\n",
       "      <td>1.121226</td>\n",
       "      <td>0.01</td>\n",
       "      <td>0.375000</td>\n",
       "      <td>27003</td>\n",
       "      <td>2</td>\n",
       "      <td>796</td>\n",
       "      <td>5</td>\n",
       "      <td>4.6</td>\n",
       "      <td>0</td>\n",
       "    </tr>\n",
       "    <tr>\n",
       "      <th>58029</th>\n",
       "      <td>1.146263</td>\n",
       "      <td>0.14</td>\n",
       "      <td>0.375000</td>\n",
       "      <td>8794</td>\n",
       "      <td>6</td>\n",
       "      <td>1493</td>\n",
       "      <td>6</td>\n",
       "      <td>5.2</td>\n",
       "      <td>3</td>\n",
       "    </tr>\n",
       "    <tr>\n",
       "      <th>52590</th>\n",
       "      <td>0.967624</td>\n",
       "      <td>0.01</td>\n",
       "      <td>0.663462</td>\n",
       "      <td>8794</td>\n",
       "      <td>2</td>\n",
       "      <td>796</td>\n",
       "      <td>5</td>\n",
       "      <td>4.6</td>\n",
       "      <td>0</td>\n",
       "    </tr>\n",
       "  </tbody>\n",
       "</table>\n",
       "<p>11719 rows × 9 columns</p>\n",
       "</div>\n",
       "      <button class=\"colab-df-convert\" onclick=\"convertToInteractive('df-146614f6-4187-4d79-8967-4f5c10233258')\"\n",
       "              title=\"Convert this dataframe to an interactive table.\"\n",
       "              style=\"display:none;\">\n",
       "        \n",
       "  <svg xmlns=\"http://www.w3.org/2000/svg\" height=\"24px\"viewBox=\"0 0 24 24\"\n",
       "       width=\"24px\">\n",
       "    <path d=\"M0 0h24v24H0V0z\" fill=\"none\"/>\n",
       "    <path d=\"M18.56 5.44l.94 2.06.94-2.06 2.06-.94-2.06-.94-.94-2.06-.94 2.06-2.06.94zm-11 1L8.5 8.5l.94-2.06 2.06-.94-2.06-.94L8.5 2.5l-.94 2.06-2.06.94zm10 10l.94 2.06.94-2.06 2.06-.94-2.06-.94-.94-2.06-.94 2.06-2.06.94z\"/><path d=\"M17.41 7.96l-1.37-1.37c-.4-.4-.92-.59-1.43-.59-.52 0-1.04.2-1.43.59L10.3 9.45l-7.72 7.72c-.78.78-.78 2.05 0 2.83L4 21.41c.39.39.9.59 1.41.59.51 0 1.02-.2 1.41-.59l7.78-7.78 2.81-2.81c.8-.78.8-2.07 0-2.86zM5.41 20L4 18.59l7.72-7.72 1.47 1.35L5.41 20z\"/>\n",
       "  </svg>\n",
       "      </button>\n",
       "      \n",
       "  <style>\n",
       "    .colab-df-container {\n",
       "      display:flex;\n",
       "      flex-wrap:wrap;\n",
       "      gap: 12px;\n",
       "    }\n",
       "\n",
       "    .colab-df-convert {\n",
       "      background-color: #E8F0FE;\n",
       "      border: none;\n",
       "      border-radius: 50%;\n",
       "      cursor: pointer;\n",
       "      display: none;\n",
       "      fill: #1967D2;\n",
       "      height: 32px;\n",
       "      padding: 0 0 0 0;\n",
       "      width: 32px;\n",
       "    }\n",
       "\n",
       "    .colab-df-convert:hover {\n",
       "      background-color: #E2EBFA;\n",
       "      box-shadow: 0px 1px 2px rgba(60, 64, 67, 0.3), 0px 1px 3px 1px rgba(60, 64, 67, 0.15);\n",
       "      fill: #174EA6;\n",
       "    }\n",
       "\n",
       "    [theme=dark] .colab-df-convert {\n",
       "      background-color: #3B4455;\n",
       "      fill: #D2E3FC;\n",
       "    }\n",
       "\n",
       "    [theme=dark] .colab-df-convert:hover {\n",
       "      background-color: #434B5C;\n",
       "      box-shadow: 0px 1px 3px 1px rgba(0, 0, 0, 0.15);\n",
       "      filter: drop-shadow(0px 1px 2px rgba(0, 0, 0, 0.3));\n",
       "      fill: #FFFFFF;\n",
       "    }\n",
       "  </style>\n",
       "\n",
       "      <script>\n",
       "        const buttonEl =\n",
       "          document.querySelector('#df-146614f6-4187-4d79-8967-4f5c10233258 button.colab-df-convert');\n",
       "        buttonEl.style.display =\n",
       "          google.colab.kernel.accessAllowed ? 'block' : 'none';\n",
       "\n",
       "        async function convertToInteractive(key) {\n",
       "          const element = document.querySelector('#df-146614f6-4187-4d79-8967-4f5c10233258');\n",
       "          const dataTable =\n",
       "            await google.colab.kernel.invokeFunction('convertToInteractive',\n",
       "                                                     [key], {});\n",
       "          if (!dataTable) return;\n",
       "\n",
       "          const docLinkHtml = 'Like what you see? Visit the ' +\n",
       "            '<a target=\"_blank\" href=https://colab.research.google.com/notebooks/data_table.ipynb>data table notebook</a>'\n",
       "            + ' to learn more about interactive tables.';\n",
       "          element.innerHTML = '';\n",
       "          dataTable['output_type'] = 'display_data';\n",
       "          await google.colab.output.renderOutput(dataTable, element);\n",
       "          const docLink = document.createElement('div');\n",
       "          docLink.innerHTML = docLinkHtml;\n",
       "          element.appendChild(docLink);\n",
       "        }\n",
       "      </script>\n",
       "    </div>\n",
       "  </div>\n",
       "  "
      ],
      "text/plain": [
       "       policy_tenure  age_of_car  age_of_policyholder  population_density  \\\n",
       "29918       0.285690        0.05             0.509615                4076   \n",
       "5034        0.122252        0.05             0.403846                8794   \n",
       "38100       0.213020        0.03             0.365385                4076   \n",
       "17050       0.036614        0.00             0.432692               17804   \n",
       "35146       1.041438        0.04             0.576923                8794   \n",
       "...              ...         ...                  ...                 ...   \n",
       "13461       0.041124        0.11             0.605769                4076   \n",
       "54575       0.122637        0.05             0.307692               34738   \n",
       "30163       1.121226        0.01             0.375000               27003   \n",
       "58029       1.146263        0.14             0.375000                8794   \n",
       "52590       0.967624        0.01             0.663462                8794   \n",
       "\n",
       "       airbags  displacement  gear_box  turning_radius  ncap_rating  \n",
       "29918        2          1498         5             4.9            4  \n",
       "5034         2          1197         5             4.8            2  \n",
       "38100        6          1493         6             5.2            3  \n",
       "17050        2           796         5             4.6            0  \n",
       "35146        2          1197         5             4.8            2  \n",
       "...        ...           ...       ...             ...          ...  \n",
       "13461        1          1196         5             4.5            0  \n",
       "54575        2           796         5             4.6            0  \n",
       "30163        2           796         5             4.6            0  \n",
       "58029        6          1493         6             5.2            3  \n",
       "52590        2           796         5             4.6            0  \n",
       "\n",
       "[11719 rows x 9 columns]"
      ]
     },
     "execution_count": 19,
     "metadata": {},
     "output_type": "execute_result"
    }
   ],
   "source": [
    "val_inputs"
   ]
  },
  {
   "cell_type": "code",
   "execution_count": null,
   "metadata": {
    "colab": {
     "base_uri": "https://localhost:8080/"
    },
    "executionInfo": {
     "elapsed": 169,
     "status": "ok",
     "timestamp": 1685164916925,
     "user": {
      "displayName": "Tin Liman",
      "userId": "01796335397974011301"
     },
     "user_tz": 420
    },
    "id": "lfAoLRc-om7o",
    "outputId": "c5b69df6-2c1f-4880-9724-206f8b4d8a4c"
   },
   "outputs": [
    {
     "data": {
      "text/plain": [
       "29918    0\n",
       "5034     0\n",
       "38100    0\n",
       "17050    0\n",
       "35146    0\n",
       "        ..\n",
       "13461    0\n",
       "54575    0\n",
       "30163    1\n",
       "58029    0\n",
       "52590    0\n",
       "Name: is_claim, Length: 11719, dtype: int64"
      ]
     },
     "execution_count": 20,
     "metadata": {},
     "output_type": "execute_result"
    }
   ],
   "source": [
    "val_targets"
   ]
  },
  {
   "cell_type": "markdown",
   "metadata": {
    "id": "pdXeYmcHo3b4"
   },
   "source": [
    "#### Test"
   ]
  },
  {
   "cell_type": "code",
   "execution_count": null,
   "metadata": {
    "id": "mrn4zV7Zo3pb"
   },
   "outputs": [],
   "source": [
    "test_inputs = test_df[input_cols]"
   ]
  },
  {
   "cell_type": "code",
   "execution_count": null,
   "metadata": {
    "colab": {
     "base_uri": "https://localhost:8080/",
     "height": 424
    },
    "executionInfo": {
     "elapsed": 190,
     "status": "ok",
     "timestamp": 1684188905727,
     "user": {
      "displayName": "Tin Liman",
      "userId": "01796335397974011301"
     },
     "user_tz": 420
    },
    "id": "_bGhe5rio3sS",
    "outputId": "7d5bcf44-4097-4c8d-a5ec-5b40bca1e4a3"
   },
   "outputs": [
    {
     "data": {
      "text/html": [
       "\n",
       "  <div id=\"df-bd5adc58-1756-45b6-988f-3e5f85277005\">\n",
       "    <div class=\"colab-df-container\">\n",
       "      <div>\n",
       "<style scoped>\n",
       "    .dataframe tbody tr th:only-of-type {\n",
       "        vertical-align: middle;\n",
       "    }\n",
       "\n",
       "    .dataframe tbody tr th {\n",
       "        vertical-align: top;\n",
       "    }\n",
       "\n",
       "    .dataframe thead th {\n",
       "        text-align: right;\n",
       "    }\n",
       "</style>\n",
       "<table border=\"1\" class=\"dataframe\">\n",
       "  <thead>\n",
       "    <tr style=\"text-align: right;\">\n",
       "      <th></th>\n",
       "      <th>policy_tenure</th>\n",
       "      <th>age_of_car</th>\n",
       "      <th>age_of_policyholder</th>\n",
       "      <th>population_density</th>\n",
       "      <th>airbags</th>\n",
       "      <th>displacement</th>\n",
       "      <th>gear_box</th>\n",
       "      <th>turning_radius</th>\n",
       "      <th>ncap_rating</th>\n",
       "    </tr>\n",
       "  </thead>\n",
       "  <tbody>\n",
       "    <tr>\n",
       "      <th>0</th>\n",
       "      <td>0.341732</td>\n",
       "      <td>0.00</td>\n",
       "      <td>0.586538</td>\n",
       "      <td>4076</td>\n",
       "      <td>2</td>\n",
       "      <td>796</td>\n",
       "      <td>5</td>\n",
       "      <td>4.60</td>\n",
       "      <td>0</td>\n",
       "    </tr>\n",
       "    <tr>\n",
       "      <th>1</th>\n",
       "      <td>0.307241</td>\n",
       "      <td>0.13</td>\n",
       "      <td>0.442308</td>\n",
       "      <td>8794</td>\n",
       "      <td>2</td>\n",
       "      <td>1197</td>\n",
       "      <td>5</td>\n",
       "      <td>4.80</td>\n",
       "      <td>2</td>\n",
       "    </tr>\n",
       "    <tr>\n",
       "      <th>2</th>\n",
       "      <td>0.327924</td>\n",
       "      <td>0.12</td>\n",
       "      <td>0.451923</td>\n",
       "      <td>8794</td>\n",
       "      <td>2</td>\n",
       "      <td>999</td>\n",
       "      <td>5</td>\n",
       "      <td>5.00</td>\n",
       "      <td>2</td>\n",
       "    </tr>\n",
       "    <tr>\n",
       "      <th>3</th>\n",
       "      <td>0.782654</td>\n",
       "      <td>0.01</td>\n",
       "      <td>0.461538</td>\n",
       "      <td>34738</td>\n",
       "      <td>2</td>\n",
       "      <td>796</td>\n",
       "      <td>5</td>\n",
       "      <td>4.60</td>\n",
       "      <td>0</td>\n",
       "    </tr>\n",
       "    <tr>\n",
       "      <th>4</th>\n",
       "      <td>1.233404</td>\n",
       "      <td>0.02</td>\n",
       "      <td>0.634615</td>\n",
       "      <td>34738</td>\n",
       "      <td>2</td>\n",
       "      <td>796</td>\n",
       "      <td>5</td>\n",
       "      <td>4.60</td>\n",
       "      <td>0</td>\n",
       "    </tr>\n",
       "    <tr>\n",
       "      <th>...</th>\n",
       "      <td>...</td>\n",
       "      <td>...</td>\n",
       "      <td>...</td>\n",
       "      <td>...</td>\n",
       "      <td>...</td>\n",
       "      <td>...</td>\n",
       "      <td>...</td>\n",
       "      <td>...</td>\n",
       "      <td>...</td>\n",
       "    </tr>\n",
       "    <tr>\n",
       "      <th>39058</th>\n",
       "      <td>0.047982</td>\n",
       "      <td>0.15</td>\n",
       "      <td>0.740385</td>\n",
       "      <td>27003</td>\n",
       "      <td>2</td>\n",
       "      <td>1197</td>\n",
       "      <td>5</td>\n",
       "      <td>4.80</td>\n",
       "      <td>2</td>\n",
       "    </tr>\n",
       "    <tr>\n",
       "      <th>39059</th>\n",
       "      <td>1.224838</td>\n",
       "      <td>0.05</td>\n",
       "      <td>0.509615</td>\n",
       "      <td>8794</td>\n",
       "      <td>6</td>\n",
       "      <td>1493</td>\n",
       "      <td>6</td>\n",
       "      <td>5.20</td>\n",
       "      <td>3</td>\n",
       "    </tr>\n",
       "    <tr>\n",
       "      <th>39060</th>\n",
       "      <td>0.520287</td>\n",
       "      <td>0.12</td>\n",
       "      <td>0.355769</td>\n",
       "      <td>13051</td>\n",
       "      <td>6</td>\n",
       "      <td>1197</td>\n",
       "      <td>5</td>\n",
       "      <td>4.85</td>\n",
       "      <td>0</td>\n",
       "    </tr>\n",
       "    <tr>\n",
       "      <th>39061</th>\n",
       "      <td>1.172391</td>\n",
       "      <td>0.08</td>\n",
       "      <td>0.644231</td>\n",
       "      <td>34738</td>\n",
       "      <td>2</td>\n",
       "      <td>1197</td>\n",
       "      <td>5</td>\n",
       "      <td>4.80</td>\n",
       "      <td>2</td>\n",
       "    </tr>\n",
       "    <tr>\n",
       "      <th>39062</th>\n",
       "      <td>0.094030</td>\n",
       "      <td>0.12</td>\n",
       "      <td>0.307692</td>\n",
       "      <td>8794</td>\n",
       "      <td>6</td>\n",
       "      <td>1493</td>\n",
       "      <td>6</td>\n",
       "      <td>5.20</td>\n",
       "      <td>3</td>\n",
       "    </tr>\n",
       "  </tbody>\n",
       "</table>\n",
       "<p>39063 rows × 9 columns</p>\n",
       "</div>\n",
       "      <button class=\"colab-df-convert\" onclick=\"convertToInteractive('df-bd5adc58-1756-45b6-988f-3e5f85277005')\"\n",
       "              title=\"Convert this dataframe to an interactive table.\"\n",
       "              style=\"display:none;\">\n",
       "        \n",
       "  <svg xmlns=\"http://www.w3.org/2000/svg\" height=\"24px\"viewBox=\"0 0 24 24\"\n",
       "       width=\"24px\">\n",
       "    <path d=\"M0 0h24v24H0V0z\" fill=\"none\"/>\n",
       "    <path d=\"M18.56 5.44l.94 2.06.94-2.06 2.06-.94-2.06-.94-.94-2.06-.94 2.06-2.06.94zm-11 1L8.5 8.5l.94-2.06 2.06-.94-2.06-.94L8.5 2.5l-.94 2.06-2.06.94zm10 10l.94 2.06.94-2.06 2.06-.94-2.06-.94-.94-2.06-.94 2.06-2.06.94z\"/><path d=\"M17.41 7.96l-1.37-1.37c-.4-.4-.92-.59-1.43-.59-.52 0-1.04.2-1.43.59L10.3 9.45l-7.72 7.72c-.78.78-.78 2.05 0 2.83L4 21.41c.39.39.9.59 1.41.59.51 0 1.02-.2 1.41-.59l7.78-7.78 2.81-2.81c.8-.78.8-2.07 0-2.86zM5.41 20L4 18.59l7.72-7.72 1.47 1.35L5.41 20z\"/>\n",
       "  </svg>\n",
       "      </button>\n",
       "      \n",
       "  <style>\n",
       "    .colab-df-container {\n",
       "      display:flex;\n",
       "      flex-wrap:wrap;\n",
       "      gap: 12px;\n",
       "    }\n",
       "\n",
       "    .colab-df-convert {\n",
       "      background-color: #E8F0FE;\n",
       "      border: none;\n",
       "      border-radius: 50%;\n",
       "      cursor: pointer;\n",
       "      display: none;\n",
       "      fill: #1967D2;\n",
       "      height: 32px;\n",
       "      padding: 0 0 0 0;\n",
       "      width: 32px;\n",
       "    }\n",
       "\n",
       "    .colab-df-convert:hover {\n",
       "      background-color: #E2EBFA;\n",
       "      box-shadow: 0px 1px 2px rgba(60, 64, 67, 0.3), 0px 1px 3px 1px rgba(60, 64, 67, 0.15);\n",
       "      fill: #174EA6;\n",
       "    }\n",
       "\n",
       "    [theme=dark] .colab-df-convert {\n",
       "      background-color: #3B4455;\n",
       "      fill: #D2E3FC;\n",
       "    }\n",
       "\n",
       "    [theme=dark] .colab-df-convert:hover {\n",
       "      background-color: #434B5C;\n",
       "      box-shadow: 0px 1px 3px 1px rgba(0, 0, 0, 0.15);\n",
       "      filter: drop-shadow(0px 1px 2px rgba(0, 0, 0, 0.3));\n",
       "      fill: #FFFFFF;\n",
       "    }\n",
       "  </style>\n",
       "\n",
       "      <script>\n",
       "        const buttonEl =\n",
       "          document.querySelector('#df-bd5adc58-1756-45b6-988f-3e5f85277005 button.colab-df-convert');\n",
       "        buttonEl.style.display =\n",
       "          google.colab.kernel.accessAllowed ? 'block' : 'none';\n",
       "\n",
       "        async function convertToInteractive(key) {\n",
       "          const element = document.querySelector('#df-bd5adc58-1756-45b6-988f-3e5f85277005');\n",
       "          const dataTable =\n",
       "            await google.colab.kernel.invokeFunction('convertToInteractive',\n",
       "                                                     [key], {});\n",
       "          if (!dataTable) return;\n",
       "\n",
       "          const docLinkHtml = 'Like what you see? Visit the ' +\n",
       "            '<a target=\"_blank\" href=https://colab.research.google.com/notebooks/data_table.ipynb>data table notebook</a>'\n",
       "            + ' to learn more about interactive tables.';\n",
       "          element.innerHTML = '';\n",
       "          dataTable['output_type'] = 'display_data';\n",
       "          await google.colab.output.renderOutput(dataTable, element);\n",
       "          const docLink = document.createElement('div');\n",
       "          docLink.innerHTML = docLinkHtml;\n",
       "          element.appendChild(docLink);\n",
       "        }\n",
       "      </script>\n",
       "    </div>\n",
       "  </div>\n",
       "  "
      ],
      "text/plain": [
       "       policy_tenure  age_of_car  age_of_policyholder  population_density  \\\n",
       "0           0.341732        0.00             0.586538                4076   \n",
       "1           0.307241        0.13             0.442308                8794   \n",
       "2           0.327924        0.12             0.451923                8794   \n",
       "3           0.782654        0.01             0.461538               34738   \n",
       "4           1.233404        0.02             0.634615               34738   \n",
       "...              ...         ...                  ...                 ...   \n",
       "39058       0.047982        0.15             0.740385               27003   \n",
       "39059       1.224838        0.05             0.509615                8794   \n",
       "39060       0.520287        0.12             0.355769               13051   \n",
       "39061       1.172391        0.08             0.644231               34738   \n",
       "39062       0.094030        0.12             0.307692                8794   \n",
       "\n",
       "       airbags  displacement  gear_box  turning_radius  ncap_rating  \n",
       "0            2           796         5            4.60            0  \n",
       "1            2          1197         5            4.80            2  \n",
       "2            2           999         5            5.00            2  \n",
       "3            2           796         5            4.60            0  \n",
       "4            2           796         5            4.60            0  \n",
       "...        ...           ...       ...             ...          ...  \n",
       "39058        2          1197         5            4.80            2  \n",
       "39059        6          1493         6            5.20            3  \n",
       "39060        6          1197         5            4.85            0  \n",
       "39061        2          1197         5            4.80            2  \n",
       "39062        6          1493         6            5.20            3  \n",
       "\n",
       "[39063 rows x 9 columns]"
      ]
     },
     "execution_count": 23,
     "metadata": {},
     "output_type": "execute_result"
    }
   ],
   "source": [
    "test_inputs"
   ]
  },
  {
   "cell_type": "markdown",
   "metadata": {
    "id": "YyuxRDssPEf5"
   },
   "source": [
    "### Scaling and One-Hot Encoding"
   ]
  },
  {
   "cell_type": "markdown",
   "metadata": {
    "id": "1il6HrZuPPjw"
   },
   "source": [
    "* Need to try scaling numeric columns to the (0,1) range and encoding categorical columns using a one-hot encoder.\n",
    "\n",
    "* We can perform one hot encoding using the OneHotEncoder class from sklearn.preprocessing."
   ]
  },
  {
   "cell_type": "markdown",
   "metadata": {
    "id": "iV7PKlmyPqdY"
   },
   "source": [
    "#### Scaling Numeric Features"
   ]
  },
  {
   "cell_type": "markdown",
   "metadata": {
    "id": "STg3CAFvPrnd"
   },
   "source": [
    "Another good practice is to scale numeric features to a small range of values e.g. \n",
    "(\n",
    "0\n",
    ",\n",
    "1\n",
    ")\n",
    " or \n",
    "(\n",
    "−\n",
    "1\n",
    ",\n",
    "1\n",
    ")\n",
    ". Scaling numeric features ensures that no particular feature has a disproportionate impact on the model's loss. Optimization algorithms also work better in practice with smaller numbers.\n",
    "\n",
    "The numeric columns in our dataset have varying ranges."
   ]
  },
  {
   "cell_type": "code",
   "execution_count": null,
   "metadata": {
    "id": "M5MDLJXcPEq4"
   },
   "outputs": [],
   "source": [
    "from sklearn.preprocessing import MinMaxScaler"
   ]
  },
  {
   "cell_type": "code",
   "execution_count": null,
   "metadata": {
    "id": "SeLgjL3uPEvm"
   },
   "outputs": [],
   "source": [
    "scaler = MinMaxScaler()"
   ]
  },
  {
   "cell_type": "code",
   "execution_count": null,
   "metadata": {
    "id": "OEDDape7PE7X"
   },
   "outputs": [],
   "source": [
    "numeric_cols= ['policy_tenure', 'age_of_car', 'age_of_policyholder',\n",
    "        'population_density','airbags','displacement','gear_box','turning_radius','ncap_rating','claim_counts']"
   ]
  },
  {
   "cell_type": "code",
   "execution_count": null,
   "metadata": {
    "colab": {
     "base_uri": "https://localhost:8080/",
     "height": 424
    },
    "executionInfo": {
     "elapsed": 181,
     "status": "ok",
     "timestamp": 1685165113509,
     "user": {
      "displayName": "Tin Liman",
      "userId": "01796335397974011301"
     },
     "user_tz": 420
    },
    "id": "-ziz5Rlpqs5Q",
    "outputId": "3b5142ed-7a52-4aa3-aa05-669ee9f30f4b"
   },
   "outputs": [
    {
     "data": {
      "text/html": [
       "\n",
       "  <div id=\"df-930095b6-79df-4f39-9220-4171ac269e7e\">\n",
       "    <div class=\"colab-df-container\">\n",
       "      <div>\n",
       "<style scoped>\n",
       "    .dataframe tbody tr th:only-of-type {\n",
       "        vertical-align: middle;\n",
       "    }\n",
       "\n",
       "    .dataframe tbody tr th {\n",
       "        vertical-align: top;\n",
       "    }\n",
       "\n",
       "    .dataframe thead th {\n",
       "        text-align: right;\n",
       "    }\n",
       "</style>\n",
       "<table border=\"1\" class=\"dataframe\">\n",
       "  <thead>\n",
       "    <tr style=\"text-align: right;\">\n",
       "      <th></th>\n",
       "      <th>policy_tenure</th>\n",
       "      <th>age_of_car</th>\n",
       "      <th>age_of_policyholder</th>\n",
       "      <th>population_density</th>\n",
       "      <th>airbags</th>\n",
       "      <th>displacement</th>\n",
       "      <th>gear_box</th>\n",
       "      <th>turning_radius</th>\n",
       "      <th>ncap_rating</th>\n",
       "      <th>claim_counts</th>\n",
       "    </tr>\n",
       "  </thead>\n",
       "  <tbody>\n",
       "    <tr>\n",
       "      <th>47804</th>\n",
       "      <td>1.010772</td>\n",
       "      <td>0.11</td>\n",
       "      <td>0.375000</td>\n",
       "      <td>34791</td>\n",
       "      <td>2</td>\n",
       "      <td>1197</td>\n",
       "      <td>5</td>\n",
       "      <td>4.8</td>\n",
       "      <td>2</td>\n",
       "      <td>34792.010772</td>\n",
       "    </tr>\n",
       "    <tr>\n",
       "      <th>55075</th>\n",
       "      <td>0.473653</td>\n",
       "      <td>0.05</td>\n",
       "      <td>0.548077</td>\n",
       "      <td>4076</td>\n",
       "      <td>2</td>\n",
       "      <td>796</td>\n",
       "      <td>5</td>\n",
       "      <td>4.6</td>\n",
       "      <td>0</td>\n",
       "      <td>4076.473653</td>\n",
       "    </tr>\n",
       "    <tr>\n",
       "      <th>45912</th>\n",
       "      <td>0.287461</td>\n",
       "      <td>0.06</td>\n",
       "      <td>0.586538</td>\n",
       "      <td>27742</td>\n",
       "      <td>2</td>\n",
       "      <td>796</td>\n",
       "      <td>5</td>\n",
       "      <td>4.6</td>\n",
       "      <td>0</td>\n",
       "      <td>27742.287461</td>\n",
       "    </tr>\n",
       "    <tr>\n",
       "      <th>29180</th>\n",
       "      <td>0.547799</td>\n",
       "      <td>0.08</td>\n",
       "      <td>0.721154</td>\n",
       "      <td>27003</td>\n",
       "      <td>2</td>\n",
       "      <td>1197</td>\n",
       "      <td>5</td>\n",
       "      <td>4.8</td>\n",
       "      <td>2</td>\n",
       "      <td>27003.547799</td>\n",
       "    </tr>\n",
       "    <tr>\n",
       "      <th>41933</th>\n",
       "      <td>1.140288</td>\n",
       "      <td>0.08</td>\n",
       "      <td>0.471154</td>\n",
       "      <td>17804</td>\n",
       "      <td>6</td>\n",
       "      <td>1493</td>\n",
       "      <td>6</td>\n",
       "      <td>5.2</td>\n",
       "      <td>3</td>\n",
       "      <td>17805.140288</td>\n",
       "    </tr>\n",
       "    <tr>\n",
       "      <th>...</th>\n",
       "      <td>...</td>\n",
       "      <td>...</td>\n",
       "      <td>...</td>\n",
       "      <td>...</td>\n",
       "      <td>...</td>\n",
       "      <td>...</td>\n",
       "      <td>...</td>\n",
       "      <td>...</td>\n",
       "      <td>...</td>\n",
       "      <td>...</td>\n",
       "    </tr>\n",
       "    <tr>\n",
       "      <th>54343</th>\n",
       "      <td>1.230162</td>\n",
       "      <td>0.19</td>\n",
       "      <td>0.451923</td>\n",
       "      <td>8794</td>\n",
       "      <td>6</td>\n",
       "      <td>1493</td>\n",
       "      <td>6</td>\n",
       "      <td>5.2</td>\n",
       "      <td>3</td>\n",
       "      <td>8795.230162</td>\n",
       "    </tr>\n",
       "    <tr>\n",
       "      <th>38158</th>\n",
       "      <td>0.445617</td>\n",
       "      <td>0.00</td>\n",
       "      <td>0.519231</td>\n",
       "      <td>4076</td>\n",
       "      <td>2</td>\n",
       "      <td>796</td>\n",
       "      <td>5</td>\n",
       "      <td>4.6</td>\n",
       "      <td>0</td>\n",
       "      <td>4076.445617</td>\n",
       "    </tr>\n",
       "    <tr>\n",
       "      <th>860</th>\n",
       "      <td>1.190469</td>\n",
       "      <td>0.13</td>\n",
       "      <td>0.326923</td>\n",
       "      <td>8794</td>\n",
       "      <td>2</td>\n",
       "      <td>1197</td>\n",
       "      <td>5</td>\n",
       "      <td>4.8</td>\n",
       "      <td>2</td>\n",
       "      <td>8795.190469</td>\n",
       "    </tr>\n",
       "    <tr>\n",
       "      <th>15795</th>\n",
       "      <td>0.023212</td>\n",
       "      <td>0.00</td>\n",
       "      <td>0.701923</td>\n",
       "      <td>34738</td>\n",
       "      <td>2</td>\n",
       "      <td>796</td>\n",
       "      <td>5</td>\n",
       "      <td>4.6</td>\n",
       "      <td>0</td>\n",
       "      <td>34738.023212</td>\n",
       "    </tr>\n",
       "    <tr>\n",
       "      <th>56422</th>\n",
       "      <td>0.233716</td>\n",
       "      <td>0.00</td>\n",
       "      <td>0.480769</td>\n",
       "      <td>73430</td>\n",
       "      <td>2</td>\n",
       "      <td>796</td>\n",
       "      <td>5</td>\n",
       "      <td>4.6</td>\n",
       "      <td>0</td>\n",
       "      <td>73430.233716</td>\n",
       "    </tr>\n",
       "  </tbody>\n",
       "</table>\n",
       "<p>46873 rows × 10 columns</p>\n",
       "</div>\n",
       "      <button class=\"colab-df-convert\" onclick=\"convertToInteractive('df-930095b6-79df-4f39-9220-4171ac269e7e')\"\n",
       "              title=\"Convert this dataframe to an interactive table.\"\n",
       "              style=\"display:none;\">\n",
       "        \n",
       "  <svg xmlns=\"http://www.w3.org/2000/svg\" height=\"24px\"viewBox=\"0 0 24 24\"\n",
       "       width=\"24px\">\n",
       "    <path d=\"M0 0h24v24H0V0z\" fill=\"none\"/>\n",
       "    <path d=\"M18.56 5.44l.94 2.06.94-2.06 2.06-.94-2.06-.94-.94-2.06-.94 2.06-2.06.94zm-11 1L8.5 8.5l.94-2.06 2.06-.94-2.06-.94L8.5 2.5l-.94 2.06-2.06.94zm10 10l.94 2.06.94-2.06 2.06-.94-2.06-.94-.94-2.06-.94 2.06-2.06.94z\"/><path d=\"M17.41 7.96l-1.37-1.37c-.4-.4-.92-.59-1.43-.59-.52 0-1.04.2-1.43.59L10.3 9.45l-7.72 7.72c-.78.78-.78 2.05 0 2.83L4 21.41c.39.39.9.59 1.41.59.51 0 1.02-.2 1.41-.59l7.78-7.78 2.81-2.81c.8-.78.8-2.07 0-2.86zM5.41 20L4 18.59l7.72-7.72 1.47 1.35L5.41 20z\"/>\n",
       "  </svg>\n",
       "      </button>\n",
       "      \n",
       "  <style>\n",
       "    .colab-df-container {\n",
       "      display:flex;\n",
       "      flex-wrap:wrap;\n",
       "      gap: 12px;\n",
       "    }\n",
       "\n",
       "    .colab-df-convert {\n",
       "      background-color: #E8F0FE;\n",
       "      border: none;\n",
       "      border-radius: 50%;\n",
       "      cursor: pointer;\n",
       "      display: none;\n",
       "      fill: #1967D2;\n",
       "      height: 32px;\n",
       "      padding: 0 0 0 0;\n",
       "      width: 32px;\n",
       "    }\n",
       "\n",
       "    .colab-df-convert:hover {\n",
       "      background-color: #E2EBFA;\n",
       "      box-shadow: 0px 1px 2px rgba(60, 64, 67, 0.3), 0px 1px 3px 1px rgba(60, 64, 67, 0.15);\n",
       "      fill: #174EA6;\n",
       "    }\n",
       "\n",
       "    [theme=dark] .colab-df-convert {\n",
       "      background-color: #3B4455;\n",
       "      fill: #D2E3FC;\n",
       "    }\n",
       "\n",
       "    [theme=dark] .colab-df-convert:hover {\n",
       "      background-color: #434B5C;\n",
       "      box-shadow: 0px 1px 3px 1px rgba(0, 0, 0, 0.15);\n",
       "      filter: drop-shadow(0px 1px 2px rgba(0, 0, 0, 0.3));\n",
       "      fill: #FFFFFF;\n",
       "    }\n",
       "  </style>\n",
       "\n",
       "      <script>\n",
       "        const buttonEl =\n",
       "          document.querySelector('#df-930095b6-79df-4f39-9220-4171ac269e7e button.colab-df-convert');\n",
       "        buttonEl.style.display =\n",
       "          google.colab.kernel.accessAllowed ? 'block' : 'none';\n",
       "\n",
       "        async function convertToInteractive(key) {\n",
       "          const element = document.querySelector('#df-930095b6-79df-4f39-9220-4171ac269e7e');\n",
       "          const dataTable =\n",
       "            await google.colab.kernel.invokeFunction('convertToInteractive',\n",
       "                                                     [key], {});\n",
       "          if (!dataTable) return;\n",
       "\n",
       "          const docLinkHtml = 'Like what you see? Visit the ' +\n",
       "            '<a target=\"_blank\" href=https://colab.research.google.com/notebooks/data_table.ipynb>data table notebook</a>'\n",
       "            + ' to learn more about interactive tables.';\n",
       "          element.innerHTML = '';\n",
       "          dataTable['output_type'] = 'display_data';\n",
       "          await google.colab.output.renderOutput(dataTable, element);\n",
       "          const docLink = document.createElement('div');\n",
       "          docLink.innerHTML = docLinkHtml;\n",
       "          element.appendChild(docLink);\n",
       "        }\n",
       "      </script>\n",
       "    </div>\n",
       "  </div>\n",
       "  "
      ],
      "text/plain": [
       "       policy_tenure  age_of_car  age_of_policyholder  population_density  \\\n",
       "47804       1.010772        0.11             0.375000               34791   \n",
       "55075       0.473653        0.05             0.548077                4076   \n",
       "45912       0.287461        0.06             0.586538               27742   \n",
       "29180       0.547799        0.08             0.721154               27003   \n",
       "41933       1.140288        0.08             0.471154               17804   \n",
       "...              ...         ...                  ...                 ...   \n",
       "54343       1.230162        0.19             0.451923                8794   \n",
       "38158       0.445617        0.00             0.519231                4076   \n",
       "860         1.190469        0.13             0.326923                8794   \n",
       "15795       0.023212        0.00             0.701923               34738   \n",
       "56422       0.233716        0.00             0.480769               73430   \n",
       "\n",
       "       airbags  displacement  gear_box  turning_radius  ncap_rating  \\\n",
       "47804        2          1197         5             4.8            2   \n",
       "55075        2           796         5             4.6            0   \n",
       "45912        2           796         5             4.6            0   \n",
       "29180        2          1197         5             4.8            2   \n",
       "41933        6          1493         6             5.2            3   \n",
       "...        ...           ...       ...             ...          ...   \n",
       "54343        6          1493         6             5.2            3   \n",
       "38158        2           796         5             4.6            0   \n",
       "860          2          1197         5             4.8            2   \n",
       "15795        2           796         5             4.6            0   \n",
       "56422        2           796         5             4.6            0   \n",
       "\n",
       "       claim_counts  \n",
       "47804  34792.010772  \n",
       "55075   4076.473653  \n",
       "45912  27742.287461  \n",
       "29180  27003.547799  \n",
       "41933  17805.140288  \n",
       "...             ...  \n",
       "54343   8795.230162  \n",
       "38158   4076.445617  \n",
       "860     8795.190469  \n",
       "15795  34738.023212  \n",
       "56422  73430.233716  \n",
       "\n",
       "[46873 rows x 10 columns]"
      ]
     },
     "execution_count": 56,
     "metadata": {},
     "output_type": "execute_result"
    }
   ],
   "source": [
    "train_df[numeric_cols]"
   ]
  },
  {
   "cell_type": "code",
   "execution_count": null,
   "metadata": {
    "colab": {
     "base_uri": "https://localhost:8080/",
     "height": 75
    },
    "executionInfo": {
     "elapsed": 4,
     "status": "ok",
     "timestamp": 1685165116220,
     "user": {
      "displayName": "Tin Liman",
      "userId": "01796335397974011301"
     },
     "user_tz": 420
    },
    "id": "XBlcHHCAQIPX",
    "outputId": "c90ff197-3464-422d-b7c5-4084c349da17"
   },
   "outputs": [
    {
     "data": {
      "text/html": [
       "<style>#sk-container-id-2 {color: black;background-color: white;}#sk-container-id-2 pre{padding: 0;}#sk-container-id-2 div.sk-toggleable {background-color: white;}#sk-container-id-2 label.sk-toggleable__label {cursor: pointer;display: block;width: 100%;margin-bottom: 0;padding: 0.3em;box-sizing: border-box;text-align: center;}#sk-container-id-2 label.sk-toggleable__label-arrow:before {content: \"▸\";float: left;margin-right: 0.25em;color: #696969;}#sk-container-id-2 label.sk-toggleable__label-arrow:hover:before {color: black;}#sk-container-id-2 div.sk-estimator:hover label.sk-toggleable__label-arrow:before {color: black;}#sk-container-id-2 div.sk-toggleable__content {max-height: 0;max-width: 0;overflow: hidden;text-align: left;background-color: #f0f8ff;}#sk-container-id-2 div.sk-toggleable__content pre {margin: 0.2em;color: black;border-radius: 0.25em;background-color: #f0f8ff;}#sk-container-id-2 input.sk-toggleable__control:checked~div.sk-toggleable__content {max-height: 200px;max-width: 100%;overflow: auto;}#sk-container-id-2 input.sk-toggleable__control:checked~label.sk-toggleable__label-arrow:before {content: \"▾\";}#sk-container-id-2 div.sk-estimator input.sk-toggleable__control:checked~label.sk-toggleable__label {background-color: #d4ebff;}#sk-container-id-2 div.sk-label input.sk-toggleable__control:checked~label.sk-toggleable__label {background-color: #d4ebff;}#sk-container-id-2 input.sk-hidden--visually {border: 0;clip: rect(1px 1px 1px 1px);clip: rect(1px, 1px, 1px, 1px);height: 1px;margin: -1px;overflow: hidden;padding: 0;position: absolute;width: 1px;}#sk-container-id-2 div.sk-estimator {font-family: monospace;background-color: #f0f8ff;border: 1px dotted black;border-radius: 0.25em;box-sizing: border-box;margin-bottom: 0.5em;}#sk-container-id-2 div.sk-estimator:hover {background-color: #d4ebff;}#sk-container-id-2 div.sk-parallel-item::after {content: \"\";width: 100%;border-bottom: 1px solid gray;flex-grow: 1;}#sk-container-id-2 div.sk-label:hover label.sk-toggleable__label {background-color: #d4ebff;}#sk-container-id-2 div.sk-serial::before {content: \"\";position: absolute;border-left: 1px solid gray;box-sizing: border-box;top: 0;bottom: 0;left: 50%;z-index: 0;}#sk-container-id-2 div.sk-serial {display: flex;flex-direction: column;align-items: center;background-color: white;padding-right: 0.2em;padding-left: 0.2em;position: relative;}#sk-container-id-2 div.sk-item {position: relative;z-index: 1;}#sk-container-id-2 div.sk-parallel {display: flex;align-items: stretch;justify-content: center;background-color: white;position: relative;}#sk-container-id-2 div.sk-item::before, #sk-container-id-2 div.sk-parallel-item::before {content: \"\";position: absolute;border-left: 1px solid gray;box-sizing: border-box;top: 0;bottom: 0;left: 50%;z-index: -1;}#sk-container-id-2 div.sk-parallel-item {display: flex;flex-direction: column;z-index: 1;position: relative;background-color: white;}#sk-container-id-2 div.sk-parallel-item:first-child::after {align-self: flex-end;width: 50%;}#sk-container-id-2 div.sk-parallel-item:last-child::after {align-self: flex-start;width: 50%;}#sk-container-id-2 div.sk-parallel-item:only-child::after {width: 0;}#sk-container-id-2 div.sk-dashed-wrapped {border: 1px dashed gray;margin: 0 0.4em 0.5em 0.4em;box-sizing: border-box;padding-bottom: 0.4em;background-color: white;}#sk-container-id-2 div.sk-label label {font-family: monospace;font-weight: bold;display: inline-block;line-height: 1.2em;}#sk-container-id-2 div.sk-label-container {text-align: center;}#sk-container-id-2 div.sk-container {/* jupyter's `normalize.less` sets `[hidden] { display: none; }` but bootstrap.min.css set `[hidden] { display: none !important; }` so we also need the `!important` here to be able to override the default hidden behavior on the sphinx rendered scikit-learn.org. See: https://github.com/scikit-learn/scikit-learn/issues/21755 */display: inline-block !important;position: relative;}#sk-container-id-2 div.sk-text-repr-fallback {display: none;}</style><div id=\"sk-container-id-2\" class=\"sk-top-container\"><div class=\"sk-text-repr-fallback\"><pre>MinMaxScaler()</pre><b>In a Jupyter environment, please rerun this cell to show the HTML representation or trust the notebook. <br />On GitHub, the HTML representation is unable to render, please try loading this page with nbviewer.org.</b></div><div class=\"sk-container\" hidden><div class=\"sk-item\"><div class=\"sk-estimator sk-toggleable\"><input class=\"sk-toggleable__control sk-hidden--visually\" id=\"sk-estimator-id-2\" type=\"checkbox\" checked><label for=\"sk-estimator-id-2\" class=\"sk-toggleable__label sk-toggleable__label-arrow\">MinMaxScaler</label><div class=\"sk-toggleable__content\"><pre>MinMaxScaler()</pre></div></div></div></div></div>"
      ],
      "text/plain": [
       "MinMaxScaler()"
      ]
     },
     "execution_count": 57,
     "metadata": {},
     "output_type": "execute_result"
    }
   ],
   "source": [
    "scaler.fit(train_df[numeric_cols])"
   ]
  },
  {
   "cell_type": "markdown",
   "metadata": {
    "id": "IvSS2eYdQNtH"
   },
   "source": [
    "* We can now inspect the minimum and maximum values in each column."
   ]
  },
  {
   "cell_type": "code",
   "execution_count": null,
   "metadata": {
    "colab": {
     "base_uri": "https://localhost:8080/"
    },
    "executionInfo": {
     "elapsed": 171,
     "status": "ok",
     "timestamp": 1685164990274,
     "user": {
      "displayName": "Tin Liman",
      "userId": "01796335397974011301"
     },
     "user_tz": 420
    },
    "id": "uszwfauoQIR5",
    "outputId": "18be9468-dddf-4169-f133-b22ecb98dc4c"
   },
   "outputs": [
    {
     "name": "stdout",
     "output_type": "stream",
     "text": [
      "Minimum:\n"
     ]
    },
    {
     "data": {
      "text/plain": [
       "[0.002735272840513,\n",
       " 0.0,\n",
       " 0.288461538461538,\n",
       " 290.0,\n",
       " 1.0,\n",
       " 796.0,\n",
       " 5.0,\n",
       " 4.5,\n",
       " 0.0,\n",
       " 290.00277288700795]"
      ]
     },
     "execution_count": 33,
     "metadata": {},
     "output_type": "execute_result"
    }
   ],
   "source": [
    "print('Minimum:')\n",
    "list(scaler.data_min_)"
   ]
  },
  {
   "cell_type": "code",
   "execution_count": null,
   "metadata": {
    "colab": {
     "base_uri": "https://localhost:8080/"
    },
    "executionInfo": {
     "elapsed": 3,
     "status": "ok",
     "timestamp": 1685164992334,
     "user": {
      "displayName": "Tin Liman",
      "userId": "01796335397974011301"
     },
     "user_tz": 420
    },
    "id": "0jbo4l88QIVS",
    "outputId": "a116ff48-92ff-4607-8e3c-f01fe366a8db"
   },
   "outputs": [
    {
     "name": "stdout",
     "output_type": "stream",
     "text": [
      "Maximum:\n"
     ]
    },
    {
     "data": {
      "text/plain": [
       "[1.39664107699389,\n",
       " 1.0,\n",
       " 1.0,\n",
       " 73430.0,\n",
       " 6.0,\n",
       " 1498.0,\n",
       " 6.0,\n",
       " 5.2,\n",
       " 5.0,\n",
       " 73431.37598843343]"
      ]
     },
     "execution_count": 34,
     "metadata": {},
     "output_type": "execute_result"
    }
   ],
   "source": [
    "print('Maximum:')\n",
    "list(scaler.data_max_)"
   ]
  },
  {
   "cell_type": "markdown",
   "metadata": {
    "id": "X3VkLEqZQjyk"
   },
   "source": [
    "* We can now separately scale the training, validation and test sets using the transform method of scaler."
   ]
  },
  {
   "cell_type": "code",
   "execution_count": null,
   "metadata": {
    "colab": {
     "base_uri": "https://localhost:8080/"
    },
    "executionInfo": {
     "elapsed": 172,
     "status": "ok",
     "timestamp": 1685165136563,
     "user": {
      "displayName": "Tin Liman",
      "userId": "01796335397974011301"
     },
     "user_tz": 420
    },
    "id": "ki8m79nwxQ0M",
    "outputId": "73f7181e-f8f3-496d-b304-01e6f44cb2da"
   },
   "outputs": [
    {
     "name": "stderr",
     "output_type": "stream",
     "text": [
      "<ipython-input-58-f609f90079e1>:1: SettingWithCopyWarning: \n",
      "A value is trying to be set on a copy of a slice from a DataFrame.\n",
      "Try using .loc[row_indexer,col_indexer] = value instead\n",
      "\n",
      "See the caveats in the documentation: https://pandas.pydata.org/pandas-docs/stable/user_guide/indexing.html#returning-a-view-versus-a-copy\n",
      "  train_inputs[numeric_cols] = scaler.transform(train_df[numeric_cols])\n",
      "<ipython-input-58-f609f90079e1>:2: SettingWithCopyWarning: \n",
      "A value is trying to be set on a copy of a slice from a DataFrame.\n",
      "Try using .loc[row_indexer,col_indexer] = value instead\n",
      "\n",
      "See the caveats in the documentation: https://pandas.pydata.org/pandas-docs/stable/user_guide/indexing.html#returning-a-view-versus-a-copy\n",
      "  test_inputs[numeric_cols] = scaler.transform(test_inputs[numeric_cols])\n"
     ]
    }
   ],
   "source": [
    "train_inputs[numeric_cols] = scaler.transform(train_df[numeric_cols])\n",
    "test_inputs[numeric_cols] = scaler.transform(test_inputs[numeric_cols])"
   ]
  },
  {
   "cell_type": "code",
   "execution_count": null,
   "metadata": {
    "colab": {
     "base_uri": "https://localhost:8080/"
    },
    "executionInfo": {
     "elapsed": 188,
     "status": "ok",
     "timestamp": 1685165145683,
     "user": {
      "displayName": "Tin Liman",
      "userId": "01796335397974011301"
     },
     "user_tz": 420
    },
    "id": "TIaKJ8T8QeIe",
    "outputId": "a0482121-ecb9-4d7f-d430-17a1d441a644"
   },
   "outputs": [
    {
     "name": "stderr",
     "output_type": "stream",
     "text": [
      "<ipython-input-59-a758576da409>:1: SettingWithCopyWarning: \n",
      "A value is trying to be set on a copy of a slice from a DataFrame.\n",
      "Try using .loc[row_indexer,col_indexer] = value instead\n",
      "\n",
      "See the caveats in the documentation: https://pandas.pydata.org/pandas-docs/stable/user_guide/indexing.html#returning-a-view-versus-a-copy\n",
      "  train_inputs[numeric_cols] = scaler.transform(train_inputs[numeric_cols])\n",
      "<ipython-input-59-a758576da409>:2: SettingWithCopyWarning: \n",
      "A value is trying to be set on a copy of a slice from a DataFrame.\n",
      "Try using .loc[row_indexer,col_indexer] = value instead\n",
      "\n",
      "See the caveats in the documentation: https://pandas.pydata.org/pandas-docs/stable/user_guide/indexing.html#returning-a-view-versus-a-copy\n",
      "  val_inputs[numeric_cols] = scaler.transform(val_inputs[numeric_cols])\n",
      "<ipython-input-59-a758576da409>:3: SettingWithCopyWarning: \n",
      "A value is trying to be set on a copy of a slice from a DataFrame.\n",
      "Try using .loc[row_indexer,col_indexer] = value instead\n",
      "\n",
      "See the caveats in the documentation: https://pandas.pydata.org/pandas-docs/stable/user_guide/indexing.html#returning-a-view-versus-a-copy\n",
      "  test_inputs[numeric_cols] = scaler.transform(test_inputs[numeric_cols])\n"
     ]
    }
   ],
   "source": [
    "train_inputs[numeric_cols] = scaler.transform(train_inputs[numeric_cols])\n",
    "val_inputs[numeric_cols] = scaler.transform(val_inputs[numeric_cols])\n",
    "test_inputs[numeric_cols] = scaler.transform(test_inputs[numeric_cols])"
   ]
  },
  {
   "cell_type": "code",
   "execution_count": null,
   "metadata": {
    "colab": {
     "base_uri": "https://localhost:8080/",
     "height": 300
    },
    "executionInfo": {
     "elapsed": 381,
     "status": "ok",
     "timestamp": 1685165152028,
     "user": {
      "displayName": "Tin Liman",
      "userId": "01796335397974011301"
     },
     "user_tz": 420
    },
    "id": "6jdtfo9eQeMn",
    "outputId": "a8e861c9-cdc0-4d97-8ed7-7b167bd60af8"
   },
   "outputs": [
    {
     "data": {
      "text/html": [
       "\n",
       "  <div id=\"df-82ae05c2-3cf0-4490-ac73-9f0878605df3\">\n",
       "    <div class=\"colab-df-container\">\n",
       "      <div>\n",
       "<style scoped>\n",
       "    .dataframe tbody tr th:only-of-type {\n",
       "        vertical-align: middle;\n",
       "    }\n",
       "\n",
       "    .dataframe tbody tr th {\n",
       "        vertical-align: top;\n",
       "    }\n",
       "\n",
       "    .dataframe thead th {\n",
       "        text-align: right;\n",
       "    }\n",
       "</style>\n",
       "<table border=\"1\" class=\"dataframe\">\n",
       "  <thead>\n",
       "    <tr style=\"text-align: right;\">\n",
       "      <th></th>\n",
       "      <th>policy_tenure</th>\n",
       "      <th>age_of_car</th>\n",
       "      <th>age_of_policyholder</th>\n",
       "      <th>population_density</th>\n",
       "      <th>airbags</th>\n",
       "      <th>displacement</th>\n",
       "      <th>gear_box</th>\n",
       "      <th>turning_radius</th>\n",
       "      <th>ncap_rating</th>\n",
       "      <th>claim_counts</th>\n",
       "    </tr>\n",
       "  </thead>\n",
       "  <tbody>\n",
       "    <tr>\n",
       "      <th>count</th>\n",
       "      <td>46873.000000</td>\n",
       "      <td>46873.000000</td>\n",
       "      <td>46873.000000</td>\n",
       "      <td>46873.000000</td>\n",
       "      <td>4.687300e+04</td>\n",
       "      <td>46873.000000</td>\n",
       "      <td>46873.000000</td>\n",
       "      <td>46873.000000</td>\n",
       "      <td>46873.000000</td>\n",
       "      <td>46873.000000</td>\n",
       "    </tr>\n",
       "    <tr>\n",
       "      <th>mean</th>\n",
       "      <td>0.311775</td>\n",
       "      <td>0.069159</td>\n",
       "      <td>-0.047767</td>\n",
       "      <td>-0.003962</td>\n",
       "      <td>-1.146818e-01</td>\n",
       "      <td>-1.133160</td>\n",
       "      <td>-4.755360</td>\n",
       "      <td>-5.708961</td>\n",
       "      <td>0.070441</td>\n",
       "      <td>-0.003961</td>\n",
       "    </tr>\n",
       "    <tr>\n",
       "      <th>std</th>\n",
       "      <td>0.213283</td>\n",
       "      <td>0.056552</td>\n",
       "      <td>0.242950</td>\n",
       "      <td>0.000003</td>\n",
       "      <td>7.322326e-02</td>\n",
       "      <td>0.000540</td>\n",
       "      <td>0.429878</td>\n",
       "      <td>0.464868</td>\n",
       "      <td>0.055532</td>\n",
       "      <td>0.000003</td>\n",
       "    </tr>\n",
       "    <tr>\n",
       "      <th>min</th>\n",
       "      <td>-0.001962</td>\n",
       "      <td>0.000000</td>\n",
       "      <td>-0.405405</td>\n",
       "      <td>-0.003965</td>\n",
       "      <td>-2.000000e-01</td>\n",
       "      <td>-1.133903</td>\n",
       "      <td>-5.000000</td>\n",
       "      <td>-6.428571</td>\n",
       "      <td>0.000000</td>\n",
       "      <td>-0.003965</td>\n",
       "    </tr>\n",
       "    <tr>\n",
       "      <th>25%</th>\n",
       "      <td>0.105078</td>\n",
       "      <td>0.020000</td>\n",
       "      <td>-0.253470</td>\n",
       "      <td>-0.003964</td>\n",
       "      <td>-1.600000e-01</td>\n",
       "      <td>-1.133903</td>\n",
       "      <td>-5.000000</td>\n",
       "      <td>-6.224490</td>\n",
       "      <td>0.000000</td>\n",
       "      <td>-0.003964</td>\n",
       "    </tr>\n",
       "    <tr>\n",
       "      <th>50%</th>\n",
       "      <td>0.292381</td>\n",
       "      <td>0.060000</td>\n",
       "      <td>-0.082542</td>\n",
       "      <td>-0.003963</td>\n",
       "      <td>-1.600000e-01</td>\n",
       "      <td>-1.133089</td>\n",
       "      <td>-5.000000</td>\n",
       "      <td>-5.816327</td>\n",
       "      <td>0.080000</td>\n",
       "      <td>-0.003963</td>\n",
       "    </tr>\n",
       "    <tr>\n",
       "      <th>75%</th>\n",
       "      <td>0.531668</td>\n",
       "      <td>0.110000</td>\n",
       "      <td>0.107378</td>\n",
       "      <td>-0.003960</td>\n",
       "      <td>5.551115e-17</td>\n",
       "      <td>-1.132489</td>\n",
       "      <td>-5.000000</td>\n",
       "      <td>-5.408163</td>\n",
       "      <td>0.120000</td>\n",
       "      <td>-0.003960</td>\n",
       "    </tr>\n",
       "    <tr>\n",
       "      <th>max</th>\n",
       "      <td>0.715446</td>\n",
       "      <td>1.000000</td>\n",
       "      <td>1.000000</td>\n",
       "      <td>-0.003951</td>\n",
       "      <td>5.551115e-17</td>\n",
       "      <td>-1.132479</td>\n",
       "      <td>-4.000000</td>\n",
       "      <td>-5.000000</td>\n",
       "      <td>0.200000</td>\n",
       "      <td>-0.003951</td>\n",
       "    </tr>\n",
       "  </tbody>\n",
       "</table>\n",
       "</div>\n",
       "      <button class=\"colab-df-convert\" onclick=\"convertToInteractive('df-82ae05c2-3cf0-4490-ac73-9f0878605df3')\"\n",
       "              title=\"Convert this dataframe to an interactive table.\"\n",
       "              style=\"display:none;\">\n",
       "        \n",
       "  <svg xmlns=\"http://www.w3.org/2000/svg\" height=\"24px\"viewBox=\"0 0 24 24\"\n",
       "       width=\"24px\">\n",
       "    <path d=\"M0 0h24v24H0V0z\" fill=\"none\"/>\n",
       "    <path d=\"M18.56 5.44l.94 2.06.94-2.06 2.06-.94-2.06-.94-.94-2.06-.94 2.06-2.06.94zm-11 1L8.5 8.5l.94-2.06 2.06-.94-2.06-.94L8.5 2.5l-.94 2.06-2.06.94zm10 10l.94 2.06.94-2.06 2.06-.94-2.06-.94-.94-2.06-.94 2.06-2.06.94z\"/><path d=\"M17.41 7.96l-1.37-1.37c-.4-.4-.92-.59-1.43-.59-.52 0-1.04.2-1.43.59L10.3 9.45l-7.72 7.72c-.78.78-.78 2.05 0 2.83L4 21.41c.39.39.9.59 1.41.59.51 0 1.02-.2 1.41-.59l7.78-7.78 2.81-2.81c.8-.78.8-2.07 0-2.86zM5.41 20L4 18.59l7.72-7.72 1.47 1.35L5.41 20z\"/>\n",
       "  </svg>\n",
       "      </button>\n",
       "      \n",
       "  <style>\n",
       "    .colab-df-container {\n",
       "      display:flex;\n",
       "      flex-wrap:wrap;\n",
       "      gap: 12px;\n",
       "    }\n",
       "\n",
       "    .colab-df-convert {\n",
       "      background-color: #E8F0FE;\n",
       "      border: none;\n",
       "      border-radius: 50%;\n",
       "      cursor: pointer;\n",
       "      display: none;\n",
       "      fill: #1967D2;\n",
       "      height: 32px;\n",
       "      padding: 0 0 0 0;\n",
       "      width: 32px;\n",
       "    }\n",
       "\n",
       "    .colab-df-convert:hover {\n",
       "      background-color: #E2EBFA;\n",
       "      box-shadow: 0px 1px 2px rgba(60, 64, 67, 0.3), 0px 1px 3px 1px rgba(60, 64, 67, 0.15);\n",
       "      fill: #174EA6;\n",
       "    }\n",
       "\n",
       "    [theme=dark] .colab-df-convert {\n",
       "      background-color: #3B4455;\n",
       "      fill: #D2E3FC;\n",
       "    }\n",
       "\n",
       "    [theme=dark] .colab-df-convert:hover {\n",
       "      background-color: #434B5C;\n",
       "      box-shadow: 0px 1px 3px 1px rgba(0, 0, 0, 0.15);\n",
       "      filter: drop-shadow(0px 1px 2px rgba(0, 0, 0, 0.3));\n",
       "      fill: #FFFFFF;\n",
       "    }\n",
       "  </style>\n",
       "\n",
       "      <script>\n",
       "        const buttonEl =\n",
       "          document.querySelector('#df-82ae05c2-3cf0-4490-ac73-9f0878605df3 button.colab-df-convert');\n",
       "        buttonEl.style.display =\n",
       "          google.colab.kernel.accessAllowed ? 'block' : 'none';\n",
       "\n",
       "        async function convertToInteractive(key) {\n",
       "          const element = document.querySelector('#df-82ae05c2-3cf0-4490-ac73-9f0878605df3');\n",
       "          const dataTable =\n",
       "            await google.colab.kernel.invokeFunction('convertToInteractive',\n",
       "                                                     [key], {});\n",
       "          if (!dataTable) return;\n",
       "\n",
       "          const docLinkHtml = 'Like what you see? Visit the ' +\n",
       "            '<a target=\"_blank\" href=https://colab.research.google.com/notebooks/data_table.ipynb>data table notebook</a>'\n",
       "            + ' to learn more about interactive tables.';\n",
       "          element.innerHTML = '';\n",
       "          dataTable['output_type'] = 'display_data';\n",
       "          await google.colab.output.renderOutput(dataTable, element);\n",
       "          const docLink = document.createElement('div');\n",
       "          docLink.innerHTML = docLinkHtml;\n",
       "          element.appendChild(docLink);\n",
       "        }\n",
       "      </script>\n",
       "    </div>\n",
       "  </div>\n",
       "  "
      ],
      "text/plain": [
       "       policy_tenure    age_of_car  age_of_policyholder  population_density  \\\n",
       "count   46873.000000  46873.000000         46873.000000        46873.000000   \n",
       "mean        0.311775      0.069159            -0.047767           -0.003962   \n",
       "std         0.213283      0.056552             0.242950            0.000003   \n",
       "min        -0.001962      0.000000            -0.405405           -0.003965   \n",
       "25%         0.105078      0.020000            -0.253470           -0.003964   \n",
       "50%         0.292381      0.060000            -0.082542           -0.003963   \n",
       "75%         0.531668      0.110000             0.107378           -0.003960   \n",
       "max         0.715446      1.000000             1.000000           -0.003951   \n",
       "\n",
       "            airbags  displacement      gear_box  turning_radius   ncap_rating  \\\n",
       "count  4.687300e+04  46873.000000  46873.000000    46873.000000  46873.000000   \n",
       "mean  -1.146818e-01     -1.133160     -4.755360       -5.708961      0.070441   \n",
       "std    7.322326e-02      0.000540      0.429878        0.464868      0.055532   \n",
       "min   -2.000000e-01     -1.133903     -5.000000       -6.428571      0.000000   \n",
       "25%   -1.600000e-01     -1.133903     -5.000000       -6.224490      0.000000   \n",
       "50%   -1.600000e-01     -1.133089     -5.000000       -5.816327      0.080000   \n",
       "75%    5.551115e-17     -1.132489     -5.000000       -5.408163      0.120000   \n",
       "max    5.551115e-17     -1.132479     -4.000000       -5.000000      0.200000   \n",
       "\n",
       "       claim_counts  \n",
       "count  46873.000000  \n",
       "mean      -0.003961  \n",
       "std        0.000003  \n",
       "min       -0.003965  \n",
       "25%       -0.003964  \n",
       "50%       -0.003963  \n",
       "75%       -0.003960  \n",
       "max       -0.003951  "
      ]
     },
     "execution_count": 60,
     "metadata": {},
     "output_type": "execute_result"
    }
   ],
   "source": [
    "train_inputs[numeric_cols].describe()"
   ]
  },
  {
   "cell_type": "markdown",
   "metadata": {
    "id": "qeW189Dgph2u"
   },
   "source": [
    "## 4. Training a Logistic Regression Model"
   ]
  },
  {
   "cell_type": "markdown",
   "metadata": {
    "id": "qW4lyAen1uAW"
   },
   "source": [
    "### Train & Evaluate Baseline Model"
   ]
  },
  {
   "cell_type": "code",
   "execution_count": null,
   "metadata": {
    "id": "tl41-t8V1uWN"
   },
   "outputs": [],
   "source": [
    "from sklearn.linear_model import LogisticRegression"
   ]
  },
  {
   "cell_type": "code",
   "execution_count": null,
   "metadata": {
    "id": "itlJxx9K1uZU"
   },
   "outputs": [],
   "source": [
    "logreg_model = LogisticRegression(solver='liblinear')"
   ]
  },
  {
   "cell_type": "code",
   "execution_count": null,
   "metadata": {
    "colab": {
     "base_uri": "https://localhost:8080/",
     "height": 75
    },
    "executionInfo": {
     "elapsed": 363,
     "status": "ok",
     "timestamp": 1685165156027,
     "user": {
      "displayName": "Tin Liman",
      "userId": "01796335397974011301"
     },
     "user_tz": 420
    },
    "id": "-I5tduIL1ud3",
    "outputId": "86fd044b-4f4f-4f24-e456-8d7ffdbb4fd9"
   },
   "outputs": [
    {
     "data": {
      "text/html": [
       "<style>#sk-container-id-3 {color: black;background-color: white;}#sk-container-id-3 pre{padding: 0;}#sk-container-id-3 div.sk-toggleable {background-color: white;}#sk-container-id-3 label.sk-toggleable__label {cursor: pointer;display: block;width: 100%;margin-bottom: 0;padding: 0.3em;box-sizing: border-box;text-align: center;}#sk-container-id-3 label.sk-toggleable__label-arrow:before {content: \"▸\";float: left;margin-right: 0.25em;color: #696969;}#sk-container-id-3 label.sk-toggleable__label-arrow:hover:before {color: black;}#sk-container-id-3 div.sk-estimator:hover label.sk-toggleable__label-arrow:before {color: black;}#sk-container-id-3 div.sk-toggleable__content {max-height: 0;max-width: 0;overflow: hidden;text-align: left;background-color: #f0f8ff;}#sk-container-id-3 div.sk-toggleable__content pre {margin: 0.2em;color: black;border-radius: 0.25em;background-color: #f0f8ff;}#sk-container-id-3 input.sk-toggleable__control:checked~div.sk-toggleable__content {max-height: 200px;max-width: 100%;overflow: auto;}#sk-container-id-3 input.sk-toggleable__control:checked~label.sk-toggleable__label-arrow:before {content: \"▾\";}#sk-container-id-3 div.sk-estimator input.sk-toggleable__control:checked~label.sk-toggleable__label {background-color: #d4ebff;}#sk-container-id-3 div.sk-label input.sk-toggleable__control:checked~label.sk-toggleable__label {background-color: #d4ebff;}#sk-container-id-3 input.sk-hidden--visually {border: 0;clip: rect(1px 1px 1px 1px);clip: rect(1px, 1px, 1px, 1px);height: 1px;margin: -1px;overflow: hidden;padding: 0;position: absolute;width: 1px;}#sk-container-id-3 div.sk-estimator {font-family: monospace;background-color: #f0f8ff;border: 1px dotted black;border-radius: 0.25em;box-sizing: border-box;margin-bottom: 0.5em;}#sk-container-id-3 div.sk-estimator:hover {background-color: #d4ebff;}#sk-container-id-3 div.sk-parallel-item::after {content: \"\";width: 100%;border-bottom: 1px solid gray;flex-grow: 1;}#sk-container-id-3 div.sk-label:hover label.sk-toggleable__label {background-color: #d4ebff;}#sk-container-id-3 div.sk-serial::before {content: \"\";position: absolute;border-left: 1px solid gray;box-sizing: border-box;top: 0;bottom: 0;left: 50%;z-index: 0;}#sk-container-id-3 div.sk-serial {display: flex;flex-direction: column;align-items: center;background-color: white;padding-right: 0.2em;padding-left: 0.2em;position: relative;}#sk-container-id-3 div.sk-item {position: relative;z-index: 1;}#sk-container-id-3 div.sk-parallel {display: flex;align-items: stretch;justify-content: center;background-color: white;position: relative;}#sk-container-id-3 div.sk-item::before, #sk-container-id-3 div.sk-parallel-item::before {content: \"\";position: absolute;border-left: 1px solid gray;box-sizing: border-box;top: 0;bottom: 0;left: 50%;z-index: -1;}#sk-container-id-3 div.sk-parallel-item {display: flex;flex-direction: column;z-index: 1;position: relative;background-color: white;}#sk-container-id-3 div.sk-parallel-item:first-child::after {align-self: flex-end;width: 50%;}#sk-container-id-3 div.sk-parallel-item:last-child::after {align-self: flex-start;width: 50%;}#sk-container-id-3 div.sk-parallel-item:only-child::after {width: 0;}#sk-container-id-3 div.sk-dashed-wrapped {border: 1px dashed gray;margin: 0 0.4em 0.5em 0.4em;box-sizing: border-box;padding-bottom: 0.4em;background-color: white;}#sk-container-id-3 div.sk-label label {font-family: monospace;font-weight: bold;display: inline-block;line-height: 1.2em;}#sk-container-id-3 div.sk-label-container {text-align: center;}#sk-container-id-3 div.sk-container {/* jupyter's `normalize.less` sets `[hidden] { display: none; }` but bootstrap.min.css set `[hidden] { display: none !important; }` so we also need the `!important` here to be able to override the default hidden behavior on the sphinx rendered scikit-learn.org. See: https://github.com/scikit-learn/scikit-learn/issues/21755 */display: inline-block !important;position: relative;}#sk-container-id-3 div.sk-text-repr-fallback {display: none;}</style><div id=\"sk-container-id-3\" class=\"sk-top-container\"><div class=\"sk-text-repr-fallback\"><pre>LogisticRegression(solver=&#x27;liblinear&#x27;)</pre><b>In a Jupyter environment, please rerun this cell to show the HTML representation or trust the notebook. <br />On GitHub, the HTML representation is unable to render, please try loading this page with nbviewer.org.</b></div><div class=\"sk-container\" hidden><div class=\"sk-item\"><div class=\"sk-estimator sk-toggleable\"><input class=\"sk-toggleable__control sk-hidden--visually\" id=\"sk-estimator-id-3\" type=\"checkbox\" checked><label for=\"sk-estimator-id-3\" class=\"sk-toggleable__label sk-toggleable__label-arrow\">LogisticRegression</label><div class=\"sk-toggleable__content\"><pre>LogisticRegression(solver=&#x27;liblinear&#x27;)</pre></div></div></div></div></div>"
      ],
      "text/plain": [
       "LogisticRegression(solver='liblinear')"
      ]
     },
     "execution_count": 61,
     "metadata": {},
     "output_type": "execute_result"
    }
   ],
   "source": [
    "logreg_model.fit(train_inputs[numeric_cols], train_targets)"
   ]
  },
  {
   "cell_type": "code",
   "execution_count": null,
   "metadata": {
    "colab": {
     "base_uri": "https://localhost:8080/"
    },
    "executionInfo": {
     "elapsed": 170,
     "status": "ok",
     "timestamp": 1685165009690,
     "user": {
      "displayName": "Tin Liman",
      "userId": "01796335397974011301"
     },
     "user_tz": 420
    },
    "id": "wVt6GKAk2gn-",
    "outputId": "11a1e679-981d-4f13-cf77-3995d3d5ee23"
   },
   "outputs": [
    {
     "name": "stdout",
     "output_type": "stream",
     "text": [
      "['policy_tenure', 'age_of_car', 'age_of_policyholder', 'population_density', 'airbags', 'displacement', 'gear_box', 'turning_radius', 'ncap_rating', 'claim_counts']\n"
     ]
    }
   ],
   "source": [
    "print(numeric_cols)"
   ]
  },
  {
   "cell_type": "code",
   "execution_count": null,
   "metadata": {
    "colab": {
     "base_uri": "https://localhost:8080/"
    },
    "executionInfo": {
     "elapsed": 178,
     "status": "ok",
     "timestamp": 1685165159608,
     "user": {
      "displayName": "Tin Liman",
      "userId": "01796335397974011301"
     },
     "user_tz": 420
    },
    "id": "mv7_bqdZ2gr8",
    "outputId": "c5857906-d745-42b3-d175-e263b3c440f1"
   },
   "outputs": [
    {
     "name": "stdout",
     "output_type": "stream",
     "text": [
      "[[1.6526871640701901, -3.2102273013674623, 0.0732872893137605, 0.004876343328162504, 0.2188064531805615, 1.5397092729642825, -0.06933794148513857, 0.0441001675943433, 0.04697692500957902, 0.00487631196893818]]\n"
     ]
    }
   ],
   "source": [
    "print(logreg_model.coef_.tolist())"
   ]
  },
  {
   "cell_type": "code",
   "execution_count": null,
   "metadata": {
    "colab": {
     "base_uri": "https://localhost:8080/"
    },
    "executionInfo": {
     "elapsed": 400,
     "status": "ok",
     "timestamp": 1685165162617,
     "user": {
      "displayName": "Tin Liman",
      "userId": "01796335397974011301"
     },
     "user_tz": 420
    },
    "id": "UGdmhh-d2nys",
    "outputId": "dd9315d9-5d8e-47a9-b2a1-eda02b7356a9"
   },
   "outputs": [
    {
     "name": "stdout",
     "output_type": "stream",
     "text": [
      "[-1.345278]\n"
     ]
    }
   ],
   "source": [
    "print(logreg_model.intercept_)"
   ]
  },
  {
   "cell_type": "markdown",
   "metadata": {
    "id": "uxf71f0LsZTZ"
   },
   "source": [
    "* Each weight is applied to the value in a specific column of the input. Higher the weight, the greater the impact of the column on the prediction."
   ]
  },
  {
   "cell_type": "code",
   "execution_count": null,
   "metadata": {
    "colab": {
     "base_uri": "https://localhost:8080/"
    },
    "executionInfo": {
     "elapsed": 156,
     "status": "ok",
     "timestamp": 1685165541994,
     "user": {
      "displayName": "Tin Liman",
      "userId": "01796335397974011301"
     },
     "user_tz": 420
    },
    "id": "tgcuNNjRsWa9",
    "outputId": "d305f879-5052-49e7-9ea2-7488100d19e0"
   },
   "outputs": [
    {
     "data": {
      "text/plain": [
       "array([0, 0, 0, ..., 0, 0, 0])"
      ]
     },
     "execution_count": 106,
     "metadata": {},
     "output_type": "execute_result"
    }
   ],
   "source": [
    "train_preds"
   ]
  },
  {
   "cell_type": "code",
   "execution_count": null,
   "metadata": {
    "colab": {
     "base_uri": "https://localhost:8080/"
    },
    "executionInfo": {
     "elapsed": 174,
     "status": "ok",
     "timestamp": 1685165603709,
     "user": {
      "displayName": "Tin Liman",
      "userId": "01796335397974011301"
     },
     "user_tz": 420
    },
    "id": "S2MqMowsskcb",
    "outputId": "4bb14e16-b680-4c3a-c47c-911b641b1a53"
   },
   "outputs": [
    {
     "data": {
      "text/plain": [
       "47804    0\n",
       "55075    0\n",
       "45912    0\n",
       "29180    0\n",
       "41933    0\n",
       "        ..\n",
       "54343    0\n",
       "38158    0\n",
       "860      0\n",
       "15795    0\n",
       "56422    0\n",
       "Name: is_claim, Length: 46873, dtype: int64"
      ]
     },
     "execution_count": 107,
     "metadata": {},
     "output_type": "execute_result"
    }
   ],
   "source": [
    "train_targets"
   ]
  },
  {
   "cell_type": "markdown",
   "metadata": {
    "id": "LQXR1enwspPZ"
   },
   "source": [
    "* We can output a prababilitstic prediction using predict_proba."
   ]
  },
  {
   "cell_type": "code",
   "execution_count": null,
   "metadata": {
    "colab": {
     "base_uri": "https://localhost:8080/"
    },
    "executionInfo": {
     "elapsed": 3,
     "status": "ok",
     "timestamp": 1685165652172,
     "user": {
      "displayName": "Tin Liman",
      "userId": "01796335397974011301"
     },
     "user_tz": 420
    },
    "id": "lswtxN1psuHS",
    "outputId": "a3c8f9a4-2226-412e-c70a-8ef5e817c2ed"
   },
   "outputs": [
    {
     "data": {
      "text/plain": [
       "array([[0.92738021, 0.07261979],\n",
       "       [0.94317856, 0.05682144],\n",
       "       [0.95231373, 0.04768627],\n",
       "       ...,\n",
       "       [0.9216833 , 0.0783167 ],\n",
       "       [0.95301063, 0.04698937],\n",
       "       [0.94596957, 0.05403043]])"
      ]
     },
     "execution_count": 108,
     "metadata": {},
     "output_type": "execute_result"
    }
   ],
   "source": [
    "train_probs= logreg_model.predict_proba(log_train)\n",
    "train_probs"
   ]
  },
  {
   "cell_type": "markdown",
   "metadata": {
    "id": "RhgaVlObp4PQ"
   },
   "source": [
    "## 5. Make Predictions and Evaluating the Model\n",
    "\n",
    "* We can now use the trained model to make predictions on the training, test\n",
    "\n",
    "* We can output a probabilistic prediction using predict_proba.\n",
    "\n",
    "* We can test the accuracy of the model's predictions by computing the percentage of matching values in train_preds and train_targets."
   ]
  },
  {
   "cell_type": "code",
   "execution_count": null,
   "metadata": {
    "id": "2GcE7rrxqM6c"
   },
   "outputs": [],
   "source": [
    "log_train = train_inputs[numeric_cols]\n",
    "log_val = val_inputs[numeric_cols]\n",
    "log_test = test_inputs[numeric_cols]"
   ]
  },
  {
   "cell_type": "code",
   "execution_count": null,
   "metadata": {
    "id": "PgAZslpjqM9z"
   },
   "outputs": [],
   "source": [
    "train_preds = logreg_model.predict(log_train)"
   ]
  },
  {
   "cell_type": "code",
   "execution_count": null,
   "metadata": {
    "colab": {
     "base_uri": "https://localhost:8080/"
    },
    "executionInfo": {
     "elapsed": 164,
     "status": "ok",
     "timestamp": 1685165180468,
     "user": {
      "displayName": "Tin Liman",
      "userId": "01796335397974011301"
     },
     "user_tz": 420
    },
    "id": "na93B2xV_TzD",
    "outputId": "8c50f3fd-76e6-472c-fe2c-34f4dadca0f3"
   },
   "outputs": [
    {
     "data": {
      "text/plain": [
       "array([0, 0, 0, ..., 0, 0, 0])"
      ]
     },
     "execution_count": 66,
     "metadata": {},
     "output_type": "execute_result"
    }
   ],
   "source": [
    "train_preds"
   ]
  },
  {
   "cell_type": "code",
   "execution_count": null,
   "metadata": {
    "colab": {
     "base_uri": "https://localhost:8080/"
    },
    "executionInfo": {
     "elapsed": 3,
     "status": "ok",
     "timestamp": 1685165182050,
     "user": {
      "displayName": "Tin Liman",
      "userId": "01796335397974011301"
     },
     "user_tz": 420
    },
    "id": "pRzYLIhU_YpG",
    "outputId": "e420c89f-eebc-4d98-b36f-7d2e2ad0dcdc"
   },
   "outputs": [
    {
     "data": {
      "text/plain": [
       "47804    0\n",
       "55075    0\n",
       "45912    0\n",
       "29180    0\n",
       "41933    0\n",
       "        ..\n",
       "54343    0\n",
       "38158    0\n",
       "860      0\n",
       "15795    0\n",
       "56422    0\n",
       "Name: is_claim, Length: 46873, dtype: int64"
      ]
     },
     "execution_count": 67,
     "metadata": {},
     "output_type": "execute_result"
    }
   ],
   "source": [
    "train_targets"
   ]
  },
  {
   "cell_type": "markdown",
   "metadata": {
    "id": "gRO1Vd3U5pg3"
   },
   "source": [
    "* We can output a probabilistic prediction using predict_proba."
   ]
  },
  {
   "cell_type": "code",
   "execution_count": null,
   "metadata": {
    "colab": {
     "base_uri": "https://localhost:8080/"
    },
    "executionInfo": {
     "elapsed": 186,
     "status": "ok",
     "timestamp": 1685165184210,
     "user": {
      "displayName": "Tin Liman",
      "userId": "01796335397974011301"
     },
     "user_tz": 420
    },
    "id": "8LQluaaOy4HQ",
    "outputId": "ccd05199-927d-434e-95c6-6b0e80e7b950"
   },
   "outputs": [
    {
     "data": {
      "text/plain": [
       "array([[0.92738021, 0.07261979],\n",
       "       [0.94317856, 0.05682144],\n",
       "       [0.95231373, 0.04768627],\n",
       "       ...,\n",
       "       [0.9216833 , 0.0783167 ],\n",
       "       [0.95301063, 0.04698937],\n",
       "       [0.94596957, 0.05403043]])"
      ]
     },
     "execution_count": 68,
     "metadata": {},
     "output_type": "execute_result"
    }
   ],
   "source": [
    "train_probs = logreg_model.predict_proba(log_train)\n",
    "train_probs"
   ]
  },
  {
   "cell_type": "code",
   "execution_count": null,
   "metadata": {
    "colab": {
     "base_uri": "https://localhost:8080/"
    },
    "executionInfo": {
     "elapsed": 3,
     "status": "ok",
     "timestamp": 1685165186244,
     "user": {
      "displayName": "Tin Liman",
      "userId": "01796335397974011301"
     },
     "user_tz": 420
    },
    "id": "nz0NWx6vy4Ku",
    "outputId": "7ad2f9b6-7e9d-414d-ca3f-4ef84e56819c"
   },
   "outputs": [
    {
     "data": {
      "text/plain": [
       "array([0, 1])"
      ]
     },
     "execution_count": 69,
     "metadata": {},
     "output_type": "execute_result"
    }
   ],
   "source": [
    "logreg_model.classes_"
   ]
  },
  {
   "cell_type": "markdown",
   "metadata": {
    "id": "laYLWpVx5uw7"
   },
   "source": [
    "We can test the accuracy of the model's predictions by computing the percentage of matching values in train_preds and train_targets.\n",
    "\n",
    "This can be done using the accuracy_score function from sklearn.metrics."
   ]
  },
  {
   "cell_type": "code",
   "execution_count": null,
   "metadata": {
    "id": "-iAJ_EbM6GQS"
   },
   "outputs": [],
   "source": [
    "from sklearn.metrics import accuracy_score"
   ]
  },
  {
   "cell_type": "code",
   "execution_count": null,
   "metadata": {
    "colab": {
     "base_uri": "https://localhost:8080/"
    },
    "executionInfo": {
     "elapsed": 189,
     "status": "ok",
     "timestamp": 1685165189483,
     "user": {
      "displayName": "Tin Liman",
      "userId": "01796335397974011301"
     },
     "user_tz": 420
    },
    "id": "6oyfNfR16GbL",
    "outputId": "a9927391-73ad-4332-954e-3de4956d027a"
   },
   "outputs": [
    {
     "data": {
      "text/plain": [
       "0.9361679431655751"
      ]
     },
     "execution_count": 71,
     "metadata": {},
     "output_type": "execute_result"
    }
   ],
   "source": [
    "accuracy_score(train_targets, train_preds)"
   ]
  },
  {
   "cell_type": "markdown",
   "metadata": {
    "id": "GC-rri2g7eHC"
   },
   "source": [
    "* The model achieves an accuracy of 93.6% on the training set. We can visualize the breakdown of correctly and incorrectly classified inputs using a confusion matrix."
   ]
  },
  {
   "cell_type": "code",
   "execution_count": null,
   "metadata": {
    "id": "JGFTox9C7lqd"
   },
   "outputs": [],
   "source": [
    "from sklearn.metrics import confusion_matrix"
   ]
  },
  {
   "cell_type": "code",
   "execution_count": null,
   "metadata": {
    "colab": {
     "base_uri": "https://localhost:8080/"
    },
    "executionInfo": {
     "elapsed": 3,
     "status": "ok",
     "timestamp": 1685165193011,
     "user": {
      "displayName": "Tin Liman",
      "userId": "01796335397974011301"
     },
     "user_tz": 420
    },
    "id": "IWKf9IpK7ly7",
    "outputId": "81447bd5-e844-4648-c4b0-2b1bcacb096d"
   },
   "outputs": [
    {
     "data": {
      "text/plain": [
       "array([[1., 0.],\n",
       "       [1., 0.]])"
      ]
     },
     "execution_count": 73,
     "metadata": {},
     "output_type": "execute_result"
    }
   ],
   "source": [
    "confusion_matrix(train_targets, train_preds, normalize='true')"
   ]
  },
  {
   "cell_type": "code",
   "execution_count": null,
   "metadata": {
    "id": "k1ZTlYLt_tB4"
   },
   "outputs": [],
   "source": [
    "def predict_and_plot(inputs, targets, name=''):\n",
    "    preds = logreg_model.predict(inputs)\n",
    "    \n",
    "    accuracy = accuracy_score(targets, preds)\n",
    "    print(\"Accuracy: {:.2f}%\".format(accuracy * 100))\n",
    "    \n",
    "    cf = confusion_matrix(targets, preds, normalize='true')\n",
    "    plt.figure()\n",
    "    sns.heatmap(cf, annot=True)\n",
    "    plt.xlabel('Prediction')\n",
    "    plt.ylabel('Target')\n",
    "    plt.title('{} Confusion Matrix'.format(name));\n",
    "    \n",
    "    return preds"
   ]
  },
  {
   "cell_type": "code",
   "execution_count": null,
   "metadata": {
    "colab": {
     "base_uri": "https://localhost:8080/",
     "height": 591
    },
    "executionInfo": {
     "elapsed": 456,
     "status": "ok",
     "timestamp": 1685165197931,
     "user": {
      "displayName": "Tin Liman",
      "userId": "01796335397974011301"
     },
     "user_tz": 420
    },
    "id": "hIF-BjUV_tLT",
    "outputId": "d246ad4e-01f8-41b3-e686-f355dd8327bd"
   },
   "outputs": [
    {
     "name": "stdout",
     "output_type": "stream",
     "text": [
      "Accuracy: 93.62%\n"
     ]
    },
    {
     "data": {
      "image/png": "[encoded data removed]",
      "text/plain": [
       "<Figure size 1200x600 with 2 Axes>"
      ]
     },
     "metadata": {
      "needs_background": "light"
     },
     "output_type": "display_data"
    }
   ],
   "source": [
    "train_preds = predict_and_plot(log_train, train_targets, 'Training');"
   ]
  },
  {
   "cell_type": "code",
   "execution_count": null,
   "metadata": {
    "colab": {
     "base_uri": "https://localhost:8080/",
     "height": 591
    },
    "executionInfo": {
     "elapsed": 465,
     "status": "ok",
     "timestamp": 1685165200736,
     "user": {
      "displayName": "Tin Liman",
      "userId": "01796335397974011301"
     },
     "user_tz": 420
    },
    "id": "L9N9017l_tWE",
    "outputId": "5af4e3e5-1863-462a-8785-206b175cbb49"
   },
   "outputs": [
    {
     "name": "stdout",
     "output_type": "stream",
     "text": [
      "Accuracy: 48.51%\n"
     ]
    },
    {
     "data": {
      "image/png": "[encoded data removed]",
      "text/plain": [
       "<Figure size 1200x600 with 2 Axes>"
      ]
     },
     "metadata": {
      "needs_background": "light"
     },
     "output_type": "display_data"
    }
   ],
   "source": [
    "val_preds = predict_and_plot(log_val, val_targets, 'Validation');"
   ]
  },
  {
   "cell_type": "markdown",
   "metadata": {
    "id": "AQJdwgXktG9Q"
   },
   "source": [
    "The accuracy of the model on the train and validation set are very far off. which suggests that our model generalizes well to data it hasn't seen before.\n",
    "\n",
    " While this depends on the nature of the problem and on business requirements, a good way to verify whether a model has actually learned something useful is to compare its results to a \"random\" or \"dumb\" model.\n",
    "\n",
    "Let's create two models: one that guesses randomly and another that always return \"No\". Both of these models completely ignore the inputs given to them."
   ]
  },
  {
   "cell_type": "code",
   "execution_count": null,
   "metadata": {
    "id": "vXQWqfJztHQX"
   },
   "outputs": [],
   "source": [
    "def random_guess(inputs):\n",
    "    return np.random.choice([\"No\", \"Yes\"], len(inputs))"
   ]
  },
  {
   "cell_type": "code",
   "execution_count": null,
   "metadata": {
    "id": "zmTypjSHtIdi"
   },
   "outputs": [],
   "source": [
    "def all_no(inputs):\n",
    "    return np.full(len(inputs), \"No\")"
   ]
  },
  {
   "cell_type": "code",
   "execution_count": null,
   "metadata": {
    "colab": {
     "base_uri": "https://localhost:8080/"
    },
    "executionInfo": {
     "elapsed": 141,
     "status": "ok",
     "timestamp": 1685166719452,
     "user": {
      "displayName": "Tin Liman",
      "userId": "01796335397974011301"
     },
     "user_tz": 420
    },
    "id": "RGhJZbImtIg9",
    "outputId": "a1a7dd75-4509-418b-817d-8574bbeaca5a"
   },
   "outputs": [
    {
     "name": "stderr",
     "output_type": "stream",
     "text": [
      "/usr/local/lib/python3.10/dist-packages/sklearn/metrics/_classification.py:227: FutureWarning: elementwise comparison failed; returning scalar instead, but in the future will perform elementwise comparison\n",
      "  score = y_true == y_pred\n"
     ]
    },
    {
     "data": {
      "text/plain": [
       "0.0"
      ]
     },
     "execution_count": 118,
     "metadata": {},
     "output_type": "execute_result"
    }
   ],
   "source": [
    "accuracy_score(train_targets, random_guess(log_train))"
   ]
  },
  {
   "cell_type": "code",
   "execution_count": null,
   "metadata": {
    "colab": {
     "base_uri": "https://localhost:8080/"
    },
    "executionInfo": {
     "elapsed": 369,
     "status": "ok",
     "timestamp": 1685166798185,
     "user": {
      "displayName": "Tin Liman",
      "userId": "01796335397974011301"
     },
     "user_tz": 420
    },
    "id": "aRsfiD3Uw_Zs",
    "outputId": "e3a9ca12-4d14-4a15-dabd-163e4f5d8739"
   },
   "outputs": [
    {
     "name": "stderr",
     "output_type": "stream",
     "text": [
      "/usr/local/lib/python3.10/dist-packages/sklearn/metrics/_classification.py:227: FutureWarning: elementwise comparison failed; returning scalar instead, but in the future will perform elementwise comparison\n",
      "  score = y_true == y_pred\n"
     ]
    },
    {
     "data": {
      "text/plain": [
       "0.0"
      ]
     },
     "execution_count": 121,
     "metadata": {},
     "output_type": "execute_result"
    }
   ],
   "source": [
    "accuracy_score(train_targets, all_no(log_train))"
   ]
  },
  {
   "cell_type": "markdown",
   "metadata": {
    "id": "bzjMKttcm0wT"
   },
   "source": [
    "## 6. Feature Engineering"
   ]
  },
  {
   "cell_type": "markdown",
   "metadata": {
    "id": "favUV_Ik7vY-"
   },
   "source": [
    "* Add new columns called 'claim_counts'.\n",
    "\n"
   ]
  },
  {
   "cell_type": "markdown",
   "metadata": {
    "id": "l59SBOhF9YMG"
   },
   "source": [
    "### Adding a new column"
   ]
  },
  {
   "cell_type": "code",
   "execution_count": null,
   "metadata": {
    "colab": {
     "base_uri": "https://localhost:8080/"
    },
    "executionInfo": {
     "elapsed": 2,
     "status": "ok",
     "timestamp": 1685164968191,
     "user": {
      "displayName": "Tin Liman",
      "userId": "01796335397974011301"
     },
     "user_tz": 420
    },
    "id": "FE36MEIZm2Cs",
    "outputId": "8660cf53-576f-47ad-d282-77afff613b76"
   },
   "outputs": [
    {
     "data": {
      "text/plain": [
       "0    43881\n",
       "1     2992\n",
       "Name: is_claim, dtype: int64"
      ]
     },
     "execution_count": 22,
     "metadata": {},
     "output_type": "execute_result"
    }
   ],
   "source": [
    "train_df.is_claim.value_counts()"
   ]
  },
  {
   "cell_type": "code",
   "execution_count": null,
   "metadata": {
    "id": "QGsM2W-Tm2FS"
   },
   "outputs": [],
   "source": [
    "claim_counts= train_df.groupby(['policy_tenure','population_density']).size().reset_index().rename(columns={0: 'claim_counts'})"
   ]
  },
  {
   "cell_type": "code",
   "execution_count": null,
   "metadata": {
    "colab": {
     "base_uri": "https://localhost:8080/",
     "height": 424
    },
    "executionInfo": {
     "elapsed": 3,
     "status": "ok",
     "timestamp": 1685164970460,
     "user": {
      "displayName": "Tin Liman",
      "userId": "01796335397974011301"
     },
     "user_tz": 420
    },
    "id": "qN_9JzDzNOz2",
    "outputId": "236b89ff-4a44-4b7d-a0be-d45d16c691de"
   },
   "outputs": [
    {
     "data": {
      "text/html": [
       "\n",
       "  <div id=\"df-9297c0bf-03c8-4880-b0d9-f670e08003b6\">\n",
       "    <div class=\"colab-df-container\">\n",
       "      <div>\n",
       "<style scoped>\n",
       "    .dataframe tbody tr th:only-of-type {\n",
       "        vertical-align: middle;\n",
       "    }\n",
       "\n",
       "    .dataframe tbody tr th {\n",
       "        vertical-align: top;\n",
       "    }\n",
       "\n",
       "    .dataframe thead th {\n",
       "        text-align: right;\n",
       "    }\n",
       "</style>\n",
       "<table border=\"1\" class=\"dataframe\">\n",
       "  <thead>\n",
       "    <tr style=\"text-align: right;\">\n",
       "      <th></th>\n",
       "      <th>policy_tenure</th>\n",
       "      <th>population_density</th>\n",
       "      <th>claim_counts</th>\n",
       "    </tr>\n",
       "  </thead>\n",
       "  <tbody>\n",
       "    <tr>\n",
       "      <th>0</th>\n",
       "      <td>0.002735</td>\n",
       "      <td>7788</td>\n",
       "      <td>1</td>\n",
       "    </tr>\n",
       "    <tr>\n",
       "      <th>1</th>\n",
       "      <td>0.002740</td>\n",
       "      <td>8794</td>\n",
       "      <td>1</td>\n",
       "    </tr>\n",
       "    <tr>\n",
       "      <th>2</th>\n",
       "      <td>0.002748</td>\n",
       "      <td>73430</td>\n",
       "      <td>1</td>\n",
       "    </tr>\n",
       "    <tr>\n",
       "      <th>3</th>\n",
       "      <td>0.002763</td>\n",
       "      <td>5410</td>\n",
       "      <td>1</td>\n",
       "    </tr>\n",
       "    <tr>\n",
       "      <th>4</th>\n",
       "      <td>0.002765</td>\n",
       "      <td>6112</td>\n",
       "      <td>1</td>\n",
       "    </tr>\n",
       "    <tr>\n",
       "      <th>...</th>\n",
       "      <td>...</td>\n",
       "      <td>...</td>\n",
       "      <td>...</td>\n",
       "    </tr>\n",
       "    <tr>\n",
       "      <th>46868</th>\n",
       "      <td>1.370463</td>\n",
       "      <td>27003</td>\n",
       "      <td>1</td>\n",
       "    </tr>\n",
       "    <tr>\n",
       "      <th>46869</th>\n",
       "      <td>1.375988</td>\n",
       "      <td>73430</td>\n",
       "      <td>1</td>\n",
       "    </tr>\n",
       "    <tr>\n",
       "      <th>46870</th>\n",
       "      <td>1.376478</td>\n",
       "      <td>34738</td>\n",
       "      <td>1</td>\n",
       "    </tr>\n",
       "    <tr>\n",
       "      <th>46871</th>\n",
       "      <td>1.386520</td>\n",
       "      <td>3264</td>\n",
       "      <td>1</td>\n",
       "    </tr>\n",
       "    <tr>\n",
       "      <th>46872</th>\n",
       "      <td>1.396641</td>\n",
       "      <td>34738</td>\n",
       "      <td>1</td>\n",
       "    </tr>\n",
       "  </tbody>\n",
       "</table>\n",
       "<p>46873 rows × 3 columns</p>\n",
       "</div>\n",
       "      <button class=\"colab-df-convert\" onclick=\"convertToInteractive('df-9297c0bf-03c8-4880-b0d9-f670e08003b6')\"\n",
       "              title=\"Convert this dataframe to an interactive table.\"\n",
       "              style=\"display:none;\">\n",
       "        \n",
       "  <svg xmlns=\"http://www.w3.org/2000/svg\" height=\"24px\"viewBox=\"0 0 24 24\"\n",
       "       width=\"24px\">\n",
       "    <path d=\"M0 0h24v24H0V0z\" fill=\"none\"/>\n",
       "    <path d=\"M18.56 5.44l.94 2.06.94-2.06 2.06-.94-2.06-.94-.94-2.06-.94 2.06-2.06.94zm-11 1L8.5 8.5l.94-2.06 2.06-.94-2.06-.94L8.5 2.5l-.94 2.06-2.06.94zm10 10l.94 2.06.94-2.06 2.06-.94-2.06-.94-.94-2.06-.94 2.06-2.06.94z\"/><path d=\"M17.41 7.96l-1.37-1.37c-.4-.4-.92-.59-1.43-.59-.52 0-1.04.2-1.43.59L10.3 9.45l-7.72 7.72c-.78.78-.78 2.05 0 2.83L4 21.41c.39.39.9.59 1.41.59.51 0 1.02-.2 1.41-.59l7.78-7.78 2.81-2.81c.8-.78.8-2.07 0-2.86zM5.41 20L4 18.59l7.72-7.72 1.47 1.35L5.41 20z\"/>\n",
       "  </svg>\n",
       "      </button>\n",
       "      \n",
       "  <style>\n",
       "    .colab-df-container {\n",
       "      display:flex;\n",
       "      flex-wrap:wrap;\n",
       "      gap: 12px;\n",
       "    }\n",
       "\n",
       "    .colab-df-convert {\n",
       "      background-color: #E8F0FE;\n",
       "      border: none;\n",
       "      border-radius: 50%;\n",
       "      cursor: pointer;\n",
       "      display: none;\n",
       "      fill: #1967D2;\n",
       "      height: 32px;\n",
       "      padding: 0 0 0 0;\n",
       "      width: 32px;\n",
       "    }\n",
       "\n",
       "    .colab-df-convert:hover {\n",
       "      background-color: #E2EBFA;\n",
       "      box-shadow: 0px 1px 2px rgba(60, 64, 67, 0.3), 0px 1px 3px 1px rgba(60, 64, 67, 0.15);\n",
       "      fill: #174EA6;\n",
       "    }\n",
       "\n",
       "    [theme=dark] .colab-df-convert {\n",
       "      background-color: #3B4455;\n",
       "      fill: #D2E3FC;\n",
       "    }\n",
       "\n",
       "    [theme=dark] .colab-df-convert:hover {\n",
       "      background-color: #434B5C;\n",
       "      box-shadow: 0px 1px 3px 1px rgba(0, 0, 0, 0.15);\n",
       "      filter: drop-shadow(0px 1px 2px rgba(0, 0, 0, 0.3));\n",
       "      fill: #FFFFFF;\n",
       "    }\n",
       "  </style>\n",
       "\n",
       "      <script>\n",
       "        const buttonEl =\n",
       "          document.querySelector('#df-9297c0bf-03c8-4880-b0d9-f670e08003b6 button.colab-df-convert');\n",
       "        buttonEl.style.display =\n",
       "          google.colab.kernel.accessAllowed ? 'block' : 'none';\n",
       "\n",
       "        async function convertToInteractive(key) {\n",
       "          const element = document.querySelector('#df-9297c0bf-03c8-4880-b0d9-f670e08003b6');\n",
       "          const dataTable =\n",
       "            await google.colab.kernel.invokeFunction('convertToInteractive',\n",
       "                                                     [key], {});\n",
       "          if (!dataTable) return;\n",
       "\n",
       "          const docLinkHtml = 'Like what you see? Visit the ' +\n",
       "            '<a target=\"_blank\" href=https://colab.research.google.com/notebooks/data_table.ipynb>data table notebook</a>'\n",
       "            + ' to learn more about interactive tables.';\n",
       "          element.innerHTML = '';\n",
       "          dataTable['output_type'] = 'display_data';\n",
       "          await google.colab.output.renderOutput(dataTable, element);\n",
       "          const docLink = document.createElement('div');\n",
       "          docLink.innerHTML = docLinkHtml;\n",
       "          element.appendChild(docLink);\n",
       "        }\n",
       "      </script>\n",
       "    </div>\n",
       "  </div>\n",
       "  "
      ],
      "text/plain": [
       "       policy_tenure  population_density  claim_counts\n",
       "0           0.002735                7788             1\n",
       "1           0.002740                8794             1\n",
       "2           0.002748               73430             1\n",
       "3           0.002763                5410             1\n",
       "4           0.002765                6112             1\n",
       "...              ...                 ...           ...\n",
       "46868       1.370463               27003             1\n",
       "46869       1.375988               73430             1\n",
       "46870       1.376478               34738             1\n",
       "46871       1.386520                3264             1\n",
       "46872       1.396641               34738             1\n",
       "\n",
       "[46873 rows x 3 columns]"
      ]
     },
     "execution_count": 24,
     "metadata": {},
     "output_type": "execute_result"
    }
   ],
   "source": [
    "claim_counts"
   ]
  },
  {
   "cell_type": "code",
   "execution_count": null,
   "metadata": {
    "id": "I6cXHmoxmDyF"
   },
   "outputs": [],
   "source": [
    "def claim_counts(train_df):\n",
    "  train_df['claim_counts']= train_df.apply(lambda row: row['policy_tenure'] + row['population_density'], axis=1)\n",
    "\n",
    "claim_counts(train_df)"
   ]
  },
  {
   "cell_type": "code",
   "execution_count": null,
   "metadata": {
    "id": "YKKOTrKKSyGQ"
   },
   "outputs": [],
   "source": [
    "claim_counts(train_df)"
   ]
  },
  {
   "cell_type": "code",
   "execution_count": null,
   "metadata": {
    "id": "sZFSmSlGS-bx"
   },
   "outputs": [],
   "source": [
    "claim_counts(val_df)"
   ]
  },
  {
   "cell_type": "code",
   "execution_count": null,
   "metadata": {
    "id": "XB08DyYVHwAx"
   },
   "outputs": [],
   "source": [
    "claim_counts(test_df)"
   ]
  },
  {
   "cell_type": "markdown",
   "metadata": {
    "id": "dC7CG_YpF0qT"
   },
   "source": [
    "### Save Intermediate DataFrames\n",
    "\n",
    "Let's save the processed datasets in the Apache Parquet format, so that we can load them back easily to resume our work from this point.\n",
    "\n",
    "You may also want to create differnt notebooks for EDA, feature engineering and model training."
   ]
  },
  {
   "cell_type": "code",
   "execution_count": null,
   "metadata": {
    "id": "rLofFPRXF11B"
   },
   "outputs": [],
   "source": [
    "train_df.to_parquet('train.parquet')"
   ]
  },
  {
   "cell_type": "code",
   "execution_count": null,
   "metadata": {
    "id": "zHJp-EK9F134"
   },
   "outputs": [],
   "source": [
    "val_df.to_parquet('val.parquet')"
   ]
  },
  {
   "cell_type": "code",
   "execution_count": null,
   "metadata": {
    "id": "v8fX8-OTF17X"
   },
   "outputs": [],
   "source": [
    "test_df.to_parquet('test.parquet')"
   ]
  },
  {
   "cell_type": "markdown",
   "metadata": {
    "id": "Sqg9NbRzNHbv"
   },
   "source": [
    "## 7. Train & Evaluate Different Models\n",
    "\n",
    "We'll train each of the following & submit predictions to Kaggle:\n",
    "\n",
    "* Losgistic Regression\n",
    "\n",
    "* Random Forests\n",
    "\n",
    "* Gradient Boosting"
   ]
  },
  {
   "cell_type": "markdown",
   "metadata": {
    "id": "jow8KG6SNf8e"
   },
   "source": [
    "### Split Inputs & Targets"
   ]
  },
  {
   "cell_type": "code",
   "execution_count": null,
   "metadata": {
    "id": "JfhU8eRkk8iU"
   },
   "outputs": [],
   "source": [
    "from sklearn.linear_model import LogisticRegression\n",
    "from sklearn.metrics import accuracy_score\n",
    "import joblib"
   ]
  },
  {
   "cell_type": "code",
   "execution_count": null,
   "metadata": {
    "colab": {
     "base_uri": "https://localhost:8080/"
    },
    "executionInfo": {
     "elapsed": 146,
     "status": "ok",
     "timestamp": 1685165035885,
     "user": {
      "displayName": "Tin Liman",
      "userId": "01796335397974011301"
     },
     "user_tz": 420
    },
    "id": "XodUYYMhNgEy",
    "outputId": "e61ade6b-2a36-406c-926b-35a603017719"
   },
   "outputs": [
    {
     "data": {
      "text/plain": [
       "Index(['policy_id', 'policy_tenure', 'age_of_car', 'age_of_policyholder',\n",
       "       'area_cluster', 'population_density', 'make', 'segment', 'model',\n",
       "       'fuel_type', 'max_torque', 'max_power', 'engine_type', 'airbags',\n",
       "       'is_esc', 'is_adjustable_steering', 'is_tpms', 'is_parking_sensors',\n",
       "       'is_parking_camera', 'rear_brakes_type', 'displacement', 'cylinder',\n",
       "       'transmission_type', 'gear_box', 'steering_type', 'turning_radius',\n",
       "       'length', 'width', 'height', 'gross_weight', 'is_front_fog_lights',\n",
       "       'is_rear_window_wiper', 'is_rear_window_washer',\n",
       "       'is_rear_window_defogger', 'is_brake_assist', 'is_power_door_locks',\n",
       "       'is_central_locking', 'is_power_steering',\n",
       "       'is_driver_seat_height_adjustable', 'is_day_night_rear_view_mirror',\n",
       "       'is_ecw', 'is_speed_alert', 'ncap_rating', 'is_claim', 'claim_counts'],\n",
       "      dtype='object')"
      ]
     },
     "execution_count": 45,
     "metadata": {},
     "output_type": "execute_result"
    }
   ],
   "source": [
    "train_df.columns"
   ]
  },
  {
   "cell_type": "code",
   "execution_count": null,
   "metadata": {
    "id": "AQu2DebfNgHp"
   },
   "outputs": [],
   "source": [
    "input_cols=['policy_tenure', 'age_of_car', 'age_of_policyholder',\n",
    "        'population_density','airbags','displacement','gear_box','turning_radius','ncap_rating','claim_counts']"
   ]
  },
  {
   "cell_type": "code",
   "execution_count": null,
   "metadata": {
    "id": "66hnd6p6NgKg"
   },
   "outputs": [],
   "source": [
    "target_col= 'is_claim'"
   ]
  },
  {
   "cell_type": "code",
   "execution_count": null,
   "metadata": {
    "id": "UxPye4hL4IUs"
   },
   "outputs": [],
   "source": [
    "train_inputs = train_df[input_cols]\n",
    "train_targets = train_df[target_col]"
   ]
  },
  {
   "cell_type": "code",
   "execution_count": null,
   "metadata": {
    "id": "pGStZ0zU4Nq2"
   },
   "outputs": [],
   "source": [
    "val_inputs = val_df[input_cols]\n",
    "val_targets = val_df[target_col]"
   ]
  },
  {
   "cell_type": "code",
   "execution_count": null,
   "metadata": {
    "id": "40HO9WZU4Ntv"
   },
   "outputs": [],
   "source": [
    "test_inputs = test_df[input_cols]"
   ]
  },
  {
   "cell_type": "code",
   "execution_count": null,
   "metadata": {
    "id": "zlEzN3Sj4RR2"
   },
   "outputs": [],
   "source": [
    "def evaluate(model):\n",
    "    train_preds = model.predict(train_inputs)\n",
    "    train_accuracy = accuracy_score(train_targets, train_preds)\n",
    "    val_preds = model.predict(val_inputs)\n",
    "    val_accuracy = accuracy_score(val_targets, val_preds)\n",
    "    return train_accuracy, val_accuracy, train_preds, val_preds"
   ]
  },
  {
   "cell_type": "code",
   "execution_count": null,
   "metadata": {
    "id": "x5fP71nx4RUx"
   },
   "outputs": [],
   "source": [
    "def predict_and_submit(model, fname):\n",
    "    test_preds = model.predict(test_inputs)\n",
    "    sub_df = pd.read_csv(data_dir+'/sample_submission.csv')\n",
    "    sub_df['is_claim'] = test_preds\n",
    "    sub_df.to_csv(fname, index=None)\n",
    "    return sub_df"
   ]
  },
  {
   "cell_type": "markdown",
   "metadata": {
    "id": "Eh__20aHNgdB"
   },
   "source": [
    "### Ridge Regression"
   ]
  },
  {
   "cell_type": "code",
   "execution_count": null,
   "metadata": {
    "id": "u6gju-A2Ngnb"
   },
   "outputs": [],
   "source": [
    "from sklearn.linear_model import RidgeClassifier"
   ]
  },
  {
   "cell_type": "code",
   "execution_count": null,
   "metadata": {
    "id": "zUHldhIqNgqR"
   },
   "outputs": [],
   "source": [
    "model1 = RidgeClassifier(random_state=42)"
   ]
  },
  {
   "cell_type": "code",
   "execution_count": null,
   "metadata": {
    "colab": {
     "base_uri": "https://localhost:8080/",
     "height": 424
    },
    "executionInfo": {
     "elapsed": 342,
     "status": "ok",
     "timestamp": 1685165218717,
     "user": {
      "displayName": "Tin Liman",
      "userId": "01796335397974011301"
     },
     "user_tz": 420
    },
    "id": "LrWqqxbcGOcV",
    "outputId": "e69c4b7e-f07e-43f7-c7d2-918a42de5f68"
   },
   "outputs": [
    {
     "data": {
      "text/html": [
       "\n",
       "  <div id=\"df-7e07cf12-04aa-41d7-a32f-1361c6b2ad93\">\n",
       "    <div class=\"colab-df-container\">\n",
       "      <div>\n",
       "<style scoped>\n",
       "    .dataframe tbody tr th:only-of-type {\n",
       "        vertical-align: middle;\n",
       "    }\n",
       "\n",
       "    .dataframe tbody tr th {\n",
       "        vertical-align: top;\n",
       "    }\n",
       "\n",
       "    .dataframe thead th {\n",
       "        text-align: right;\n",
       "    }\n",
       "</style>\n",
       "<table border=\"1\" class=\"dataframe\">\n",
       "  <thead>\n",
       "    <tr style=\"text-align: right;\">\n",
       "      <th></th>\n",
       "      <th>policy_tenure</th>\n",
       "      <th>age_of_car</th>\n",
       "      <th>age_of_policyholder</th>\n",
       "      <th>population_density</th>\n",
       "      <th>airbags</th>\n",
       "      <th>displacement</th>\n",
       "      <th>gear_box</th>\n",
       "      <th>turning_radius</th>\n",
       "      <th>ncap_rating</th>\n",
       "      <th>claim_counts</th>\n",
       "    </tr>\n",
       "  </thead>\n",
       "  <tbody>\n",
       "    <tr>\n",
       "      <th>47804</th>\n",
       "      <td>1.010772</td>\n",
       "      <td>0.11</td>\n",
       "      <td>0.375000</td>\n",
       "      <td>34791</td>\n",
       "      <td>2</td>\n",
       "      <td>1197</td>\n",
       "      <td>5</td>\n",
       "      <td>4.8</td>\n",
       "      <td>2</td>\n",
       "      <td>34792.010772</td>\n",
       "    </tr>\n",
       "    <tr>\n",
       "      <th>55075</th>\n",
       "      <td>0.473653</td>\n",
       "      <td>0.05</td>\n",
       "      <td>0.548077</td>\n",
       "      <td>4076</td>\n",
       "      <td>2</td>\n",
       "      <td>796</td>\n",
       "      <td>5</td>\n",
       "      <td>4.6</td>\n",
       "      <td>0</td>\n",
       "      <td>4076.473653</td>\n",
       "    </tr>\n",
       "    <tr>\n",
       "      <th>45912</th>\n",
       "      <td>0.287461</td>\n",
       "      <td>0.06</td>\n",
       "      <td>0.586538</td>\n",
       "      <td>27742</td>\n",
       "      <td>2</td>\n",
       "      <td>796</td>\n",
       "      <td>5</td>\n",
       "      <td>4.6</td>\n",
       "      <td>0</td>\n",
       "      <td>27742.287461</td>\n",
       "    </tr>\n",
       "    <tr>\n",
       "      <th>29180</th>\n",
       "      <td>0.547799</td>\n",
       "      <td>0.08</td>\n",
       "      <td>0.721154</td>\n",
       "      <td>27003</td>\n",
       "      <td>2</td>\n",
       "      <td>1197</td>\n",
       "      <td>5</td>\n",
       "      <td>4.8</td>\n",
       "      <td>2</td>\n",
       "      <td>27003.547799</td>\n",
       "    </tr>\n",
       "    <tr>\n",
       "      <th>41933</th>\n",
       "      <td>1.140288</td>\n",
       "      <td>0.08</td>\n",
       "      <td>0.471154</td>\n",
       "      <td>17804</td>\n",
       "      <td>6</td>\n",
       "      <td>1493</td>\n",
       "      <td>6</td>\n",
       "      <td>5.2</td>\n",
       "      <td>3</td>\n",
       "      <td>17805.140288</td>\n",
       "    </tr>\n",
       "    <tr>\n",
       "      <th>...</th>\n",
       "      <td>...</td>\n",
       "      <td>...</td>\n",
       "      <td>...</td>\n",
       "      <td>...</td>\n",
       "      <td>...</td>\n",
       "      <td>...</td>\n",
       "      <td>...</td>\n",
       "      <td>...</td>\n",
       "      <td>...</td>\n",
       "      <td>...</td>\n",
       "    </tr>\n",
       "    <tr>\n",
       "      <th>54343</th>\n",
       "      <td>1.230162</td>\n",
       "      <td>0.19</td>\n",
       "      <td>0.451923</td>\n",
       "      <td>8794</td>\n",
       "      <td>6</td>\n",
       "      <td>1493</td>\n",
       "      <td>6</td>\n",
       "      <td>5.2</td>\n",
       "      <td>3</td>\n",
       "      <td>8795.230162</td>\n",
       "    </tr>\n",
       "    <tr>\n",
       "      <th>38158</th>\n",
       "      <td>0.445617</td>\n",
       "      <td>0.00</td>\n",
       "      <td>0.519231</td>\n",
       "      <td>4076</td>\n",
       "      <td>2</td>\n",
       "      <td>796</td>\n",
       "      <td>5</td>\n",
       "      <td>4.6</td>\n",
       "      <td>0</td>\n",
       "      <td>4076.445617</td>\n",
       "    </tr>\n",
       "    <tr>\n",
       "      <th>860</th>\n",
       "      <td>1.190469</td>\n",
       "      <td>0.13</td>\n",
       "      <td>0.326923</td>\n",
       "      <td>8794</td>\n",
       "      <td>2</td>\n",
       "      <td>1197</td>\n",
       "      <td>5</td>\n",
       "      <td>4.8</td>\n",
       "      <td>2</td>\n",
       "      <td>8795.190469</td>\n",
       "    </tr>\n",
       "    <tr>\n",
       "      <th>15795</th>\n",
       "      <td>0.023212</td>\n",
       "      <td>0.00</td>\n",
       "      <td>0.701923</td>\n",
       "      <td>34738</td>\n",
       "      <td>2</td>\n",
       "      <td>796</td>\n",
       "      <td>5</td>\n",
       "      <td>4.6</td>\n",
       "      <td>0</td>\n",
       "      <td>34738.023212</td>\n",
       "    </tr>\n",
       "    <tr>\n",
       "      <th>56422</th>\n",
       "      <td>0.233716</td>\n",
       "      <td>0.00</td>\n",
       "      <td>0.480769</td>\n",
       "      <td>73430</td>\n",
       "      <td>2</td>\n",
       "      <td>796</td>\n",
       "      <td>5</td>\n",
       "      <td>4.6</td>\n",
       "      <td>0</td>\n",
       "      <td>73430.233716</td>\n",
       "    </tr>\n",
       "  </tbody>\n",
       "</table>\n",
       "<p>46873 rows × 10 columns</p>\n",
       "</div>\n",
       "      <button class=\"colab-df-convert\" onclick=\"convertToInteractive('df-7e07cf12-04aa-41d7-a32f-1361c6b2ad93')\"\n",
       "              title=\"Convert this dataframe to an interactive table.\"\n",
       "              style=\"display:none;\">\n",
       "        \n",
       "  <svg xmlns=\"http://www.w3.org/2000/svg\" height=\"24px\"viewBox=\"0 0 24 24\"\n",
       "       width=\"24px\">\n",
       "    <path d=\"M0 0h24v24H0V0z\" fill=\"none\"/>\n",
       "    <path d=\"M18.56 5.44l.94 2.06.94-2.06 2.06-.94-2.06-.94-.94-2.06-.94 2.06-2.06.94zm-11 1L8.5 8.5l.94-2.06 2.06-.94-2.06-.94L8.5 2.5l-.94 2.06-2.06.94zm10 10l.94 2.06.94-2.06 2.06-.94-2.06-.94-.94-2.06-.94 2.06-2.06.94z\"/><path d=\"M17.41 7.96l-1.37-1.37c-.4-.4-.92-.59-1.43-.59-.52 0-1.04.2-1.43.59L10.3 9.45l-7.72 7.72c-.78.78-.78 2.05 0 2.83L4 21.41c.39.39.9.59 1.41.59.51 0 1.02-.2 1.41-.59l7.78-7.78 2.81-2.81c.8-.78.8-2.07 0-2.86zM5.41 20L4 18.59l7.72-7.72 1.47 1.35L5.41 20z\"/>\n",
       "  </svg>\n",
       "      </button>\n",
       "      \n",
       "  <style>\n",
       "    .colab-df-container {\n",
       "      display:flex;\n",
       "      flex-wrap:wrap;\n",
       "      gap: 12px;\n",
       "    }\n",
       "\n",
       "    .colab-df-convert {\n",
       "      background-color: #E8F0FE;\n",
       "      border: none;\n",
       "      border-radius: 50%;\n",
       "      cursor: pointer;\n",
       "      display: none;\n",
       "      fill: #1967D2;\n",
       "      height: 32px;\n",
       "      padding: 0 0 0 0;\n",
       "      width: 32px;\n",
       "    }\n",
       "\n",
       "    .colab-df-convert:hover {\n",
       "      background-color: #E2EBFA;\n",
       "      box-shadow: 0px 1px 2px rgba(60, 64, 67, 0.3), 0px 1px 3px 1px rgba(60, 64, 67, 0.15);\n",
       "      fill: #174EA6;\n",
       "    }\n",
       "\n",
       "    [theme=dark] .colab-df-convert {\n",
       "      background-color: #3B4455;\n",
       "      fill: #D2E3FC;\n",
       "    }\n",
       "\n",
       "    [theme=dark] .colab-df-convert:hover {\n",
       "      background-color: #434B5C;\n",
       "      box-shadow: 0px 1px 3px 1px rgba(0, 0, 0, 0.15);\n",
       "      filter: drop-shadow(0px 1px 2px rgba(0, 0, 0, 0.3));\n",
       "      fill: #FFFFFF;\n",
       "    }\n",
       "  </style>\n",
       "\n",
       "      <script>\n",
       "        const buttonEl =\n",
       "          document.querySelector('#df-7e07cf12-04aa-41d7-a32f-1361c6b2ad93 button.colab-df-convert');\n",
       "        buttonEl.style.display =\n",
       "          google.colab.kernel.accessAllowed ? 'block' : 'none';\n",
       "\n",
       "        async function convertToInteractive(key) {\n",
       "          const element = document.querySelector('#df-7e07cf12-04aa-41d7-a32f-1361c6b2ad93');\n",
       "          const dataTable =\n",
       "            await google.colab.kernel.invokeFunction('convertToInteractive',\n",
       "                                                     [key], {});\n",
       "          if (!dataTable) return;\n",
       "\n",
       "          const docLinkHtml = 'Like what you see? Visit the ' +\n",
       "            '<a target=\"_blank\" href=https://colab.research.google.com/notebooks/data_table.ipynb>data table notebook</a>'\n",
       "            + ' to learn more about interactive tables.';\n",
       "          element.innerHTML = '';\n",
       "          dataTable['output_type'] = 'display_data';\n",
       "          await google.colab.output.renderOutput(dataTable, element);\n",
       "          const docLink = document.createElement('div');\n",
       "          docLink.innerHTML = docLinkHtml;\n",
       "          element.appendChild(docLink);\n",
       "        }\n",
       "      </script>\n",
       "    </div>\n",
       "  </div>\n",
       "  "
      ],
      "text/plain": [
       "       policy_tenure  age_of_car  age_of_policyholder  population_density  \\\n",
       "47804       1.010772        0.11             0.375000               34791   \n",
       "55075       0.473653        0.05             0.548077                4076   \n",
       "45912       0.287461        0.06             0.586538               27742   \n",
       "29180       0.547799        0.08             0.721154               27003   \n",
       "41933       1.140288        0.08             0.471154               17804   \n",
       "...              ...         ...                  ...                 ...   \n",
       "54343       1.230162        0.19             0.451923                8794   \n",
       "38158       0.445617        0.00             0.519231                4076   \n",
       "860         1.190469        0.13             0.326923                8794   \n",
       "15795       0.023212        0.00             0.701923               34738   \n",
       "56422       0.233716        0.00             0.480769               73430   \n",
       "\n",
       "       airbags  displacement  gear_box  turning_radius  ncap_rating  \\\n",
       "47804        2          1197         5             4.8            2   \n",
       "55075        2           796         5             4.6            0   \n",
       "45912        2           796         5             4.6            0   \n",
       "29180        2          1197         5             4.8            2   \n",
       "41933        6          1493         6             5.2            3   \n",
       "...        ...           ...       ...             ...          ...   \n",
       "54343        6          1493         6             5.2            3   \n",
       "38158        2           796         5             4.6            0   \n",
       "860          2          1197         5             4.8            2   \n",
       "15795        2           796         5             4.6            0   \n",
       "56422        2           796         5             4.6            0   \n",
       "\n",
       "       claim_counts  \n",
       "47804  34792.010772  \n",
       "55075   4076.473653  \n",
       "45912  27742.287461  \n",
       "29180  27003.547799  \n",
       "41933  17805.140288  \n",
       "...             ...  \n",
       "54343   8795.230162  \n",
       "38158   4076.445617  \n",
       "860     8795.190469  \n",
       "15795  34738.023212  \n",
       "56422  73430.233716  \n",
       "\n",
       "[46873 rows x 10 columns]"
      ]
     },
     "execution_count": 82,
     "metadata": {},
     "output_type": "execute_result"
    }
   ],
   "source": [
    "train_inputs[numeric_cols]"
   ]
  },
  {
   "cell_type": "code",
   "execution_count": null,
   "metadata": {
    "colab": {
     "base_uri": "https://localhost:8080/",
     "height": 110
    },
    "executionInfo": {
     "elapsed": 400,
     "status": "ok",
     "timestamp": 1685165223702,
     "user": {
      "displayName": "Tin Liman",
      "userId": "01796335397974011301"
     },
     "user_tz": 420
    },
    "id": "Rz_-jPXRIu2Q",
    "outputId": "56b6eb1f-720b-4188-dffe-662c3d36ffe4"
   },
   "outputs": [
    {
     "name": "stdout",
     "output_type": "stream",
     "text": [
      "CPU times: user 27 ms, sys: 24.2 ms, total: 51.2 ms\n",
      "Wall time: 54.3 ms\n"
     ]
    },
    {
     "data": {
      "text/html": [
       "<style>#sk-container-id-4 {color: black;background-color: white;}#sk-container-id-4 pre{padding: 0;}#sk-container-id-4 div.sk-toggleable {background-color: white;}#sk-container-id-4 label.sk-toggleable__label {cursor: pointer;display: block;width: 100%;margin-bottom: 0;padding: 0.3em;box-sizing: border-box;text-align: center;}#sk-container-id-4 label.sk-toggleable__label-arrow:before {content: \"▸\";float: left;margin-right: 0.25em;color: #696969;}#sk-container-id-4 label.sk-toggleable__label-arrow:hover:before {color: black;}#sk-container-id-4 div.sk-estimator:hover label.sk-toggleable__label-arrow:before {color: black;}#sk-container-id-4 div.sk-toggleable__content {max-height: 0;max-width: 0;overflow: hidden;text-align: left;background-color: #f0f8ff;}#sk-container-id-4 div.sk-toggleable__content pre {margin: 0.2em;color: black;border-radius: 0.25em;background-color: #f0f8ff;}#sk-container-id-4 input.sk-toggleable__control:checked~div.sk-toggleable__content {max-height: 200px;max-width: 100%;overflow: auto;}#sk-container-id-4 input.sk-toggleable__control:checked~label.sk-toggleable__label-arrow:before {content: \"▾\";}#sk-container-id-4 div.sk-estimator input.sk-toggleable__control:checked~label.sk-toggleable__label {background-color: #d4ebff;}#sk-container-id-4 div.sk-label input.sk-toggleable__control:checked~label.sk-toggleable__label {background-color: #d4ebff;}#sk-container-id-4 input.sk-hidden--visually {border: 0;clip: rect(1px 1px 1px 1px);clip: rect(1px, 1px, 1px, 1px);height: 1px;margin: -1px;overflow: hidden;padding: 0;position: absolute;width: 1px;}#sk-container-id-4 div.sk-estimator {font-family: monospace;background-color: #f0f8ff;border: 1px dotted black;border-radius: 0.25em;box-sizing: border-box;margin-bottom: 0.5em;}#sk-container-id-4 div.sk-estimator:hover {background-color: #d4ebff;}#sk-container-id-4 div.sk-parallel-item::after {content: \"\";width: 100%;border-bottom: 1px solid gray;flex-grow: 1;}#sk-container-id-4 div.sk-label:hover label.sk-toggleable__label {background-color: #d4ebff;}#sk-container-id-4 div.sk-serial::before {content: \"\";position: absolute;border-left: 1px solid gray;box-sizing: border-box;top: 0;bottom: 0;left: 50%;z-index: 0;}#sk-container-id-4 div.sk-serial {display: flex;flex-direction: column;align-items: center;background-color: white;padding-right: 0.2em;padding-left: 0.2em;position: relative;}#sk-container-id-4 div.sk-item {position: relative;z-index: 1;}#sk-container-id-4 div.sk-parallel {display: flex;align-items: stretch;justify-content: center;background-color: white;position: relative;}#sk-container-id-4 div.sk-item::before, #sk-container-id-4 div.sk-parallel-item::before {content: \"\";position: absolute;border-left: 1px solid gray;box-sizing: border-box;top: 0;bottom: 0;left: 50%;z-index: -1;}#sk-container-id-4 div.sk-parallel-item {display: flex;flex-direction: column;z-index: 1;position: relative;background-color: white;}#sk-container-id-4 div.sk-parallel-item:first-child::after {align-self: flex-end;width: 50%;}#sk-container-id-4 div.sk-parallel-item:last-child::after {align-self: flex-start;width: 50%;}#sk-container-id-4 div.sk-parallel-item:only-child::after {width: 0;}#sk-container-id-4 div.sk-dashed-wrapped {border: 1px dashed gray;margin: 0 0.4em 0.5em 0.4em;box-sizing: border-box;padding-bottom: 0.4em;background-color: white;}#sk-container-id-4 div.sk-label label {font-family: monospace;font-weight: bold;display: inline-block;line-height: 1.2em;}#sk-container-id-4 div.sk-label-container {text-align: center;}#sk-container-id-4 div.sk-container {/* jupyter's `normalize.less` sets `[hidden] { display: none; }` but bootstrap.min.css set `[hidden] { display: none !important; }` so we also need the `!important` here to be able to override the default hidden behavior on the sphinx rendered scikit-learn.org. See: https://github.com/scikit-learn/scikit-learn/issues/21755 */display: inline-block !important;position: relative;}#sk-container-id-4 div.sk-text-repr-fallback {display: none;}</style><div id=\"sk-container-id-4\" class=\"sk-top-container\"><div class=\"sk-text-repr-fallback\"><pre>RidgeClassifier(random_state=42)</pre><b>In a Jupyter environment, please rerun this cell to show the HTML representation or trust the notebook. <br />On GitHub, the HTML representation is unable to render, please try loading this page with nbviewer.org.</b></div><div class=\"sk-container\" hidden><div class=\"sk-item\"><div class=\"sk-estimator sk-toggleable\"><input class=\"sk-toggleable__control sk-hidden--visually\" id=\"sk-estimator-id-4\" type=\"checkbox\" checked><label for=\"sk-estimator-id-4\" class=\"sk-toggleable__label sk-toggleable__label-arrow\">RidgeClassifier</label><div class=\"sk-toggleable__content\"><pre>RidgeClassifier(random_state=42)</pre></div></div></div></div></div>"
      ],
      "text/plain": [
       "RidgeClassifier(random_state=42)"
      ]
     },
     "execution_count": 83,
     "metadata": {},
     "output_type": "execute_result"
    }
   ],
   "source": [
    "%%time\n",
    "model1.fit(train_inputs[numeric_cols], train_targets)"
   ]
  },
  {
   "cell_type": "code",
   "execution_count": null,
   "metadata": {
    "colab": {
     "base_uri": "https://localhost:8080/"
    },
    "executionInfo": {
     "elapsed": 313,
     "status": "ok",
     "timestamp": 1685165226012,
     "user": {
      "displayName": "Tin Liman",
      "userId": "01796335397974011301"
     },
     "user_tz": 420
    },
    "id": "dfX1MOw7IlTF",
    "outputId": "c16a8499-8d05-4888-8b93-bd27643ae6d6"
   },
   "outputs": [
    {
     "data": {
      "text/plain": [
       "(0.9361679431655751,\n",
       " 0.9354893762266405,\n",
       " array([0, 0, 0, ..., 0, 0, 0]),\n",
       " array([0, 0, 0, ..., 0, 0, 0]))"
      ]
     },
     "execution_count": 84,
     "metadata": {},
     "output_type": "execute_result"
    }
   ],
   "source": [
    "evaluate(model1)"
   ]
  },
  {
   "cell_type": "code",
   "execution_count": null,
   "metadata": {
    "colab": {
     "base_uri": "https://localhost:8080/",
     "height": 424
    },
    "executionInfo": {
     "elapsed": 416,
     "status": "ok",
     "timestamp": 1685165229005,
     "user": {
      "displayName": "Tin Liman",
      "userId": "01796335397974011301"
     },
     "user_tz": 420
    },
    "id": "yG_d3HAfI7bF",
    "outputId": "f3bfa974-4f87-4b3e-a048-1dc9dd5a5947"
   },
   "outputs": [
    {
     "data": {
      "text/html": [
       "\n",
       "  <div id=\"df-e820b31b-172f-4f41-bc89-be8f20a1780c\">\n",
       "    <div class=\"colab-df-container\">\n",
       "      <div>\n",
       "<style scoped>\n",
       "    .dataframe tbody tr th:only-of-type {\n",
       "        vertical-align: middle;\n",
       "    }\n",
       "\n",
       "    .dataframe tbody tr th {\n",
       "        vertical-align: top;\n",
       "    }\n",
       "\n",
       "    .dataframe thead th {\n",
       "        text-align: right;\n",
       "    }\n",
       "</style>\n",
       "<table border=\"1\" class=\"dataframe\">\n",
       "  <thead>\n",
       "    <tr style=\"text-align: right;\">\n",
       "      <th></th>\n",
       "      <th>policy_id</th>\n",
       "      <th>is_claim</th>\n",
       "    </tr>\n",
       "  </thead>\n",
       "  <tbody>\n",
       "    <tr>\n",
       "      <th>0</th>\n",
       "      <td>ID58593</td>\n",
       "      <td>0</td>\n",
       "    </tr>\n",
       "    <tr>\n",
       "      <th>1</th>\n",
       "      <td>ID58594</td>\n",
       "      <td>0</td>\n",
       "    </tr>\n",
       "    <tr>\n",
       "      <th>2</th>\n",
       "      <td>ID58595</td>\n",
       "      <td>0</td>\n",
       "    </tr>\n",
       "    <tr>\n",
       "      <th>3</th>\n",
       "      <td>ID58596</td>\n",
       "      <td>0</td>\n",
       "    </tr>\n",
       "    <tr>\n",
       "      <th>4</th>\n",
       "      <td>ID58597</td>\n",
       "      <td>0</td>\n",
       "    </tr>\n",
       "    <tr>\n",
       "      <th>...</th>\n",
       "      <td>...</td>\n",
       "      <td>...</td>\n",
       "    </tr>\n",
       "    <tr>\n",
       "      <th>39058</th>\n",
       "      <td>ID97651</td>\n",
       "      <td>0</td>\n",
       "    </tr>\n",
       "    <tr>\n",
       "      <th>39059</th>\n",
       "      <td>ID97652</td>\n",
       "      <td>0</td>\n",
       "    </tr>\n",
       "    <tr>\n",
       "      <th>39060</th>\n",
       "      <td>ID97653</td>\n",
       "      <td>0</td>\n",
       "    </tr>\n",
       "    <tr>\n",
       "      <th>39061</th>\n",
       "      <td>ID97654</td>\n",
       "      <td>0</td>\n",
       "    </tr>\n",
       "    <tr>\n",
       "      <th>39062</th>\n",
       "      <td>ID97655</td>\n",
       "      <td>0</td>\n",
       "    </tr>\n",
       "  </tbody>\n",
       "</table>\n",
       "<p>39063 rows × 2 columns</p>\n",
       "</div>\n",
       "      <button class=\"colab-df-convert\" onclick=\"convertToInteractive('df-e820b31b-172f-4f41-bc89-be8f20a1780c')\"\n",
       "              title=\"Convert this dataframe to an interactive table.\"\n",
       "              style=\"display:none;\">\n",
       "        \n",
       "  <svg xmlns=\"http://www.w3.org/2000/svg\" height=\"24px\"viewBox=\"0 0 24 24\"\n",
       "       width=\"24px\">\n",
       "    <path d=\"M0 0h24v24H0V0z\" fill=\"none\"/>\n",
       "    <path d=\"M18.56 5.44l.94 2.06.94-2.06 2.06-.94-2.06-.94-.94-2.06-.94 2.06-2.06.94zm-11 1L8.5 8.5l.94-2.06 2.06-.94-2.06-.94L8.5 2.5l-.94 2.06-2.06.94zm10 10l.94 2.06.94-2.06 2.06-.94-2.06-.94-.94-2.06-.94 2.06-2.06.94z\"/><path d=\"M17.41 7.96l-1.37-1.37c-.4-.4-.92-.59-1.43-.59-.52 0-1.04.2-1.43.59L10.3 9.45l-7.72 7.72c-.78.78-.78 2.05 0 2.83L4 21.41c.39.39.9.59 1.41.59.51 0 1.02-.2 1.41-.59l7.78-7.78 2.81-2.81c.8-.78.8-2.07 0-2.86zM5.41 20L4 18.59l7.72-7.72 1.47 1.35L5.41 20z\"/>\n",
       "  </svg>\n",
       "      </button>\n",
       "      \n",
       "  <style>\n",
       "    .colab-df-container {\n",
       "      display:flex;\n",
       "      flex-wrap:wrap;\n",
       "      gap: 12px;\n",
       "    }\n",
       "\n",
       "    .colab-df-convert {\n",
       "      background-color: #E8F0FE;\n",
       "      border: none;\n",
       "      border-radius: 50%;\n",
       "      cursor: pointer;\n",
       "      display: none;\n",
       "      fill: #1967D2;\n",
       "      height: 32px;\n",
       "      padding: 0 0 0 0;\n",
       "      width: 32px;\n",
       "    }\n",
       "\n",
       "    .colab-df-convert:hover {\n",
       "      background-color: #E2EBFA;\n",
       "      box-shadow: 0px 1px 2px rgba(60, 64, 67, 0.3), 0px 1px 3px 1px rgba(60, 64, 67, 0.15);\n",
       "      fill: #174EA6;\n",
       "    }\n",
       "\n",
       "    [theme=dark] .colab-df-convert {\n",
       "      background-color: #3B4455;\n",
       "      fill: #D2E3FC;\n",
       "    }\n",
       "\n",
       "    [theme=dark] .colab-df-convert:hover {\n",
       "      background-color: #434B5C;\n",
       "      box-shadow: 0px 1px 3px 1px rgba(0, 0, 0, 0.15);\n",
       "      filter: drop-shadow(0px 1px 2px rgba(0, 0, 0, 0.3));\n",
       "      fill: #FFFFFF;\n",
       "    }\n",
       "  </style>\n",
       "\n",
       "      <script>\n",
       "        const buttonEl =\n",
       "          document.querySelector('#df-e820b31b-172f-4f41-bc89-be8f20a1780c button.colab-df-convert');\n",
       "        buttonEl.style.display =\n",
       "          google.colab.kernel.accessAllowed ? 'block' : 'none';\n",
       "\n",
       "        async function convertToInteractive(key) {\n",
       "          const element = document.querySelector('#df-e820b31b-172f-4f41-bc89-be8f20a1780c');\n",
       "          const dataTable =\n",
       "            await google.colab.kernel.invokeFunction('convertToInteractive',\n",
       "                                                     [key], {});\n",
       "          if (!dataTable) return;\n",
       "\n",
       "          const docLinkHtml = 'Like what you see? Visit the ' +\n",
       "            '<a target=\"_blank\" href=https://colab.research.google.com/notebooks/data_table.ipynb>data table notebook</a>'\n",
       "            + ' to learn more about interactive tables.';\n",
       "          element.innerHTML = '';\n",
       "          dataTable['output_type'] = 'display_data';\n",
       "          await google.colab.output.renderOutput(dataTable, element);\n",
       "          const docLink = document.createElement('div');\n",
       "          docLink.innerHTML = docLinkHtml;\n",
       "          element.appendChild(docLink);\n",
       "        }\n",
       "      </script>\n",
       "    </div>\n",
       "  </div>\n",
       "  "
      ],
      "text/plain": [
       "      policy_id  is_claim\n",
       "0       ID58593         0\n",
       "1       ID58594         0\n",
       "2       ID58595         0\n",
       "3       ID58596         0\n",
       "4       ID58597         0\n",
       "...         ...       ...\n",
       "39058   ID97651         0\n",
       "39059   ID97652         0\n",
       "39060   ID97653         0\n",
       "39061   ID97654         0\n",
       "39062   ID97655         0\n",
       "\n",
       "[39063 rows x 2 columns]"
      ]
     },
     "execution_count": 85,
     "metadata": {},
     "output_type": "execute_result"
    }
   ],
   "source": [
    "predict_and_submit(model1, 'ridge_submission.csv')"
   ]
  },
  {
   "cell_type": "markdown",
   "metadata": {
    "id": "vBw7Me-UOk1y"
   },
   "source": [
    "### Random Forest"
   ]
  },
  {
   "cell_type": "code",
   "execution_count": null,
   "metadata": {
    "id": "sA8kXelpOk-p"
   },
   "outputs": [],
   "source": [
    "from sklearn.ensemble import RandomForestClassifier"
   ]
  },
  {
   "cell_type": "code",
   "execution_count": null,
   "metadata": {
    "id": "-w8u8RjEOlBN"
   },
   "outputs": [],
   "source": [
    "model2 = RandomForestClassifier(max_depth=10, n_jobs=-1, random_state=42, n_estimators=50)"
   ]
  },
  {
   "cell_type": "code",
   "execution_count": null,
   "metadata": {
    "colab": {
     "base_uri": "https://localhost:8080/",
     "height": 424
    },
    "executionInfo": {
     "elapsed": 172,
     "status": "ok",
     "timestamp": 1685165233795,
     "user": {
      "displayName": "Tin Liman",
      "userId": "01796335397974011301"
     },
     "user_tz": 420
    },
    "id": "FdKLeREVGQu4",
    "outputId": "b88761ec-1524-42f7-c0f3-b8dbbe385996"
   },
   "outputs": [
    {
     "data": {
      "text/html": [
       "\n",
       "  <div id=\"df-63ae56fd-1ce3-4c8e-83d3-bcf2b0c593de\">\n",
       "    <div class=\"colab-df-container\">\n",
       "      <div>\n",
       "<style scoped>\n",
       "    .dataframe tbody tr th:only-of-type {\n",
       "        vertical-align: middle;\n",
       "    }\n",
       "\n",
       "    .dataframe tbody tr th {\n",
       "        vertical-align: top;\n",
       "    }\n",
       "\n",
       "    .dataframe thead th {\n",
       "        text-align: right;\n",
       "    }\n",
       "</style>\n",
       "<table border=\"1\" class=\"dataframe\">\n",
       "  <thead>\n",
       "    <tr style=\"text-align: right;\">\n",
       "      <th></th>\n",
       "      <th>policy_tenure</th>\n",
       "      <th>age_of_car</th>\n",
       "      <th>age_of_policyholder</th>\n",
       "      <th>population_density</th>\n",
       "      <th>airbags</th>\n",
       "      <th>displacement</th>\n",
       "      <th>gear_box</th>\n",
       "      <th>turning_radius</th>\n",
       "      <th>ncap_rating</th>\n",
       "      <th>claim_counts</th>\n",
       "    </tr>\n",
       "  </thead>\n",
       "  <tbody>\n",
       "    <tr>\n",
       "      <th>47804</th>\n",
       "      <td>1.010772</td>\n",
       "      <td>0.11</td>\n",
       "      <td>0.375000</td>\n",
       "      <td>34791</td>\n",
       "      <td>2</td>\n",
       "      <td>1197</td>\n",
       "      <td>5</td>\n",
       "      <td>4.8</td>\n",
       "      <td>2</td>\n",
       "      <td>34792.010772</td>\n",
       "    </tr>\n",
       "    <tr>\n",
       "      <th>55075</th>\n",
       "      <td>0.473653</td>\n",
       "      <td>0.05</td>\n",
       "      <td>0.548077</td>\n",
       "      <td>4076</td>\n",
       "      <td>2</td>\n",
       "      <td>796</td>\n",
       "      <td>5</td>\n",
       "      <td>4.6</td>\n",
       "      <td>0</td>\n",
       "      <td>4076.473653</td>\n",
       "    </tr>\n",
       "    <tr>\n",
       "      <th>45912</th>\n",
       "      <td>0.287461</td>\n",
       "      <td>0.06</td>\n",
       "      <td>0.586538</td>\n",
       "      <td>27742</td>\n",
       "      <td>2</td>\n",
       "      <td>796</td>\n",
       "      <td>5</td>\n",
       "      <td>4.6</td>\n",
       "      <td>0</td>\n",
       "      <td>27742.287461</td>\n",
       "    </tr>\n",
       "    <tr>\n",
       "      <th>29180</th>\n",
       "      <td>0.547799</td>\n",
       "      <td>0.08</td>\n",
       "      <td>0.721154</td>\n",
       "      <td>27003</td>\n",
       "      <td>2</td>\n",
       "      <td>1197</td>\n",
       "      <td>5</td>\n",
       "      <td>4.8</td>\n",
       "      <td>2</td>\n",
       "      <td>27003.547799</td>\n",
       "    </tr>\n",
       "    <tr>\n",
       "      <th>41933</th>\n",
       "      <td>1.140288</td>\n",
       "      <td>0.08</td>\n",
       "      <td>0.471154</td>\n",
       "      <td>17804</td>\n",
       "      <td>6</td>\n",
       "      <td>1493</td>\n",
       "      <td>6</td>\n",
       "      <td>5.2</td>\n",
       "      <td>3</td>\n",
       "      <td>17805.140288</td>\n",
       "    </tr>\n",
       "    <tr>\n",
       "      <th>...</th>\n",
       "      <td>...</td>\n",
       "      <td>...</td>\n",
       "      <td>...</td>\n",
       "      <td>...</td>\n",
       "      <td>...</td>\n",
       "      <td>...</td>\n",
       "      <td>...</td>\n",
       "      <td>...</td>\n",
       "      <td>...</td>\n",
       "      <td>...</td>\n",
       "    </tr>\n",
       "    <tr>\n",
       "      <th>54343</th>\n",
       "      <td>1.230162</td>\n",
       "      <td>0.19</td>\n",
       "      <td>0.451923</td>\n",
       "      <td>8794</td>\n",
       "      <td>6</td>\n",
       "      <td>1493</td>\n",
       "      <td>6</td>\n",
       "      <td>5.2</td>\n",
       "      <td>3</td>\n",
       "      <td>8795.230162</td>\n",
       "    </tr>\n",
       "    <tr>\n",
       "      <th>38158</th>\n",
       "      <td>0.445617</td>\n",
       "      <td>0.00</td>\n",
       "      <td>0.519231</td>\n",
       "      <td>4076</td>\n",
       "      <td>2</td>\n",
       "      <td>796</td>\n",
       "      <td>5</td>\n",
       "      <td>4.6</td>\n",
       "      <td>0</td>\n",
       "      <td>4076.445617</td>\n",
       "    </tr>\n",
       "    <tr>\n",
       "      <th>860</th>\n",
       "      <td>1.190469</td>\n",
       "      <td>0.13</td>\n",
       "      <td>0.326923</td>\n",
       "      <td>8794</td>\n",
       "      <td>2</td>\n",
       "      <td>1197</td>\n",
       "      <td>5</td>\n",
       "      <td>4.8</td>\n",
       "      <td>2</td>\n",
       "      <td>8795.190469</td>\n",
       "    </tr>\n",
       "    <tr>\n",
       "      <th>15795</th>\n",
       "      <td>0.023212</td>\n",
       "      <td>0.00</td>\n",
       "      <td>0.701923</td>\n",
       "      <td>34738</td>\n",
       "      <td>2</td>\n",
       "      <td>796</td>\n",
       "      <td>5</td>\n",
       "      <td>4.6</td>\n",
       "      <td>0</td>\n",
       "      <td>34738.023212</td>\n",
       "    </tr>\n",
       "    <tr>\n",
       "      <th>56422</th>\n",
       "      <td>0.233716</td>\n",
       "      <td>0.00</td>\n",
       "      <td>0.480769</td>\n",
       "      <td>73430</td>\n",
       "      <td>2</td>\n",
       "      <td>796</td>\n",
       "      <td>5</td>\n",
       "      <td>4.6</td>\n",
       "      <td>0</td>\n",
       "      <td>73430.233716</td>\n",
       "    </tr>\n",
       "  </tbody>\n",
       "</table>\n",
       "<p>46873 rows × 10 columns</p>\n",
       "</div>\n",
       "      <button class=\"colab-df-convert\" onclick=\"convertToInteractive('df-63ae56fd-1ce3-4c8e-83d3-bcf2b0c593de')\"\n",
       "              title=\"Convert this dataframe to an interactive table.\"\n",
       "              style=\"display:none;\">\n",
       "        \n",
       "  <svg xmlns=\"http://www.w3.org/2000/svg\" height=\"24px\"viewBox=\"0 0 24 24\"\n",
       "       width=\"24px\">\n",
       "    <path d=\"M0 0h24v24H0V0z\" fill=\"none\"/>\n",
       "    <path d=\"M18.56 5.44l.94 2.06.94-2.06 2.06-.94-2.06-.94-.94-2.06-.94 2.06-2.06.94zm-11 1L8.5 8.5l.94-2.06 2.06-.94-2.06-.94L8.5 2.5l-.94 2.06-2.06.94zm10 10l.94 2.06.94-2.06 2.06-.94-2.06-.94-.94-2.06-.94 2.06-2.06.94z\"/><path d=\"M17.41 7.96l-1.37-1.37c-.4-.4-.92-.59-1.43-.59-.52 0-1.04.2-1.43.59L10.3 9.45l-7.72 7.72c-.78.78-.78 2.05 0 2.83L4 21.41c.39.39.9.59 1.41.59.51 0 1.02-.2 1.41-.59l7.78-7.78 2.81-2.81c.8-.78.8-2.07 0-2.86zM5.41 20L4 18.59l7.72-7.72 1.47 1.35L5.41 20z\"/>\n",
       "  </svg>\n",
       "      </button>\n",
       "      \n",
       "  <style>\n",
       "    .colab-df-container {\n",
       "      display:flex;\n",
       "      flex-wrap:wrap;\n",
       "      gap: 12px;\n",
       "    }\n",
       "\n",
       "    .colab-df-convert {\n",
       "      background-color: #E8F0FE;\n",
       "      border: none;\n",
       "      border-radius: 50%;\n",
       "      cursor: pointer;\n",
       "      display: none;\n",
       "      fill: #1967D2;\n",
       "      height: 32px;\n",
       "      padding: 0 0 0 0;\n",
       "      width: 32px;\n",
       "    }\n",
       "\n",
       "    .colab-df-convert:hover {\n",
       "      background-color: #E2EBFA;\n",
       "      box-shadow: 0px 1px 2px rgba(60, 64, 67, 0.3), 0px 1px 3px 1px rgba(60, 64, 67, 0.15);\n",
       "      fill: #174EA6;\n",
       "    }\n",
       "\n",
       "    [theme=dark] .colab-df-convert {\n",
       "      background-color: #3B4455;\n",
       "      fill: #D2E3FC;\n",
       "    }\n",
       "\n",
       "    [theme=dark] .colab-df-convert:hover {\n",
       "      background-color: #434B5C;\n",
       "      box-shadow: 0px 1px 3px 1px rgba(0, 0, 0, 0.15);\n",
       "      filter: drop-shadow(0px 1px 2px rgba(0, 0, 0, 0.3));\n",
       "      fill: #FFFFFF;\n",
       "    }\n",
       "  </style>\n",
       "\n",
       "      <script>\n",
       "        const buttonEl =\n",
       "          document.querySelector('#df-63ae56fd-1ce3-4c8e-83d3-bcf2b0c593de button.colab-df-convert');\n",
       "        buttonEl.style.display =\n",
       "          google.colab.kernel.accessAllowed ? 'block' : 'none';\n",
       "\n",
       "        async function convertToInteractive(key) {\n",
       "          const element = document.querySelector('#df-63ae56fd-1ce3-4c8e-83d3-bcf2b0c593de');\n",
       "          const dataTable =\n",
       "            await google.colab.kernel.invokeFunction('convertToInteractive',\n",
       "                                                     [key], {});\n",
       "          if (!dataTable) return;\n",
       "\n",
       "          const docLinkHtml = 'Like what you see? Visit the ' +\n",
       "            '<a target=\"_blank\" href=https://colab.research.google.com/notebooks/data_table.ipynb>data table notebook</a>'\n",
       "            + ' to learn more about interactive tables.';\n",
       "          element.innerHTML = '';\n",
       "          dataTable['output_type'] = 'display_data';\n",
       "          await google.colab.output.renderOutput(dataTable, element);\n",
       "          const docLink = document.createElement('div');\n",
       "          docLink.innerHTML = docLinkHtml;\n",
       "          element.appendChild(docLink);\n",
       "        }\n",
       "      </script>\n",
       "    </div>\n",
       "  </div>\n",
       "  "
      ],
      "text/plain": [
       "       policy_tenure  age_of_car  age_of_policyholder  population_density  \\\n",
       "47804       1.010772        0.11             0.375000               34791   \n",
       "55075       0.473653        0.05             0.548077                4076   \n",
       "45912       0.287461        0.06             0.586538               27742   \n",
       "29180       0.547799        0.08             0.721154               27003   \n",
       "41933       1.140288        0.08             0.471154               17804   \n",
       "...              ...         ...                  ...                 ...   \n",
       "54343       1.230162        0.19             0.451923                8794   \n",
       "38158       0.445617        0.00             0.519231                4076   \n",
       "860         1.190469        0.13             0.326923                8794   \n",
       "15795       0.023212        0.00             0.701923               34738   \n",
       "56422       0.233716        0.00             0.480769               73430   \n",
       "\n",
       "       airbags  displacement  gear_box  turning_radius  ncap_rating  \\\n",
       "47804        2          1197         5             4.8            2   \n",
       "55075        2           796         5             4.6            0   \n",
       "45912        2           796         5             4.6            0   \n",
       "29180        2          1197         5             4.8            2   \n",
       "41933        6          1493         6             5.2            3   \n",
       "...        ...           ...       ...             ...          ...   \n",
       "54343        6          1493         6             5.2            3   \n",
       "38158        2           796         5             4.6            0   \n",
       "860          2          1197         5             4.8            2   \n",
       "15795        2           796         5             4.6            0   \n",
       "56422        2           796         5             4.6            0   \n",
       "\n",
       "       claim_counts  \n",
       "47804  34792.010772  \n",
       "55075   4076.473653  \n",
       "45912  27742.287461  \n",
       "29180  27003.547799  \n",
       "41933  17805.140288  \n",
       "...             ...  \n",
       "54343   8795.230162  \n",
       "38158   4076.445617  \n",
       "860     8795.190469  \n",
       "15795  34738.023212  \n",
       "56422  73430.233716  \n",
       "\n",
       "[46873 rows x 10 columns]"
      ]
     },
     "execution_count": 88,
     "metadata": {},
     "output_type": "execute_result"
    }
   ],
   "source": [
    "train_inputs[numeric_cols]"
   ]
  },
  {
   "cell_type": "code",
   "execution_count": null,
   "metadata": {
    "colab": {
     "base_uri": "https://localhost:8080/",
     "height": 128
    },
    "executionInfo": {
     "elapsed": 1953,
     "status": "ok",
     "timestamp": 1685165238149,
     "user": {
      "displayName": "Tin Liman",
      "userId": "01796335397974011301"
     },
     "user_tz": 420
    },
    "id": "LJxb-_GDI8r5",
    "outputId": "5749ed1b-8d9d-47a4-934c-8e71fe1858cd"
   },
   "outputs": [
    {
     "name": "stdout",
     "output_type": "stream",
     "text": [
      "CPU times: user 3.41 s, sys: 11.3 ms, total: 3.42 s\n",
      "Wall time: 1.84 s\n"
     ]
    },
    {
     "data": {
      "text/html": [
       "<style>#sk-container-id-5 {color: black;background-color: white;}#sk-container-id-5 pre{padding: 0;}#sk-container-id-5 div.sk-toggleable {background-color: white;}#sk-container-id-5 label.sk-toggleable__label {cursor: pointer;display: block;width: 100%;margin-bottom: 0;padding: 0.3em;box-sizing: border-box;text-align: center;}#sk-container-id-5 label.sk-toggleable__label-arrow:before {content: \"▸\";float: left;margin-right: 0.25em;color: #696969;}#sk-container-id-5 label.sk-toggleable__label-arrow:hover:before {color: black;}#sk-container-id-5 div.sk-estimator:hover label.sk-toggleable__label-arrow:before {color: black;}#sk-container-id-5 div.sk-toggleable__content {max-height: 0;max-width: 0;overflow: hidden;text-align: left;background-color: #f0f8ff;}#sk-container-id-5 div.sk-toggleable__content pre {margin: 0.2em;color: black;border-radius: 0.25em;background-color: #f0f8ff;}#sk-container-id-5 input.sk-toggleable__control:checked~div.sk-toggleable__content {max-height: 200px;max-width: 100%;overflow: auto;}#sk-container-id-5 input.sk-toggleable__control:checked~label.sk-toggleable__label-arrow:before {content: \"▾\";}#sk-container-id-5 div.sk-estimator input.sk-toggleable__control:checked~label.sk-toggleable__label {background-color: #d4ebff;}#sk-container-id-5 div.sk-label input.sk-toggleable__control:checked~label.sk-toggleable__label {background-color: #d4ebff;}#sk-container-id-5 input.sk-hidden--visually {border: 0;clip: rect(1px 1px 1px 1px);clip: rect(1px, 1px, 1px, 1px);height: 1px;margin: -1px;overflow: hidden;padding: 0;position: absolute;width: 1px;}#sk-container-id-5 div.sk-estimator {font-family: monospace;background-color: #f0f8ff;border: 1px dotted black;border-radius: 0.25em;box-sizing: border-box;margin-bottom: 0.5em;}#sk-container-id-5 div.sk-estimator:hover {background-color: #d4ebff;}#sk-container-id-5 div.sk-parallel-item::after {content: \"\";width: 100%;border-bottom: 1px solid gray;flex-grow: 1;}#sk-container-id-5 div.sk-label:hover label.sk-toggleable__label {background-color: #d4ebff;}#sk-container-id-5 div.sk-serial::before {content: \"\";position: absolute;border-left: 1px solid gray;box-sizing: border-box;top: 0;bottom: 0;left: 50%;z-index: 0;}#sk-container-id-5 div.sk-serial {display: flex;flex-direction: column;align-items: center;background-color: white;padding-right: 0.2em;padding-left: 0.2em;position: relative;}#sk-container-id-5 div.sk-item {position: relative;z-index: 1;}#sk-container-id-5 div.sk-parallel {display: flex;align-items: stretch;justify-content: center;background-color: white;position: relative;}#sk-container-id-5 div.sk-item::before, #sk-container-id-5 div.sk-parallel-item::before {content: \"\";position: absolute;border-left: 1px solid gray;box-sizing: border-box;top: 0;bottom: 0;left: 50%;z-index: -1;}#sk-container-id-5 div.sk-parallel-item {display: flex;flex-direction: column;z-index: 1;position: relative;background-color: white;}#sk-container-id-5 div.sk-parallel-item:first-child::after {align-self: flex-end;width: 50%;}#sk-container-id-5 div.sk-parallel-item:last-child::after {align-self: flex-start;width: 50%;}#sk-container-id-5 div.sk-parallel-item:only-child::after {width: 0;}#sk-container-id-5 div.sk-dashed-wrapped {border: 1px dashed gray;margin: 0 0.4em 0.5em 0.4em;box-sizing: border-box;padding-bottom: 0.4em;background-color: white;}#sk-container-id-5 div.sk-label label {font-family: monospace;font-weight: bold;display: inline-block;line-height: 1.2em;}#sk-container-id-5 div.sk-label-container {text-align: center;}#sk-container-id-5 div.sk-container {/* jupyter's `normalize.less` sets `[hidden] { display: none; }` but bootstrap.min.css set `[hidden] { display: none !important; }` so we also need the `!important` here to be able to override the default hidden behavior on the sphinx rendered scikit-learn.org. See: https://github.com/scikit-learn/scikit-learn/issues/21755 */display: inline-block !important;position: relative;}#sk-container-id-5 div.sk-text-repr-fallback {display: none;}</style><div id=\"sk-container-id-5\" class=\"sk-top-container\"><div class=\"sk-text-repr-fallback\"><pre>RandomForestClassifier(max_depth=10, n_estimators=50, n_jobs=-1,\n",
       "                       random_state=42)</pre><b>In a Jupyter environment, please rerun this cell to show the HTML representation or trust the notebook. <br />On GitHub, the HTML representation is unable to render, please try loading this page with nbviewer.org.</b></div><div class=\"sk-container\" hidden><div class=\"sk-item\"><div class=\"sk-estimator sk-toggleable\"><input class=\"sk-toggleable__control sk-hidden--visually\" id=\"sk-estimator-id-5\" type=\"checkbox\" checked><label for=\"sk-estimator-id-5\" class=\"sk-toggleable__label sk-toggleable__label-arrow\">RandomForestClassifier</label><div class=\"sk-toggleable__content\"><pre>RandomForestClassifier(max_depth=10, n_estimators=50, n_jobs=-1,\n",
       "                       random_state=42)</pre></div></div></div></div></div>"
      ],
      "text/plain": [
       "RandomForestClassifier(max_depth=10, n_estimators=50, n_jobs=-1,\n",
       "                       random_state=42)"
      ]
     },
     "execution_count": 89,
     "metadata": {},
     "output_type": "execute_result"
    }
   ],
   "source": [
    "%%time\n",
    "model2.fit(train_inputs[numeric_cols], train_targets)"
   ]
  },
  {
   "cell_type": "code",
   "execution_count": null,
   "metadata": {
    "colab": {
     "base_uri": "https://localhost:8080/"
    },
    "executionInfo": {
     "elapsed": 354,
     "status": "ok",
     "timestamp": 1685165239659,
     "user": {
      "displayName": "Tin Liman",
      "userId": "01796335397974011301"
     },
     "user_tz": 420
    },
    "id": "-QTOlUfBI8ud",
    "outputId": "81b41dce-9e2c-4549-ac32-184a13252962"
   },
   "outputs": [
    {
     "data": {
      "text/plain": [
       "(0.9364239540887078,\n",
       " 0.9354893762266405,\n",
       " array([0, 0, 0, ..., 0, 0, 0]),\n",
       " array([0, 0, 0, ..., 0, 0, 0]))"
      ]
     },
     "execution_count": 90,
     "metadata": {},
     "output_type": "execute_result"
    }
   ],
   "source": [
    "evaluate(model2)"
   ]
  },
  {
   "cell_type": "code",
   "execution_count": null,
   "metadata": {
    "colab": {
     "base_uri": "https://localhost:8080/",
     "height": 424
    },
    "executionInfo": {
     "elapsed": 395,
     "status": "ok",
     "timestamp": 1685165241810,
     "user": {
      "displayName": "Tin Liman",
      "userId": "01796335397974011301"
     },
     "user_tz": 420
    },
    "id": "th2V843DJEQt",
    "outputId": "a6d4a473-c415-4833-ec7a-abadaa7d8fdd"
   },
   "outputs": [
    {
     "data": {
      "text/html": [
       "\n",
       "  <div id=\"df-0a4fb7ac-28f3-4894-98ad-950de968bc27\">\n",
       "    <div class=\"colab-df-container\">\n",
       "      <div>\n",
       "<style scoped>\n",
       "    .dataframe tbody tr th:only-of-type {\n",
       "        vertical-align: middle;\n",
       "    }\n",
       "\n",
       "    .dataframe tbody tr th {\n",
       "        vertical-align: top;\n",
       "    }\n",
       "\n",
       "    .dataframe thead th {\n",
       "        text-align: right;\n",
       "    }\n",
       "</style>\n",
       "<table border=\"1\" class=\"dataframe\">\n",
       "  <thead>\n",
       "    <tr style=\"text-align: right;\">\n",
       "      <th></th>\n",
       "      <th>policy_id</th>\n",
       "      <th>is_claim</th>\n",
       "    </tr>\n",
       "  </thead>\n",
       "  <tbody>\n",
       "    <tr>\n",
       "      <th>0</th>\n",
       "      <td>ID58593</td>\n",
       "      <td>0</td>\n",
       "    </tr>\n",
       "    <tr>\n",
       "      <th>1</th>\n",
       "      <td>ID58594</td>\n",
       "      <td>0</td>\n",
       "    </tr>\n",
       "    <tr>\n",
       "      <th>2</th>\n",
       "      <td>ID58595</td>\n",
       "      <td>0</td>\n",
       "    </tr>\n",
       "    <tr>\n",
       "      <th>3</th>\n",
       "      <td>ID58596</td>\n",
       "      <td>0</td>\n",
       "    </tr>\n",
       "    <tr>\n",
       "      <th>4</th>\n",
       "      <td>ID58597</td>\n",
       "      <td>0</td>\n",
       "    </tr>\n",
       "    <tr>\n",
       "      <th>...</th>\n",
       "      <td>...</td>\n",
       "      <td>...</td>\n",
       "    </tr>\n",
       "    <tr>\n",
       "      <th>39058</th>\n",
       "      <td>ID97651</td>\n",
       "      <td>0</td>\n",
       "    </tr>\n",
       "    <tr>\n",
       "      <th>39059</th>\n",
       "      <td>ID97652</td>\n",
       "      <td>0</td>\n",
       "    </tr>\n",
       "    <tr>\n",
       "      <th>39060</th>\n",
       "      <td>ID97653</td>\n",
       "      <td>0</td>\n",
       "    </tr>\n",
       "    <tr>\n",
       "      <th>39061</th>\n",
       "      <td>ID97654</td>\n",
       "      <td>0</td>\n",
       "    </tr>\n",
       "    <tr>\n",
       "      <th>39062</th>\n",
       "      <td>ID97655</td>\n",
       "      <td>0</td>\n",
       "    </tr>\n",
       "  </tbody>\n",
       "</table>\n",
       "<p>39063 rows × 2 columns</p>\n",
       "</div>\n",
       "      <button class=\"colab-df-convert\" onclick=\"convertToInteractive('df-0a4fb7ac-28f3-4894-98ad-950de968bc27')\"\n",
       "              title=\"Convert this dataframe to an interactive table.\"\n",
       "              style=\"display:none;\">\n",
       "        \n",
       "  <svg xmlns=\"http://www.w3.org/2000/svg\" height=\"24px\"viewBox=\"0 0 24 24\"\n",
       "       width=\"24px\">\n",
       "    <path d=\"M0 0h24v24H0V0z\" fill=\"none\"/>\n",
       "    <path d=\"M18.56 5.44l.94 2.06.94-2.06 2.06-.94-2.06-.94-.94-2.06-.94 2.06-2.06.94zm-11 1L8.5 8.5l.94-2.06 2.06-.94-2.06-.94L8.5 2.5l-.94 2.06-2.06.94zm10 10l.94 2.06.94-2.06 2.06-.94-2.06-.94-.94-2.06-.94 2.06-2.06.94z\"/><path d=\"M17.41 7.96l-1.37-1.37c-.4-.4-.92-.59-1.43-.59-.52 0-1.04.2-1.43.59L10.3 9.45l-7.72 7.72c-.78.78-.78 2.05 0 2.83L4 21.41c.39.39.9.59 1.41.59.51 0 1.02-.2 1.41-.59l7.78-7.78 2.81-2.81c.8-.78.8-2.07 0-2.86zM5.41 20L4 18.59l7.72-7.72 1.47 1.35L5.41 20z\"/>\n",
       "  </svg>\n",
       "      </button>\n",
       "      \n",
       "  <style>\n",
       "    .colab-df-container {\n",
       "      display:flex;\n",
       "      flex-wrap:wrap;\n",
       "      gap: 12px;\n",
       "    }\n",
       "\n",
       "    .colab-df-convert {\n",
       "      background-color: #E8F0FE;\n",
       "      border: none;\n",
       "      border-radius: 50%;\n",
       "      cursor: pointer;\n",
       "      display: none;\n",
       "      fill: #1967D2;\n",
       "      height: 32px;\n",
       "      padding: 0 0 0 0;\n",
       "      width: 32px;\n",
       "    }\n",
       "\n",
       "    .colab-df-convert:hover {\n",
       "      background-color: #E2EBFA;\n",
       "      box-shadow: 0px 1px 2px rgba(60, 64, 67, 0.3), 0px 1px 3px 1px rgba(60, 64, 67, 0.15);\n",
       "      fill: #174EA6;\n",
       "    }\n",
       "\n",
       "    [theme=dark] .colab-df-convert {\n",
       "      background-color: #3B4455;\n",
       "      fill: #D2E3FC;\n",
       "    }\n",
       "\n",
       "    [theme=dark] .colab-df-convert:hover {\n",
       "      background-color: #434B5C;\n",
       "      box-shadow: 0px 1px 3px 1px rgba(0, 0, 0, 0.15);\n",
       "      filter: drop-shadow(0px 1px 2px rgba(0, 0, 0, 0.3));\n",
       "      fill: #FFFFFF;\n",
       "    }\n",
       "  </style>\n",
       "\n",
       "      <script>\n",
       "        const buttonEl =\n",
       "          document.querySelector('#df-0a4fb7ac-28f3-4894-98ad-950de968bc27 button.colab-df-convert');\n",
       "        buttonEl.style.display =\n",
       "          google.colab.kernel.accessAllowed ? 'block' : 'none';\n",
       "\n",
       "        async function convertToInteractive(key) {\n",
       "          const element = document.querySelector('#df-0a4fb7ac-28f3-4894-98ad-950de968bc27');\n",
       "          const dataTable =\n",
       "            await google.colab.kernel.invokeFunction('convertToInteractive',\n",
       "                                                     [key], {});\n",
       "          if (!dataTable) return;\n",
       "\n",
       "          const docLinkHtml = 'Like what you see? Visit the ' +\n",
       "            '<a target=\"_blank\" href=https://colab.research.google.com/notebooks/data_table.ipynb>data table notebook</a>'\n",
       "            + ' to learn more about interactive tables.';\n",
       "          element.innerHTML = '';\n",
       "          dataTable['output_type'] = 'display_data';\n",
       "          await google.colab.output.renderOutput(dataTable, element);\n",
       "          const docLink = document.createElement('div');\n",
       "          docLink.innerHTML = docLinkHtml;\n",
       "          element.appendChild(docLink);\n",
       "        }\n",
       "      </script>\n",
       "    </div>\n",
       "  </div>\n",
       "  "
      ],
      "text/plain": [
       "      policy_id  is_claim\n",
       "0       ID58593         0\n",
       "1       ID58594         0\n",
       "2       ID58595         0\n",
       "3       ID58596         0\n",
       "4       ID58597         0\n",
       "...         ...       ...\n",
       "39058   ID97651         0\n",
       "39059   ID97652         0\n",
       "39060   ID97653         0\n",
       "39061   ID97654         0\n",
       "39062   ID97655         0\n",
       "\n",
       "[39063 rows x 2 columns]"
      ]
     },
     "execution_count": 91,
     "metadata": {},
     "output_type": "execute_result"
    }
   ],
   "source": [
    "predict_and_submit(model2, 'rf_submission.csv')"
   ]
  },
  {
   "cell_type": "markdown",
   "metadata": {
    "id": "tupYVBdTOlMb"
   },
   "source": [
    "### Gradient Boosting"
   ]
  },
  {
   "cell_type": "code",
   "execution_count": null,
   "metadata": {
    "id": "QjK_Hq6COtJA"
   },
   "outputs": [],
   "source": [
    "from xgboost import XGBClassifier"
   ]
  },
  {
   "cell_type": "code",
   "execution_count": null,
   "metadata": {
    "id": "Hsj6pTycOtL4"
   },
   "outputs": [],
   "source": [
    "model3 = XGBClassifier(random_state=42, n_jobs=-1, objective='reg:squarederror')"
   ]
  },
  {
   "cell_type": "code",
   "execution_count": null,
   "metadata": {
    "colab": {
     "base_uri": "https://localhost:8080/",
     "height": 424
    },
    "executionInfo": {
     "elapsed": 196,
     "status": "ok",
     "timestamp": 1685165246756,
     "user": {
      "displayName": "Tin Liman",
      "userId": "01796335397974011301"
     },
     "user_tz": 420
    },
    "id": "56XC6VKiGR03",
    "outputId": "36d16139-a46f-4fd3-9a74-86063237bca6"
   },
   "outputs": [
    {
     "data": {
      "text/html": [
       "\n",
       "  <div id=\"df-ad550b38-1d6f-4bd0-9c1a-218e606600ab\">\n",
       "    <div class=\"colab-df-container\">\n",
       "      <div>\n",
       "<style scoped>\n",
       "    .dataframe tbody tr th:only-of-type {\n",
       "        vertical-align: middle;\n",
       "    }\n",
       "\n",
       "    .dataframe tbody tr th {\n",
       "        vertical-align: top;\n",
       "    }\n",
       "\n",
       "    .dataframe thead th {\n",
       "        text-align: right;\n",
       "    }\n",
       "</style>\n",
       "<table border=\"1\" class=\"dataframe\">\n",
       "  <thead>\n",
       "    <tr style=\"text-align: right;\">\n",
       "      <th></th>\n",
       "      <th>policy_tenure</th>\n",
       "      <th>age_of_car</th>\n",
       "      <th>age_of_policyholder</th>\n",
       "      <th>population_density</th>\n",
       "      <th>airbags</th>\n",
       "      <th>displacement</th>\n",
       "      <th>gear_box</th>\n",
       "      <th>turning_radius</th>\n",
       "      <th>ncap_rating</th>\n",
       "      <th>claim_counts</th>\n",
       "    </tr>\n",
       "  </thead>\n",
       "  <tbody>\n",
       "    <tr>\n",
       "      <th>47804</th>\n",
       "      <td>1.010772</td>\n",
       "      <td>0.11</td>\n",
       "      <td>0.375000</td>\n",
       "      <td>34791</td>\n",
       "      <td>2</td>\n",
       "      <td>1197</td>\n",
       "      <td>5</td>\n",
       "      <td>4.8</td>\n",
       "      <td>2</td>\n",
       "      <td>34792.010772</td>\n",
       "    </tr>\n",
       "    <tr>\n",
       "      <th>55075</th>\n",
       "      <td>0.473653</td>\n",
       "      <td>0.05</td>\n",
       "      <td>0.548077</td>\n",
       "      <td>4076</td>\n",
       "      <td>2</td>\n",
       "      <td>796</td>\n",
       "      <td>5</td>\n",
       "      <td>4.6</td>\n",
       "      <td>0</td>\n",
       "      <td>4076.473653</td>\n",
       "    </tr>\n",
       "    <tr>\n",
       "      <th>45912</th>\n",
       "      <td>0.287461</td>\n",
       "      <td>0.06</td>\n",
       "      <td>0.586538</td>\n",
       "      <td>27742</td>\n",
       "      <td>2</td>\n",
       "      <td>796</td>\n",
       "      <td>5</td>\n",
       "      <td>4.6</td>\n",
       "      <td>0</td>\n",
       "      <td>27742.287461</td>\n",
       "    </tr>\n",
       "    <tr>\n",
       "      <th>29180</th>\n",
       "      <td>0.547799</td>\n",
       "      <td>0.08</td>\n",
       "      <td>0.721154</td>\n",
       "      <td>27003</td>\n",
       "      <td>2</td>\n",
       "      <td>1197</td>\n",
       "      <td>5</td>\n",
       "      <td>4.8</td>\n",
       "      <td>2</td>\n",
       "      <td>27003.547799</td>\n",
       "    </tr>\n",
       "    <tr>\n",
       "      <th>41933</th>\n",
       "      <td>1.140288</td>\n",
       "      <td>0.08</td>\n",
       "      <td>0.471154</td>\n",
       "      <td>17804</td>\n",
       "      <td>6</td>\n",
       "      <td>1493</td>\n",
       "      <td>6</td>\n",
       "      <td>5.2</td>\n",
       "      <td>3</td>\n",
       "      <td>17805.140288</td>\n",
       "    </tr>\n",
       "    <tr>\n",
       "      <th>...</th>\n",
       "      <td>...</td>\n",
       "      <td>...</td>\n",
       "      <td>...</td>\n",
       "      <td>...</td>\n",
       "      <td>...</td>\n",
       "      <td>...</td>\n",
       "      <td>...</td>\n",
       "      <td>...</td>\n",
       "      <td>...</td>\n",
       "      <td>...</td>\n",
       "    </tr>\n",
       "    <tr>\n",
       "      <th>54343</th>\n",
       "      <td>1.230162</td>\n",
       "      <td>0.19</td>\n",
       "      <td>0.451923</td>\n",
       "      <td>8794</td>\n",
       "      <td>6</td>\n",
       "      <td>1493</td>\n",
       "      <td>6</td>\n",
       "      <td>5.2</td>\n",
       "      <td>3</td>\n",
       "      <td>8795.230162</td>\n",
       "    </tr>\n",
       "    <tr>\n",
       "      <th>38158</th>\n",
       "      <td>0.445617</td>\n",
       "      <td>0.00</td>\n",
       "      <td>0.519231</td>\n",
       "      <td>4076</td>\n",
       "      <td>2</td>\n",
       "      <td>796</td>\n",
       "      <td>5</td>\n",
       "      <td>4.6</td>\n",
       "      <td>0</td>\n",
       "      <td>4076.445617</td>\n",
       "    </tr>\n",
       "    <tr>\n",
       "      <th>860</th>\n",
       "      <td>1.190469</td>\n",
       "      <td>0.13</td>\n",
       "      <td>0.326923</td>\n",
       "      <td>8794</td>\n",
       "      <td>2</td>\n",
       "      <td>1197</td>\n",
       "      <td>5</td>\n",
       "      <td>4.8</td>\n",
       "      <td>2</td>\n",
       "      <td>8795.190469</td>\n",
       "    </tr>\n",
       "    <tr>\n",
       "      <th>15795</th>\n",
       "      <td>0.023212</td>\n",
       "      <td>0.00</td>\n",
       "      <td>0.701923</td>\n",
       "      <td>34738</td>\n",
       "      <td>2</td>\n",
       "      <td>796</td>\n",
       "      <td>5</td>\n",
       "      <td>4.6</td>\n",
       "      <td>0</td>\n",
       "      <td>34738.023212</td>\n",
       "    </tr>\n",
       "    <tr>\n",
       "      <th>56422</th>\n",
       "      <td>0.233716</td>\n",
       "      <td>0.00</td>\n",
       "      <td>0.480769</td>\n",
       "      <td>73430</td>\n",
       "      <td>2</td>\n",
       "      <td>796</td>\n",
       "      <td>5</td>\n",
       "      <td>4.6</td>\n",
       "      <td>0</td>\n",
       "      <td>73430.233716</td>\n",
       "    </tr>\n",
       "  </tbody>\n",
       "</table>\n",
       "<p>46873 rows × 10 columns</p>\n",
       "</div>\n",
       "      <button class=\"colab-df-convert\" onclick=\"convertToInteractive('df-ad550b38-1d6f-4bd0-9c1a-218e606600ab')\"\n",
       "              title=\"Convert this dataframe to an interactive table.\"\n",
       "              style=\"display:none;\">\n",
       "        \n",
       "  <svg xmlns=\"http://www.w3.org/2000/svg\" height=\"24px\"viewBox=\"0 0 24 24\"\n",
       "       width=\"24px\">\n",
       "    <path d=\"M0 0h24v24H0V0z\" fill=\"none\"/>\n",
       "    <path d=\"M18.56 5.44l.94 2.06.94-2.06 2.06-.94-2.06-.94-.94-2.06-.94 2.06-2.06.94zm-11 1L8.5 8.5l.94-2.06 2.06-.94-2.06-.94L8.5 2.5l-.94 2.06-2.06.94zm10 10l.94 2.06.94-2.06 2.06-.94-2.06-.94-.94-2.06-.94 2.06-2.06.94z\"/><path d=\"M17.41 7.96l-1.37-1.37c-.4-.4-.92-.59-1.43-.59-.52 0-1.04.2-1.43.59L10.3 9.45l-7.72 7.72c-.78.78-.78 2.05 0 2.83L4 21.41c.39.39.9.59 1.41.59.51 0 1.02-.2 1.41-.59l7.78-7.78 2.81-2.81c.8-.78.8-2.07 0-2.86zM5.41 20L4 18.59l7.72-7.72 1.47 1.35L5.41 20z\"/>\n",
       "  </svg>\n",
       "      </button>\n",
       "      \n",
       "  <style>\n",
       "    .colab-df-container {\n",
       "      display:flex;\n",
       "      flex-wrap:wrap;\n",
       "      gap: 12px;\n",
       "    }\n",
       "\n",
       "    .colab-df-convert {\n",
       "      background-color: #E8F0FE;\n",
       "      border: none;\n",
       "      border-radius: 50%;\n",
       "      cursor: pointer;\n",
       "      display: none;\n",
       "      fill: #1967D2;\n",
       "      height: 32px;\n",
       "      padding: 0 0 0 0;\n",
       "      width: 32px;\n",
       "    }\n",
       "\n",
       "    .colab-df-convert:hover {\n",
       "      background-color: #E2EBFA;\n",
       "      box-shadow: 0px 1px 2px rgba(60, 64, 67, 0.3), 0px 1px 3px 1px rgba(60, 64, 67, 0.15);\n",
       "      fill: #174EA6;\n",
       "    }\n",
       "\n",
       "    [theme=dark] .colab-df-convert {\n",
       "      background-color: #3B4455;\n",
       "      fill: #D2E3FC;\n",
       "    }\n",
       "\n",
       "    [theme=dark] .colab-df-convert:hover {\n",
       "      background-color: #434B5C;\n",
       "      box-shadow: 0px 1px 3px 1px rgba(0, 0, 0, 0.15);\n",
       "      filter: drop-shadow(0px 1px 2px rgba(0, 0, 0, 0.3));\n",
       "      fill: #FFFFFF;\n",
       "    }\n",
       "  </style>\n",
       "\n",
       "      <script>\n",
       "        const buttonEl =\n",
       "          document.querySelector('#df-ad550b38-1d6f-4bd0-9c1a-218e606600ab button.colab-df-convert');\n",
       "        buttonEl.style.display =\n",
       "          google.colab.kernel.accessAllowed ? 'block' : 'none';\n",
       "\n",
       "        async function convertToInteractive(key) {\n",
       "          const element = document.querySelector('#df-ad550b38-1d6f-4bd0-9c1a-218e606600ab');\n",
       "          const dataTable =\n",
       "            await google.colab.kernel.invokeFunction('convertToInteractive',\n",
       "                                                     [key], {});\n",
       "          if (!dataTable) return;\n",
       "\n",
       "          const docLinkHtml = 'Like what you see? Visit the ' +\n",
       "            '<a target=\"_blank\" href=https://colab.research.google.com/notebooks/data_table.ipynb>data table notebook</a>'\n",
       "            + ' to learn more about interactive tables.';\n",
       "          element.innerHTML = '';\n",
       "          dataTable['output_type'] = 'display_data';\n",
       "          await google.colab.output.renderOutput(dataTable, element);\n",
       "          const docLink = document.createElement('div');\n",
       "          docLink.innerHTML = docLinkHtml;\n",
       "          element.appendChild(docLink);\n",
       "        }\n",
       "      </script>\n",
       "    </div>\n",
       "  </div>\n",
       "  "
      ],
      "text/plain": [
       "       policy_tenure  age_of_car  age_of_policyholder  population_density  \\\n",
       "47804       1.010772        0.11             0.375000               34791   \n",
       "55075       0.473653        0.05             0.548077                4076   \n",
       "45912       0.287461        0.06             0.586538               27742   \n",
       "29180       0.547799        0.08             0.721154               27003   \n",
       "41933       1.140288        0.08             0.471154               17804   \n",
       "...              ...         ...                  ...                 ...   \n",
       "54343       1.230162        0.19             0.451923                8794   \n",
       "38158       0.445617        0.00             0.519231                4076   \n",
       "860         1.190469        0.13             0.326923                8794   \n",
       "15795       0.023212        0.00             0.701923               34738   \n",
       "56422       0.233716        0.00             0.480769               73430   \n",
       "\n",
       "       airbags  displacement  gear_box  turning_radius  ncap_rating  \\\n",
       "47804        2          1197         5             4.8            2   \n",
       "55075        2           796         5             4.6            0   \n",
       "45912        2           796         5             4.6            0   \n",
       "29180        2          1197         5             4.8            2   \n",
       "41933        6          1493         6             5.2            3   \n",
       "...        ...           ...       ...             ...          ...   \n",
       "54343        6          1493         6             5.2            3   \n",
       "38158        2           796         5             4.6            0   \n",
       "860          2          1197         5             4.8            2   \n",
       "15795        2           796         5             4.6            0   \n",
       "56422        2           796         5             4.6            0   \n",
       "\n",
       "       claim_counts  \n",
       "47804  34792.010772  \n",
       "55075   4076.473653  \n",
       "45912  27742.287461  \n",
       "29180  27003.547799  \n",
       "41933  17805.140288  \n",
       "...             ...  \n",
       "54343   8795.230162  \n",
       "38158   4076.445617  \n",
       "860     8795.190469  \n",
       "15795  34738.023212  \n",
       "56422  73430.233716  \n",
       "\n",
       "[46873 rows x 10 columns]"
      ]
     },
     "execution_count": 94,
     "metadata": {},
     "output_type": "execute_result"
    }
   ],
   "source": [
    "train_inputs[numeric_cols]"
   ]
  },
  {
   "cell_type": "code",
   "execution_count": null,
   "metadata": {
    "colab": {
     "base_uri": "https://localhost:8080/",
     "height": 284
    },
    "executionInfo": {
     "elapsed": 5826,
     "status": "ok",
     "timestamp": 1685165255792,
     "user": {
      "displayName": "Tin Liman",
      "userId": "01796335397974011301"
     },
     "user_tz": 420
    },
    "id": "pW7kSf4YJHvN",
    "outputId": "1ea7f096-223b-43e9-c111-21822ddbe4e7"
   },
   "outputs": [
    {
     "name": "stdout",
     "output_type": "stream",
     "text": [
      "CPU times: user 9.46 s, sys: 17.3 ms, total: 9.48 s\n",
      "Wall time: 5.92 s\n"
     ]
    },
    {
     "data": {
      "text/html": [
       "<style>#sk-container-id-6 {color: black;background-color: white;}#sk-container-id-6 pre{padding: 0;}#sk-container-id-6 div.sk-toggleable {background-color: white;}#sk-container-id-6 label.sk-toggleable__label {cursor: pointer;display: block;width: 100%;margin-bottom: 0;padding: 0.3em;box-sizing: border-box;text-align: center;}#sk-container-id-6 label.sk-toggleable__label-arrow:before {content: \"▸\";float: left;margin-right: 0.25em;color: #696969;}#sk-container-id-6 label.sk-toggleable__label-arrow:hover:before {color: black;}#sk-container-id-6 div.sk-estimator:hover label.sk-toggleable__label-arrow:before {color: black;}#sk-container-id-6 div.sk-toggleable__content {max-height: 0;max-width: 0;overflow: hidden;text-align: left;background-color: #f0f8ff;}#sk-container-id-6 div.sk-toggleable__content pre {margin: 0.2em;color: black;border-radius: 0.25em;background-color: #f0f8ff;}#sk-container-id-6 input.sk-toggleable__control:checked~div.sk-toggleable__content {max-height: 200px;max-width: 100%;overflow: auto;}#sk-container-id-6 input.sk-toggleable__control:checked~label.sk-toggleable__label-arrow:before {content: \"▾\";}#sk-container-id-6 div.sk-estimator input.sk-toggleable__control:checked~label.sk-toggleable__label {background-color: #d4ebff;}#sk-container-id-6 div.sk-label input.sk-toggleable__control:checked~label.sk-toggleable__label {background-color: #d4ebff;}#sk-container-id-6 input.sk-hidden--visually {border: 0;clip: rect(1px 1px 1px 1px);clip: rect(1px, 1px, 1px, 1px);height: 1px;margin: -1px;overflow: hidden;padding: 0;position: absolute;width: 1px;}#sk-container-id-6 div.sk-estimator {font-family: monospace;background-color: #f0f8ff;border: 1px dotted black;border-radius: 0.25em;box-sizing: border-box;margin-bottom: 0.5em;}#sk-container-id-6 div.sk-estimator:hover {background-color: #d4ebff;}#sk-container-id-6 div.sk-parallel-item::after {content: \"\";width: 100%;border-bottom: 1px solid gray;flex-grow: 1;}#sk-container-id-6 div.sk-label:hover label.sk-toggleable__label {background-color: #d4ebff;}#sk-container-id-6 div.sk-serial::before {content: \"\";position: absolute;border-left: 1px solid gray;box-sizing: border-box;top: 0;bottom: 0;left: 50%;z-index: 0;}#sk-container-id-6 div.sk-serial {display: flex;flex-direction: column;align-items: center;background-color: white;padding-right: 0.2em;padding-left: 0.2em;position: relative;}#sk-container-id-6 div.sk-item {position: relative;z-index: 1;}#sk-container-id-6 div.sk-parallel {display: flex;align-items: stretch;justify-content: center;background-color: white;position: relative;}#sk-container-id-6 div.sk-item::before, #sk-container-id-6 div.sk-parallel-item::before {content: \"\";position: absolute;border-left: 1px solid gray;box-sizing: border-box;top: 0;bottom: 0;left: 50%;z-index: -1;}#sk-container-id-6 div.sk-parallel-item {display: flex;flex-direction: column;z-index: 1;position: relative;background-color: white;}#sk-container-id-6 div.sk-parallel-item:first-child::after {align-self: flex-end;width: 50%;}#sk-container-id-6 div.sk-parallel-item:last-child::after {align-self: flex-start;width: 50%;}#sk-container-id-6 div.sk-parallel-item:only-child::after {width: 0;}#sk-container-id-6 div.sk-dashed-wrapped {border: 1px dashed gray;margin: 0 0.4em 0.5em 0.4em;box-sizing: border-box;padding-bottom: 0.4em;background-color: white;}#sk-container-id-6 div.sk-label label {font-family: monospace;font-weight: bold;display: inline-block;line-height: 1.2em;}#sk-container-id-6 div.sk-label-container {text-align: center;}#sk-container-id-6 div.sk-container {/* jupyter's `normalize.less` sets `[hidden] { display: none; }` but bootstrap.min.css set `[hidden] { display: none !important; }` so we also need the `!important` here to be able to override the default hidden behavior on the sphinx rendered scikit-learn.org. See: https://github.com/scikit-learn/scikit-learn/issues/21755 */display: inline-block !important;position: relative;}#sk-container-id-6 div.sk-text-repr-fallback {display: none;}</style><div id=\"sk-container-id-6\" class=\"sk-top-container\"><div class=\"sk-text-repr-fallback\"><pre>XGBClassifier(base_score=None, booster=None, callbacks=None,\n",
       "              colsample_bylevel=None, colsample_bynode=None,\n",
       "              colsample_bytree=None, early_stopping_rounds=None,\n",
       "              enable_categorical=False, eval_metric=None, feature_types=None,\n",
       "              gamma=None, gpu_id=None, grow_policy=None, importance_type=None,\n",
       "              interaction_constraints=None, learning_rate=None, max_bin=None,\n",
       "              max_cat_threshold=None, max_cat_to_onehot=None,\n",
       "              max_delta_step=None, max_depth=None, max_leaves=None,\n",
       "              min_child_weight=None, missing=nan, monotone_constraints=None,\n",
       "              n_estimators=100, n_jobs=-1, num_parallel_tree=None,\n",
       "              objective=&#x27;reg:squarederror&#x27;, predictor=None, ...)</pre><b>In a Jupyter environment, please rerun this cell to show the HTML representation or trust the notebook. <br />On GitHub, the HTML representation is unable to render, please try loading this page with nbviewer.org.</b></div><div class=\"sk-container\" hidden><div class=\"sk-item\"><div class=\"sk-estimator sk-toggleable\"><input class=\"sk-toggleable__control sk-hidden--visually\" id=\"sk-estimator-id-6\" type=\"checkbox\" checked><label for=\"sk-estimator-id-6\" class=\"sk-toggleable__label sk-toggleable__label-arrow\">XGBClassifier</label><div class=\"sk-toggleable__content\"><pre>XGBClassifier(base_score=None, booster=None, callbacks=None,\n",
       "              colsample_bylevel=None, colsample_bynode=None,\n",
       "              colsample_bytree=None, early_stopping_rounds=None,\n",
       "              enable_categorical=False, eval_metric=None, feature_types=None,\n",
       "              gamma=None, gpu_id=None, grow_policy=None, importance_type=None,\n",
       "              interaction_constraints=None, learning_rate=None, max_bin=None,\n",
       "              max_cat_threshold=None, max_cat_to_onehot=None,\n",
       "              max_delta_step=None, max_depth=None, max_leaves=None,\n",
       "              min_child_weight=None, missing=nan, monotone_constraints=None,\n",
       "              n_estimators=100, n_jobs=-1, num_parallel_tree=None,\n",
       "              objective=&#x27;reg:squarederror&#x27;, predictor=None, ...)</pre></div></div></div></div></div>"
      ],
      "text/plain": [
       "XGBClassifier(base_score=None, booster=None, callbacks=None,\n",
       "              colsample_bylevel=None, colsample_bynode=None,\n",
       "              colsample_bytree=None, early_stopping_rounds=None,\n",
       "              enable_categorical=False, eval_metric=None, feature_types=None,\n",
       "              gamma=None, gpu_id=None, grow_policy=None, importance_type=None,\n",
       "              interaction_constraints=None, learning_rate=None, max_bin=None,\n",
       "              max_cat_threshold=None, max_cat_to_onehot=None,\n",
       "              max_delta_step=None, max_depth=None, max_leaves=None,\n",
       "              min_child_weight=None, missing=nan, monotone_constraints=None,\n",
       "              n_estimators=100, n_jobs=-1, num_parallel_tree=None,\n",
       "              objective='reg:squarederror', predictor=None, ...)"
      ]
     },
     "execution_count": 95,
     "metadata": {},
     "output_type": "execute_result"
    }
   ],
   "source": [
    "%%time\n",
    "model3.fit(train_inputs[numeric_cols], train_targets)"
   ]
  },
  {
   "cell_type": "code",
   "execution_count": null,
   "metadata": {
    "colab": {
     "base_uri": "https://localhost:8080/"
    },
    "executionInfo": {
     "elapsed": 346,
     "status": "ok",
     "timestamp": 1685165258577,
     "user": {
      "displayName": "Tin Liman",
      "userId": "01796335397974011301"
     },
     "user_tz": 420
    },
    "id": "QdDNod76JH4a",
    "outputId": "0851e0b8-107c-4bfb-84c2-5dfc28b6e747"
   },
   "outputs": [
    {
     "data": {
      "text/plain": [
       "(0.938877392102063,\n",
       " 0.9344653980715079,\n",
       " array([0, 0, 0, ..., 0, 0, 0]),\n",
       " array([0, 0, 0, ..., 0, 0, 0]))"
      ]
     },
     "execution_count": 96,
     "metadata": {},
     "output_type": "execute_result"
    }
   ],
   "source": [
    "evaluate(model3)"
   ]
  },
  {
   "cell_type": "code",
   "execution_count": null,
   "metadata": {
    "colab": {
     "base_uri": "https://localhost:8080/",
     "height": 424
    },
    "executionInfo": {
     "elapsed": 242,
     "status": "ok",
     "timestamp": 1685165261242,
     "user": {
      "displayName": "Tin Liman",
      "userId": "01796335397974011301"
     },
     "user_tz": 420
    },
    "id": "Bpe-9lBiJIBW",
    "outputId": "a3c5158f-497a-4dce-aefe-bcffcbc74d09"
   },
   "outputs": [
    {
     "data": {
      "text/html": [
       "\n",
       "  <div id=\"df-ac41b861-6cce-4399-a165-271b65935f52\">\n",
       "    <div class=\"colab-df-container\">\n",
       "      <div>\n",
       "<style scoped>\n",
       "    .dataframe tbody tr th:only-of-type {\n",
       "        vertical-align: middle;\n",
       "    }\n",
       "\n",
       "    .dataframe tbody tr th {\n",
       "        vertical-align: top;\n",
       "    }\n",
       "\n",
       "    .dataframe thead th {\n",
       "        text-align: right;\n",
       "    }\n",
       "</style>\n",
       "<table border=\"1\" class=\"dataframe\">\n",
       "  <thead>\n",
       "    <tr style=\"text-align: right;\">\n",
       "      <th></th>\n",
       "      <th>policy_id</th>\n",
       "      <th>is_claim</th>\n",
       "    </tr>\n",
       "  </thead>\n",
       "  <tbody>\n",
       "    <tr>\n",
       "      <th>0</th>\n",
       "      <td>ID58593</td>\n",
       "      <td>0</td>\n",
       "    </tr>\n",
       "    <tr>\n",
       "      <th>1</th>\n",
       "      <td>ID58594</td>\n",
       "      <td>0</td>\n",
       "    </tr>\n",
       "    <tr>\n",
       "      <th>2</th>\n",
       "      <td>ID58595</td>\n",
       "      <td>0</td>\n",
       "    </tr>\n",
       "    <tr>\n",
       "      <th>3</th>\n",
       "      <td>ID58596</td>\n",
       "      <td>1</td>\n",
       "    </tr>\n",
       "    <tr>\n",
       "      <th>4</th>\n",
       "      <td>ID58597</td>\n",
       "      <td>1</td>\n",
       "    </tr>\n",
       "    <tr>\n",
       "      <th>...</th>\n",
       "      <td>...</td>\n",
       "      <td>...</td>\n",
       "    </tr>\n",
       "    <tr>\n",
       "      <th>39058</th>\n",
       "      <td>ID97651</td>\n",
       "      <td>0</td>\n",
       "    </tr>\n",
       "    <tr>\n",
       "      <th>39059</th>\n",
       "      <td>ID97652</td>\n",
       "      <td>1</td>\n",
       "    </tr>\n",
       "    <tr>\n",
       "      <th>39060</th>\n",
       "      <td>ID97653</td>\n",
       "      <td>0</td>\n",
       "    </tr>\n",
       "    <tr>\n",
       "      <th>39061</th>\n",
       "      <td>ID97654</td>\n",
       "      <td>1</td>\n",
       "    </tr>\n",
       "    <tr>\n",
       "      <th>39062</th>\n",
       "      <td>ID97655</td>\n",
       "      <td>0</td>\n",
       "    </tr>\n",
       "  </tbody>\n",
       "</table>\n",
       "<p>39063 rows × 2 columns</p>\n",
       "</div>\n",
       "      <button class=\"colab-df-convert\" onclick=\"convertToInteractive('df-ac41b861-6cce-4399-a165-271b65935f52')\"\n",
       "              title=\"Convert this dataframe to an interactive table.\"\n",
       "              style=\"display:none;\">\n",
       "        \n",
       "  <svg xmlns=\"http://www.w3.org/2000/svg\" height=\"24px\"viewBox=\"0 0 24 24\"\n",
       "       width=\"24px\">\n",
       "    <path d=\"M0 0h24v24H0V0z\" fill=\"none\"/>\n",
       "    <path d=\"M18.56 5.44l.94 2.06.94-2.06 2.06-.94-2.06-.94-.94-2.06-.94 2.06-2.06.94zm-11 1L8.5 8.5l.94-2.06 2.06-.94-2.06-.94L8.5 2.5l-.94 2.06-2.06.94zm10 10l.94 2.06.94-2.06 2.06-.94-2.06-.94-.94-2.06-.94 2.06-2.06.94z\"/><path d=\"M17.41 7.96l-1.37-1.37c-.4-.4-.92-.59-1.43-.59-.52 0-1.04.2-1.43.59L10.3 9.45l-7.72 7.72c-.78.78-.78 2.05 0 2.83L4 21.41c.39.39.9.59 1.41.59.51 0 1.02-.2 1.41-.59l7.78-7.78 2.81-2.81c.8-.78.8-2.07 0-2.86zM5.41 20L4 18.59l7.72-7.72 1.47 1.35L5.41 20z\"/>\n",
       "  </svg>\n",
       "      </button>\n",
       "      \n",
       "  <style>\n",
       "    .colab-df-container {\n",
       "      display:flex;\n",
       "      flex-wrap:wrap;\n",
       "      gap: 12px;\n",
       "    }\n",
       "\n",
       "    .colab-df-convert {\n",
       "      background-color: #E8F0FE;\n",
       "      border: none;\n",
       "      border-radius: 50%;\n",
       "      cursor: pointer;\n",
       "      display: none;\n",
       "      fill: #1967D2;\n",
       "      height: 32px;\n",
       "      padding: 0 0 0 0;\n",
       "      width: 32px;\n",
       "    }\n",
       "\n",
       "    .colab-df-convert:hover {\n",
       "      background-color: #E2EBFA;\n",
       "      box-shadow: 0px 1px 2px rgba(60, 64, 67, 0.3), 0px 1px 3px 1px rgba(60, 64, 67, 0.15);\n",
       "      fill: #174EA6;\n",
       "    }\n",
       "\n",
       "    [theme=dark] .colab-df-convert {\n",
       "      background-color: #3B4455;\n",
       "      fill: #D2E3FC;\n",
       "    }\n",
       "\n",
       "    [theme=dark] .colab-df-convert:hover {\n",
       "      background-color: #434B5C;\n",
       "      box-shadow: 0px 1px 3px 1px rgba(0, 0, 0, 0.15);\n",
       "      filter: drop-shadow(0px 1px 2px rgba(0, 0, 0, 0.3));\n",
       "      fill: #FFFFFF;\n",
       "    }\n",
       "  </style>\n",
       "\n",
       "      <script>\n",
       "        const buttonEl =\n",
       "          document.querySelector('#df-ac41b861-6cce-4399-a165-271b65935f52 button.colab-df-convert');\n",
       "        buttonEl.style.display =\n",
       "          google.colab.kernel.accessAllowed ? 'block' : 'none';\n",
       "\n",
       "        async function convertToInteractive(key) {\n",
       "          const element = document.querySelector('#df-ac41b861-6cce-4399-a165-271b65935f52');\n",
       "          const dataTable =\n",
       "            await google.colab.kernel.invokeFunction('convertToInteractive',\n",
       "                                                     [key], {});\n",
       "          if (!dataTable) return;\n",
       "\n",
       "          const docLinkHtml = 'Like what you see? Visit the ' +\n",
       "            '<a target=\"_blank\" href=https://colab.research.google.com/notebooks/data_table.ipynb>data table notebook</a>'\n",
       "            + ' to learn more about interactive tables.';\n",
       "          element.innerHTML = '';\n",
       "          dataTable['output_type'] = 'display_data';\n",
       "          await google.colab.output.renderOutput(dataTable, element);\n",
       "          const docLink = document.createElement('div');\n",
       "          docLink.innerHTML = docLinkHtml;\n",
       "          element.appendChild(docLink);\n",
       "        }\n",
       "      </script>\n",
       "    </div>\n",
       "  </div>\n",
       "  "
      ],
      "text/plain": [
       "      policy_id  is_claim\n",
       "0       ID58593         0\n",
       "1       ID58594         0\n",
       "2       ID58595         0\n",
       "3       ID58596         1\n",
       "4       ID58597         1\n",
       "...         ...       ...\n",
       "39058   ID97651         0\n",
       "39059   ID97652         1\n",
       "39060   ID97653         0\n",
       "39061   ID97654         1\n",
       "39062   ID97655         0\n",
       "\n",
       "[39063 rows x 2 columns]"
      ]
     },
     "execution_count": 97,
     "metadata": {},
     "output_type": "execute_result"
    }
   ],
   "source": [
    "predict_and_submit(model3, 'xgb_submission.csv')"
   ]
  },
  {
   "cell_type": "markdown",
   "metadata": {
    "id": "YaC4_l_kOtc1"
   },
   "source": [
    "## 8. Tune Hyperparmeters"
   ]
  },
  {
   "cell_type": "markdown",
   "metadata": {
    "id": "gAxf91M5PH9a"
   },
   "source": [
    "Hyperparameter tuning is an important step in machine learning model development because it allows you to find the optimal combination of hyperparameters that can provide the best performance for your model. Hyperparameters are model parameters that are set before training and determine how the model is trained and the complexity of the model. Examples of hyperparameters include the number of hidden layers in a neural network, the learning rate for gradient descent, or the regularization parameter for logistic regression.\n",
    "\n",
    "Here are some reasons why hyperparameter tuning is necessary:\n",
    "\n",
    "1. Improved Model Performance\n",
    "\n",
    "By tuning the hyperparameters, you can improve the performance of your model. Different combinations of hyperparameters can lead to different results in terms of accuracy, precision, recall, F1 score, or other metrics. Tuning the hyperparameters can help you find the best combination that maximizes the performance of your model on the validation set.\n",
    "\n",
    "2. Avoid Overfitting\n",
    "\n",
    "Overfitting happens when a model performs well on the training data but poorly on the validation data. Tuning the hyperparameters can help you prevent overfitting by adjusting the complexity of the model. You can try to reduce the number of hidden layers, increase the regularization parameter, or adjust the learning rate to help prevent overfitting.\n",
    "\n",
    "3. Saves Time and Resources\n",
    "\n",
    "By tuning the hyperparameters, you can save time and computational resources. Tuning the hyperparameters can help you quickly identify the optimal combination for your model without having to try all possible combinations. This can save you time and computational resources, especially when working with large datasets or complex models.\n",
    "\n",
    "In conclusion, hyperparameter tuning is necessary to improve the performance of your model, avoid overfitting, and save time and computational resources. By optimizing the hyperparameters, you can create a machine learning model that achieves the best possible performance on the validation set."
   ]
  },
  {
   "cell_type": "markdown",
   "metadata": {
    "id": "5-0bG8MHH17-"
   },
   "source": [
    "### No. of Trees"
   ]
  },
  {
   "cell_type": "code",
   "execution_count": null,
   "metadata": {
    "colab": {
     "base_uri": "https://localhost:8080/",
     "height": 573
    },
    "executionInfo": {
     "elapsed": 46664,
     "status": "ok",
     "timestamp": 1685165310601,
     "user": {
      "displayName": "Tin Liman",
      "userId": "01796335397974011301"
     },
     "user_tz": 420
    },
    "id": "g2of8coUOtmt",
    "outputId": "e9af65d9-33b9-4351-a3f6-d8c43a4169ae"
   },
   "outputs": [
    {
     "data": {
      "image/png": "[encoded data removed]",
      "text/plain": [
       "<Figure size 1000x600 with 1 Axes>"
      ]
     },
     "metadata": {
      "needs_background": "light"
     },
     "output_type": "display_data"
    }
   ],
   "source": [
    "import matplotlib.pyplot as plt\n",
    "def test_params(**params):\n",
    "    model = XGBClassifier(random_state=42, n_jobs=-1, **params).fit(train_inputs, train_targets)\n",
    "    train_acc = accuracy_score(model.predict(train_inputs), train_targets)\n",
    "    val_acc = accuracy_score(model.predict(val_inputs), val_targets)\n",
    "    return train_acc, val_acc\n",
    "def test_param_and_plot(param_name, param_values):\n",
    "    train_errors, val_errors = [], [] \n",
    "    for value in param_values:\n",
    "        params = {param_name: value}\n",
    "        train_rmse, val_rmse = test_params(**params)\n",
    "        train_errors.append(train_rmse)\n",
    "        val_errors.append(val_rmse)\n",
    "    plt.figure(figsize=(10,6))\n",
    "    plt.title('Overfitting curve: ' + param_name)\n",
    "    plt.plot(param_values, train_errors, 'b-o')\n",
    "    plt.plot(param_values, val_errors, 'r-o')\n",
    "    plt.xlabel(param_name)\n",
    "    plt.ylabel('Accuracy')\n",
    "    plt.legend(['Training', 'Validation'])\n",
    "\n",
    "test_param_and_plot('n_estimators', [100, 250, 500])"
   ]
  },
  {
   "cell_type": "markdown",
   "metadata": {
    "id": "6MsS-7fQUVdT"
   },
   "source": [
    "Seems like 500 estimators has the lowest validation loss. However, it also takes a long time. Let's stick with 250 for now."
   ]
  },
  {
   "cell_type": "code",
   "execution_count": null,
   "metadata": {
    "id": "t_v3jgg9rjCv"
   },
   "outputs": [],
   "source": [
    "best_params['n_estimators'] = 250"
   ]
  },
  {
   "cell_type": "markdown",
   "metadata": {
    "id": "6TxYWnxXPSxT"
   },
   "source": [
    "### Max Depth"
   ]
  },
  {
   "cell_type": "code",
   "execution_count": null,
   "metadata": {
    "colab": {
     "base_uri": "https://localhost:8080/",
     "height": 609
    },
    "executionInfo": {
     "elapsed": 12159,
     "status": "ok",
     "timestamp": 1685165337026,
     "user": {
      "displayName": "Tin Liman",
      "userId": "01796335397974011301"
     },
     "user_tz": 420
    },
    "id": "qUIqnoIgPS54",
    "outputId": "01748812-2865-4748-987d-0ed2b12aaaad"
   },
   "outputs": [
    {
     "name": "stdout",
     "output_type": "stream",
     "text": [
      "CPU times: user 18.3 s, sys: 32.1 ms, total: 18.3 s\n",
      "Wall time: 11.5 s\n"
     ]
    },
    {
     "data": {
      "image/png": "[encoded data removed]",
      "text/plain": [
       "<Figure size 1000x600 with 1 Axes>"
      ]
     },
     "metadata": {
      "needs_background": "light"
     },
     "output_type": "display_data"
    }
   ],
   "source": [
    "%%time \n",
    "test_param_and_plot('max_depth', [3, 4, 5])"
   ]
  },
  {
   "cell_type": "markdown",
   "metadata": {
    "id": "UjVaubk-UXrp"
   },
   "source": [
    "Looks like a max depth of 4 is ideal."
   ]
  },
  {
   "cell_type": "code",
   "execution_count": null,
   "metadata": {
    "id": "UE_GkJ0zPS8u"
   },
   "outputs": [],
   "source": [
    "best_params['max_depth'] = 4"
   ]
  },
  {
   "cell_type": "markdown",
   "metadata": {
    "id": "0nrJImL9PftI"
   },
   "source": [
    "### Learning Rate"
   ]
  },
  {
   "cell_type": "code",
   "execution_count": null,
   "metadata": {
    "colab": {
     "base_uri": "https://localhost:8080/",
     "height": 609
    },
    "executionInfo": {
     "elapsed": 15319,
     "status": "ok",
     "timestamp": 1685165355042,
     "user": {
      "displayName": "Tin Liman",
      "userId": "01796335397974011301"
     },
     "user_tz": 420
    },
    "id": "W146BiDhPf1w",
    "outputId": "09205eee-bfda-4a4d-8903-89619ce7d24d"
   },
   "outputs": [
    {
     "name": "stdout",
     "output_type": "stream",
     "text": [
      "CPU times: user 26.7 s, sys: 40.5 ms, total: 26.8 s\n",
      "Wall time: 14.7 s\n"
     ]
    },
    {
     "data": {
      "image/png": "[encoded data removed]",
      "text/plain": [
       "<Figure size 1000x600 with 1 Axes>"
      ]
     },
     "metadata": {
      "needs_background": "light"
     },
     "output_type": "display_data"
    }
   ],
   "source": [
    "%%time\n",
    "test_param_and_plot('learning_rate', [0.05, 0.1, 0.25])"
   ]
  },
  {
   "cell_type": "markdown",
   "metadata": {
    "id": "ct_V_xEcUZFO"
   },
   "source": [
    "Seems like the best learning rate is 0.1"
   ]
  },
  {
   "cell_type": "code",
   "execution_count": null,
   "metadata": {
    "id": "QSdj_wWYPf4U"
   },
   "outputs": [],
   "source": [
    "best_params['learning_rate'] = 0.1"
   ]
  },
  {
   "cell_type": "markdown",
   "metadata": {
    "id": "4yS5SxT2PgMI"
   },
   "source": [
    "### Other Parameters"
   ]
  },
  {
   "cell_type": "code",
   "execution_count": null,
   "metadata": {
    "id": "g2vPQca0PgWz"
   },
   "outputs": [],
   "source": [
    "xgb_model_final = XGBClassifier(objective='reg:squarederror', n_jobs=-1, random_state=42,\n",
    "                               n_estimators=1000, max_depth=10, learning_rate=0.1, \n",
    "                               subsample=0.9, colsample_bytree=0.7)"
   ]
  },
  {
   "cell_type": "code",
   "execution_count": null,
   "metadata": {
    "colab": {
     "base_uri": "https://localhost:8080/",
     "height": 284
    },
    "executionInfo": {
     "elapsed": 70310,
     "status": "ok",
     "timestamp": 1685165430542,
     "user": {
      "displayName": "Tin Liman",
      "userId": "01796335397974011301"
     },
     "user_tz": 420
    },
    "id": "FmhHpjQ2PgZZ",
    "outputId": "8962680a-e294-4c09-a823-6af4a16a8f59"
   },
   "outputs": [
    {
     "name": "stdout",
     "output_type": "stream",
     "text": [
      "CPU times: user 2min 1s, sys: 456 ms, total: 2min 1s\n",
      "Wall time: 1min 10s\n"
     ]
    },
    {
     "data": {
      "text/html": [
       "<style>#sk-container-id-7 {color: black;background-color: white;}#sk-container-id-7 pre{padding: 0;}#sk-container-id-7 div.sk-toggleable {background-color: white;}#sk-container-id-7 label.sk-toggleable__label {cursor: pointer;display: block;width: 100%;margin-bottom: 0;padding: 0.3em;box-sizing: border-box;text-align: center;}#sk-container-id-7 label.sk-toggleable__label-arrow:before {content: \"▸\";float: left;margin-right: 0.25em;color: #696969;}#sk-container-id-7 label.sk-toggleable__label-arrow:hover:before {color: black;}#sk-container-id-7 div.sk-estimator:hover label.sk-toggleable__label-arrow:before {color: black;}#sk-container-id-7 div.sk-toggleable__content {max-height: 0;max-width: 0;overflow: hidden;text-align: left;background-color: #f0f8ff;}#sk-container-id-7 div.sk-toggleable__content pre {margin: 0.2em;color: black;border-radius: 0.25em;background-color: #f0f8ff;}#sk-container-id-7 input.sk-toggleable__control:checked~div.sk-toggleable__content {max-height: 200px;max-width: 100%;overflow: auto;}#sk-container-id-7 input.sk-toggleable__control:checked~label.sk-toggleable__label-arrow:before {content: \"▾\";}#sk-container-id-7 div.sk-estimator input.sk-toggleable__control:checked~label.sk-toggleable__label {background-color: #d4ebff;}#sk-container-id-7 div.sk-label input.sk-toggleable__control:checked~label.sk-toggleable__label {background-color: #d4ebff;}#sk-container-id-7 input.sk-hidden--visually {border: 0;clip: rect(1px 1px 1px 1px);clip: rect(1px, 1px, 1px, 1px);height: 1px;margin: -1px;overflow: hidden;padding: 0;position: absolute;width: 1px;}#sk-container-id-7 div.sk-estimator {font-family: monospace;background-color: #f0f8ff;border: 1px dotted black;border-radius: 0.25em;box-sizing: border-box;margin-bottom: 0.5em;}#sk-container-id-7 div.sk-estimator:hover {background-color: #d4ebff;}#sk-container-id-7 div.sk-parallel-item::after {content: \"\";width: 100%;border-bottom: 1px solid gray;flex-grow: 1;}#sk-container-id-7 div.sk-label:hover label.sk-toggleable__label {background-color: #d4ebff;}#sk-container-id-7 div.sk-serial::before {content: \"\";position: absolute;border-left: 1px solid gray;box-sizing: border-box;top: 0;bottom: 0;left: 50%;z-index: 0;}#sk-container-id-7 div.sk-serial {display: flex;flex-direction: column;align-items: center;background-color: white;padding-right: 0.2em;padding-left: 0.2em;position: relative;}#sk-container-id-7 div.sk-item {position: relative;z-index: 1;}#sk-container-id-7 div.sk-parallel {display: flex;align-items: stretch;justify-content: center;background-color: white;position: relative;}#sk-container-id-7 div.sk-item::before, #sk-container-id-7 div.sk-parallel-item::before {content: \"\";position: absolute;border-left: 1px solid gray;box-sizing: border-box;top: 0;bottom: 0;left: 50%;z-index: -1;}#sk-container-id-7 div.sk-parallel-item {display: flex;flex-direction: column;z-index: 1;position: relative;background-color: white;}#sk-container-id-7 div.sk-parallel-item:first-child::after {align-self: flex-end;width: 50%;}#sk-container-id-7 div.sk-parallel-item:last-child::after {align-self: flex-start;width: 50%;}#sk-container-id-7 div.sk-parallel-item:only-child::after {width: 0;}#sk-container-id-7 div.sk-dashed-wrapped {border: 1px dashed gray;margin: 0 0.4em 0.5em 0.4em;box-sizing: border-box;padding-bottom: 0.4em;background-color: white;}#sk-container-id-7 div.sk-label label {font-family: monospace;font-weight: bold;display: inline-block;line-height: 1.2em;}#sk-container-id-7 div.sk-label-container {text-align: center;}#sk-container-id-7 div.sk-container {/* jupyter's `normalize.less` sets `[hidden] { display: none; }` but bootstrap.min.css set `[hidden] { display: none !important; }` so we also need the `!important` here to be able to override the default hidden behavior on the sphinx rendered scikit-learn.org. See: https://github.com/scikit-learn/scikit-learn/issues/21755 */display: inline-block !important;position: relative;}#sk-container-id-7 div.sk-text-repr-fallback {display: none;}</style><div id=\"sk-container-id-7\" class=\"sk-top-container\"><div class=\"sk-text-repr-fallback\"><pre>XGBClassifier(base_score=None, booster=None, callbacks=None,\n",
       "              colsample_bylevel=None, colsample_bynode=None,\n",
       "              colsample_bytree=0.7, early_stopping_rounds=None,\n",
       "              enable_categorical=False, eval_metric=None, feature_types=None,\n",
       "              gamma=None, gpu_id=None, grow_policy=None, importance_type=None,\n",
       "              interaction_constraints=None, learning_rate=0.1, max_bin=None,\n",
       "              max_cat_threshold=None, max_cat_to_onehot=None,\n",
       "              max_delta_step=None, max_depth=10, max_leaves=None,\n",
       "              min_child_weight=None, missing=nan, monotone_constraints=None,\n",
       "              n_estimators=1000, n_jobs=-1, num_parallel_tree=None,\n",
       "              objective=&#x27;reg:squarederror&#x27;, predictor=None, ...)</pre><b>In a Jupyter environment, please rerun this cell to show the HTML representation or trust the notebook. <br />On GitHub, the HTML representation is unable to render, please try loading this page with nbviewer.org.</b></div><div class=\"sk-container\" hidden><div class=\"sk-item\"><div class=\"sk-estimator sk-toggleable\"><input class=\"sk-toggleable__control sk-hidden--visually\" id=\"sk-estimator-id-7\" type=\"checkbox\" checked><label for=\"sk-estimator-id-7\" class=\"sk-toggleable__label sk-toggleable__label-arrow\">XGBClassifier</label><div class=\"sk-toggleable__content\"><pre>XGBClassifier(base_score=None, booster=None, callbacks=None,\n",
       "              colsample_bylevel=None, colsample_bynode=None,\n",
       "              colsample_bytree=0.7, early_stopping_rounds=None,\n",
       "              enable_categorical=False, eval_metric=None, feature_types=None,\n",
       "              gamma=None, gpu_id=None, grow_policy=None, importance_type=None,\n",
       "              interaction_constraints=None, learning_rate=0.1, max_bin=None,\n",
       "              max_cat_threshold=None, max_cat_to_onehot=None,\n",
       "              max_delta_step=None, max_depth=10, max_leaves=None,\n",
       "              min_child_weight=None, missing=nan, monotone_constraints=None,\n",
       "              n_estimators=1000, n_jobs=-1, num_parallel_tree=None,\n",
       "              objective=&#x27;reg:squarederror&#x27;, predictor=None, ...)</pre></div></div></div></div></div>"
      ],
      "text/plain": [
       "XGBClassifier(base_score=None, booster=None, callbacks=None,\n",
       "              colsample_bylevel=None, colsample_bynode=None,\n",
       "              colsample_bytree=0.7, early_stopping_rounds=None,\n",
       "              enable_categorical=False, eval_metric=None, feature_types=None,\n",
       "              gamma=None, gpu_id=None, grow_policy=None, importance_type=None,\n",
       "              interaction_constraints=None, learning_rate=0.1, max_bin=None,\n",
       "              max_cat_threshold=None, max_cat_to_onehot=None,\n",
       "              max_delta_step=None, max_depth=10, max_leaves=None,\n",
       "              min_child_weight=None, missing=nan, monotone_constraints=None,\n",
       "              n_estimators=1000, n_jobs=-1, num_parallel_tree=None,\n",
       "              objective='reg:squarederror', predictor=None, ...)"
      ]
     },
     "execution_count": 103,
     "metadata": {},
     "output_type": "execute_result"
    }
   ],
   "source": [
    "%%time\n",
    "xgb_model_final.fit(train_inputs, train_targets)"
   ]
  },
  {
   "cell_type": "code",
   "execution_count": null,
   "metadata": {
    "colab": {
     "base_uri": "https://localhost:8080/"
    },
    "executionInfo": {
     "elapsed": 3153,
     "status": "ok",
     "timestamp": 1685165446586,
     "user": {
      "displayName": "Tin Liman",
      "userId": "01796335397974011301"
     },
     "user_tz": 420
    },
    "id": "7rbkbxh6PgcA",
    "outputId": "799c013e-b174-4659-b79c-0466451b5c1c"
   },
   "outputs": [
    {
     "data": {
      "text/plain": [
       "(0.9982932605124485,\n",
       " 0.9317347896578206,\n",
       " array([0, 0, 0, ..., 0, 0, 0]),\n",
       " array([0, 0, 0, ..., 0, 0, 0]))"
      ]
     },
     "execution_count": 104,
     "metadata": {},
     "output_type": "execute_result"
    }
   ],
   "source": [
    "evaluate(xgb_model_final)"
   ]
  },
  {
   "cell_type": "code",
   "execution_count": null,
   "metadata": {
    "colab": {
     "base_uri": "https://localhost:8080/",
     "height": 424
    },
    "executionInfo": {
     "elapsed": 2251,
     "status": "ok",
     "timestamp": 1685165450466,
     "user": {
      "displayName": "Tin Liman",
      "userId": "01796335397974011301"
     },
     "user_tz": 420
    },
    "id": "1CmQ6MIzTMaO",
    "outputId": "4fdf436e-b97f-44a0-94a8-28a1e6b2cb7a"
   },
   "outputs": [
    {
     "data": {
      "text/html": [
       "\n",
       "  <div id=\"df-3471dca6-858d-442a-b1cf-41fb5a9e6931\">\n",
       "    <div class=\"colab-df-container\">\n",
       "      <div>\n",
       "<style scoped>\n",
       "    .dataframe tbody tr th:only-of-type {\n",
       "        vertical-align: middle;\n",
       "    }\n",
       "\n",
       "    .dataframe tbody tr th {\n",
       "        vertical-align: top;\n",
       "    }\n",
       "\n",
       "    .dataframe thead th {\n",
       "        text-align: right;\n",
       "    }\n",
       "</style>\n",
       "<table border=\"1\" class=\"dataframe\">\n",
       "  <thead>\n",
       "    <tr style=\"text-align: right;\">\n",
       "      <th></th>\n",
       "      <th>policy_id</th>\n",
       "      <th>is_claim</th>\n",
       "    </tr>\n",
       "  </thead>\n",
       "  <tbody>\n",
       "    <tr>\n",
       "      <th>0</th>\n",
       "      <td>ID58593</td>\n",
       "      <td>0</td>\n",
       "    </tr>\n",
       "    <tr>\n",
       "      <th>1</th>\n",
       "      <td>ID58594</td>\n",
       "      <td>0</td>\n",
       "    </tr>\n",
       "    <tr>\n",
       "      <th>2</th>\n",
       "      <td>ID58595</td>\n",
       "      <td>0</td>\n",
       "    </tr>\n",
       "    <tr>\n",
       "      <th>3</th>\n",
       "      <td>ID58596</td>\n",
       "      <td>1</td>\n",
       "    </tr>\n",
       "    <tr>\n",
       "      <th>4</th>\n",
       "      <td>ID58597</td>\n",
       "      <td>0</td>\n",
       "    </tr>\n",
       "    <tr>\n",
       "      <th>...</th>\n",
       "      <td>...</td>\n",
       "      <td>...</td>\n",
       "    </tr>\n",
       "    <tr>\n",
       "      <th>39058</th>\n",
       "      <td>ID97651</td>\n",
       "      <td>0</td>\n",
       "    </tr>\n",
       "    <tr>\n",
       "      <th>39059</th>\n",
       "      <td>ID97652</td>\n",
       "      <td>1</td>\n",
       "    </tr>\n",
       "    <tr>\n",
       "      <th>39060</th>\n",
       "      <td>ID97653</td>\n",
       "      <td>1</td>\n",
       "    </tr>\n",
       "    <tr>\n",
       "      <th>39061</th>\n",
       "      <td>ID97654</td>\n",
       "      <td>0</td>\n",
       "    </tr>\n",
       "    <tr>\n",
       "      <th>39062</th>\n",
       "      <td>ID97655</td>\n",
       "      <td>0</td>\n",
       "    </tr>\n",
       "  </tbody>\n",
       "</table>\n",
       "<p>39063 rows × 2 columns</p>\n",
       "</div>\n",
       "      <button class=\"colab-df-convert\" onclick=\"convertToInteractive('df-3471dca6-858d-442a-b1cf-41fb5a9e6931')\"\n",
       "              title=\"Convert this dataframe to an interactive table.\"\n",
       "              style=\"display:none;\">\n",
       "        \n",
       "  <svg xmlns=\"http://www.w3.org/2000/svg\" height=\"24px\"viewBox=\"0 0 24 24\"\n",
       "       width=\"24px\">\n",
       "    <path d=\"M0 0h24v24H0V0z\" fill=\"none\"/>\n",
       "    <path d=\"M18.56 5.44l.94 2.06.94-2.06 2.06-.94-2.06-.94-.94-2.06-.94 2.06-2.06.94zm-11 1L8.5 8.5l.94-2.06 2.06-.94-2.06-.94L8.5 2.5l-.94 2.06-2.06.94zm10 10l.94 2.06.94-2.06 2.06-.94-2.06-.94-.94-2.06-.94 2.06-2.06.94z\"/><path d=\"M17.41 7.96l-1.37-1.37c-.4-.4-.92-.59-1.43-.59-.52 0-1.04.2-1.43.59L10.3 9.45l-7.72 7.72c-.78.78-.78 2.05 0 2.83L4 21.41c.39.39.9.59 1.41.59.51 0 1.02-.2 1.41-.59l7.78-7.78 2.81-2.81c.8-.78.8-2.07 0-2.86zM5.41 20L4 18.59l7.72-7.72 1.47 1.35L5.41 20z\"/>\n",
       "  </svg>\n",
       "      </button>\n",
       "      \n",
       "  <style>\n",
       "    .colab-df-container {\n",
       "      display:flex;\n",
       "      flex-wrap:wrap;\n",
       "      gap: 12px;\n",
       "    }\n",
       "\n",
       "    .colab-df-convert {\n",
       "      background-color: #E8F0FE;\n",
       "      border: none;\n",
       "      border-radius: 50%;\n",
       "      cursor: pointer;\n",
       "      display: none;\n",
       "      fill: #1967D2;\n",
       "      height: 32px;\n",
       "      padding: 0 0 0 0;\n",
       "      width: 32px;\n",
       "    }\n",
       "\n",
       "    .colab-df-convert:hover {\n",
       "      background-color: #E2EBFA;\n",
       "      box-shadow: 0px 1px 2px rgba(60, 64, 67, 0.3), 0px 1px 3px 1px rgba(60, 64, 67, 0.15);\n",
       "      fill: #174EA6;\n",
       "    }\n",
       "\n",
       "    [theme=dark] .colab-df-convert {\n",
       "      background-color: #3B4455;\n",
       "      fill: #D2E3FC;\n",
       "    }\n",
       "\n",
       "    [theme=dark] .colab-df-convert:hover {\n",
       "      background-color: #434B5C;\n",
       "      box-shadow: 0px 1px 3px 1px rgba(0, 0, 0, 0.15);\n",
       "      filter: drop-shadow(0px 1px 2px rgba(0, 0, 0, 0.3));\n",
       "      fill: #FFFFFF;\n",
       "    }\n",
       "  </style>\n",
       "\n",
       "      <script>\n",
       "        const buttonEl =\n",
       "          document.querySelector('#df-3471dca6-858d-442a-b1cf-41fb5a9e6931 button.colab-df-convert');\n",
       "        buttonEl.style.display =\n",
       "          google.colab.kernel.accessAllowed ? 'block' : 'none';\n",
       "\n",
       "        async function convertToInteractive(key) {\n",
       "          const element = document.querySelector('#df-3471dca6-858d-442a-b1cf-41fb5a9e6931');\n",
       "          const dataTable =\n",
       "            await google.colab.kernel.invokeFunction('convertToInteractive',\n",
       "                                                     [key], {});\n",
       "          if (!dataTable) return;\n",
       "\n",
       "          const docLinkHtml = 'Like what you see? Visit the ' +\n",
       "            '<a target=\"_blank\" href=https://colab.research.google.com/notebooks/data_table.ipynb>data table notebook</a>'\n",
       "            + ' to learn more about interactive tables.';\n",
       "          element.innerHTML = '';\n",
       "          dataTable['output_type'] = 'display_data';\n",
       "          await google.colab.output.renderOutput(dataTable, element);\n",
       "          const docLink = document.createElement('div');\n",
       "          docLink.innerHTML = docLinkHtml;\n",
       "          element.appendChild(docLink);\n",
       "        }\n",
       "      </script>\n",
       "    </div>\n",
       "  </div>\n",
       "  "
      ],
      "text/plain": [
       "      policy_id  is_claim\n",
       "0       ID58593         0\n",
       "1       ID58594         0\n",
       "2       ID58595         0\n",
       "3       ID58596         1\n",
       "4       ID58597         0\n",
       "...         ...       ...\n",
       "39058   ID97651         0\n",
       "39059   ID97652         1\n",
       "39060   ID97653         1\n",
       "39061   ID97654         0\n",
       "39062   ID97655         0\n",
       "\n",
       "[39063 rows x 2 columns]"
      ]
     },
     "execution_count": 105,
     "metadata": {},
     "output_type": "execute_result"
    }
   ],
   "source": [
    "predict_and_submit(xgb_model_final, 'xgb_tuned_submission.csv')"
   ]
  },
  {
   "cell_type": "markdown",
   "metadata": {
    "id": "UwKJs9BHSS82"
   },
   "source": [
    "## 9. Conclusion & Summary & Future Work"
   ]
  },
  {
   "cell_type": "markdown",
   "metadata": {
    "id": "1tYzo8XDyXhJ"
   },
   "source": [
    "### Conclusion"
   ]
  },
  {
   "cell_type": "markdown",
   "metadata": {
    "id": "HZdxR1M_yGO5"
   },
   "source": [
    "\n",
    "In conclusion, the ML car insurance claim project is an example of how machine learning and AI are transforming the insurance industry and shaping the future of work within it. With continued development and integration of these technologies, it is expected that the insurance industry will become increasingly data-driven, efficient, and customer-focused. This information can be used by insurance companies to take proactive measures to prevent losses, such as offering discounts or increasing premiums for high-risk policyholders.\n",
    "\n",
    "By implementing machine learning algorithms, this project was able to accurately analyze large datasets and predict whether a policyholder is likely to file a claim or not. This information can then be used by insurance companies to make data-driven decisions, mitigate risks, and optimize their operations.\n",
    "\n",
    "As the use of machine learning and AI in the insurance industry expands, it is expected that these technologies will become increasingly prevalent in various areas, from underwriting and claims processing to customer service and marketing. Insurance companies that adopt these technologies will be able to streamline their operations, reduce costs, and ultimately provide a better service to their customers."
   ]
  },
  {
   "cell_type": "markdown",
   "metadata": {
    "id": "EhKAkWWcyXhK"
   },
   "source": [
    "### Summary"
   ]
  },
  {
   "cell_type": "markdown",
   "metadata": {
    "id": "iFuroEznyXhK"
   },
   "source": [
    "\n",
    "Introduction: The objective of this project was to develop an ML-based model that can accurately predict whether a policyholder is likely to file a car insurance claim in the next 6 months or not. The dataset used for this project contained information about the policyholder, their car, and the other information about the trigger the policyholder to file a claim such as the population density, the area cluster etc.\n",
    "\n",
    "Methodology: The project involved several steps, starting with data cleaning and preprocessing to ensure that the data was in the right format for the ML model. The next step was to analyze the data and identify patterns and correlations that could be used to train the ML model. Different ML algorithms were tested, such as logistic regression, decision trees, and random forests, to identify the best algorithm for the data.\n",
    "\n",
    "Results: The final ML model achieved an accuracy score of 75%, which is considered a high level of accuracy for this type of classification problem. The model was able to correctly predict policyholders who were likely to file claims in the next 6 months, which can help insurance companies to take proactive measures to prevent losses. Further analysis revealed that past claim history and car characteristics were the most important factors influencing claim likelihood."
   ]
  },
  {
   "cell_type": "markdown",
   "metadata": {
    "id": "spTBbwSkyXhK"
   },
   "source": [
    "### Ideas of Future Work"
   ]
  },
  {
   "cell_type": "markdown",
   "metadata": {
    "id": "beTjGcV-yJba"
   },
   "source": [
    "\n",
    "* Try to predict different method such as predicting the claim amounts and the parties invlove in the accident\n",
    "\n",
    "* Try to train Ridge, SVM, KNN, Decision Tree models\n",
    "\n",
    "* Impove the training dataset by adding more featured columns and collecting more information"
   ]
  },
  {
   "cell_type": "markdown",
   "metadata": {
    "id": "LdWoDBtMSTQ4"
   },
   "source": [
    "## References"
   ]
  },
  {
   "cell_type": "markdown",
   "metadata": {
    "id": "sasQ7RjCSiTH"
   },
   "source": [
    "* Dataset: https://www.kaggle.com/datasets/ifteshanajnin/carinsuranceclaimprediction-classification?select=test.csv\n",
    "\n",
    "* Machine Learning with Python: Zero to GBMs - https://zerotogbms.com\n",
    "\n",
    "* Opendatsets library: https://github.com/JovianML/opendatasets\n",
    "\n",
    "* Feature Engineering for Machine Learning: https://www.projectpro.io/article/8-feature-engineering-techniques-for-machine-learning/423\n",
    "\n",
    "* Experiment tracking spreadsheet: https://bit.ly/mltrackingsheet\n",
    "\n",
    "* Implemeting Logistic Regression in Python: https://learn.theprogrammingfoundation.org/getting_started/intro_data_science/module4/?gclid=Cj0KCQjw3a2iBhCFARIsAD4jQB2cqjL8ysrNAhCQmsGN63qRaRPH0arFyNZkxA3ygzmKso0nBf07LwcaAsxMEALw_wcB\n",
    "\n",
    "* Data Science blog post from scratch: https://www.youtube.com/watch?v=NK6UYg3-Bxs\n",
    "\n"
   ]
  }
 ],
 "metadata": {
  "colab": {
   "provenance": []
  },
  "language_info": {
   "codemirror_mode": {
    "name": "ipython",
    "version": 3
   },
   "file_extension": ".py",
   "mimetype": "text/x-python",
   "name": "python",
   "nbconvert_exporter": "python",
   "pygments_lexer": "ipython3",
   "version": "3.9.7"
  }
 },
 "nbformat": 4,
 "nbformat_minor": 0
}